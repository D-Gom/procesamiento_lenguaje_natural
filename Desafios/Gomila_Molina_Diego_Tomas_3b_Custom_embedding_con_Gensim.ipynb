{
  "cells": [
    {
      "cell_type": "markdown",
      "metadata": {
        "id": "sZd5yLnnHOK0"
      },
      "source": [
        "<img src=\"https://github.com/hernancontigiani/ceia_memorias_especializacion/raw/master/Figures/logoFIUBA.jpg\" width=\"500\" align=\"center\">\n",
        "\n",
        "\n",
        "# Procesamiento de lenguaje natural\n",
        "## Custom embedddings con Gensim\n",
        "\n"
      ]
    },
    {
      "cell_type": "markdown",
      "metadata": {
        "id": "vA7nqkumo9z9"
      },
      "source": [
        "### Objetivo\n",
        "El objetivo es utilizar documentos / corpus para crear embeddings de palabras basado en ese contexto. Se utilizará canciones de bandas para generar los embeddings, es decir, que los vectores tendrán la forma en función de como esa banda haya utilizado las palabras en sus canciones."
      ]
    },
    {
      "cell_type": "code",
      "source": [
        "!pip install -q spacy-stanza"
      ],
      "metadata": {
        "colab": {
          "base_uri": "https://localhost:8080/"
        },
        "id": "dMI-KCAH5B0V",
        "outputId": "0d662fbb-bb1a-42a9-9afc-19849ba56dec"
      },
      "execution_count": null,
      "outputs": [
        {
          "output_type": "stream",
          "name": "stdout",
          "text": [
            "\u001b[2K     \u001b[90m━━━━━━━━━━━━━━━━━━━━━━━━━━━━━━━━━━━━━━\u001b[0m \u001b[32m802.5/802.5 kB\u001b[0m \u001b[31m13.1 MB/s\u001b[0m eta \u001b[36m0:00:00\u001b[0m\n",
            "\u001b[2K     \u001b[90m━━━━━━━━━━━━━━━━━━━━━━━━━━━━━━━━━━━━━━\u001b[0m \u001b[32m240.9/240.9 kB\u001b[0m \u001b[31m16.5 MB/s\u001b[0m eta \u001b[36m0:00:00\u001b[0m\n",
            "\u001b[?25h  Preparing metadata (setup.py) ... \u001b[?25l\u001b[?25hdone\n",
            "  Building wheel for emoji (setup.py) ... \u001b[?25l\u001b[?25hdone\n"
          ]
        }
      ]
    },
    {
      "cell_type": "code",
      "source": [
        "# para stop words\n",
        "import stanza\n",
        "import spacy_stanza\n",
        "stanza.download(\"es\")\n",
        "nlp = spacy_stanza.load_pipeline(\"es\")"
      ],
      "metadata": {
        "colab": {
          "base_uri": "https://localhost:8080/",
          "height": 599,
          "referenced_widgets": [
            "4cbc8c14bf1344718a23dc16f8938bab",
            "600a85bd46a74700a06761954f141b8d",
            "86550f798794411a8232c7d16f0cf24f",
            "8ff682c2d65e4bec8bc89399edd233c1",
            "e3d3f4c61922478cb69f079d0b15aca2",
            "973d199fc81e4af1b31ca58b72a77478",
            "9a6cbbf13a734010ae1566d3561b1c12",
            "54014e18cd754349b686de71c4b2de7b",
            "b1dc52af140345ddaeca423ae90e100b",
            "bc53dafdc09b484da59720b0ae9c9935",
            "9e5865a5ec8f4716b2019dadcdaa2825",
            "27c38c4c6eac483ead8ee81a8a32e7f3",
            "9366a2cbeb294f4a8b7aaccfb4b8c214",
            "63edf76012a24513b772d0405c9c4af7",
            "a0bd0b3e279845cfbaf99752f14503ce",
            "1e0d7cd1d39d4dc18ece620b5a02861a",
            "645acf71152a4d85b0dddc2a29538aaf",
            "970cfb48a6da46588fa36d82396e340f",
            "c33cd500c11b4c489f9be0ec5f5ee787",
            "870e74e8f5704ae69f6f6f585dc2e265",
            "c602c0a04fa44ee7b631416b2057cc81",
            "636ead4284434f6f90368872e474ba16",
            "72f555c46b434f01bfbd2039004db241",
            "dbb9850cae8144638862cd24aa404118",
            "f2942ab6e37746c989f9386b623c929f",
            "16ae6f8c4cef4a58bdb433d5ec467595",
            "30756a621e9b46f38e0aaad01fd31101",
            "ca3505552f8e41299ebe46def30ab571",
            "858fb4fedcaa416699d4de901b7a8e47",
            "14c46176954041fa94a4b76823afbf47",
            "c05c27ab7eb542c3a8416335c65e57c7",
            "0f19416b96984f69bbde694f2937f5dc",
            "a54f2649bbf547d899133bf621651bbf"
          ]
        },
        "id": "7f4lusM55VwI",
        "outputId": "9772fe49-9b40-434c-fb2f-3665f9fc7b77"
      },
      "execution_count": null,
      "outputs": [
        {
          "output_type": "display_data",
          "data": {
            "text/plain": [
              "Downloading https://raw.githubusercontent.com/stanfordnlp/stanza-resources/main/resources_1.5.0.json:   0%|   …"
            ],
            "application/vnd.jupyter.widget-view+json": {
              "version_major": 2,
              "version_minor": 0,
              "model_id": "4cbc8c14bf1344718a23dc16f8938bab"
            }
          },
          "metadata": {}
        },
        {
          "output_type": "stream",
          "name": "stderr",
          "text": [
            "INFO:stanza:Downloading default packages for language: es (Spanish) ...\n"
          ]
        },
        {
          "output_type": "display_data",
          "data": {
            "text/plain": [
              "Downloading https://huggingface.co/stanfordnlp/stanza-es/resolve/v1.5.0/models/default.zip:   0%|          | 0…"
            ],
            "application/vnd.jupyter.widget-view+json": {
              "version_major": 2,
              "version_minor": 0,
              "model_id": "27c38c4c6eac483ead8ee81a8a32e7f3"
            }
          },
          "metadata": {}
        },
        {
          "output_type": "stream",
          "name": "stderr",
          "text": [
            "INFO:stanza:Finished downloading models and saved to /root/stanza_resources.\n",
            "INFO:stanza:Checking for updates to resources.json in case models have been updated.  Note: this behavior can be turned off with download_method=None or download_method=DownloadMethod.REUSE_RESOURCES\n"
          ]
        },
        {
          "output_type": "display_data",
          "data": {
            "text/plain": [
              "Downloading https://raw.githubusercontent.com/stanfordnlp/stanza-resources/main/resources_1.5.0.json:   0%|   …"
            ],
            "application/vnd.jupyter.widget-view+json": {
              "version_major": 2,
              "version_minor": 0,
              "model_id": "72f555c46b434f01bfbd2039004db241"
            }
          },
          "metadata": {}
        },
        {
          "output_type": "stream",
          "name": "stderr",
          "text": [
            "INFO:stanza:Loading these models for language: es (Spanish):\n",
            "===========================\n",
            "| Processor    | Package  |\n",
            "---------------------------\n",
            "| tokenize     | ancora   |\n",
            "| mwt          | ancora   |\n",
            "| pos          | ancora   |\n",
            "| lemma        | ancora   |\n",
            "| constituency | combined |\n",
            "| depparse     | ancora   |\n",
            "| sentiment    | tass2020 |\n",
            "| ner          | conll02  |\n",
            "===========================\n",
            "\n",
            "WARNING:stanza:GPU requested, but is not available!\n",
            "INFO:stanza:Using device: cpu\n",
            "INFO:stanza:Loading: tokenize\n",
            "INFO:stanza:Loading: mwt\n",
            "INFO:stanza:Loading: pos\n",
            "INFO:stanza:Loading: lemma\n",
            "INFO:stanza:Loading: constituency\n",
            "INFO:stanza:Loading: depparse\n",
            "INFO:stanza:Loading: sentiment\n",
            "INFO:stanza:Loading: ner\n",
            "INFO:stanza:Done loading processors!\n"
          ]
        }
      ]
    },
    {
      "cell_type": "code",
      "execution_count": null,
      "metadata": {
        "id": "lFToQs5FK5uZ"
      },
      "outputs": [],
      "source": [
        "import pandas as pd\n",
        "import matplotlib.pyplot as plt\n",
        "import seaborn as sns\n",
        "\n",
        "import multiprocessing\n",
        "from gensim.models import Word2Vec\n",
        "\n",
        "import os\n",
        "import platform\n",
        "\n",
        "import re\n",
        "import unicodedata\n",
        "import string\n",
        "import spacy\n"
      ]
    },
    {
      "cell_type": "markdown",
      "metadata": {
        "id": "g07zJxG7H9vG"
      },
      "source": [
        "### Datos\n",
        "Utilizaremos como dataset canciones de bandas de habla inglesa."
      ]
    },
    {
      "cell_type": "code",
      "source": [
        "urlsSubtitulosADescargar = [\n",
        "    'https://subs.argenteam.net/Star.Wars(1977)-aRGENTeaM-55.zip', # IV\n",
        "    'https://subs.argenteam.net/Star.Wars.Episode.V(1980)-aRGENTeaM-30898.zip', # V\n",
        "    'https://subs.argenteam.net/Star.Wars.Episode.VI(1983)-aRGENTeaM-30903.zip', # VI\n",
        "    # 'https://subs.argenteam.net/Star.Wars.Episode.I(1999)-aRGENTeaM-30889.zip', # I\n",
        "    # 'https://subs.argenteam.net/Star.Wars.Episode.II(2002)-aRGENTeaM-30893.zip', # II\n",
        "    # 'https://subs.argenteam.net/Star.Wars.Episode.III(2005)-aRGENTeaM-3597.zip', # III\n",
        "    # 'https://subs.argenteam.net/Star.Wars.Episode.VII-The.Force.Awakens.(2015)-aRGENTeaM-60426.zip', # VII\n",
        "    # 'https://subs.argenteam.net/Star.Wars.Episode.VIII-The.Last.Jedi.(2017)-aRGENTeaM-71696.zip', # VIII\n",
        "    # 'https://subs.argenteam.net/Star.Wars.Episode.IX-The.Rise.of.Skywalker.(2019)-aRGENTeaM-80480.zip', # IX\n",
        "]"
      ],
      "metadata": {
        "id": "t5ch3q27jELe"
      },
      "execution_count": null,
      "outputs": []
    },
    {
      "cell_type": "code",
      "execution_count": null,
      "metadata": {
        "id": "l7z4CSBfpR3X",
        "colab": {
          "base_uri": "https://localhost:8080/"
        },
        "outputId": "f0a3f68b-8a2f-4bae-ef82-9d64fbdf1c8a"
      },
      "outputs": [
        {
          "output_type": "stream",
          "name": "stdout",
          "text": [
            "https://subs.argenteam.net/Star.Wars(1977)-aRGENTeaM-55.zip\n",
            "Star.Wars(1977)-aRGENTeaM-55.zip\n",
            "--2023-05-16 01:51:23--  https://subs.argenteam.net/Star.Wars(1977)-aRGENTeaM-55.zip\n",
            "Resolving subs.argenteam.net (subs.argenteam.net)... 172.67.206.63, 104.21.58.185, 2606:4700:3037::ac43:ce3f, ...\n",
            "Connecting to subs.argenteam.net (subs.argenteam.net)|172.67.206.63|:443... connected.\n",
            "HTTP request sent, awaiting response... 200 OK\n",
            "Length: 39169 (38K) [application/zip]\n",
            "Saving to: ‘Star.Wars(1977)-aRGENTeaM-55.zip’\n",
            "\n",
            "Star.Wars(1977)-aRG 100%[===================>]  38.25K  --.-KB/s    in 0.001s  \n",
            "\n",
            "2023-05-16 01:51:23 (49.3 MB/s) - ‘Star.Wars(1977)-aRGENTeaM-55.zip’ saved [39169/39169]\n",
            "\n",
            "Archive:  Star.Wars(1977)-aRGENTeaM-55.zip\n",
            "  inflating: ./subs_dataset/Star.Wars.Episode.IV.A.New.Hope.DVDRip.XviD-DoNE.CD1.srt  \n",
            "  inflating: ./subs_dataset/Star.Wars.Episode.IV.A.New.Hope.DVDRip.XviD-DoNE.CD2.srt  \n",
            "https://subs.argenteam.net/Star.Wars.Episode.V(1980)-aRGENTeaM-30898.zip\n",
            "Star.Wars.Episode.V(1980)-aRGENTeaM-30898.zip\n",
            "--2023-05-16 01:51:23--  https://subs.argenteam.net/Star.Wars.Episode.V(1980)-aRGENTeaM-30898.zip\n",
            "Resolving subs.argenteam.net (subs.argenteam.net)... 172.67.206.63, 104.21.58.185, 2606:4700:3037::ac43:ce3f, ...\n",
            "Connecting to subs.argenteam.net (subs.argenteam.net)|172.67.206.63|:443... connected.\n",
            "HTTP request sent, awaiting response... 200 OK\n",
            "Length: 32490 (32K) [application/zip]\n",
            "Saving to: ‘Star.Wars.Episode.V(1980)-aRGENTeaM-30898.zip’\n",
            "\n",
            "Star.Wars.Episode.V 100%[===================>]  31.73K  --.-KB/s    in 0.001s  \n",
            "\n",
            "2023-05-16 01:51:24 (41.7 MB/s) - ‘Star.Wars.Episode.V(1980)-aRGENTeaM-30898.zip’ saved [32490/32490]\n",
            "\n",
            "Archive:  Star.Wars.Episode.V(1980)-aRGENTeaM-30898.zip\n",
            "  inflating: ./subs_dataset/Star.Wars.Episode.5.The.Empire.Strikes.Back.DVDRip.XViD-ViTE.CD1.srt  \n",
            "  inflating: ./subs_dataset/Star.Wars.Episode.5.The.Empire.Strikes.Back.DVDRip.XViD-ViTE.CD2.srt  \n",
            "https://subs.argenteam.net/Star.Wars.Episode.VI(1983)-aRGENTeaM-30903.zip\n",
            "Star.Wars.Episode.VI(1983)-aRGENTeaM-30903.zip\n",
            "--2023-05-16 01:51:24--  https://subs.argenteam.net/Star.Wars.Episode.VI(1983)-aRGENTeaM-30903.zip\n",
            "Resolving subs.argenteam.net (subs.argenteam.net)... 172.67.206.63, 104.21.58.185, 2606:4700:3037::ac43:ce3f, ...\n",
            "Connecting to subs.argenteam.net (subs.argenteam.net)|172.67.206.63|:443... connected.\n",
            "HTTP request sent, awaiting response... 200 OK\n",
            "Length: 24643 (24K) [application/zip]\n",
            "Saving to: ‘Star.Wars.Episode.VI(1983)-aRGENTeaM-30903.zip’\n",
            "\n",
            "Star.Wars.Episode.V 100%[===================>]  24.07K  --.-KB/s    in 0.001s  \n",
            "\n",
            "2023-05-16 01:51:25 (30.2 MB/s) - ‘Star.Wars.Episode.VI(1983)-aRGENTeaM-30903.zip’ saved [24643/24643]\n",
            "\n",
            "Archive:  Star.Wars.Episode.VI(1983)-aRGENTeaM-30903.zip\n",
            "  inflating: ./subs_dataset/Star.Wars.Episode.6.Return.Of.The.Jedi.DVDRip.XViD-ViTE.CD1.srt  \n",
            "  inflating: ./subs_dataset/Star.Wars.Episode.6.Return.Of.The.Jedi.DVDRip.XViD-ViTE.CD2.srt  \n"
          ]
        }
      ],
      "source": [
        "# Descargar la carpeta de dataset\n",
        "if os.access('./subs_dataset', os.F_OK) is False:\n",
        "  # descargo los subtitulos\n",
        "  for url in urlsSubtitulosADescargar:\n",
        "    print(url)\n",
        "    # obtengo nombre documento\n",
        "    nombreDocumento = url.split('/')[-1]\n",
        "    print(nombreDocumento)\n",
        "    # descargo como .zip\n",
        "    !wget {'\"'+ url +'\"'}\n",
        "    # descomprimo\n",
        "    !unzip {'\"'+ nombreDocumento +'\"'} -d './subs_dataset'\n",
        "else:\n",
        "    print(\"El dataset ya se encuentra descargado\")"
      ]
    },
    {
      "cell_type": "code",
      "execution_count": null,
      "metadata": {
        "id": "mysGrIw9ljC2"
      },
      "outputs": [],
      "source": [
        "# Posibles bandas\n",
        "srtALeer = os.listdir(\"./subs_dataset/\")"
      ]
    },
    {
      "cell_type": "code",
      "source": [
        "# lee el primer subtitulo\n",
        "df = pd.read_csv(\"./subs_dataset/\" + srtALeer[0], sep='/n', header=None, encoding='latin-1')\n",
        "# elimina lineas con '-->' y la superior\n",
        "df.drop(df[df[0].str.contains('-->')].index - 1 , inplace = True) #quita numeros\n",
        "df.drop(df[df[0].str.contains('-->')].index , inplace = True) #quita timepos\n",
        "df.drop(df[df[0].str.contains('www.argenteam.net')].index , inplace = True) #quita marcas\n",
        "df.drop(df[df[0].str.contains('Subtítulos por aRGENTeaM')].index , inplace = True) #quita marcas\n",
        "\n",
        "# lee el resto y los agrega\n",
        "for srlFile in srtALeer[1:]:\n",
        "  # lee srt\n",
        "  dfTemp = pd.read_csv(\"./subs_dataset/\" + srlFile, sep='/n', header=None, encoding='latin-1')\n",
        "\n",
        "  # elimina lineas con '-->' y la superior\n",
        "  dfTemp.drop(dfTemp[dfTemp[0].str.contains('-->')].index - 1 , inplace = True) #quita numeros\n",
        "  dfTemp.drop(dfTemp[dfTemp[0].str.contains('-->')].index , inplace = True) #quita timepos\n",
        "  dfTemp.drop(dfTemp[dfTemp[0].str.contains('www.argenteam.net')].index , inplace = True) #quita marcas\n",
        "  dfTemp.drop(dfTemp[dfTemp[0].str.contains('Subtítulos por aRGENTeaM')].index , inplace = True) #quita marcas\n",
        "  # los agrega al df\n",
        "  df = df.append(dfTemp, ignore_index=False)\n",
        "\n",
        "df.shape\n"
      ],
      "metadata": {
        "colab": {
          "base_uri": "https://localhost:8080/"
        },
        "id": "csMum76j9fT6",
        "outputId": "47c289fc-38c7-4c5e-b587-8f5b540c4d33"
      },
      "execution_count": null,
      "outputs": [
        {
          "output_type": "stream",
          "name": "stderr",
          "text": [
            "<ipython-input-7-ef1d2fe254c0>:2: ParserWarning: Falling back to the 'python' engine because the 'c' engine does not support regex separators (separators > 1 char and different from '\\s+' are interpreted as regex); you can avoid this warning by specifying engine='python'.\n",
            "  df = pd.read_csv(\"./subs_dataset/\" + srtALeer[0], sep='/n', header=None, encoding='latin-1')\n",
            "<ipython-input-7-ef1d2fe254c0>:12: ParserWarning: Falling back to the 'python' engine because the 'c' engine does not support regex separators (separators > 1 char and different from '\\s+' are interpreted as regex); you can avoid this warning by specifying engine='python'.\n",
            "  dfTemp = pd.read_csv(\"./subs_dataset/\" + srlFile, sep='/n', header=None, encoding='latin-1')\n",
            "<ipython-input-7-ef1d2fe254c0>:20: FutureWarning: The frame.append method is deprecated and will be removed from pandas in a future version. Use pandas.concat instead.\n",
            "  df = df.append(dfTemp, ignore_index=False)\n",
            "<ipython-input-7-ef1d2fe254c0>:12: ParserWarning: Falling back to the 'python' engine because the 'c' engine does not support regex separators (separators > 1 char and different from '\\s+' are interpreted as regex); you can avoid this warning by specifying engine='python'.\n",
            "  dfTemp = pd.read_csv(\"./subs_dataset/\" + srlFile, sep='/n', header=None, encoding='latin-1')\n",
            "<ipython-input-7-ef1d2fe254c0>:20: FutureWarning: The frame.append method is deprecated and will be removed from pandas in a future version. Use pandas.concat instead.\n",
            "  df = df.append(dfTemp, ignore_index=False)\n",
            "<ipython-input-7-ef1d2fe254c0>:12: ParserWarning: Falling back to the 'python' engine because the 'c' engine does not support regex separators (separators > 1 char and different from '\\s+' are interpreted as regex); you can avoid this warning by specifying engine='python'.\n",
            "  dfTemp = pd.read_csv(\"./subs_dataset/\" + srlFile, sep='/n', header=None, encoding='latin-1')\n",
            "<ipython-input-7-ef1d2fe254c0>:20: FutureWarning: The frame.append method is deprecated and will be removed from pandas in a future version. Use pandas.concat instead.\n",
            "  df = df.append(dfTemp, ignore_index=False)\n",
            "<ipython-input-7-ef1d2fe254c0>:12: ParserWarning: Falling back to the 'python' engine because the 'c' engine does not support regex separators (separators > 1 char and different from '\\s+' are interpreted as regex); you can avoid this warning by specifying engine='python'.\n",
            "  dfTemp = pd.read_csv(\"./subs_dataset/\" + srlFile, sep='/n', header=None, encoding='latin-1')\n",
            "<ipython-input-7-ef1d2fe254c0>:20: FutureWarning: The frame.append method is deprecated and will be removed from pandas in a future version. Use pandas.concat instead.\n",
            "  df = df.append(dfTemp, ignore_index=False)\n",
            "<ipython-input-7-ef1d2fe254c0>:12: ParserWarning: Falling back to the 'python' engine because the 'c' engine does not support regex separators (separators > 1 char and different from '\\s+' are interpreted as regex); you can avoid this warning by specifying engine='python'.\n",
            "  dfTemp = pd.read_csv(\"./subs_dataset/\" + srlFile, sep='/n', header=None, encoding='latin-1')\n",
            "<ipython-input-7-ef1d2fe254c0>:20: FutureWarning: The frame.append method is deprecated and will be removed from pandas in a future version. Use pandas.concat instead.\n",
            "  df = df.append(dfTemp, ignore_index=False)\n"
          ]
        },
        {
          "output_type": "execute_result",
          "data": {
            "text/plain": [
              "(4957, 1)"
            ]
          },
          "metadata": {},
          "execution_count": 7
        }
      ]
    },
    {
      "cell_type": "code",
      "execution_count": null,
      "metadata": {
        "id": "ticoqYD1Z3I7",
        "colab": {
          "base_uri": "https://localhost:8080/",
          "height": 363
        },
        "outputId": "5ea8aa33-436f-473a-fec5-574bc6159398"
      },
      "outputs": [
        {
          "output_type": "execute_result",
          "data": {
            "text/plain": [
              "                                      0\n",
              "2             ¡Esto no es una votación!\n",
              "5   No puedes saltar a la velocidad luz\n",
              "6          en este campo de asteroides.\n",
              "9                   Siéntate, preciosa.\n",
              "10                    Vamos a despegar.\n",
              "13                             - ¡Mire!\n",
              "14                         - Ya lo veo.\n",
              "17                 - ¡Estamos acabados!\n",
              "18                - La cueva se cierra.\n",
              "21              - Esto no es una cueva."
            ],
            "text/html": [
              "\n",
              "  <div id=\"df-18494e34-038c-4922-924f-c5e23761dead\">\n",
              "    <div class=\"colab-df-container\">\n",
              "      <div>\n",
              "<style scoped>\n",
              "    .dataframe tbody tr th:only-of-type {\n",
              "        vertical-align: middle;\n",
              "    }\n",
              "\n",
              "    .dataframe tbody tr th {\n",
              "        vertical-align: top;\n",
              "    }\n",
              "\n",
              "    .dataframe thead th {\n",
              "        text-align: right;\n",
              "    }\n",
              "</style>\n",
              "<table border=\"1\" class=\"dataframe\">\n",
              "  <thead>\n",
              "    <tr style=\"text-align: right;\">\n",
              "      <th></th>\n",
              "      <th>0</th>\n",
              "    </tr>\n",
              "  </thead>\n",
              "  <tbody>\n",
              "    <tr>\n",
              "      <th>2</th>\n",
              "      <td>¡Esto no es una votación!</td>\n",
              "    </tr>\n",
              "    <tr>\n",
              "      <th>5</th>\n",
              "      <td>No puedes saltar a la velocidad luz</td>\n",
              "    </tr>\n",
              "    <tr>\n",
              "      <th>6</th>\n",
              "      <td>en este campo de asteroides.</td>\n",
              "    </tr>\n",
              "    <tr>\n",
              "      <th>9</th>\n",
              "      <td>Siéntate, preciosa.</td>\n",
              "    </tr>\n",
              "    <tr>\n",
              "      <th>10</th>\n",
              "      <td>Vamos a despegar.</td>\n",
              "    </tr>\n",
              "    <tr>\n",
              "      <th>13</th>\n",
              "      <td>- ¡Mire!</td>\n",
              "    </tr>\n",
              "    <tr>\n",
              "      <th>14</th>\n",
              "      <td>- Ya lo veo.</td>\n",
              "    </tr>\n",
              "    <tr>\n",
              "      <th>17</th>\n",
              "      <td>- ¡Estamos acabados!</td>\n",
              "    </tr>\n",
              "    <tr>\n",
              "      <th>18</th>\n",
              "      <td>- La cueva se cierra.</td>\n",
              "    </tr>\n",
              "    <tr>\n",
              "      <th>21</th>\n",
              "      <td>- Esto no es una cueva.</td>\n",
              "    </tr>\n",
              "  </tbody>\n",
              "</table>\n",
              "</div>\n",
              "      <button class=\"colab-df-convert\" onclick=\"convertToInteractive('df-18494e34-038c-4922-924f-c5e23761dead')\"\n",
              "              title=\"Convert this dataframe to an interactive table.\"\n",
              "              style=\"display:none;\">\n",
              "        \n",
              "  <svg xmlns=\"http://www.w3.org/2000/svg\" height=\"24px\"viewBox=\"0 0 24 24\"\n",
              "       width=\"24px\">\n",
              "    <path d=\"M0 0h24v24H0V0z\" fill=\"none\"/>\n",
              "    <path d=\"M18.56 5.44l.94 2.06.94-2.06 2.06-.94-2.06-.94-.94-2.06-.94 2.06-2.06.94zm-11 1L8.5 8.5l.94-2.06 2.06-.94-2.06-.94L8.5 2.5l-.94 2.06-2.06.94zm10 10l.94 2.06.94-2.06 2.06-.94-2.06-.94-.94-2.06-.94 2.06-2.06.94z\"/><path d=\"M17.41 7.96l-1.37-1.37c-.4-.4-.92-.59-1.43-.59-.52 0-1.04.2-1.43.59L10.3 9.45l-7.72 7.72c-.78.78-.78 2.05 0 2.83L4 21.41c.39.39.9.59 1.41.59.51 0 1.02-.2 1.41-.59l7.78-7.78 2.81-2.81c.8-.78.8-2.07 0-2.86zM5.41 20L4 18.59l7.72-7.72 1.47 1.35L5.41 20z\"/>\n",
              "  </svg>\n",
              "      </button>\n",
              "      \n",
              "  <style>\n",
              "    .colab-df-container {\n",
              "      display:flex;\n",
              "      flex-wrap:wrap;\n",
              "      gap: 12px;\n",
              "    }\n",
              "\n",
              "    .colab-df-convert {\n",
              "      background-color: #E8F0FE;\n",
              "      border: none;\n",
              "      border-radius: 50%;\n",
              "      cursor: pointer;\n",
              "      display: none;\n",
              "      fill: #1967D2;\n",
              "      height: 32px;\n",
              "      padding: 0 0 0 0;\n",
              "      width: 32px;\n",
              "    }\n",
              "\n",
              "    .colab-df-convert:hover {\n",
              "      background-color: #E2EBFA;\n",
              "      box-shadow: 0px 1px 2px rgba(60, 64, 67, 0.3), 0px 1px 3px 1px rgba(60, 64, 67, 0.15);\n",
              "      fill: #174EA6;\n",
              "    }\n",
              "\n",
              "    [theme=dark] .colab-df-convert {\n",
              "      background-color: #3B4455;\n",
              "      fill: #D2E3FC;\n",
              "    }\n",
              "\n",
              "    [theme=dark] .colab-df-convert:hover {\n",
              "      background-color: #434B5C;\n",
              "      box-shadow: 0px 1px 3px 1px rgba(0, 0, 0, 0.15);\n",
              "      filter: drop-shadow(0px 1px 2px rgba(0, 0, 0, 0.3));\n",
              "      fill: #FFFFFF;\n",
              "    }\n",
              "  </style>\n",
              "\n",
              "      <script>\n",
              "        const buttonEl =\n",
              "          document.querySelector('#df-18494e34-038c-4922-924f-c5e23761dead button.colab-df-convert');\n",
              "        buttonEl.style.display =\n",
              "          google.colab.kernel.accessAllowed ? 'block' : 'none';\n",
              "\n",
              "        async function convertToInteractive(key) {\n",
              "          const element = document.querySelector('#df-18494e34-038c-4922-924f-c5e23761dead');\n",
              "          const dataTable =\n",
              "            await google.colab.kernel.invokeFunction('convertToInteractive',\n",
              "                                                     [key], {});\n",
              "          if (!dataTable) return;\n",
              "\n",
              "          const docLinkHtml = 'Like what you see? Visit the ' +\n",
              "            '<a target=\"_blank\" href=https://colab.research.google.com/notebooks/data_table.ipynb>data table notebook</a>'\n",
              "            + ' to learn more about interactive tables.';\n",
              "          element.innerHTML = '';\n",
              "          dataTable['output_type'] = 'display_data';\n",
              "          await google.colab.output.renderOutput(dataTable, element);\n",
              "          const docLink = document.createElement('div');\n",
              "          docLink.innerHTML = docLinkHtml;\n",
              "          element.appendChild(docLink);\n",
              "        }\n",
              "      </script>\n",
              "    </div>\n",
              "  </div>\n",
              "  "
            ]
          },
          "metadata": {},
          "execution_count": 8
        }
      ],
      "source": [
        "df.head(10)"
      ]
    },
    {
      "cell_type": "code",
      "execution_count": null,
      "metadata": {
        "id": "LEpKubK9XzXN",
        "colab": {
          "base_uri": "https://localhost:8080/"
        },
        "outputId": "a1c89fbf-eeae-4c6c-a219-16dd48a9304f"
      },
      "outputs": [
        {
          "output_type": "stream",
          "name": "stdout",
          "text": [
            "Cantidad de documentos: 4957\n"
          ]
        }
      ],
      "source": [
        "print(\"Cantidad de documentos:\", df.shape[0])"
      ]
    },
    {
      "cell_type": "code",
      "source": [
        "# El preprocesamento en castellano requiere más trabajo\n",
        "\n",
        "# Referencia de regex:\n",
        "# https://docs.python.org/3/library/re.html\n",
        "\n",
        "def preprocess_clean_text(text):\n",
        "    # sacar tildes de las palabras:\n",
        "    text = unicodedata.normalize('NFKD', text).encode('ascii', 'ignore').decode('utf-8', 'ignore')\n",
        "    # quita los <i> e </i>\n",
        "    patron = r'<\\/?i>'  # Expresión regular para encontrar <i> o </i>\n",
        "    text = re.sub(patron, '', text)  # Reemplazar las ocurrencias de <i> y </i> con una cadena vacía\n",
        "    # quita las stopWords\n",
        "\n",
        "    # quitar caracteres especiales\n",
        "    pattern = r'[^a-zA-z0-9.,!?/:;\\\"\\'\\s]' # [^ : ningún caracter de todos estos\n",
        "    # (termina eliminando cualquier caracter distinto de los del regex)\n",
        "    text = re.sub(pattern, '', text)\n",
        "    pattern = r'[^a-zA-z.,!?/:;\\\"\\'\\s]' # igual al anterior pero sin cifras numéricas\n",
        "    # quitar números\n",
        "    text = re.sub(pattern, '', text)\n",
        "    # quitar caracteres de puntuación\n",
        "    text = ''.join([c for c in text if c not in string.punctuation])\n",
        "    return text"
      ],
      "metadata": {
        "id": "Ens6vE8_HykC"
      },
      "execution_count": null,
      "outputs": []
    },
    {
      "cell_type": "code",
      "source": [
        "# limpia cada frace del dataframe\n",
        "df[0] = df[0].apply( lambda x: (preprocess_clean_text( x )) )\n",
        "df.head(10)"
      ],
      "metadata": {
        "colab": {
          "base_uri": "https://localhost:8080/",
          "height": 363
        },
        "id": "nlnpbKhrH2Hi",
        "outputId": "10346f00-c43c-4080-b92d-2fc134d56483"
      },
      "execution_count": null,
      "outputs": [
        {
          "output_type": "execute_result",
          "data": {
            "text/plain": [
              "                                      0\n",
              "2               Esto no es una votacion\n",
              "5   No puedes saltar a la velocidad luz\n",
              "6           en este campo de asteroides\n",
              "9                     Sientate preciosa\n",
              "10                     Vamos a despegar\n",
              "13                                 Mire\n",
              "14                            Ya lo veo\n",
              "17                     Estamos acabados\n",
              "18                   La cueva se cierra\n",
              "21                 Esto no es una cueva"
            ],
            "text/html": [
              "\n",
              "  <div id=\"df-01c8e05b-67ef-4153-b989-cd982f3ec635\">\n",
              "    <div class=\"colab-df-container\">\n",
              "      <div>\n",
              "<style scoped>\n",
              "    .dataframe tbody tr th:only-of-type {\n",
              "        vertical-align: middle;\n",
              "    }\n",
              "\n",
              "    .dataframe tbody tr th {\n",
              "        vertical-align: top;\n",
              "    }\n",
              "\n",
              "    .dataframe thead th {\n",
              "        text-align: right;\n",
              "    }\n",
              "</style>\n",
              "<table border=\"1\" class=\"dataframe\">\n",
              "  <thead>\n",
              "    <tr style=\"text-align: right;\">\n",
              "      <th></th>\n",
              "      <th>0</th>\n",
              "    </tr>\n",
              "  </thead>\n",
              "  <tbody>\n",
              "    <tr>\n",
              "      <th>2</th>\n",
              "      <td>Esto no es una votacion</td>\n",
              "    </tr>\n",
              "    <tr>\n",
              "      <th>5</th>\n",
              "      <td>No puedes saltar a la velocidad luz</td>\n",
              "    </tr>\n",
              "    <tr>\n",
              "      <th>6</th>\n",
              "      <td>en este campo de asteroides</td>\n",
              "    </tr>\n",
              "    <tr>\n",
              "      <th>9</th>\n",
              "      <td>Sientate preciosa</td>\n",
              "    </tr>\n",
              "    <tr>\n",
              "      <th>10</th>\n",
              "      <td>Vamos a despegar</td>\n",
              "    </tr>\n",
              "    <tr>\n",
              "      <th>13</th>\n",
              "      <td>Mire</td>\n",
              "    </tr>\n",
              "    <tr>\n",
              "      <th>14</th>\n",
              "      <td>Ya lo veo</td>\n",
              "    </tr>\n",
              "    <tr>\n",
              "      <th>17</th>\n",
              "      <td>Estamos acabados</td>\n",
              "    </tr>\n",
              "    <tr>\n",
              "      <th>18</th>\n",
              "      <td>La cueva se cierra</td>\n",
              "    </tr>\n",
              "    <tr>\n",
              "      <th>21</th>\n",
              "      <td>Esto no es una cueva</td>\n",
              "    </tr>\n",
              "  </tbody>\n",
              "</table>\n",
              "</div>\n",
              "      <button class=\"colab-df-convert\" onclick=\"convertToInteractive('df-01c8e05b-67ef-4153-b989-cd982f3ec635')\"\n",
              "              title=\"Convert this dataframe to an interactive table.\"\n",
              "              style=\"display:none;\">\n",
              "        \n",
              "  <svg xmlns=\"http://www.w3.org/2000/svg\" height=\"24px\"viewBox=\"0 0 24 24\"\n",
              "       width=\"24px\">\n",
              "    <path d=\"M0 0h24v24H0V0z\" fill=\"none\"/>\n",
              "    <path d=\"M18.56 5.44l.94 2.06.94-2.06 2.06-.94-2.06-.94-.94-2.06-.94 2.06-2.06.94zm-11 1L8.5 8.5l.94-2.06 2.06-.94-2.06-.94L8.5 2.5l-.94 2.06-2.06.94zm10 10l.94 2.06.94-2.06 2.06-.94-2.06-.94-.94-2.06-.94 2.06-2.06.94z\"/><path d=\"M17.41 7.96l-1.37-1.37c-.4-.4-.92-.59-1.43-.59-.52 0-1.04.2-1.43.59L10.3 9.45l-7.72 7.72c-.78.78-.78 2.05 0 2.83L4 21.41c.39.39.9.59 1.41.59.51 0 1.02-.2 1.41-.59l7.78-7.78 2.81-2.81c.8-.78.8-2.07 0-2.86zM5.41 20L4 18.59l7.72-7.72 1.47 1.35L5.41 20z\"/>\n",
              "  </svg>\n",
              "      </button>\n",
              "      \n",
              "  <style>\n",
              "    .colab-df-container {\n",
              "      display:flex;\n",
              "      flex-wrap:wrap;\n",
              "      gap: 12px;\n",
              "    }\n",
              "\n",
              "    .colab-df-convert {\n",
              "      background-color: #E8F0FE;\n",
              "      border: none;\n",
              "      border-radius: 50%;\n",
              "      cursor: pointer;\n",
              "      display: none;\n",
              "      fill: #1967D2;\n",
              "      height: 32px;\n",
              "      padding: 0 0 0 0;\n",
              "      width: 32px;\n",
              "    }\n",
              "\n",
              "    .colab-df-convert:hover {\n",
              "      background-color: #E2EBFA;\n",
              "      box-shadow: 0px 1px 2px rgba(60, 64, 67, 0.3), 0px 1px 3px 1px rgba(60, 64, 67, 0.15);\n",
              "      fill: #174EA6;\n",
              "    }\n",
              "\n",
              "    [theme=dark] .colab-df-convert {\n",
              "      background-color: #3B4455;\n",
              "      fill: #D2E3FC;\n",
              "    }\n",
              "\n",
              "    [theme=dark] .colab-df-convert:hover {\n",
              "      background-color: #434B5C;\n",
              "      box-shadow: 0px 1px 3px 1px rgba(0, 0, 0, 0.15);\n",
              "      filter: drop-shadow(0px 1px 2px rgba(0, 0, 0, 0.3));\n",
              "      fill: #FFFFFF;\n",
              "    }\n",
              "  </style>\n",
              "\n",
              "      <script>\n",
              "        const buttonEl =\n",
              "          document.querySelector('#df-01c8e05b-67ef-4153-b989-cd982f3ec635 button.colab-df-convert');\n",
              "        buttonEl.style.display =\n",
              "          google.colab.kernel.accessAllowed ? 'block' : 'none';\n",
              "\n",
              "        async function convertToInteractive(key) {\n",
              "          const element = document.querySelector('#df-01c8e05b-67ef-4153-b989-cd982f3ec635');\n",
              "          const dataTable =\n",
              "            await google.colab.kernel.invokeFunction('convertToInteractive',\n",
              "                                                     [key], {});\n",
              "          if (!dataTable) return;\n",
              "\n",
              "          const docLinkHtml = 'Like what you see? Visit the ' +\n",
              "            '<a target=\"_blank\" href=https://colab.research.google.com/notebooks/data_table.ipynb>data table notebook</a>'\n",
              "            + ' to learn more about interactive tables.';\n",
              "          element.innerHTML = '';\n",
              "          dataTable['output_type'] = 'display_data';\n",
              "          await google.colab.output.renderOutput(dataTable, element);\n",
              "          const docLink = document.createElement('div');\n",
              "          docLink.innerHTML = docLinkHtml;\n",
              "          element.appendChild(docLink);\n",
              "        }\n",
              "      </script>\n",
              "    </div>\n",
              "  </div>\n",
              "  "
            ]
          },
          "metadata": {},
          "execution_count": 11
        }
      ]
    },
    {
      "cell_type": "markdown",
      "metadata": {
        "id": "ab94qaFlrA1G"
      },
      "source": [
        "### 1 - Preprocesamiento"
      ]
    },
    {
      "cell_type": "code",
      "execution_count": null,
      "metadata": {
        "id": "rIsmMWmjrDHd"
      },
      "outputs": [],
      "source": [
        "from keras.preprocessing.text import text_to_word_sequence\n",
        "\n",
        "sentence_tokens = []\n",
        "# Recorrer todas las filas y transformar las oraciones\n",
        "# en una secuencia de palabras (esto podría realizarse con NLTK o spaCy también)\n",
        "for _, row in df[:None].iterrows():\n",
        "    sentence_tokens.append(text_to_word_sequence(row[0]))"
      ]
    },
    {
      "cell_type": "code",
      "execution_count": null,
      "metadata": {
        "id": "CHepi_DGrbhq",
        "colab": {
          "base_uri": "https://localhost:8080/"
        },
        "outputId": "b4b617da-e585-4a95-91c9-f53d6b6e220d"
      },
      "outputs": [
        {
          "output_type": "execute_result",
          "data": {
            "text/plain": [
              "[['esto', 'no', 'es', 'una', 'votacion'],\n",
              " ['no', 'puedes', 'saltar', 'a', 'la', 'velocidad', 'luz']]"
            ]
          },
          "metadata": {},
          "execution_count": 13
        }
      ],
      "source": [
        "# Demos un vistazo\n",
        "sentence_tokens[:2]"
      ]
    },
    {
      "cell_type": "code",
      "source": [
        "spacy_stopwords = spacy.lang.es.stop_words.STOP_WORDS\n",
        "print('Number of stop words: %d' % len(spacy_stopwords))\n",
        "print('First ten stop words: %s' % list(spacy_stopwords)[:20])\n",
        "# quita las stopWords\n",
        "for i in range(0,len(sentence_tokens)):\n",
        "  array = []\n",
        "  for word in sentence_tokens[i]:\n",
        "    if word not in spacy_stopwords:\n",
        "      array.append(word)\n",
        "  sentence_tokens[i] = array\n",
        "\n"
      ],
      "metadata": {
        "colab": {
          "base_uri": "https://localhost:8080/"
        },
        "id": "kjlYZaUezSe4",
        "outputId": "a92d34df-7027-46b4-8cb7-d43a25193e96"
      },
      "execution_count": null,
      "outputs": [
        {
          "output_type": "stream",
          "name": "stdout",
          "text": [
            "Number of stop words: 521\n",
            "First ten stop words: ['ahí', 'nueve', 'propios', 'hacerlo', 'ella', 'peor', 'estais', 'tuyas', 'allí', 'éste', 'anterior', 'todavia', 'unas', 'aun', 'uno', 'total', 'de', 'para', 'existe', 'con']\n"
          ]
        }
      ]
    },
    {
      "cell_type": "code",
      "source": [
        "# Demos un vistazo\n",
        "sentence_tokens[:2]"
      ],
      "metadata": {
        "colab": {
          "base_uri": "https://localhost:8080/"
        },
        "id": "jfXatB4L34Kt",
        "outputId": "f4ee6010-49e9-4092-8187-f9a431d17934"
      },
      "execution_count": null,
      "outputs": [
        {
          "output_type": "execute_result",
          "data": {
            "text/plain": [
              "[['votacion'], ['puedes', 'saltar', 'velocidad', 'luz']]"
            ]
          },
          "metadata": {},
          "execution_count": 15
        }
      ]
    },
    {
      "cell_type": "markdown",
      "metadata": {
        "id": "BaXV6nlHr5Aa"
      },
      "source": [
        "### 2 - Crear los vectores (word2vec)"
      ]
    },
    {
      "cell_type": "code",
      "execution_count": null,
      "metadata": {
        "id": "OSb0v7h8r7hK"
      },
      "outputs": [],
      "source": [
        "from gensim.models.callbacks import CallbackAny2Vec\n",
        "# Durante el entrenamiento gensim por defecto no informa el \"loss\" en cada época\n",
        "# Sobrecargamos el callback para poder tener esta información\n",
        "class callback(CallbackAny2Vec):\n",
        "    \"\"\"\n",
        "    Callback to print loss after each epoch\n",
        "    \"\"\"\n",
        "    def __init__(self):\n",
        "        self.epoch = 0\n",
        "\n",
        "    def on_epoch_end(self, model):\n",
        "        loss = model.get_latest_training_loss()\n",
        "        if self.epoch == 0:\n",
        "            print('Loss after epoch {}: {}'.format(self.epoch, loss))\n",
        "        else:\n",
        "            print('Loss after epoch {}: {}'.format(self.epoch, loss- self.loss_previous_step))\n",
        "        self.epoch += 1\n",
        "        self.loss_previous_step = loss"
      ]
    },
    {
      "cell_type": "code",
      "execution_count": null,
      "metadata": {
        "id": "i0wnDdv9sJ47"
      },
      "outputs": [],
      "source": [
        "# Crearmos el modelo generador de vectores\n",
        "# En este caso utilizaremos la estructura modelo Skipgram\n",
        "w2v_model = Word2Vec(min_count=5,    # frecuencia mínima de palabra para incluirla en el vocabulario\n",
        "                     window=2,       # cant de palabras antes y desp de la predicha\n",
        "                     vector_size=50,       # dimensionalidad de los vectores\n",
        "                     negative=20,    # cantidad de negative samples... 0 es no se usa\n",
        "                     workers=1,      # si tienen más cores pueden cambiar este valor\n",
        "                     sg=1)           # modelo 0:CBOW  1:skipgram"
      ]
    },
    {
      "cell_type": "code",
      "execution_count": null,
      "metadata": {
        "id": "5lTt8wErsf17"
      },
      "outputs": [],
      "source": [
        "# Obtener el vocabulario con los tokens\n",
        "w2v_model.build_vocab(sentence_tokens)"
      ]
    },
    {
      "cell_type": "code",
      "execution_count": null,
      "metadata": {
        "id": "TNc9qt4os5AT",
        "colab": {
          "base_uri": "https://localhost:8080/"
        },
        "outputId": "33e2379e-6324-410c-ba5a-5a2d4836158a"
      },
      "outputs": [
        {
          "output_type": "stream",
          "name": "stdout",
          "text": [
            "Cantidad de docs en el corpus: 4957\n"
          ]
        }
      ],
      "source": [
        "# Cantidad de filas/docs encontradas en el corpus\n",
        "print(\"Cantidad de docs en el corpus:\", w2v_model.corpus_count)"
      ]
    },
    {
      "cell_type": "code",
      "execution_count": null,
      "metadata": {
        "id": "idw9cHF3tSMl",
        "colab": {
          "base_uri": "https://localhost:8080/"
        },
        "outputId": "d8e356c1-15e8-45df-90bd-83ea56841f44"
      },
      "outputs": [
        {
          "output_type": "stream",
          "name": "stdout",
          "text": [
            "Cantidad de words distintas en el corpus: 372\n"
          ]
        }
      ],
      "source": [
        "# Cantidad de words encontradas en el corpus\n",
        "print(\"Cantidad de words distintas en el corpus:\", len(w2v_model.wv.key_to_index ))"
      ]
    },
    {
      "cell_type": "markdown",
      "metadata": {
        "id": "fC9mZ8DPk-UC"
      },
      "source": [
        "### 3 - Entrenar el modelo generador"
      ]
    },
    {
      "cell_type": "code",
      "execution_count": null,
      "metadata": {
        "id": "QSp-x0PAsq56",
        "colab": {
          "base_uri": "https://localhost:8080/"
        },
        "outputId": "f3ae51d4-3571-4810-c387-72a454f1fcc2"
      },
      "outputs": [
        {
          "output_type": "stream",
          "name": "stdout",
          "text": [
            "Loss after epoch 0: 24762.994140625\n",
            "Loss after epoch 1: 25975.037109375\n",
            "Loss after epoch 2: 24910.5625\n",
            "Loss after epoch 3: 22364.359375\n",
            "Loss after epoch 4: 16265.4140625\n",
            "Loss after epoch 5: 10063.875\n",
            "Loss after epoch 6: 7929.4921875\n",
            "Loss after epoch 7: 7282.828125\n",
            "Loss after epoch 8: 7045.71875\n",
            "Loss after epoch 9: 7065.484375\n",
            "Loss after epoch 10: 6741.59375\n",
            "Loss after epoch 11: 6983.59375\n",
            "Loss after epoch 12: 6947.21875\n",
            "Loss after epoch 13: 6864.578125\n",
            "Loss after epoch 14: 6730.34375\n",
            "Loss after epoch 15: 6848.46875\n",
            "Loss after epoch 16: 6797.828125\n",
            "Loss after epoch 17: 6654.125\n",
            "Loss after epoch 18: 7145.484375\n",
            "Loss after epoch 19: 7056.953125\n",
            "Loss after epoch 20: 6688.015625\n",
            "Loss after epoch 21: 6801.21875\n",
            "Loss after epoch 22: 6702.828125\n",
            "Loss after epoch 23: 6749.671875\n",
            "Loss after epoch 24: 6603.21875\n",
            "Loss after epoch 25: 6338.40625\n",
            "Loss after epoch 26: 6471.03125\n",
            "Loss after epoch 27: 6529.5\n",
            "Loss after epoch 28: 6352.15625\n",
            "Loss after epoch 29: 6380.40625\n",
            "Loss after epoch 30: 6609.90625\n",
            "Loss after epoch 31: 6515.59375\n",
            "Loss after epoch 32: 6246.875\n",
            "Loss after epoch 33: 6180.4375\n",
            "Loss after epoch 34: 6205.09375\n",
            "Loss after epoch 35: 5935.28125\n",
            "Loss after epoch 36: 6007.21875\n",
            "Loss after epoch 37: 5879.65625\n",
            "Loss after epoch 38: 5927.34375\n",
            "Loss after epoch 39: 6031.84375\n",
            "Loss after epoch 40: 5759.9375\n",
            "Loss after epoch 41: 5638.21875\n",
            "Loss after epoch 42: 5674.40625\n",
            "Loss after epoch 43: 5540.25\n",
            "Loss after epoch 44: 5440.5625\n",
            "Loss after epoch 45: 5434.71875\n",
            "Loss after epoch 46: 5296.71875\n",
            "Loss after epoch 47: 5326.78125\n",
            "Loss after epoch 48: 5378.0625\n",
            "Loss after epoch 49: 5272.25\n",
            "Loss after epoch 50: 5189.21875\n",
            "Loss after epoch 51: 5105.4375\n",
            "Loss after epoch 52: 5145.65625\n",
            "Loss after epoch 53: 5131.25\n",
            "Loss after epoch 54: 5015.34375\n",
            "Loss after epoch 55: 4903.1875\n",
            "Loss after epoch 56: 5009.34375\n",
            "Loss after epoch 57: 4827.0625\n",
            "Loss after epoch 58: 4693.375\n",
            "Loss after epoch 59: 4948.65625\n",
            "Loss after epoch 60: 4747.78125\n",
            "Loss after epoch 61: 4700.75\n",
            "Loss after epoch 62: 4606.40625\n",
            "Loss after epoch 63: 4686.15625\n",
            "Loss after epoch 64: 4469.78125\n",
            "Loss after epoch 65: 4587.1875\n",
            "Loss after epoch 66: 4473.6875\n",
            "Loss after epoch 67: 4501.84375\n",
            "Loss after epoch 68: 4443.625\n",
            "Loss after epoch 69: 4381.8125\n",
            "Loss after epoch 70: 4268.28125\n",
            "Loss after epoch 71: 4039.3125\n",
            "Loss after epoch 72: 4132.34375\n",
            "Loss after epoch 73: 4240.75\n",
            "Loss after epoch 74: 4139.78125\n",
            "Loss after epoch 75: 4010.84375\n",
            "Loss after epoch 76: 3998.375\n",
            "Loss after epoch 77: 4167.375\n",
            "Loss after epoch 78: 4051.1875\n",
            "Loss after epoch 79: 3896.875\n",
            "Loss after epoch 80: 4000.5625\n",
            "Loss after epoch 81: 3839.125\n",
            "Loss after epoch 82: 3872.9375\n",
            "Loss after epoch 83: 3819.1875\n",
            "Loss after epoch 84: 3888.4375\n",
            "Loss after epoch 85: 3783.875\n",
            "Loss after epoch 86: 3916.5\n",
            "Loss after epoch 87: 3810.3125\n",
            "Loss after epoch 88: 3605.5\n",
            "Loss after epoch 89: 3868.375\n",
            "Loss after epoch 90: 3686.9375\n",
            "Loss after epoch 91: 3552.6875\n",
            "Loss after epoch 92: 3848.25\n",
            "Loss after epoch 93: 3761.875\n",
            "Loss after epoch 94: 3769.75\n",
            "Loss after epoch 95: 3750.8125\n",
            "Loss after epoch 96: 3812.0625\n",
            "Loss after epoch 97: 3510.1875\n",
            "Loss after epoch 98: 3836.6875\n",
            "Loss after epoch 99: 3601.5\n"
          ]
        },
        {
          "output_type": "execute_result",
          "data": {
            "text/plain": [
              "(334029, 866500)"
            ]
          },
          "metadata": {},
          "execution_count": 21
        }
      ],
      "source": [
        "# Entrenamos el modelo generador de vectores\n",
        "# Utilizamos nuestro callback\n",
        "w2v_model.train(sentence_tokens,\n",
        "                 total_examples=w2v_model.corpus_count,\n",
        "                 epochs=100,\n",
        "                 compute_loss = True,\n",
        "                 callbacks=[callback()]\n",
        "                 )"
      ]
    },
    {
      "cell_type": "markdown",
      "metadata": {
        "id": "ddT9NVuNlCAe"
      },
      "source": [
        "### 4 - Ensayar"
      ]
    },
    {
      "cell_type": "code",
      "execution_count": null,
      "metadata": {
        "id": "6cHN9xGLuPEm",
        "colab": {
          "base_uri": "https://localhost:8080/"
        },
        "outputId": "eaaa73f0-c7ea-40fc-bf71-04ec64721a75"
      },
      "outputs": [
        {
          "output_type": "execute_result",
          "data": {
            "text/plain": [
              "[('prometo', 0.8678575754165649),\n",
              " ('debo', 0.8575572967529297),\n",
              " ('presencia', 0.8433343768119812),\n",
              " ('maestro', 0.8388802409172058),\n",
              " ('sentido', 0.835220217704773),\n",
              " ('lejos', 0.8259782791137695),\n",
              " ('volver', 0.8257198333740234),\n",
              " ('encontrar', 0.8104009628295898),\n",
              " ('queda', 0.8086608052253723),\n",
              " ('ud', 0.8067443370819092)]"
            ]
          },
          "metadata": {},
          "execution_count": 92
        }
      ],
      "source": [
        "# Palabras que MÁS se relacionan con...:\n",
        "w2v_model.wv.most_similar(positive=[\"yoda\"], topn=10)"
      ]
    },
    {
      "cell_type": "code",
      "execution_count": null,
      "metadata": {
        "id": "47HiU5gdkdMq",
        "colab": {
          "base_uri": "https://localhost:8080/"
        },
        "outputId": "4a87921c-5722-443e-a3b4-e93f3a51427e"
      },
      "outputs": [
        {
          "output_type": "execute_result",
          "data": {
            "text/plain": [
              "[('sistemas', 0.9782299995422363),\n",
              " ('siento', 0.895727813243866),\n",
              " ('minutos', 0.8794825077056885),\n",
              " ('queda', 0.8548435568809509),\n",
              " ('lejos', 0.8235612511634827),\n",
              " ('planos', 0.8036399483680725),\n",
              " ('laser', 0.7691442370414734),\n",
              " ('armas', 0.7322741746902466),\n",
              " ('yoda', 0.7272737622261047),\n",
              " ('operacional', 0.7067357301712036)]"
            ]
          },
          "metadata": {},
          "execution_count": 22
        }
      ],
      "source": [
        "# Palabras que MENOS se relacionan con...:\n",
        "w2v_model.wv.most_similar(positive=[\"estrella\"], topn=10)"
      ]
    },
    {
      "cell_type": "code",
      "source": [
        "# Palabras que MÁS se relacionan con...:\n",
        "w2v_model.wv.most_similar(positive=[\"luke\",\"yoda\"], topn=10)"
      ],
      "metadata": {
        "colab": {
          "base_uri": "https://localhost:8080/"
        },
        "id": "liH0unaoDNv5",
        "outputId": "1d55126a-382f-407f-abf9-29ac3578b8c0"
      },
      "execution_count": null,
      "outputs": [
        {
          "output_type": "execute_result",
          "data": {
            "text/plain": [
              "[('sentido', 0.869152307510376),\n",
              " ('volver', 0.8491125106811523),\n",
              " ('aprender', 0.8471088409423828),\n",
              " ('entrenamiento', 0.8465972542762756),\n",
              " ('destino', 0.8460654020309448),\n",
              " ('preocupes', 0.8460564613342285),\n",
              " ('debo', 0.8369970321655273),\n",
              " ('digas', 0.8311010599136353),\n",
              " ('chewbacca', 0.8296388983726501),\n",
              " ('volvere', 0.8290704488754272)]"
            ]
          },
          "metadata": {},
          "execution_count": 94
        }
      ]
    },
    {
      "cell_type": "code",
      "execution_count": null,
      "metadata": {
        "id": "DT4Rvno2mD65",
        "colab": {
          "base_uri": "https://localhost:8080/"
        },
        "outputId": "75623d9b-56a0-4db1-afe1-be7706fe7137"
      },
      "outputs": [
        {
          "output_type": "execute_result",
          "data": {
            "text/plain": [
              "[('trampa', 0.949791669845581),\n",
              " ('padre', 0.9370139837265015),\n",
              " ('dijiste', 0.8820943832397461),\n",
              " ('gracias', 0.8788265585899353),\n",
              " ('llegado', 0.8787726759910583),\n",
              " ('aprender', 0.8731719255447388),\n",
              " ('lord', 0.8582790493965149),\n",
              " ('sentimientos', 0.8554969429969788),\n",
              " ('hombres', 0.853635311126709),\n",
              " ('entrenamiento', 0.8516610860824585)]"
            ]
          },
          "metadata": {},
          "execution_count": 87
        }
      ],
      "source": [
        "# Palabras que MÁS se relacionan con...:\n",
        "w2v_model.wv.most_similar(positive=[\"darth\",\"vader\",\"hijo\"], negative=[], topn=10)"
      ]
    },
    {
      "cell_type": "code",
      "source": [
        "# Palabras que MÁS se relacionan con...:\n",
        "w2v_model.wv.most_similar(positive=[\"luke\",\"darth\",\"vader\"], topn=5)"
      ],
      "metadata": {
        "colab": {
          "base_uri": "https://localhost:8080/"
        },
        "id": "8MFzkUNKFlIO",
        "outputId": "99c1abf7-2742-430d-b686-f4a406a3a9e0"
      },
      "execution_count": null,
      "outputs": [
        {
          "output_type": "execute_result",
          "data": {
            "text/plain": [
              "[('trampa', 0.9408879280090332),\n",
              " ('padre', 0.9068341255187988),\n",
              " ('aprender', 0.8945216536521912),\n",
              " ('gracias', 0.869488000869751),\n",
              " ('dijiste', 0.8681919574737549)]"
            ]
          },
          "metadata": {},
          "execution_count": 90
        }
      ]
    },
    {
      "cell_type": "code",
      "source": [
        "# Palabras que MÁS se relacionan con...:\n",
        "w2v_model.wv.most_similar(negative=[\"luke\"], topn=5)"
      ],
      "metadata": {
        "colab": {
          "base_uri": "https://localhost:8080/"
        },
        "id": "zJxYozeMO6UP",
        "outputId": "a2d7ab07-50c1-4156-cb92-86507c097e1e"
      },
      "execution_count": null,
      "outputs": [
        {
          "output_type": "execute_result",
          "data": {
            "text/plain": [
              "[('manos', 0.2937866747379303),\n",
              " ('capaz', 0.18617717921733856),\n",
              " ('escudos', 0.17612911760807037),\n",
              " ('torre', 0.026434917002916336),\n",
              " ('dios', 0.025364069268107414)]"
            ]
          },
          "metadata": {},
          "execution_count": 73
        }
      ]
    },
    {
      "cell_type": "code",
      "execution_count": null,
      "metadata": {
        "id": "XPLDPgzBmQXt",
        "colab": {
          "base_uri": "https://localhost:8080/"
        },
        "outputId": "e8c3d741-b083-42a8-aa93-33247b32d870"
      },
      "outputs": [
        {
          "output_type": "execute_result",
          "data": {
            "text/plain": [
              "[('jedi', 0.8899532556533813),\n",
              " ('aprendiz', 0.8772623538970947),\n",
              " ('fuerza', 0.8533816933631897),\n",
              " ('entrenamiento', 0.8490281701087952),\n",
              " ('sentido', 0.8417330980300903)]"
            ]
          },
          "metadata": {},
          "execution_count": 96
        }
      ],
      "source": [
        "# Palabras que MÁS se relacionan con...:\n",
        "w2v_model.wv.most_similar(positive=[\"skywalker\",\"yoda\"], topn=5)"
      ]
    },
    {
      "cell_type": "code",
      "source": [
        "# Palabras que MÁS se relacionan con...:\n",
        "w2v_model.wv.most_similar(positive=[\"fuerza\"])"
      ],
      "metadata": {
        "colab": {
          "base_uri": "https://localhost:8080/"
        },
        "id": "VwoaLuyMPCxt",
        "outputId": "fbba9a95-4191-479d-a0fe-758135dfc248"
      },
      "execution_count": null,
      "outputs": [
        {
          "output_type": "execute_result",
          "data": {
            "text/plain": [
              "[('entrenamiento', 0.8511227369308472),\n",
              " ('imperio', 0.850968062877655),\n",
              " ('aprendiz', 0.8424110412597656),\n",
              " ('salida', 0.8375244140625),\n",
              " ('cueva', 0.8344074487686157),\n",
              " ('aprender', 0.8311670422554016),\n",
              " ('poderoso', 0.830485999584198),\n",
              " ('cosas', 0.8290493488311768),\n",
              " ('destino', 0.8284888863563538),\n",
              " ('chewbacca', 0.8283873796463013)]"
            ]
          },
          "metadata": {},
          "execution_count": 75
        }
      ]
    },
    {
      "cell_type": "code",
      "execution_count": null,
      "metadata": {
        "id": "L_UvHPMMklOr",
        "colab": {
          "base_uri": "https://localhost:8080/"
        },
        "outputId": "1878479a-6a85-4b7a-9d90-2b61be7977a4"
      },
      "outputs": [
        {
          "output_type": "execute_result",
          "data": {
            "text/plain": [
              "[('manos', 0.31187301874160767),\n",
              " ('escudos', 0.08105242252349854),\n",
              " ('torre', 0.049830615520477295),\n",
              " ('dios', -0.020483875647187233),\n",
              " ('vivo', -0.07085763663053513),\n",
              " ('sucede', -0.09378395974636078),\n",
              " ('capaz', -0.12942515313625336),\n",
              " ('quietos', -0.1389489620923996),\n",
              " ('kenobi', -0.34305277466773987),\n",
              " ('sistema', -0.345783531665802)]"
            ]
          },
          "metadata": {},
          "execution_count": 76
        }
      ],
      "source": [
        "# Palabras que MÁS se relacionan con...:\n",
        "w2v_model.wv.most_similar(negative=[\"fuerza\"])"
      ]
    },
    {
      "cell_type": "code",
      "source": [
        "# Palabras que MÁS se relacionan con...:\n",
        "w2v_model.wv.most_similar(positive=[\"velocidad\"])"
      ],
      "metadata": {
        "colab": {
          "base_uri": "https://localhost:8080/"
        },
        "id": "Ly2oR65LPVKA",
        "outputId": "b85b508e-30ce-41ee-e264-2ae9be7d0b5d"
      },
      "execution_count": null,
      "outputs": [
        {
          "output_type": "execute_result",
          "data": {
            "text/plain": [
              "[('pasar', 0.9268184304237366),\n",
              " ('entiendo', 0.9103265404701233),\n",
              " ('salido', 0.9065259099006653),\n",
              " ('veo', 0.8747021555900574),\n",
              " ('listos', 0.8517149686813354),\n",
              " ('despegar', 0.8306588530540466),\n",
              " ('posicion', 0.820294976234436),\n",
              " ('plan', 0.8064688444137573),\n",
              " ('suerte', 0.7972614169120789),\n",
              " ('abran', 0.7768471837043762)]"
            ]
          },
          "metadata": {},
          "execution_count": 97
        }
      ]
    },
    {
      "cell_type": "markdown",
      "metadata": {
        "id": "_g8UVWe6lFmh"
      },
      "source": [
        "### 5 - Visualizar agrupación de vectores"
      ]
    },
    {
      "cell_type": "code",
      "execution_count": null,
      "metadata": {
        "id": "pDxEVXAivjr9"
      },
      "outputs": [],
      "source": [
        "from sklearn.decomposition import IncrementalPCA\n",
        "from sklearn.manifold import TSNE\n",
        "import numpy as np\n",
        "\n",
        "def reduce_dimensions(model):\n",
        "    num_dimensions = 2\n",
        "\n",
        "    vectors = np.asarray(model.wv.vectors)\n",
        "    labels = np.asarray(model.wv.index_to_key)\n",
        "\n",
        "    tsne = TSNE(n_components=num_dimensions, random_state=0)\n",
        "    vectors = tsne.fit_transform(vectors)\n",
        "\n",
        "    x_vals = [v[0] for v in vectors]\n",
        "    y_vals = [v[1] for v in vectors]\n",
        "    return x_vals, y_vals, labels"
      ]
    },
    {
      "cell_type": "code",
      "execution_count": null,
      "metadata": {
        "id": "NCCXtDpcugmd",
        "colab": {
          "base_uri": "https://localhost:8080/",
          "height": 542
        },
        "outputId": "06cb2896-1786-41ba-e960-8d86974fefaa"
      },
      "outputs": [
        {
          "output_type": "display_data",
          "data": {
            "text/html": [
              "<html>\n",
              "<head><meta charset=\"utf-8\" /></head>\n",
              "<body>\n",
              "    <div>            <script src=\"https://cdnjs.cloudflare.com/ajax/libs/mathjax/2.7.5/MathJax.js?config=TeX-AMS-MML_SVG\"></script><script type=\"text/javascript\">if (window.MathJax && window.MathJax.Hub && window.MathJax.Hub.Config) {window.MathJax.Hub.Config({SVG: {font: \"STIX-Web\"}});}</script>                <script type=\"text/javascript\">window.PlotlyConfig = {MathJaxConfig: 'local'};</script>\n",
              "        <script src=\"https://cdn.plot.ly/plotly-2.18.2.min.js\"></script>                <div id=\"087db755-26e5-467e-818a-1163a7f2ac3e\" class=\"plotly-graph-div\" style=\"height:525px; width:100%;\"></div>            <script type=\"text/javascript\">                                    window.PLOTLYENV=window.PLOTLYENV || {};                                    if (document.getElementById(\"087db755-26e5-467e-818a-1163a7f2ac3e\")) {                    Plotly.newPlot(                        \"087db755-26e5-467e-818a-1163a7f2ac3e\",                        [{\"hovertemplate\":\"x=%{x}<br>y=%{y}<br>text=%{text}<extra></extra>\",\"legendgroup\":\"\",\"marker\":{\"color\":\"#636efa\",\"symbol\":\"circle\"},\"mode\":\"markers+text\",\"name\":\"\",\"orientation\":\"v\",\"showlegend\":false,\"text\":[\"luke\",\"r\",\"nave\",\"senor\",\"fuerza\",\"chewie\",\"padre\",\"vader\",\"jedi\",\"has\",\"tiempo\",\"tienes\",\"rojo\",\"estacion\",\"skywalker\",\"ataque\",\"seguro\",\"jabba\",\"obiwan\",\"amo\",\"emperador\",\"campo\",\"amigo\",\"sistema\",\"pasa\",\"lord\",\"cuidado\",\"leia\",\"puedes\",\"princesa\",\"imperio\",\"energia\",\"base\",\"espera\",\"velocidad\",\"oscuro\",\"siento\",\"escudo\",\"gracias\",\"naves\",\"lando\",\"rebelde\",\"muerte\",\"listo\",\"fuego\",\"veo\",\"viejo\",\"amigos\",\"androide\",\"quiero\",\"cazas\",\"flota\",\"alderaan\",\"androides\",\"capitan\",\"maestro\",\"estrella\",\"yoda\",\"po\",\"oye\",\"debes\",\"momento\",\"luz\",\"planeta\",\"alguien\",\"cosas\",\"destino\",\"ben\",\"ven\",\"kenobi\",\"vas\",\"mira\",\"galaxia\",\"rebeldes\",\"vida\",\"jefe\",\"comandante\",\"estara\",\"quieres\",\"imperial\",\"lugar\",\"general\",\"planos\",\"debo\",\"dije\",\"rapido\",\"milord\",\"necesito\",\"punto\",\"unica\",\"suerte\",\"visto\",\"encontrado\",\"alla\",\"esperanza\",\"oro\",\"unidad\",\"fuerte\",\"salir\",\"imperiales\",\"luna\",\"tropas\",\"tenia\",\"crees\",\"principal\",\"favor\",\"joven\",\"mensaje\",\"justo\",\"adonde\",\"ultima\",\"almirante\",\"rebelion\",\"vienen\",\"posicion\",\"hijo\",\"cerca\",\"senal\",\"idea\",\"potencia\",\"miedo\",\"muerto\",\"problemas\",\"lider\",\"arma\",\"tiro\",\"acerca\",\"ira\",\"halcon\",\"sentimientos\",\"ve\",\"tranquilo\",\"hutt\",\"facil\",\"poderoso\",\"seria\",\"vuelta\",\"peligroso\",\"mision\",\"hablar\",\"temo\",\"muchacho\",\"encontrar\",\"lejos\",\"alteza\",\"asteroides\",\"ten\",\"alto\",\"hipervelocidad\",\"pequena\",\"control\",\"sabia\",\"calrissian\",\"ayuda\",\"quedate\",\"perdido\",\"camino\",\"entrar\",\"armas\",\"imposible\",\"estelar\",\"peligro\",\"cosa\",\"culpa\",\"hola\",\"caza\",\"preparado\",\"laser\",\"objetivo\",\"deja\",\"hermana\",\"tonto\",\"razon\",\"transporte\",\"tio\",\"ordenador\",\"deflector\",\"entrada\",\"rogue\",\"listos\",\"vuelto\",\"darth\",\"hombre\",\"wedge\",\"viene\",\"dagobah\",\"cruceros\",\"pregunto\",\"algun\",\"necesitamos\",\"recompensas\",\"sistemas\",\"bloque\",\"tendras\",\"esperen\",\"venido\",\"presencia\",\"digas\",\"piloto\",\"alianza\"],\"x\":[-6.626400947570801,-8.621011734008789,-3.4217939376831055,1.9665547609329224,4.604659557342529,-9.043657302856445,-8.010769844055176,-10.840933799743652,4.485882759094238,3.5402731895446777,8.977341651916504,3.680885076522827,-14.721415519714355,15.275550842285156,-2.6195003986358643,1.3317112922668457,11.005456924438477,16.89563751220703,-10.267345428466797,-7.5876030921936035,-0.8283388614654541,11.159028053283691,-2.8901777267456055,12.449440956115723,-1.6623237133026123,-9.56484317779541,10.851116180419922,-13.804344177246094,5.8077216148376465,1.2713903188705444,5.8931427001953125,15.979018211364746,-4.055149078369141,-10.780610084533691,4.840759754180908,10.734278678894043,-8.646917343139648,12.196697235107422,-8.223759651184082,-1.6305526494979858,-5.719278335571289,-2.47678279876709,-6.077016353607178,-13.430269241333008,7.867493152618408,4.681586742401123,-8.151429176330566,-0.5578063130378723,-4.414945125579834,5.411632537841797,12.107911109924316,2.020258903503418,10.737686157226562,9.71863079071045,2.711801528930664,3.444401264190674,-6.937780380249023,2.2159759998321533,-7.185925006866455,-6.521838188171387,-0.6998007297515869,7.223966598510742,5.883373260498047,10.097616195678711,3.8621201515197754,1.8717739582061768,5.146048545837402,-10.244573593139648,-4.66151762008667,-8.95498275756836,7.714449405670166,15.86545467376709,-3.9630515575408936,-1.7632958889007568,2.795588493347168,-14.264190673828125,7.10952615737915,-3.609530448913574,6.944599151611328,-3.6476328372955322,1.0534497499465942,-9.401500701904297,-6.494705677032471,3.4181578159332275,-10.111454010009766,-15.27884292602539,5.502569198608398,6.555780410766602,-5.2337446212768555,12.991610527038574,5.890661716461182,5.463038921356201,2.9057679176330566,-11.117366790771484,7.1010918617248535,-13.747735023498535,3.8110687732696533,-6.227290153503418,-5.289148330688477,-12.828916549682617,-1.5265763998031616,-15.667143821716309,8.344869613647461,8.602899551391602,9.452821731567383,-6.7072954177856445,7.545547008514404,0.14741268754005432,-8.150135040283203,8.606407165527344,12.970844268798828,8.037781715393066,-3.2308759689331055,1.1370165348052979,1.9794721603393555,-2.7725958824157715,-10.551732063293457,-7.476208209991455,3.6573357582092285,6.473533630371094,14.915362358093262,-3.4111380577087402,5.176205635070801,-14.761018753051758,6.298977375030518,-4.730514049530029,7.085827350616455,1.6445121765136719,4.935703277587891,-8.962697982788086,-5.694512367248535,-13.395862579345703,17.098045349121094,-5.7169294357299805,5.7554826736450195,1.0512951612472534,-17.01535987854004,-4.729396820068359,-2.698268175125122,5.010235786437988,11.245128631591797,-10.14421558380127,-2.5103189945220947,-7.072105884552002,0.5793198347091675,16.281570434570312,12.379060745239258,-8.511344909667969,2.42950439453125,-0.6006581783294678,8.531737327575684,-0.9510995745658875,-4.181831359863281,-4.8296918869018555,-10.150115013122559,8.591397285461426,10.956775665283203,-10.759805679321289,-0.5305848717689514,-3.31644606590271,-4.1648125648498535,0.20990222692489624,5.971972465515137,1.2522847652435303,-3.6144258975982666,-1.165438175201416,-12.322274208068848,-3.1343085765838623,10.660387992858887,-10.89692497253418,1.7756216526031494,-0.9702492952346802,3.3473660945892334,10.947198867797852,0.331450492143631,4.334601402282715,11.95118236541748,-12.21314525604248,-11.444320678710938,6.543518543243408,6.883800983428955,-9.334561347961426,-6.112357139587402,11.0799560546875,2.2930221557617188,11.801755905151367,-15.059734344482422,-8.848007202148438,-1.7665512561798096,5.50183629989624,-2.762427568435669,-8.469353675842285,6.6517014503479,6.363286972045898,-8.218016624450684,-7.748734474182129,1.2779712677001953,-2.6699039936065674,12.207099914550781,-5.477487564086914],\"xaxis\":\"x\",\"y\":[-2.8876895904541016,0.4127448797225952,-1.913424015045166,-0.5281718969345093,-13.051112174987793,1.2817026376724243,10.990898132324219,13.392004013061523,-11.003772735595703,-4.3842644691467285,0.22107060253620148,8.391880989074707,-8.027530670166016,0.7525191903114319,-5.830129146575928,15.023853302001953,1.9829115867614746,-4.749083995819092,8.184844017028809,-1.6400607824325562,7.761480331420898,4.385920524597168,2.8934974670410156,12.154462814331055,5.836906433105469,14.677443504333496,-10.792926788330078,2.858927011489868,10.05866527557373,7.418687343597412,-12.485945701599121,5.6527628898620605,-16.873817443847656,0.7823577523231506,16.088659286499023,-9.18021011352539,-13.991204261779785,2.6612346172332764,13.089037895202637,-11.26905345916748,8.53902816772461,-16.6043701171875,-13.71109676361084,-8.14747428894043,15.93917179107666,12.657249450683594,7.230131149291992,4.325384616851807,-7.359041690826416,0.7016419768333435,-7.987985134124756,16.10531997680664,12.031451225280762,-9.959423065185547,11.042929649353027,-9.959815979003906,-15.539264678955078,-10.209758758544922,2.2274365425109863,-1.1392340660095215,-5.2385640144348145,5.878830432891846,16.807283401489258,11.122623443603516,-2.63476824760437,-3.3187599182128906,-6.391905784606934,8.176454544067383,-3.9157955646514893,8.35241985321045,7.201632976531982,-3.4332268238067627,-10.159405708312988,-12.56772232055664,8.947745323181152,-7.445060729980469,-6.5941853523254395,-14.677058219909668,4.397263526916504,10.276061058044434,-4.315249443054199,6.1480889320373535,-12.438739776611328,-6.985308647155762,3.051034688949585,5.795146465301514,-5.383429050445557,2.144836187362671,-10.8684663772583,-13.835477828979492,12.233794212341309,-2.2964680194854736,0.4414026737213135,-6.720541477203369,-15.609358787536621,-8.626277923583984,2.5015854835510254,12.644721984863281,-5.469865322113037,-0.8394412994384766,-15.224296569824219,0.32199612259864807,9.224224090576172,7.669896602630615,-2.0951054096221924,5.812586784362793,-7.477027893066406,3.031001329421997,-5.773782253265381,6.655189514160156,-13.831887245178223,-14.643159866333008,8.984537124633789,-0.7541646957397461,14.000189781188965,-4.010087013244629,3.7492148876190186,-8.808263778686523,-1.34913170337677,-0.6623097062110901,0.7128795385360718,9.019065856933594,2.030299425125122,-7.007951736450195,-11.157764434814453,-13.832378387451172,-14.066157341003418,-8.155760765075684,14.465784072875977,11.61523151397705,-2.331130027770996,-4.465381622314453,-3.001293420791626,-4.981496810913086,-9.138192176818848,3.9206185340881348,5.905065059661865,4.018014430999756,-11.921442985534668,-3.935842990875244,0.48630207777023315,-3.366246223449707,-14.304829597473145,-14.173054695129395,2.2304117679595947,5.860630989074707,-8.638384819030762,-8.939748764038086,11.262744903564453,-13.343831062316895,2.4434261322021484,10.322340965270996,7.135558605194092,-6.687619209289551,3.1676125526428223,-2.518224000930786,2.3969919681549072,-4.937399864196777,-2.7675704956054688,4.509939670562744,10.886499404907227,-1.289750337600708,6.363694190979004,0.1710880547761917,2.7832095623016357,18.267866134643555,-6.240354537963867,-13.311959266662598,-5.152581691741943,-4.551511764526367,6.58546257019043,10.416406631469727,7.253722190856934,10.91422176361084,5.538497447967529,-0.8748056888580322,-1.0407462120056152,14.860136985778809,-7.652518272399902,15.9185152053833,-6.427102088928223,14.505192756652832,7.268588542938232,-7.349092960357666,-7.462063789367676,12.574638366699219,0.5692112445831299,6.946155548095703,-8.051589965820312,1.7498804330825806,13.110316276550293,-14.003189086914062,-3.7693207263946533,1.5685997009277344,-8.908710479736328,6.7553558349609375,-8.983388900756836,0.19732140004634857,8.31177806854248,1.819325566291809],\"yaxis\":\"y\",\"type\":\"scatter\"}],                        {\"template\":{\"data\":{\"histogram2dcontour\":[{\"type\":\"histogram2dcontour\",\"colorbar\":{\"outlinewidth\":0,\"ticks\":\"\"},\"colorscale\":[[0.0,\"#0d0887\"],[0.1111111111111111,\"#46039f\"],[0.2222222222222222,\"#7201a8\"],[0.3333333333333333,\"#9c179e\"],[0.4444444444444444,\"#bd3786\"],[0.5555555555555556,\"#d8576b\"],[0.6666666666666666,\"#ed7953\"],[0.7777777777777778,\"#fb9f3a\"],[0.8888888888888888,\"#fdca26\"],[1.0,\"#f0f921\"]]}],\"choropleth\":[{\"type\":\"choropleth\",\"colorbar\":{\"outlinewidth\":0,\"ticks\":\"\"}}],\"histogram2d\":[{\"type\":\"histogram2d\",\"colorbar\":{\"outlinewidth\":0,\"ticks\":\"\"},\"colorscale\":[[0.0,\"#0d0887\"],[0.1111111111111111,\"#46039f\"],[0.2222222222222222,\"#7201a8\"],[0.3333333333333333,\"#9c179e\"],[0.4444444444444444,\"#bd3786\"],[0.5555555555555556,\"#d8576b\"],[0.6666666666666666,\"#ed7953\"],[0.7777777777777778,\"#fb9f3a\"],[0.8888888888888888,\"#fdca26\"],[1.0,\"#f0f921\"]]}],\"heatmap\":[{\"type\":\"heatmap\",\"colorbar\":{\"outlinewidth\":0,\"ticks\":\"\"},\"colorscale\":[[0.0,\"#0d0887\"],[0.1111111111111111,\"#46039f\"],[0.2222222222222222,\"#7201a8\"],[0.3333333333333333,\"#9c179e\"],[0.4444444444444444,\"#bd3786\"],[0.5555555555555556,\"#d8576b\"],[0.6666666666666666,\"#ed7953\"],[0.7777777777777778,\"#fb9f3a\"],[0.8888888888888888,\"#fdca26\"],[1.0,\"#f0f921\"]]}],\"heatmapgl\":[{\"type\":\"heatmapgl\",\"colorbar\":{\"outlinewidth\":0,\"ticks\":\"\"},\"colorscale\":[[0.0,\"#0d0887\"],[0.1111111111111111,\"#46039f\"],[0.2222222222222222,\"#7201a8\"],[0.3333333333333333,\"#9c179e\"],[0.4444444444444444,\"#bd3786\"],[0.5555555555555556,\"#d8576b\"],[0.6666666666666666,\"#ed7953\"],[0.7777777777777778,\"#fb9f3a\"],[0.8888888888888888,\"#fdca26\"],[1.0,\"#f0f921\"]]}],\"contourcarpet\":[{\"type\":\"contourcarpet\",\"colorbar\":{\"outlinewidth\":0,\"ticks\":\"\"}}],\"contour\":[{\"type\":\"contour\",\"colorbar\":{\"outlinewidth\":0,\"ticks\":\"\"},\"colorscale\":[[0.0,\"#0d0887\"],[0.1111111111111111,\"#46039f\"],[0.2222222222222222,\"#7201a8\"],[0.3333333333333333,\"#9c179e\"],[0.4444444444444444,\"#bd3786\"],[0.5555555555555556,\"#d8576b\"],[0.6666666666666666,\"#ed7953\"],[0.7777777777777778,\"#fb9f3a\"],[0.8888888888888888,\"#fdca26\"],[1.0,\"#f0f921\"]]}],\"surface\":[{\"type\":\"surface\",\"colorbar\":{\"outlinewidth\":0,\"ticks\":\"\"},\"colorscale\":[[0.0,\"#0d0887\"],[0.1111111111111111,\"#46039f\"],[0.2222222222222222,\"#7201a8\"],[0.3333333333333333,\"#9c179e\"],[0.4444444444444444,\"#bd3786\"],[0.5555555555555556,\"#d8576b\"],[0.6666666666666666,\"#ed7953\"],[0.7777777777777778,\"#fb9f3a\"],[0.8888888888888888,\"#fdca26\"],[1.0,\"#f0f921\"]]}],\"mesh3d\":[{\"type\":\"mesh3d\",\"colorbar\":{\"outlinewidth\":0,\"ticks\":\"\"}}],\"scatter\":[{\"fillpattern\":{\"fillmode\":\"overlay\",\"size\":10,\"solidity\":0.2},\"type\":\"scatter\"}],\"parcoords\":[{\"type\":\"parcoords\",\"line\":{\"colorbar\":{\"outlinewidth\":0,\"ticks\":\"\"}}}],\"scatterpolargl\":[{\"type\":\"scatterpolargl\",\"marker\":{\"colorbar\":{\"outlinewidth\":0,\"ticks\":\"\"}}}],\"bar\":[{\"error_x\":{\"color\":\"#2a3f5f\"},\"error_y\":{\"color\":\"#2a3f5f\"},\"marker\":{\"line\":{\"color\":\"#E5ECF6\",\"width\":0.5},\"pattern\":{\"fillmode\":\"overlay\",\"size\":10,\"solidity\":0.2}},\"type\":\"bar\"}],\"scattergeo\":[{\"type\":\"scattergeo\",\"marker\":{\"colorbar\":{\"outlinewidth\":0,\"ticks\":\"\"}}}],\"scatterpolar\":[{\"type\":\"scatterpolar\",\"marker\":{\"colorbar\":{\"outlinewidth\":0,\"ticks\":\"\"}}}],\"histogram\":[{\"marker\":{\"pattern\":{\"fillmode\":\"overlay\",\"size\":10,\"solidity\":0.2}},\"type\":\"histogram\"}],\"scattergl\":[{\"type\":\"scattergl\",\"marker\":{\"colorbar\":{\"outlinewidth\":0,\"ticks\":\"\"}}}],\"scatter3d\":[{\"type\":\"scatter3d\",\"line\":{\"colorbar\":{\"outlinewidth\":0,\"ticks\":\"\"}},\"marker\":{\"colorbar\":{\"outlinewidth\":0,\"ticks\":\"\"}}}],\"scattermapbox\":[{\"type\":\"scattermapbox\",\"marker\":{\"colorbar\":{\"outlinewidth\":0,\"ticks\":\"\"}}}],\"scatterternary\":[{\"type\":\"scatterternary\",\"marker\":{\"colorbar\":{\"outlinewidth\":0,\"ticks\":\"\"}}}],\"scattercarpet\":[{\"type\":\"scattercarpet\",\"marker\":{\"colorbar\":{\"outlinewidth\":0,\"ticks\":\"\"}}}],\"carpet\":[{\"aaxis\":{\"endlinecolor\":\"#2a3f5f\",\"gridcolor\":\"white\",\"linecolor\":\"white\",\"minorgridcolor\":\"white\",\"startlinecolor\":\"#2a3f5f\"},\"baxis\":{\"endlinecolor\":\"#2a3f5f\",\"gridcolor\":\"white\",\"linecolor\":\"white\",\"minorgridcolor\":\"white\",\"startlinecolor\":\"#2a3f5f\"},\"type\":\"carpet\"}],\"table\":[{\"cells\":{\"fill\":{\"color\":\"#EBF0F8\"},\"line\":{\"color\":\"white\"}},\"header\":{\"fill\":{\"color\":\"#C8D4E3\"},\"line\":{\"color\":\"white\"}},\"type\":\"table\"}],\"barpolar\":[{\"marker\":{\"line\":{\"color\":\"#E5ECF6\",\"width\":0.5},\"pattern\":{\"fillmode\":\"overlay\",\"size\":10,\"solidity\":0.2}},\"type\":\"barpolar\"}],\"pie\":[{\"automargin\":true,\"type\":\"pie\"}]},\"layout\":{\"autotypenumbers\":\"strict\",\"colorway\":[\"#636efa\",\"#EF553B\",\"#00cc96\",\"#ab63fa\",\"#FFA15A\",\"#19d3f3\",\"#FF6692\",\"#B6E880\",\"#FF97FF\",\"#FECB52\"],\"font\":{\"color\":\"#2a3f5f\"},\"hovermode\":\"closest\",\"hoverlabel\":{\"align\":\"left\"},\"paper_bgcolor\":\"white\",\"plot_bgcolor\":\"#E5ECF6\",\"polar\":{\"bgcolor\":\"#E5ECF6\",\"angularaxis\":{\"gridcolor\":\"white\",\"linecolor\":\"white\",\"ticks\":\"\"},\"radialaxis\":{\"gridcolor\":\"white\",\"linecolor\":\"white\",\"ticks\":\"\"}},\"ternary\":{\"bgcolor\":\"#E5ECF6\",\"aaxis\":{\"gridcolor\":\"white\",\"linecolor\":\"white\",\"ticks\":\"\"},\"baxis\":{\"gridcolor\":\"white\",\"linecolor\":\"white\",\"ticks\":\"\"},\"caxis\":{\"gridcolor\":\"white\",\"linecolor\":\"white\",\"ticks\":\"\"}},\"coloraxis\":{\"colorbar\":{\"outlinewidth\":0,\"ticks\":\"\"}},\"colorscale\":{\"sequential\":[[0.0,\"#0d0887\"],[0.1111111111111111,\"#46039f\"],[0.2222222222222222,\"#7201a8\"],[0.3333333333333333,\"#9c179e\"],[0.4444444444444444,\"#bd3786\"],[0.5555555555555556,\"#d8576b\"],[0.6666666666666666,\"#ed7953\"],[0.7777777777777778,\"#fb9f3a\"],[0.8888888888888888,\"#fdca26\"],[1.0,\"#f0f921\"]],\"sequentialminus\":[[0.0,\"#0d0887\"],[0.1111111111111111,\"#46039f\"],[0.2222222222222222,\"#7201a8\"],[0.3333333333333333,\"#9c179e\"],[0.4444444444444444,\"#bd3786\"],[0.5555555555555556,\"#d8576b\"],[0.6666666666666666,\"#ed7953\"],[0.7777777777777778,\"#fb9f3a\"],[0.8888888888888888,\"#fdca26\"],[1.0,\"#f0f921\"]],\"diverging\":[[0,\"#8e0152\"],[0.1,\"#c51b7d\"],[0.2,\"#de77ae\"],[0.3,\"#f1b6da\"],[0.4,\"#fde0ef\"],[0.5,\"#f7f7f7\"],[0.6,\"#e6f5d0\"],[0.7,\"#b8e186\"],[0.8,\"#7fbc41\"],[0.9,\"#4d9221\"],[1,\"#276419\"]]},\"xaxis\":{\"gridcolor\":\"white\",\"linecolor\":\"white\",\"ticks\":\"\",\"title\":{\"standoff\":15},\"zerolinecolor\":\"white\",\"automargin\":true,\"zerolinewidth\":2},\"yaxis\":{\"gridcolor\":\"white\",\"linecolor\":\"white\",\"ticks\":\"\",\"title\":{\"standoff\":15},\"zerolinecolor\":\"white\",\"automargin\":true,\"zerolinewidth\":2},\"scene\":{\"xaxis\":{\"backgroundcolor\":\"#E5ECF6\",\"gridcolor\":\"white\",\"linecolor\":\"white\",\"showbackground\":true,\"ticks\":\"\",\"zerolinecolor\":\"white\",\"gridwidth\":2},\"yaxis\":{\"backgroundcolor\":\"#E5ECF6\",\"gridcolor\":\"white\",\"linecolor\":\"white\",\"showbackground\":true,\"ticks\":\"\",\"zerolinecolor\":\"white\",\"gridwidth\":2},\"zaxis\":{\"backgroundcolor\":\"#E5ECF6\",\"gridcolor\":\"white\",\"linecolor\":\"white\",\"showbackground\":true,\"ticks\":\"\",\"zerolinecolor\":\"white\",\"gridwidth\":2}},\"shapedefaults\":{\"line\":{\"color\":\"#2a3f5f\"}},\"annotationdefaults\":{\"arrowcolor\":\"#2a3f5f\",\"arrowhead\":0,\"arrowwidth\":1},\"geo\":{\"bgcolor\":\"white\",\"landcolor\":\"#E5ECF6\",\"subunitcolor\":\"white\",\"showland\":true,\"showlakes\":true,\"lakecolor\":\"white\"},\"title\":{\"x\":0.05},\"mapbox\":{\"style\":\"light\"}}},\"xaxis\":{\"anchor\":\"y\",\"domain\":[0.0,1.0],\"title\":{\"text\":\"x\"}},\"yaxis\":{\"anchor\":\"x\",\"domain\":[0.0,1.0],\"title\":{\"text\":\"y\"}},\"legend\":{\"tracegroupgap\":0},\"margin\":{\"t\":60}},                        {\"responsive\": true}                    ).then(function(){\n",
              "                            \n",
              "var gd = document.getElementById('087db755-26e5-467e-818a-1163a7f2ac3e');\n",
              "var x = new MutationObserver(function (mutations, observer) {{\n",
              "        var display = window.getComputedStyle(gd).display;\n",
              "        if (!display || display === 'none') {{\n",
              "            console.log([gd, 'removed!']);\n",
              "            Plotly.purge(gd);\n",
              "            observer.disconnect();\n",
              "        }}\n",
              "}});\n",
              "\n",
              "// Listen for the removal of the full notebook cells\n",
              "var notebookContainer = gd.closest('#notebook-container');\n",
              "if (notebookContainer) {{\n",
              "    x.observe(notebookContainer, {childList: true});\n",
              "}}\n",
              "\n",
              "// Listen for the clearing of the current output cell\n",
              "var outputEl = gd.closest('.output');\n",
              "if (outputEl) {{\n",
              "    x.observe(outputEl, {childList: true});\n",
              "}}\n",
              "\n",
              "                        })                };                            </script>        </div>\n",
              "</body>\n",
              "</html>"
            ]
          },
          "metadata": {}
        }
      ],
      "source": [
        "# Graficar los embedddings en 2D\n",
        "import plotly.graph_objects as go\n",
        "import plotly.express as px\n",
        "\n",
        "x_vals, y_vals, labels = reduce_dimensions(w2v_model)\n",
        "\n",
        "MAX_WORDS=200\n",
        "fig = px.scatter(x=x_vals[:MAX_WORDS], y=y_vals[:MAX_WORDS], text=labels[:MAX_WORDS])\n",
        "fig.show(renderer=\"colab\") # esto para plotly en colab"
      ]
    },
    {
      "cell_type": "markdown",
      "metadata": {
        "id": "yMM_SHSaZ9N-"
      },
      "source": [
        "### Alumno"
      ]
    },
    {
      "cell_type": "markdown",
      "metadata": {
        "id": "WivQZ3ZCZ9N_"
      },
      "source": [
        "- Crear sus propios vectores con Gensim basado en lo visto en clase con otro dataset.\n",
        "- Probar términos de interés y explicar similitudes en el espacio de embeddings (sacar conclusiones entre palabras similitudes y diferencias).\n",
        "- Graficarlos.\n",
        "- Obtener conclusiones."
      ]
    },
    {
      "cell_type": "markdown",
      "source": [
        "## Dataset\n",
        "\n",
        "Se genero un dataset a partir de las de Star Wars, para el análisis se utilizaron solamente las primeras 3 para detectar relaciones entre los vínculos que se generaron en las palabras y la historia de las películas.\n",
        "\n",
        "Se realizando la limpieza de los caracteres especiales y filtrado de las stopword en español.\n",
        "\n",
        "## Análisis de similitudes en espacio de embeddings\n",
        "\n",
        "Realizando varios análisis se puede observar que:\n",
        "Si se busca las similitudes positivas con \"skywalker\" y \"yoda\", las primeras 5 son:\n",
        "``````\n",
        "['jedi', 'aprendiz', 'fuerza', 'entrenamiento' y 'sentido']\n",
        "``````\n",
        "Lo cual tiene mucho sentido por la historia de las películas.\n",
        "\n",
        "Otra relación interesante que se puede buscar es entre \"luke\",\"darth\" y \"vader\" en la cual las 2 similitudes más grandes son  'trampa' y 'padre'.\n",
        "\n",
        "Con las similitudes negativas se puede observar que la primera para 'Luke' es 'mano', la cual pierde al final de una de las películas. Esto puede ser solo una coincidencia solamente.\n",
        "\n",
        "## Análisis grafico\n",
        "\n",
        "Realizando un análisis del grafico se puede observar cómo se generan nubes de puntos de palabras que se utilizan en el mismo contexto, algunos ejemplos son:\n",
        "\n",
        "*   Velocidad, luz, halcón (nave espacial).\n",
        "*   Lider, rojo, jefe. El nombre en código del **jefe** de los pilotos rebeldes es **Lider rojo**.\n",
        "\n",
        "*   Planos, estrella y muerte.\n",
        "*   Yoda, maestro, fuerza y Jedi.\n",
        "\n",
        "Otro característica que se puede observar en la nube de palabras es la agrupación de todos los nombre de un personaje juntos, como:\n",
        "\n",
        "*   Obi, wan, kenobi\n",
        "*   Darth, Vader\n",
        "*   Jabba, hutt\n",
        "\n",
        "\n",
        "\n",
        "\n",
        "\n",
        "\n",
        "\n",
        "\n",
        "\n"
      ],
      "metadata": {
        "id": "5uSlBty1PkOY"
      }
    }
  ],
  "metadata": {
    "colab": {
      "provenance": []
    },
    "kernelspec": {
      "display_name": "Python 3 (ipykernel)",
      "language": "python",
      "name": "python3"
    },
    "language_info": {
      "codemirror_mode": {
        "name": "ipython",
        "version": 3
      },
      "file_extension": ".py",
      "mimetype": "text/x-python",
      "name": "python",
      "nbconvert_exporter": "python",
      "pygments_lexer": "ipython3",
      "version": "3.10.6"
    },
    "widgets": {
      "application/vnd.jupyter.widget-state+json": {
        "4cbc8c14bf1344718a23dc16f8938bab": {
          "model_module": "@jupyter-widgets/controls",
          "model_name": "HBoxModel",
          "model_module_version": "1.5.0",
          "state": {
            "_dom_classes": [],
            "_model_module": "@jupyter-widgets/controls",
            "_model_module_version": "1.5.0",
            "_model_name": "HBoxModel",
            "_view_count": null,
            "_view_module": "@jupyter-widgets/controls",
            "_view_module_version": "1.5.0",
            "_view_name": "HBoxView",
            "box_style": "",
            "children": [
              "IPY_MODEL_600a85bd46a74700a06761954f141b8d",
              "IPY_MODEL_86550f798794411a8232c7d16f0cf24f",
              "IPY_MODEL_8ff682c2d65e4bec8bc89399edd233c1"
            ],
            "layout": "IPY_MODEL_e3d3f4c61922478cb69f079d0b15aca2"
          }
        },
        "600a85bd46a74700a06761954f141b8d": {
          "model_module": "@jupyter-widgets/controls",
          "model_name": "HTMLModel",
          "model_module_version": "1.5.0",
          "state": {
            "_dom_classes": [],
            "_model_module": "@jupyter-widgets/controls",
            "_model_module_version": "1.5.0",
            "_model_name": "HTMLModel",
            "_view_count": null,
            "_view_module": "@jupyter-widgets/controls",
            "_view_module_version": "1.5.0",
            "_view_name": "HTMLView",
            "description": "",
            "description_tooltip": null,
            "layout": "IPY_MODEL_973d199fc81e4af1b31ca58b72a77478",
            "placeholder": "​",
            "style": "IPY_MODEL_9a6cbbf13a734010ae1566d3561b1c12",
            "value": "Downloading https://raw.githubusercontent.com/stanfordnlp/stanza-resources/main/resources_1.5.0.json: "
          }
        },
        "86550f798794411a8232c7d16f0cf24f": {
          "model_module": "@jupyter-widgets/controls",
          "model_name": "FloatProgressModel",
          "model_module_version": "1.5.0",
          "state": {
            "_dom_classes": [],
            "_model_module": "@jupyter-widgets/controls",
            "_model_module_version": "1.5.0",
            "_model_name": "FloatProgressModel",
            "_view_count": null,
            "_view_module": "@jupyter-widgets/controls",
            "_view_module_version": "1.5.0",
            "_view_name": "ProgressView",
            "bar_style": "success",
            "description": "",
            "description_tooltip": null,
            "layout": "IPY_MODEL_54014e18cd754349b686de71c4b2de7b",
            "max": 30022,
            "min": 0,
            "orientation": "horizontal",
            "style": "IPY_MODEL_b1dc52af140345ddaeca423ae90e100b",
            "value": 30022
          }
        },
        "8ff682c2d65e4bec8bc89399edd233c1": {
          "model_module": "@jupyter-widgets/controls",
          "model_name": "HTMLModel",
          "model_module_version": "1.5.0",
          "state": {
            "_dom_classes": [],
            "_model_module": "@jupyter-widgets/controls",
            "_model_module_version": "1.5.0",
            "_model_name": "HTMLModel",
            "_view_count": null,
            "_view_module": "@jupyter-widgets/controls",
            "_view_module_version": "1.5.0",
            "_view_name": "HTMLView",
            "description": "",
            "description_tooltip": null,
            "layout": "IPY_MODEL_bc53dafdc09b484da59720b0ae9c9935",
            "placeholder": "​",
            "style": "IPY_MODEL_9e5865a5ec8f4716b2019dadcdaa2825",
            "value": " 216k/? [00:00&lt;00:00, 2.73MB/s]"
          }
        },
        "e3d3f4c61922478cb69f079d0b15aca2": {
          "model_module": "@jupyter-widgets/base",
          "model_name": "LayoutModel",
          "model_module_version": "1.2.0",
          "state": {
            "_model_module": "@jupyter-widgets/base",
            "_model_module_version": "1.2.0",
            "_model_name": "LayoutModel",
            "_view_count": null,
            "_view_module": "@jupyter-widgets/base",
            "_view_module_version": "1.2.0",
            "_view_name": "LayoutView",
            "align_content": null,
            "align_items": null,
            "align_self": null,
            "border": null,
            "bottom": null,
            "display": null,
            "flex": null,
            "flex_flow": null,
            "grid_area": null,
            "grid_auto_columns": null,
            "grid_auto_flow": null,
            "grid_auto_rows": null,
            "grid_column": null,
            "grid_gap": null,
            "grid_row": null,
            "grid_template_areas": null,
            "grid_template_columns": null,
            "grid_template_rows": null,
            "height": null,
            "justify_content": null,
            "justify_items": null,
            "left": null,
            "margin": null,
            "max_height": null,
            "max_width": null,
            "min_height": null,
            "min_width": null,
            "object_fit": null,
            "object_position": null,
            "order": null,
            "overflow": null,
            "overflow_x": null,
            "overflow_y": null,
            "padding": null,
            "right": null,
            "top": null,
            "visibility": null,
            "width": null
          }
        },
        "973d199fc81e4af1b31ca58b72a77478": {
          "model_module": "@jupyter-widgets/base",
          "model_name": "LayoutModel",
          "model_module_version": "1.2.0",
          "state": {
            "_model_module": "@jupyter-widgets/base",
            "_model_module_version": "1.2.0",
            "_model_name": "LayoutModel",
            "_view_count": null,
            "_view_module": "@jupyter-widgets/base",
            "_view_module_version": "1.2.0",
            "_view_name": "LayoutView",
            "align_content": null,
            "align_items": null,
            "align_self": null,
            "border": null,
            "bottom": null,
            "display": null,
            "flex": null,
            "flex_flow": null,
            "grid_area": null,
            "grid_auto_columns": null,
            "grid_auto_flow": null,
            "grid_auto_rows": null,
            "grid_column": null,
            "grid_gap": null,
            "grid_row": null,
            "grid_template_areas": null,
            "grid_template_columns": null,
            "grid_template_rows": null,
            "height": null,
            "justify_content": null,
            "justify_items": null,
            "left": null,
            "margin": null,
            "max_height": null,
            "max_width": null,
            "min_height": null,
            "min_width": null,
            "object_fit": null,
            "object_position": null,
            "order": null,
            "overflow": null,
            "overflow_x": null,
            "overflow_y": null,
            "padding": null,
            "right": null,
            "top": null,
            "visibility": null,
            "width": null
          }
        },
        "9a6cbbf13a734010ae1566d3561b1c12": {
          "model_module": "@jupyter-widgets/controls",
          "model_name": "DescriptionStyleModel",
          "model_module_version": "1.5.0",
          "state": {
            "_model_module": "@jupyter-widgets/controls",
            "_model_module_version": "1.5.0",
            "_model_name": "DescriptionStyleModel",
            "_view_count": null,
            "_view_module": "@jupyter-widgets/base",
            "_view_module_version": "1.2.0",
            "_view_name": "StyleView",
            "description_width": ""
          }
        },
        "54014e18cd754349b686de71c4b2de7b": {
          "model_module": "@jupyter-widgets/base",
          "model_name": "LayoutModel",
          "model_module_version": "1.2.0",
          "state": {
            "_model_module": "@jupyter-widgets/base",
            "_model_module_version": "1.2.0",
            "_model_name": "LayoutModel",
            "_view_count": null,
            "_view_module": "@jupyter-widgets/base",
            "_view_module_version": "1.2.0",
            "_view_name": "LayoutView",
            "align_content": null,
            "align_items": null,
            "align_self": null,
            "border": null,
            "bottom": null,
            "display": null,
            "flex": null,
            "flex_flow": null,
            "grid_area": null,
            "grid_auto_columns": null,
            "grid_auto_flow": null,
            "grid_auto_rows": null,
            "grid_column": null,
            "grid_gap": null,
            "grid_row": null,
            "grid_template_areas": null,
            "grid_template_columns": null,
            "grid_template_rows": null,
            "height": null,
            "justify_content": null,
            "justify_items": null,
            "left": null,
            "margin": null,
            "max_height": null,
            "max_width": null,
            "min_height": null,
            "min_width": null,
            "object_fit": null,
            "object_position": null,
            "order": null,
            "overflow": null,
            "overflow_x": null,
            "overflow_y": null,
            "padding": null,
            "right": null,
            "top": null,
            "visibility": null,
            "width": null
          }
        },
        "b1dc52af140345ddaeca423ae90e100b": {
          "model_module": "@jupyter-widgets/controls",
          "model_name": "ProgressStyleModel",
          "model_module_version": "1.5.0",
          "state": {
            "_model_module": "@jupyter-widgets/controls",
            "_model_module_version": "1.5.0",
            "_model_name": "ProgressStyleModel",
            "_view_count": null,
            "_view_module": "@jupyter-widgets/base",
            "_view_module_version": "1.2.0",
            "_view_name": "StyleView",
            "bar_color": null,
            "description_width": ""
          }
        },
        "bc53dafdc09b484da59720b0ae9c9935": {
          "model_module": "@jupyter-widgets/base",
          "model_name": "LayoutModel",
          "model_module_version": "1.2.0",
          "state": {
            "_model_module": "@jupyter-widgets/base",
            "_model_module_version": "1.2.0",
            "_model_name": "LayoutModel",
            "_view_count": null,
            "_view_module": "@jupyter-widgets/base",
            "_view_module_version": "1.2.0",
            "_view_name": "LayoutView",
            "align_content": null,
            "align_items": null,
            "align_self": null,
            "border": null,
            "bottom": null,
            "display": null,
            "flex": null,
            "flex_flow": null,
            "grid_area": null,
            "grid_auto_columns": null,
            "grid_auto_flow": null,
            "grid_auto_rows": null,
            "grid_column": null,
            "grid_gap": null,
            "grid_row": null,
            "grid_template_areas": null,
            "grid_template_columns": null,
            "grid_template_rows": null,
            "height": null,
            "justify_content": null,
            "justify_items": null,
            "left": null,
            "margin": null,
            "max_height": null,
            "max_width": null,
            "min_height": null,
            "min_width": null,
            "object_fit": null,
            "object_position": null,
            "order": null,
            "overflow": null,
            "overflow_x": null,
            "overflow_y": null,
            "padding": null,
            "right": null,
            "top": null,
            "visibility": null,
            "width": null
          }
        },
        "9e5865a5ec8f4716b2019dadcdaa2825": {
          "model_module": "@jupyter-widgets/controls",
          "model_name": "DescriptionStyleModel",
          "model_module_version": "1.5.0",
          "state": {
            "_model_module": "@jupyter-widgets/controls",
            "_model_module_version": "1.5.0",
            "_model_name": "DescriptionStyleModel",
            "_view_count": null,
            "_view_module": "@jupyter-widgets/base",
            "_view_module_version": "1.2.0",
            "_view_name": "StyleView",
            "description_width": ""
          }
        },
        "27c38c4c6eac483ead8ee81a8a32e7f3": {
          "model_module": "@jupyter-widgets/controls",
          "model_name": "HBoxModel",
          "model_module_version": "1.5.0",
          "state": {
            "_dom_classes": [],
            "_model_module": "@jupyter-widgets/controls",
            "_model_module_version": "1.5.0",
            "_model_name": "HBoxModel",
            "_view_count": null,
            "_view_module": "@jupyter-widgets/controls",
            "_view_module_version": "1.5.0",
            "_view_name": "HBoxView",
            "box_style": "",
            "children": [
              "IPY_MODEL_9366a2cbeb294f4a8b7aaccfb4b8c214",
              "IPY_MODEL_63edf76012a24513b772d0405c9c4af7",
              "IPY_MODEL_a0bd0b3e279845cfbaf99752f14503ce"
            ],
            "layout": "IPY_MODEL_1e0d7cd1d39d4dc18ece620b5a02861a"
          }
        },
        "9366a2cbeb294f4a8b7aaccfb4b8c214": {
          "model_module": "@jupyter-widgets/controls",
          "model_name": "HTMLModel",
          "model_module_version": "1.5.0",
          "state": {
            "_dom_classes": [],
            "_model_module": "@jupyter-widgets/controls",
            "_model_module_version": "1.5.0",
            "_model_name": "HTMLModel",
            "_view_count": null,
            "_view_module": "@jupyter-widgets/controls",
            "_view_module_version": "1.5.0",
            "_view_name": "HTMLView",
            "description": "",
            "description_tooltip": null,
            "layout": "IPY_MODEL_645acf71152a4d85b0dddc2a29538aaf",
            "placeholder": "​",
            "style": "IPY_MODEL_970cfb48a6da46588fa36d82396e340f",
            "value": "Downloading https://huggingface.co/stanfordnlp/stanza-es/resolve/v1.5.0/models/default.zip: 100%"
          }
        },
        "63edf76012a24513b772d0405c9c4af7": {
          "model_module": "@jupyter-widgets/controls",
          "model_name": "FloatProgressModel",
          "model_module_version": "1.5.0",
          "state": {
            "_dom_classes": [],
            "_model_module": "@jupyter-widgets/controls",
            "_model_module_version": "1.5.0",
            "_model_name": "FloatProgressModel",
            "_view_count": null,
            "_view_module": "@jupyter-widgets/controls",
            "_view_module_version": "1.5.0",
            "_view_name": "ProgressView",
            "bar_style": "success",
            "description": "",
            "description_tooltip": null,
            "layout": "IPY_MODEL_c33cd500c11b4c489f9be0ec5f5ee787",
            "max": 634200734,
            "min": 0,
            "orientation": "horizontal",
            "style": "IPY_MODEL_870e74e8f5704ae69f6f6f585dc2e265",
            "value": 634200734
          }
        },
        "a0bd0b3e279845cfbaf99752f14503ce": {
          "model_module": "@jupyter-widgets/controls",
          "model_name": "HTMLModel",
          "model_module_version": "1.5.0",
          "state": {
            "_dom_classes": [],
            "_model_module": "@jupyter-widgets/controls",
            "_model_module_version": "1.5.0",
            "_model_name": "HTMLModel",
            "_view_count": null,
            "_view_module": "@jupyter-widgets/controls",
            "_view_module_version": "1.5.0",
            "_view_name": "HTMLView",
            "description": "",
            "description_tooltip": null,
            "layout": "IPY_MODEL_c602c0a04fa44ee7b631416b2057cc81",
            "placeholder": "​",
            "style": "IPY_MODEL_636ead4284434f6f90368872e474ba16",
            "value": " 634M/634M [00:11&lt;00:00, 65.3MB/s]"
          }
        },
        "1e0d7cd1d39d4dc18ece620b5a02861a": {
          "model_module": "@jupyter-widgets/base",
          "model_name": "LayoutModel",
          "model_module_version": "1.2.0",
          "state": {
            "_model_module": "@jupyter-widgets/base",
            "_model_module_version": "1.2.0",
            "_model_name": "LayoutModel",
            "_view_count": null,
            "_view_module": "@jupyter-widgets/base",
            "_view_module_version": "1.2.0",
            "_view_name": "LayoutView",
            "align_content": null,
            "align_items": null,
            "align_self": null,
            "border": null,
            "bottom": null,
            "display": null,
            "flex": null,
            "flex_flow": null,
            "grid_area": null,
            "grid_auto_columns": null,
            "grid_auto_flow": null,
            "grid_auto_rows": null,
            "grid_column": null,
            "grid_gap": null,
            "grid_row": null,
            "grid_template_areas": null,
            "grid_template_columns": null,
            "grid_template_rows": null,
            "height": null,
            "justify_content": null,
            "justify_items": null,
            "left": null,
            "margin": null,
            "max_height": null,
            "max_width": null,
            "min_height": null,
            "min_width": null,
            "object_fit": null,
            "object_position": null,
            "order": null,
            "overflow": null,
            "overflow_x": null,
            "overflow_y": null,
            "padding": null,
            "right": null,
            "top": null,
            "visibility": null,
            "width": null
          }
        },
        "645acf71152a4d85b0dddc2a29538aaf": {
          "model_module": "@jupyter-widgets/base",
          "model_name": "LayoutModel",
          "model_module_version": "1.2.0",
          "state": {
            "_model_module": "@jupyter-widgets/base",
            "_model_module_version": "1.2.0",
            "_model_name": "LayoutModel",
            "_view_count": null,
            "_view_module": "@jupyter-widgets/base",
            "_view_module_version": "1.2.0",
            "_view_name": "LayoutView",
            "align_content": null,
            "align_items": null,
            "align_self": null,
            "border": null,
            "bottom": null,
            "display": null,
            "flex": null,
            "flex_flow": null,
            "grid_area": null,
            "grid_auto_columns": null,
            "grid_auto_flow": null,
            "grid_auto_rows": null,
            "grid_column": null,
            "grid_gap": null,
            "grid_row": null,
            "grid_template_areas": null,
            "grid_template_columns": null,
            "grid_template_rows": null,
            "height": null,
            "justify_content": null,
            "justify_items": null,
            "left": null,
            "margin": null,
            "max_height": null,
            "max_width": null,
            "min_height": null,
            "min_width": null,
            "object_fit": null,
            "object_position": null,
            "order": null,
            "overflow": null,
            "overflow_x": null,
            "overflow_y": null,
            "padding": null,
            "right": null,
            "top": null,
            "visibility": null,
            "width": null
          }
        },
        "970cfb48a6da46588fa36d82396e340f": {
          "model_module": "@jupyter-widgets/controls",
          "model_name": "DescriptionStyleModel",
          "model_module_version": "1.5.0",
          "state": {
            "_model_module": "@jupyter-widgets/controls",
            "_model_module_version": "1.5.0",
            "_model_name": "DescriptionStyleModel",
            "_view_count": null,
            "_view_module": "@jupyter-widgets/base",
            "_view_module_version": "1.2.0",
            "_view_name": "StyleView",
            "description_width": ""
          }
        },
        "c33cd500c11b4c489f9be0ec5f5ee787": {
          "model_module": "@jupyter-widgets/base",
          "model_name": "LayoutModel",
          "model_module_version": "1.2.0",
          "state": {
            "_model_module": "@jupyter-widgets/base",
            "_model_module_version": "1.2.0",
            "_model_name": "LayoutModel",
            "_view_count": null,
            "_view_module": "@jupyter-widgets/base",
            "_view_module_version": "1.2.0",
            "_view_name": "LayoutView",
            "align_content": null,
            "align_items": null,
            "align_self": null,
            "border": null,
            "bottom": null,
            "display": null,
            "flex": null,
            "flex_flow": null,
            "grid_area": null,
            "grid_auto_columns": null,
            "grid_auto_flow": null,
            "grid_auto_rows": null,
            "grid_column": null,
            "grid_gap": null,
            "grid_row": null,
            "grid_template_areas": null,
            "grid_template_columns": null,
            "grid_template_rows": null,
            "height": null,
            "justify_content": null,
            "justify_items": null,
            "left": null,
            "margin": null,
            "max_height": null,
            "max_width": null,
            "min_height": null,
            "min_width": null,
            "object_fit": null,
            "object_position": null,
            "order": null,
            "overflow": null,
            "overflow_x": null,
            "overflow_y": null,
            "padding": null,
            "right": null,
            "top": null,
            "visibility": null,
            "width": null
          }
        },
        "870e74e8f5704ae69f6f6f585dc2e265": {
          "model_module": "@jupyter-widgets/controls",
          "model_name": "ProgressStyleModel",
          "model_module_version": "1.5.0",
          "state": {
            "_model_module": "@jupyter-widgets/controls",
            "_model_module_version": "1.5.0",
            "_model_name": "ProgressStyleModel",
            "_view_count": null,
            "_view_module": "@jupyter-widgets/base",
            "_view_module_version": "1.2.0",
            "_view_name": "StyleView",
            "bar_color": null,
            "description_width": ""
          }
        },
        "c602c0a04fa44ee7b631416b2057cc81": {
          "model_module": "@jupyter-widgets/base",
          "model_name": "LayoutModel",
          "model_module_version": "1.2.0",
          "state": {
            "_model_module": "@jupyter-widgets/base",
            "_model_module_version": "1.2.0",
            "_model_name": "LayoutModel",
            "_view_count": null,
            "_view_module": "@jupyter-widgets/base",
            "_view_module_version": "1.2.0",
            "_view_name": "LayoutView",
            "align_content": null,
            "align_items": null,
            "align_self": null,
            "border": null,
            "bottom": null,
            "display": null,
            "flex": null,
            "flex_flow": null,
            "grid_area": null,
            "grid_auto_columns": null,
            "grid_auto_flow": null,
            "grid_auto_rows": null,
            "grid_column": null,
            "grid_gap": null,
            "grid_row": null,
            "grid_template_areas": null,
            "grid_template_columns": null,
            "grid_template_rows": null,
            "height": null,
            "justify_content": null,
            "justify_items": null,
            "left": null,
            "margin": null,
            "max_height": null,
            "max_width": null,
            "min_height": null,
            "min_width": null,
            "object_fit": null,
            "object_position": null,
            "order": null,
            "overflow": null,
            "overflow_x": null,
            "overflow_y": null,
            "padding": null,
            "right": null,
            "top": null,
            "visibility": null,
            "width": null
          }
        },
        "636ead4284434f6f90368872e474ba16": {
          "model_module": "@jupyter-widgets/controls",
          "model_name": "DescriptionStyleModel",
          "model_module_version": "1.5.0",
          "state": {
            "_model_module": "@jupyter-widgets/controls",
            "_model_module_version": "1.5.0",
            "_model_name": "DescriptionStyleModel",
            "_view_count": null,
            "_view_module": "@jupyter-widgets/base",
            "_view_module_version": "1.2.0",
            "_view_name": "StyleView",
            "description_width": ""
          }
        },
        "72f555c46b434f01bfbd2039004db241": {
          "model_module": "@jupyter-widgets/controls",
          "model_name": "HBoxModel",
          "model_module_version": "1.5.0",
          "state": {
            "_dom_classes": [],
            "_model_module": "@jupyter-widgets/controls",
            "_model_module_version": "1.5.0",
            "_model_name": "HBoxModel",
            "_view_count": null,
            "_view_module": "@jupyter-widgets/controls",
            "_view_module_version": "1.5.0",
            "_view_name": "HBoxView",
            "box_style": "",
            "children": [
              "IPY_MODEL_dbb9850cae8144638862cd24aa404118",
              "IPY_MODEL_f2942ab6e37746c989f9386b623c929f",
              "IPY_MODEL_16ae6f8c4cef4a58bdb433d5ec467595"
            ],
            "layout": "IPY_MODEL_30756a621e9b46f38e0aaad01fd31101"
          }
        },
        "dbb9850cae8144638862cd24aa404118": {
          "model_module": "@jupyter-widgets/controls",
          "model_name": "HTMLModel",
          "model_module_version": "1.5.0",
          "state": {
            "_dom_classes": [],
            "_model_module": "@jupyter-widgets/controls",
            "_model_module_version": "1.5.0",
            "_model_name": "HTMLModel",
            "_view_count": null,
            "_view_module": "@jupyter-widgets/controls",
            "_view_module_version": "1.5.0",
            "_view_name": "HTMLView",
            "description": "",
            "description_tooltip": null,
            "layout": "IPY_MODEL_ca3505552f8e41299ebe46def30ab571",
            "placeholder": "​",
            "style": "IPY_MODEL_858fb4fedcaa416699d4de901b7a8e47",
            "value": "Downloading https://raw.githubusercontent.com/stanfordnlp/stanza-resources/main/resources_1.5.0.json: "
          }
        },
        "f2942ab6e37746c989f9386b623c929f": {
          "model_module": "@jupyter-widgets/controls",
          "model_name": "FloatProgressModel",
          "model_module_version": "1.5.0",
          "state": {
            "_dom_classes": [],
            "_model_module": "@jupyter-widgets/controls",
            "_model_module_version": "1.5.0",
            "_model_name": "FloatProgressModel",
            "_view_count": null,
            "_view_module": "@jupyter-widgets/controls",
            "_view_module_version": "1.5.0",
            "_view_name": "ProgressView",
            "bar_style": "success",
            "description": "",
            "description_tooltip": null,
            "layout": "IPY_MODEL_14c46176954041fa94a4b76823afbf47",
            "max": 30022,
            "min": 0,
            "orientation": "horizontal",
            "style": "IPY_MODEL_c05c27ab7eb542c3a8416335c65e57c7",
            "value": 30022
          }
        },
        "16ae6f8c4cef4a58bdb433d5ec467595": {
          "model_module": "@jupyter-widgets/controls",
          "model_name": "HTMLModel",
          "model_module_version": "1.5.0",
          "state": {
            "_dom_classes": [],
            "_model_module": "@jupyter-widgets/controls",
            "_model_module_version": "1.5.0",
            "_model_name": "HTMLModel",
            "_view_count": null,
            "_view_module": "@jupyter-widgets/controls",
            "_view_module_version": "1.5.0",
            "_view_name": "HTMLView",
            "description": "",
            "description_tooltip": null,
            "layout": "IPY_MODEL_0f19416b96984f69bbde694f2937f5dc",
            "placeholder": "​",
            "style": "IPY_MODEL_a54f2649bbf547d899133bf621651bbf",
            "value": " 216k/? [00:00&lt;00:00, 7.44MB/s]"
          }
        },
        "30756a621e9b46f38e0aaad01fd31101": {
          "model_module": "@jupyter-widgets/base",
          "model_name": "LayoutModel",
          "model_module_version": "1.2.0",
          "state": {
            "_model_module": "@jupyter-widgets/base",
            "_model_module_version": "1.2.0",
            "_model_name": "LayoutModel",
            "_view_count": null,
            "_view_module": "@jupyter-widgets/base",
            "_view_module_version": "1.2.0",
            "_view_name": "LayoutView",
            "align_content": null,
            "align_items": null,
            "align_self": null,
            "border": null,
            "bottom": null,
            "display": null,
            "flex": null,
            "flex_flow": null,
            "grid_area": null,
            "grid_auto_columns": null,
            "grid_auto_flow": null,
            "grid_auto_rows": null,
            "grid_column": null,
            "grid_gap": null,
            "grid_row": null,
            "grid_template_areas": null,
            "grid_template_columns": null,
            "grid_template_rows": null,
            "height": null,
            "justify_content": null,
            "justify_items": null,
            "left": null,
            "margin": null,
            "max_height": null,
            "max_width": null,
            "min_height": null,
            "min_width": null,
            "object_fit": null,
            "object_position": null,
            "order": null,
            "overflow": null,
            "overflow_x": null,
            "overflow_y": null,
            "padding": null,
            "right": null,
            "top": null,
            "visibility": null,
            "width": null
          }
        },
        "ca3505552f8e41299ebe46def30ab571": {
          "model_module": "@jupyter-widgets/base",
          "model_name": "LayoutModel",
          "model_module_version": "1.2.0",
          "state": {
            "_model_module": "@jupyter-widgets/base",
            "_model_module_version": "1.2.0",
            "_model_name": "LayoutModel",
            "_view_count": null,
            "_view_module": "@jupyter-widgets/base",
            "_view_module_version": "1.2.0",
            "_view_name": "LayoutView",
            "align_content": null,
            "align_items": null,
            "align_self": null,
            "border": null,
            "bottom": null,
            "display": null,
            "flex": null,
            "flex_flow": null,
            "grid_area": null,
            "grid_auto_columns": null,
            "grid_auto_flow": null,
            "grid_auto_rows": null,
            "grid_column": null,
            "grid_gap": null,
            "grid_row": null,
            "grid_template_areas": null,
            "grid_template_columns": null,
            "grid_template_rows": null,
            "height": null,
            "justify_content": null,
            "justify_items": null,
            "left": null,
            "margin": null,
            "max_height": null,
            "max_width": null,
            "min_height": null,
            "min_width": null,
            "object_fit": null,
            "object_position": null,
            "order": null,
            "overflow": null,
            "overflow_x": null,
            "overflow_y": null,
            "padding": null,
            "right": null,
            "top": null,
            "visibility": null,
            "width": null
          }
        },
        "858fb4fedcaa416699d4de901b7a8e47": {
          "model_module": "@jupyter-widgets/controls",
          "model_name": "DescriptionStyleModel",
          "model_module_version": "1.5.0",
          "state": {
            "_model_module": "@jupyter-widgets/controls",
            "_model_module_version": "1.5.0",
            "_model_name": "DescriptionStyleModel",
            "_view_count": null,
            "_view_module": "@jupyter-widgets/base",
            "_view_module_version": "1.2.0",
            "_view_name": "StyleView",
            "description_width": ""
          }
        },
        "14c46176954041fa94a4b76823afbf47": {
          "model_module": "@jupyter-widgets/base",
          "model_name": "LayoutModel",
          "model_module_version": "1.2.0",
          "state": {
            "_model_module": "@jupyter-widgets/base",
            "_model_module_version": "1.2.0",
            "_model_name": "LayoutModel",
            "_view_count": null,
            "_view_module": "@jupyter-widgets/base",
            "_view_module_version": "1.2.0",
            "_view_name": "LayoutView",
            "align_content": null,
            "align_items": null,
            "align_self": null,
            "border": null,
            "bottom": null,
            "display": null,
            "flex": null,
            "flex_flow": null,
            "grid_area": null,
            "grid_auto_columns": null,
            "grid_auto_flow": null,
            "grid_auto_rows": null,
            "grid_column": null,
            "grid_gap": null,
            "grid_row": null,
            "grid_template_areas": null,
            "grid_template_columns": null,
            "grid_template_rows": null,
            "height": null,
            "justify_content": null,
            "justify_items": null,
            "left": null,
            "margin": null,
            "max_height": null,
            "max_width": null,
            "min_height": null,
            "min_width": null,
            "object_fit": null,
            "object_position": null,
            "order": null,
            "overflow": null,
            "overflow_x": null,
            "overflow_y": null,
            "padding": null,
            "right": null,
            "top": null,
            "visibility": null,
            "width": null
          }
        },
        "c05c27ab7eb542c3a8416335c65e57c7": {
          "model_module": "@jupyter-widgets/controls",
          "model_name": "ProgressStyleModel",
          "model_module_version": "1.5.0",
          "state": {
            "_model_module": "@jupyter-widgets/controls",
            "_model_module_version": "1.5.0",
            "_model_name": "ProgressStyleModel",
            "_view_count": null,
            "_view_module": "@jupyter-widgets/base",
            "_view_module_version": "1.2.0",
            "_view_name": "StyleView",
            "bar_color": null,
            "description_width": ""
          }
        },
        "0f19416b96984f69bbde694f2937f5dc": {
          "model_module": "@jupyter-widgets/base",
          "model_name": "LayoutModel",
          "model_module_version": "1.2.0",
          "state": {
            "_model_module": "@jupyter-widgets/base",
            "_model_module_version": "1.2.0",
            "_model_name": "LayoutModel",
            "_view_count": null,
            "_view_module": "@jupyter-widgets/base",
            "_view_module_version": "1.2.0",
            "_view_name": "LayoutView",
            "align_content": null,
            "align_items": null,
            "align_self": null,
            "border": null,
            "bottom": null,
            "display": null,
            "flex": null,
            "flex_flow": null,
            "grid_area": null,
            "grid_auto_columns": null,
            "grid_auto_flow": null,
            "grid_auto_rows": null,
            "grid_column": null,
            "grid_gap": null,
            "grid_row": null,
            "grid_template_areas": null,
            "grid_template_columns": null,
            "grid_template_rows": null,
            "height": null,
            "justify_content": null,
            "justify_items": null,
            "left": null,
            "margin": null,
            "max_height": null,
            "max_width": null,
            "min_height": null,
            "min_width": null,
            "object_fit": null,
            "object_position": null,
            "order": null,
            "overflow": null,
            "overflow_x": null,
            "overflow_y": null,
            "padding": null,
            "right": null,
            "top": null,
            "visibility": null,
            "width": null
          }
        },
        "a54f2649bbf547d899133bf621651bbf": {
          "model_module": "@jupyter-widgets/controls",
          "model_name": "DescriptionStyleModel",
          "model_module_version": "1.5.0",
          "state": {
            "_model_module": "@jupyter-widgets/controls",
            "_model_module_version": "1.5.0",
            "_model_name": "DescriptionStyleModel",
            "_view_count": null,
            "_view_module": "@jupyter-widgets/base",
            "_view_module_version": "1.2.0",
            "_view_name": "StyleView",
            "description_width": ""
          }
        }
      }
    }
  },
  "nbformat": 4,
  "nbformat_minor": 0
}