{
  "cells": [
    {
      "cell_type": "markdown",
      "metadata": {
        "id": "g3yeJGnCYxuF"
      },
      "source": [
        "<img src=\"https://github.com/hernancontigiani/ceia_memorias_especializacion/raw/master/Figures/logoFIUBA.jpg\" width=\"500\" align=\"center\">\n",
        "\n",
        "\n",
        "# Procesamiento de lenguaje natural\n",
        "## Predicción de próxima palabra"
      ]
    },
    {
      "cell_type": "markdown",
      "metadata": {
        "id": "Iv5PEwGzZA9-"
      },
      "source": [
        "### Objetivo\n",
        "El objetivo es utilizar documentos / corpus para crear embeddings de palabras basado en ese contexto utilizando la layer Embedding de Keras. Se utilizará esos embeddings junto con layers LSTM para predeccir la próxima posible palabra."
      ]
    },
    {
      "cell_type": "code",
      "execution_count": null,
      "metadata": {
        "id": "Y-QdFbHZYj7C"
      },
      "outputs": [],
      "source": [
        "import random\n",
        "import io\n",
        "import pickle\n",
        "\n",
        "import numpy as np\n",
        "import pandas as pd\n",
        "\n",
        "import os\n",
        "import platform\n",
        "\n",
        "import re\n",
        "import unicodedata\n",
        "import string\n",
        "\n",
        "from tensorflow import keras\n",
        "from tensorflow.keras import layers\n",
        "from keras.utils.np_utils import to_categorical\n",
        "from keras.models import Sequential\n",
        "from keras.layers import Dense, LSTM, Embedding, Dropout, Bidirectional, GRU"
      ]
    },
    {
      "cell_type": "markdown",
      "metadata": {
        "id": "xTvXlEKQZdqx"
      },
      "source": [
        "### Datos\n",
        "Utilizaremos como dataset canciones de bandas de habla inglés."
      ]
    },
    {
      "cell_type": "code",
      "source": [
        "urlsSubtitulosADescargar = [\n",
        "    'https://subs.argenteam.net/Star.Wars(1977)-aRGENTeaM-55.zip', # IV\n",
        "    'https://subs.argenteam.net/Star.Wars.Episode.V(1980)-aRGENTeaM-30898.zip', # V\n",
        "    'https://subs.argenteam.net/Star.Wars.Episode.VI(1983)-aRGENTeaM-30903.zip', # VI\n",
        "    'https://subs.argenteam.net/Star.Wars.Episode.I(1999)-aRGENTeaM-30889.zip', # I\n",
        "    'https://subs.argenteam.net/Star.Wars.Episode.II(2002)-aRGENTeaM-30893.zip', # II\n",
        "    'https://subs.argenteam.net/Star.Wars.Episode.III(2005)-aRGENTeaM-3597.zip', # III\n",
        "    'https://subs.argenteam.net/Star.Wars.Episode.VII-The.Force.Awakens.(2015)-aRGENTeaM-60426.zip', # VII\n",
        "    'https://subs.argenteam.net/Star.Wars.Episode.VIII-The.Last.Jedi.(2017)-aRGENTeaM-71696.zip', # VIII\n",
        "    'https://subs.argenteam.net/Star.Wars.Episode.IX-The.Rise.of.Skywalker.(2019)-aRGENTeaM-80480.zip', # IX\n",
        "]"
      ],
      "metadata": {
        "id": "QneyzsBd9Adk"
      },
      "execution_count": null,
      "outputs": []
    },
    {
      "cell_type": "code",
      "source": [
        "# Descargar la carpeta de dataset\n",
        "if os.access('./subs_dataset', os.F_OK) is False:\n",
        "  # descargo los subtitulos\n",
        "  for url in urlsSubtitulosADescargar:\n",
        "    print(url)\n",
        "    # obtengo nombre documento\n",
        "    nombreDocumento = url.split('/')[-1]\n",
        "    print(nombreDocumento)\n",
        "    # descargo como .zip\n",
        "    !wget {'\"'+ url +'\"'}\n",
        "    # descomprimo\n",
        "    !unzip {'\"'+ nombreDocumento +'\"'} -d './subs_dataset'\n",
        "else:\n",
        "    print(\"El dataset ya se encuentra descargado\")"
      ],
      "metadata": {
        "colab": {
          "base_uri": "https://localhost:8080/"
        },
        "id": "40o87pV09C5N",
        "outputId": "8294600c-ae38-4d72-a20b-2c6c5c4eb552"
      },
      "execution_count": null,
      "outputs": [
        {
          "output_type": "stream",
          "name": "stdout",
          "text": [
            "El dataset ya se encuentra descargado\n"
          ]
        }
      ]
    },
    {
      "cell_type": "code",
      "execution_count": null,
      "metadata": {
        "id": "6j-3nQ4lZjfb"
      },
      "outputs": [],
      "source": [
        "# Posibles bandas\n",
        "srtALeer = os.listdir(\"./subs_dataset/\")"
      ]
    },
    {
      "cell_type": "code",
      "execution_count": null,
      "metadata": {
        "id": "Gb39v3PaZmRH",
        "outputId": "cfd447a2-0a2e-4a65-ce66-3d9fea87500c",
        "colab": {
          "base_uri": "https://localhost:8080/",
          "height": 1000
        }
      },
      "outputs": [
        {
          "output_type": "stream",
          "name": "stdout",
          "text": [
            "(15455, 1)\n"
          ]
        },
        {
          "output_type": "stream",
          "name": "stderr",
          "text": [
            "<ipython-input-44-6306d92569c4>:2: ParserWarning: Falling back to the 'python' engine because the 'c' engine does not support regex separators (separators > 1 char and different from '\\s+' are interpreted as regex); you can avoid this warning by specifying engine='python'.\n",
            "  df = pd.read_csv(\"./subs_dataset/\" + srtALeer[0], sep='/n', header=None, encoding='latin-1')\n",
            "<ipython-input-44-6306d92569c4>:12: ParserWarning: Falling back to the 'python' engine because the 'c' engine does not support regex separators (separators > 1 char and different from '\\s+' are interpreted as regex); you can avoid this warning by specifying engine='python'.\n",
            "  dfTemp = pd.read_csv(\"./subs_dataset/\" + srlFile, sep='/n', header=None, encoding='latin-1')\n",
            "<ipython-input-44-6306d92569c4>:20: FutureWarning: The frame.append method is deprecated and will be removed from pandas in a future version. Use pandas.concat instead.\n",
            "  df = df.append(dfTemp, ignore_index=False)\n",
            "<ipython-input-44-6306d92569c4>:12: ParserWarning: Falling back to the 'python' engine because the 'c' engine does not support regex separators (separators > 1 char and different from '\\s+' are interpreted as regex); you can avoid this warning by specifying engine='python'.\n",
            "  dfTemp = pd.read_csv(\"./subs_dataset/\" + srlFile, sep='/n', header=None, encoding='latin-1')\n",
            "<ipython-input-44-6306d92569c4>:20: FutureWarning: The frame.append method is deprecated and will be removed from pandas in a future version. Use pandas.concat instead.\n",
            "  df = df.append(dfTemp, ignore_index=False)\n",
            "<ipython-input-44-6306d92569c4>:12: ParserWarning: Falling back to the 'python' engine because the 'c' engine does not support regex separators (separators > 1 char and different from '\\s+' are interpreted as regex); you can avoid this warning by specifying engine='python'.\n",
            "  dfTemp = pd.read_csv(\"./subs_dataset/\" + srlFile, sep='/n', header=None, encoding='latin-1')\n",
            "<ipython-input-44-6306d92569c4>:20: FutureWarning: The frame.append method is deprecated and will be removed from pandas in a future version. Use pandas.concat instead.\n",
            "  df = df.append(dfTemp, ignore_index=False)\n",
            "<ipython-input-44-6306d92569c4>:12: ParserWarning: Falling back to the 'python' engine because the 'c' engine does not support regex separators (separators > 1 char and different from '\\s+' are interpreted as regex); you can avoid this warning by specifying engine='python'.\n",
            "  dfTemp = pd.read_csv(\"./subs_dataset/\" + srlFile, sep='/n', header=None, encoding='latin-1')\n",
            "<ipython-input-44-6306d92569c4>:20: FutureWarning: The frame.append method is deprecated and will be removed from pandas in a future version. Use pandas.concat instead.\n",
            "  df = df.append(dfTemp, ignore_index=False)\n",
            "<ipython-input-44-6306d92569c4>:12: ParserWarning: Falling back to the 'python' engine because the 'c' engine does not support regex separators (separators > 1 char and different from '\\s+' are interpreted as regex); you can avoid this warning by specifying engine='python'.\n",
            "  dfTemp = pd.read_csv(\"./subs_dataset/\" + srlFile, sep='/n', header=None, encoding='latin-1')\n",
            "<ipython-input-44-6306d92569c4>:20: FutureWarning: The frame.append method is deprecated and will be removed from pandas in a future version. Use pandas.concat instead.\n",
            "  df = df.append(dfTemp, ignore_index=False)\n",
            "<ipython-input-44-6306d92569c4>:12: ParserWarning: Falling back to the 'python' engine because the 'c' engine does not support regex separators (separators > 1 char and different from '\\s+' are interpreted as regex); you can avoid this warning by specifying engine='python'.\n",
            "  dfTemp = pd.read_csv(\"./subs_dataset/\" + srlFile, sep='/n', header=None, encoding='latin-1')\n",
            "<ipython-input-44-6306d92569c4>:20: FutureWarning: The frame.append method is deprecated and will be removed from pandas in a future version. Use pandas.concat instead.\n",
            "  df = df.append(dfTemp, ignore_index=False)\n",
            "<ipython-input-44-6306d92569c4>:12: ParserWarning: Falling back to the 'python' engine because the 'c' engine does not support regex separators (separators > 1 char and different from '\\s+' are interpreted as regex); you can avoid this warning by specifying engine='python'.\n",
            "  dfTemp = pd.read_csv(\"./subs_dataset/\" + srlFile, sep='/n', header=None, encoding='latin-1')\n",
            "<ipython-input-44-6306d92569c4>:20: FutureWarning: The frame.append method is deprecated and will be removed from pandas in a future version. Use pandas.concat instead.\n",
            "  df = df.append(dfTemp, ignore_index=False)\n",
            "<ipython-input-44-6306d92569c4>:12: ParserWarning: Falling back to the 'python' engine because the 'c' engine does not support regex separators (separators > 1 char and different from '\\s+' are interpreted as regex); you can avoid this warning by specifying engine='python'.\n",
            "  dfTemp = pd.read_csv(\"./subs_dataset/\" + srlFile, sep='/n', header=None, encoding='latin-1')\n",
            "<ipython-input-44-6306d92569c4>:20: FutureWarning: The frame.append method is deprecated and will be removed from pandas in a future version. Use pandas.concat instead.\n",
            "  df = df.append(dfTemp, ignore_index=False)\n",
            "<ipython-input-44-6306d92569c4>:12: ParserWarning: Falling back to the 'python' engine because the 'c' engine does not support regex separators (separators > 1 char and different from '\\s+' are interpreted as regex); you can avoid this warning by specifying engine='python'.\n",
            "  dfTemp = pd.read_csv(\"./subs_dataset/\" + srlFile, sep='/n', header=None, encoding='latin-1')\n",
            "<ipython-input-44-6306d92569c4>:20: FutureWarning: The frame.append method is deprecated and will be removed from pandas in a future version. Use pandas.concat instead.\n",
            "  df = df.append(dfTemp, ignore_index=False)\n",
            "<ipython-input-44-6306d92569c4>:12: ParserWarning: Falling back to the 'python' engine because the 'c' engine does not support regex separators (separators > 1 char and different from '\\s+' are interpreted as regex); you can avoid this warning by specifying engine='python'.\n",
            "  dfTemp = pd.read_csv(\"./subs_dataset/\" + srlFile, sep='/n', header=None, encoding='latin-1')\n",
            "<ipython-input-44-6306d92569c4>:20: FutureWarning: The frame.append method is deprecated and will be removed from pandas in a future version. Use pandas.concat instead.\n",
            "  df = df.append(dfTemp, ignore_index=False)\n",
            "<ipython-input-44-6306d92569c4>:12: ParserWarning: Falling back to the 'python' engine because the 'c' engine does not support regex separators (separators > 1 char and different from '\\s+' are interpreted as regex); you can avoid this warning by specifying engine='python'.\n",
            "  dfTemp = pd.read_csv(\"./subs_dataset/\" + srlFile, sep='/n', header=None, encoding='latin-1')\n",
            "<ipython-input-44-6306d92569c4>:20: FutureWarning: The frame.append method is deprecated and will be removed from pandas in a future version. Use pandas.concat instead.\n",
            "  df = df.append(dfTemp, ignore_index=False)\n",
            "<ipython-input-44-6306d92569c4>:12: ParserWarning: Falling back to the 'python' engine because the 'c' engine does not support regex separators (separators > 1 char and different from '\\s+' are interpreted as regex); you can avoid this warning by specifying engine='python'.\n",
            "  dfTemp = pd.read_csv(\"./subs_dataset/\" + srlFile, sep='/n', header=None, encoding='latin-1')\n",
            "<ipython-input-44-6306d92569c4>:20: FutureWarning: The frame.append method is deprecated and will be removed from pandas in a future version. Use pandas.concat instead.\n",
            "  df = df.append(dfTemp, ignore_index=False)\n",
            "<ipython-input-44-6306d92569c4>:12: ParserWarning: Falling back to the 'python' engine because the 'c' engine does not support regex separators (separators > 1 char and different from '\\s+' are interpreted as regex); you can avoid this warning by specifying engine='python'.\n",
            "  dfTemp = pd.read_csv(\"./subs_dataset/\" + srlFile, sep='/n', header=None, encoding='latin-1')\n",
            "<ipython-input-44-6306d92569c4>:20: FutureWarning: The frame.append method is deprecated and will be removed from pandas in a future version. Use pandas.concat instead.\n",
            "  df = df.append(dfTemp, ignore_index=False)\n",
            "<ipython-input-44-6306d92569c4>:12: ParserWarning: Falling back to the 'python' engine because the 'c' engine does not support regex separators (separators > 1 char and different from '\\s+' are interpreted as regex); you can avoid this warning by specifying engine='python'.\n",
            "  dfTemp = pd.read_csv(\"./subs_dataset/\" + srlFile, sep='/n', header=None, encoding='latin-1')\n",
            "<ipython-input-44-6306d92569c4>:20: FutureWarning: The frame.append method is deprecated and will be removed from pandas in a future version. Use pandas.concat instead.\n",
            "  df = df.append(dfTemp, ignore_index=False)\n"
          ]
        },
        {
          "output_type": "execute_result",
          "data": {
            "text/plain": [
              "                                  0\n",
              "0  Hace mucho tiempo en una galaxia\n",
              "1                muy, muy lejana...\n",
              "2                      Episodio VII\n",
              "3         EL DESPERTAR DE LA FUERZA\n",
              "4   Luke Skywalker ha desaparecido."
            ],
            "text/html": [
              "\n",
              "  <div id=\"df-bd74fb96-cf5f-4532-b58e-100f4b856502\">\n",
              "    <div class=\"colab-df-container\">\n",
              "      <div>\n",
              "<style scoped>\n",
              "    .dataframe tbody tr th:only-of-type {\n",
              "        vertical-align: middle;\n",
              "    }\n",
              "\n",
              "    .dataframe tbody tr th {\n",
              "        vertical-align: top;\n",
              "    }\n",
              "\n",
              "    .dataframe thead th {\n",
              "        text-align: right;\n",
              "    }\n",
              "</style>\n",
              "<table border=\"1\" class=\"dataframe\">\n",
              "  <thead>\n",
              "    <tr style=\"text-align: right;\">\n",
              "      <th></th>\n",
              "      <th>0</th>\n",
              "    </tr>\n",
              "  </thead>\n",
              "  <tbody>\n",
              "    <tr>\n",
              "      <th>0</th>\n",
              "      <td>Hace mucho tiempo en una galaxia</td>\n",
              "    </tr>\n",
              "    <tr>\n",
              "      <th>1</th>\n",
              "      <td>muy, muy lejana...</td>\n",
              "    </tr>\n",
              "    <tr>\n",
              "      <th>2</th>\n",
              "      <td>Episodio VII</td>\n",
              "    </tr>\n",
              "    <tr>\n",
              "      <th>3</th>\n",
              "      <td>EL DESPERTAR DE LA FUERZA</td>\n",
              "    </tr>\n",
              "    <tr>\n",
              "      <th>4</th>\n",
              "      <td>Luke Skywalker ha desaparecido.</td>\n",
              "    </tr>\n",
              "  </tbody>\n",
              "</table>\n",
              "</div>\n",
              "      <button class=\"colab-df-convert\" onclick=\"convertToInteractive('df-bd74fb96-cf5f-4532-b58e-100f4b856502')\"\n",
              "              title=\"Convert this dataframe to an interactive table.\"\n",
              "              style=\"display:none;\">\n",
              "        \n",
              "  <svg xmlns=\"http://www.w3.org/2000/svg\" height=\"24px\"viewBox=\"0 0 24 24\"\n",
              "       width=\"24px\">\n",
              "    <path d=\"M0 0h24v24H0V0z\" fill=\"none\"/>\n",
              "    <path d=\"M18.56 5.44l.94 2.06.94-2.06 2.06-.94-2.06-.94-.94-2.06-.94 2.06-2.06.94zm-11 1L8.5 8.5l.94-2.06 2.06-.94-2.06-.94L8.5 2.5l-.94 2.06-2.06.94zm10 10l.94 2.06.94-2.06 2.06-.94-2.06-.94-.94-2.06-.94 2.06-2.06.94z\"/><path d=\"M17.41 7.96l-1.37-1.37c-.4-.4-.92-.59-1.43-.59-.52 0-1.04.2-1.43.59L10.3 9.45l-7.72 7.72c-.78.78-.78 2.05 0 2.83L4 21.41c.39.39.9.59 1.41.59.51 0 1.02-.2 1.41-.59l7.78-7.78 2.81-2.81c.8-.78.8-2.07 0-2.86zM5.41 20L4 18.59l7.72-7.72 1.47 1.35L5.41 20z\"/>\n",
              "  </svg>\n",
              "      </button>\n",
              "      \n",
              "  <style>\n",
              "    .colab-df-container {\n",
              "      display:flex;\n",
              "      flex-wrap:wrap;\n",
              "      gap: 12px;\n",
              "    }\n",
              "\n",
              "    .colab-df-convert {\n",
              "      background-color: #E8F0FE;\n",
              "      border: none;\n",
              "      border-radius: 50%;\n",
              "      cursor: pointer;\n",
              "      display: none;\n",
              "      fill: #1967D2;\n",
              "      height: 32px;\n",
              "      padding: 0 0 0 0;\n",
              "      width: 32px;\n",
              "    }\n",
              "\n",
              "    .colab-df-convert:hover {\n",
              "      background-color: #E2EBFA;\n",
              "      box-shadow: 0px 1px 2px rgba(60, 64, 67, 0.3), 0px 1px 3px 1px rgba(60, 64, 67, 0.15);\n",
              "      fill: #174EA6;\n",
              "    }\n",
              "\n",
              "    [theme=dark] .colab-df-convert {\n",
              "      background-color: #3B4455;\n",
              "      fill: #D2E3FC;\n",
              "    }\n",
              "\n",
              "    [theme=dark] .colab-df-convert:hover {\n",
              "      background-color: #434B5C;\n",
              "      box-shadow: 0px 1px 3px 1px rgba(0, 0, 0, 0.15);\n",
              "      filter: drop-shadow(0px 1px 2px rgba(0, 0, 0, 0.3));\n",
              "      fill: #FFFFFF;\n",
              "    }\n",
              "  </style>\n",
              "\n",
              "      <script>\n",
              "        const buttonEl =\n",
              "          document.querySelector('#df-bd74fb96-cf5f-4532-b58e-100f4b856502 button.colab-df-convert');\n",
              "        buttonEl.style.display =\n",
              "          google.colab.kernel.accessAllowed ? 'block' : 'none';\n",
              "\n",
              "        async function convertToInteractive(key) {\n",
              "          const element = document.querySelector('#df-bd74fb96-cf5f-4532-b58e-100f4b856502');\n",
              "          const dataTable =\n",
              "            await google.colab.kernel.invokeFunction('convertToInteractive',\n",
              "                                                     [key], {});\n",
              "          if (!dataTable) return;\n",
              "\n",
              "          const docLinkHtml = 'Like what you see? Visit the ' +\n",
              "            '<a target=\"_blank\" href=https://colab.research.google.com/notebooks/data_table.ipynb>data table notebook</a>'\n",
              "            + ' to learn more about interactive tables.';\n",
              "          element.innerHTML = '';\n",
              "          dataTable['output_type'] = 'display_data';\n",
              "          await google.colab.output.renderOutput(dataTable, element);\n",
              "          const docLink = document.createElement('div');\n",
              "          docLink.innerHTML = docLinkHtml;\n",
              "          element.appendChild(docLink);\n",
              "        }\n",
              "      </script>\n",
              "    </div>\n",
              "  </div>\n",
              "  "
            ]
          },
          "metadata": {},
          "execution_count": 44
        }
      ],
      "source": [
        "# lee el primer subtitulo\n",
        "df = pd.read_csv(\"./subs_dataset/\" + srtALeer[0], sep='/n', header=None, encoding='latin-1')\n",
        "# elimina lineas con '-->' y la superior\n",
        "df.drop(df[df[0].str.contains('-->')].index - 1 , inplace = True) #quita numeros\n",
        "df.drop(df[df[0].str.contains('-->')].index , inplace = True) #quita timepos\n",
        "df.drop(df[df[0].str.contains('www.argenteam.net')].index , inplace = True) #quita marcas\n",
        "df.drop(df[df[0].str.contains('Subtítulos por aRGENTeaM')].index , inplace = True) #quita marcas\n",
        "\n",
        "# lee el resto y los agrega\n",
        "for srlFile in srtALeer[1:]:\n",
        "  # lee srt\n",
        "  dfTemp = pd.read_csv(\"./subs_dataset/\" + srlFile, sep='/n', header=None, encoding='latin-1')\n",
        "\n",
        "  # elimina lineas con '-->' y la superior\n",
        "  dfTemp.drop(dfTemp[dfTemp[0].str.contains('-->')].index - 1 , inplace = True) #quita numeros\n",
        "  dfTemp.drop(dfTemp[dfTemp[0].str.contains('-->')].index , inplace = True) #quita timepos\n",
        "  dfTemp.drop(dfTemp[dfTemp[0].str.contains('www.argenteam.net')].index , inplace = True) #quita marcas\n",
        "  dfTemp.drop(dfTemp[dfTemp[0].str.contains('Subtítulos por aRGENTeaM')].index , inplace = True) #quita marcas\n",
        "  # los agrega al df\n",
        "  df = df.append(dfTemp, ignore_index=False)\n",
        "\n",
        "df = df.reset_index(drop=True)\n",
        "print(df.shape)\n",
        "df.head()"
      ]
    },
    {
      "cell_type": "code",
      "execution_count": null,
      "metadata": {
        "id": "riT898QlZnmF",
        "outputId": "8ea356ed-b961-4eef-e61c-2880773fb8ce",
        "colab": {
          "base_uri": "https://localhost:8080/"
        }
      },
      "outputs": [
        {
          "output_type": "stream",
          "name": "stdout",
          "text": [
            "Cantidad de documentos: (15455, 1)\n"
          ]
        }
      ],
      "source": [
        "print(\"Cantidad de documentos:\", df.shape)"
      ]
    },
    {
      "cell_type": "code",
      "source": [
        "# El preprocesamento en castellano requiere más trabajo\n",
        "\n",
        "# Referencia de regex:\n",
        "# https://docs.python.org/3/library/re.html\n",
        "\n",
        "def preprocess_clean_text(text):\n",
        "    # sacar tildes de las palabras:\n",
        "    text = unicodedata.normalize('NFKD', text).encode('ascii', 'ignore').decode('utf-8', 'ignore')\n",
        "    # quita los <i> e </i>\n",
        "    patron = r'<\\/?i>'  # Expresión regular para encontrar <i> o </i>\n",
        "    text = re.sub(patron, '', text)  # Reemplazar las ocurrencias de <i> y </i> con una cadena vacía\n",
        "    # quita las stopWords\n",
        "\n",
        "    # quitar caracteres especiales\n",
        "    pattern = r'[^a-zA-z0-9.,!?/:;\\\"\\'\\s]' # [^ : ningún caracter de todos estos\n",
        "    # (termina eliminando cualquier caracter distinto de los del regex)\n",
        "    text = re.sub(pattern, '', text)\n",
        "    pattern = r'[^a-zA-z.,!?/:;\\\"\\'\\s]' # igual al anterior pero sin cifras numéricas\n",
        "    # quitar números\n",
        "    text = re.sub(pattern, '', text)\n",
        "    # quitar caracteres de puntuación\n",
        "    text = ''.join([c for c in text if c not in string.punctuation])\n",
        "    return text"
      ],
      "metadata": {
        "id": "bhvu05-DEDuj"
      },
      "execution_count": null,
      "outputs": []
    },
    {
      "cell_type": "code",
      "source": [
        "# limpia cada frace del dataframe\n",
        "df[0] = df[0].apply( lambda x: (preprocess_clean_text( x )) )\n",
        "df.head(10)"
      ],
      "metadata": {
        "colab": {
          "base_uri": "https://localhost:8080/",
          "height": 363
        },
        "id": "1nE1TOBGELUn",
        "outputId": "fbf0c7d4-617e-4f92-bec0-258b7b3f9a70"
      },
      "execution_count": null,
      "outputs": [
        {
          "output_type": "execute_result",
          "data": {
            "text/plain": [
              "                                  0\n",
              "0  Hace mucho tiempo en una galaxia\n",
              "1                    muy muy lejana\n",
              "2                      Episodio VII\n",
              "3         EL DESPERTAR DE LA FUERZA\n",
              "4    Luke Skywalker ha desaparecido\n",
              "5       En su ausencia la siniestra\n",
              "6          PRIMERA ORDEN ha surgido\n",
              "7        de las cenizas del Imperio\n",
              "8             y no descansara hasta\n",
              "9      que Skywalker el ultimo Jedi"
            ],
            "text/html": [
              "\n",
              "  <div id=\"df-ec6ef650-f1ac-4108-8427-29c870fc42d6\">\n",
              "    <div class=\"colab-df-container\">\n",
              "      <div>\n",
              "<style scoped>\n",
              "    .dataframe tbody tr th:only-of-type {\n",
              "        vertical-align: middle;\n",
              "    }\n",
              "\n",
              "    .dataframe tbody tr th {\n",
              "        vertical-align: top;\n",
              "    }\n",
              "\n",
              "    .dataframe thead th {\n",
              "        text-align: right;\n",
              "    }\n",
              "</style>\n",
              "<table border=\"1\" class=\"dataframe\">\n",
              "  <thead>\n",
              "    <tr style=\"text-align: right;\">\n",
              "      <th></th>\n",
              "      <th>0</th>\n",
              "    </tr>\n",
              "  </thead>\n",
              "  <tbody>\n",
              "    <tr>\n",
              "      <th>0</th>\n",
              "      <td>Hace mucho tiempo en una galaxia</td>\n",
              "    </tr>\n",
              "    <tr>\n",
              "      <th>1</th>\n",
              "      <td>muy muy lejana</td>\n",
              "    </tr>\n",
              "    <tr>\n",
              "      <th>2</th>\n",
              "      <td>Episodio VII</td>\n",
              "    </tr>\n",
              "    <tr>\n",
              "      <th>3</th>\n",
              "      <td>EL DESPERTAR DE LA FUERZA</td>\n",
              "    </tr>\n",
              "    <tr>\n",
              "      <th>4</th>\n",
              "      <td>Luke Skywalker ha desaparecido</td>\n",
              "    </tr>\n",
              "    <tr>\n",
              "      <th>5</th>\n",
              "      <td>En su ausencia la siniestra</td>\n",
              "    </tr>\n",
              "    <tr>\n",
              "      <th>6</th>\n",
              "      <td>PRIMERA ORDEN ha surgido</td>\n",
              "    </tr>\n",
              "    <tr>\n",
              "      <th>7</th>\n",
              "      <td>de las cenizas del Imperio</td>\n",
              "    </tr>\n",
              "    <tr>\n",
              "      <th>8</th>\n",
              "      <td>y no descansara hasta</td>\n",
              "    </tr>\n",
              "    <tr>\n",
              "      <th>9</th>\n",
              "      <td>que Skywalker el ultimo Jedi</td>\n",
              "    </tr>\n",
              "  </tbody>\n",
              "</table>\n",
              "</div>\n",
              "      <button class=\"colab-df-convert\" onclick=\"convertToInteractive('df-ec6ef650-f1ac-4108-8427-29c870fc42d6')\"\n",
              "              title=\"Convert this dataframe to an interactive table.\"\n",
              "              style=\"display:none;\">\n",
              "        \n",
              "  <svg xmlns=\"http://www.w3.org/2000/svg\" height=\"24px\"viewBox=\"0 0 24 24\"\n",
              "       width=\"24px\">\n",
              "    <path d=\"M0 0h24v24H0V0z\" fill=\"none\"/>\n",
              "    <path d=\"M18.56 5.44l.94 2.06.94-2.06 2.06-.94-2.06-.94-.94-2.06-.94 2.06-2.06.94zm-11 1L8.5 8.5l.94-2.06 2.06-.94-2.06-.94L8.5 2.5l-.94 2.06-2.06.94zm10 10l.94 2.06.94-2.06 2.06-.94-2.06-.94-.94-2.06-.94 2.06-2.06.94z\"/><path d=\"M17.41 7.96l-1.37-1.37c-.4-.4-.92-.59-1.43-.59-.52 0-1.04.2-1.43.59L10.3 9.45l-7.72 7.72c-.78.78-.78 2.05 0 2.83L4 21.41c.39.39.9.59 1.41.59.51 0 1.02-.2 1.41-.59l7.78-7.78 2.81-2.81c.8-.78.8-2.07 0-2.86zM5.41 20L4 18.59l7.72-7.72 1.47 1.35L5.41 20z\"/>\n",
              "  </svg>\n",
              "      </button>\n",
              "      \n",
              "  <style>\n",
              "    .colab-df-container {\n",
              "      display:flex;\n",
              "      flex-wrap:wrap;\n",
              "      gap: 12px;\n",
              "    }\n",
              "\n",
              "    .colab-df-convert {\n",
              "      background-color: #E8F0FE;\n",
              "      border: none;\n",
              "      border-radius: 50%;\n",
              "      cursor: pointer;\n",
              "      display: none;\n",
              "      fill: #1967D2;\n",
              "      height: 32px;\n",
              "      padding: 0 0 0 0;\n",
              "      width: 32px;\n",
              "    }\n",
              "\n",
              "    .colab-df-convert:hover {\n",
              "      background-color: #E2EBFA;\n",
              "      box-shadow: 0px 1px 2px rgba(60, 64, 67, 0.3), 0px 1px 3px 1px rgba(60, 64, 67, 0.15);\n",
              "      fill: #174EA6;\n",
              "    }\n",
              "\n",
              "    [theme=dark] .colab-df-convert {\n",
              "      background-color: #3B4455;\n",
              "      fill: #D2E3FC;\n",
              "    }\n",
              "\n",
              "    [theme=dark] .colab-df-convert:hover {\n",
              "      background-color: #434B5C;\n",
              "      box-shadow: 0px 1px 3px 1px rgba(0, 0, 0, 0.15);\n",
              "      filter: drop-shadow(0px 1px 2px rgba(0, 0, 0, 0.3));\n",
              "      fill: #FFFFFF;\n",
              "    }\n",
              "  </style>\n",
              "\n",
              "      <script>\n",
              "        const buttonEl =\n",
              "          document.querySelector('#df-ec6ef650-f1ac-4108-8427-29c870fc42d6 button.colab-df-convert');\n",
              "        buttonEl.style.display =\n",
              "          google.colab.kernel.accessAllowed ? 'block' : 'none';\n",
              "\n",
              "        async function convertToInteractive(key) {\n",
              "          const element = document.querySelector('#df-ec6ef650-f1ac-4108-8427-29c870fc42d6');\n",
              "          const dataTable =\n",
              "            await google.colab.kernel.invokeFunction('convertToInteractive',\n",
              "                                                     [key], {});\n",
              "          if (!dataTable) return;\n",
              "\n",
              "          const docLinkHtml = 'Like what you see? Visit the ' +\n",
              "            '<a target=\"_blank\" href=https://colab.research.google.com/notebooks/data_table.ipynb>data table notebook</a>'\n",
              "            + ' to learn more about interactive tables.';\n",
              "          element.innerHTML = '';\n",
              "          dataTable['output_type'] = 'display_data';\n",
              "          await google.colab.output.renderOutput(dataTable, element);\n",
              "          const docLink = document.createElement('div');\n",
              "          docLink.innerHTML = docLinkHtml;\n",
              "          element.appendChild(docLink);\n",
              "        }\n",
              "      </script>\n",
              "    </div>\n",
              "  </div>\n",
              "  "
            ]
          },
          "metadata": {},
          "execution_count": 47
        }
      ]
    },
    {
      "cell_type": "markdown",
      "metadata": {
        "id": "RDoouHp7Zp6D"
      },
      "source": [
        "### 1 - Ejemplo de Preprocesamiento\n",
        "- Hay que transformar las oraciones en tokens.\n",
        "- Dichas oraciones hay que ajustarlas al tamaño fijo de nuestra sentencia de entrada al modelo.\n",
        "- Hay que separar las palabras objetivos (target) que el modelo debe predecir en cada sentencia armada."
      ]
    },
    {
      "cell_type": "code",
      "execution_count": null,
      "metadata": {
        "id": "m5FeTaGvbDbw"
      },
      "outputs": [],
      "source": [
        "from keras.preprocessing.text import Tokenizer # equivalente a ltokenizer de nltk\n",
        "from keras.preprocessing.text import text_to_word_sequence # equivalente a word_tokenize de nltk\n",
        "from keras.utils import pad_sequences # se utilizará para padding\n",
        "\n",
        "# largo de la secuencia, incluye seq input + word output\n",
        "train_len = 4"
      ]
    },
    {
      "cell_type": "code",
      "execution_count": null,
      "metadata": {
        "id": "Zf3O7eK6ZpP8",
        "outputId": "6fe5ca7c-96d4-4a7c-cdd7-c10d5f69e647",
        "colab": {
          "base_uri": "https://localhost:8080/",
          "height": 35
        }
      },
      "outputs": [
        {
          "output_type": "execute_result",
          "data": {
            "text/plain": [
              "'Hace mucho tiempo en una galaxia'"
            ],
            "application/vnd.google.colaboratory.intrinsic+json": {
              "type": "string"
            }
          },
          "metadata": {},
          "execution_count": 49
        }
      ],
      "source": [
        "# Ejemplo de como transformar una oración a tokens usando keras\n",
        "text = df.loc[0,0]\n",
        "text"
      ]
    },
    {
      "cell_type": "code",
      "execution_count": null,
      "metadata": {
        "id": "AOv67Sj7aeFH",
        "outputId": "30570a84-88a7-4519-f19f-ed285c1effd5",
        "colab": {
          "base_uri": "https://localhost:8080/"
        }
      },
      "outputs": [
        {
          "output_type": "execute_result",
          "data": {
            "text/plain": [
              "['hace', 'mucho', 'tiempo', 'en', 'una', 'galaxia']"
            ]
          },
          "metadata": {},
          "execution_count": 50
        }
      ],
      "source": [
        "tokens = text_to_word_sequence(text) # entran oraciones -> salen vectores de N posiciones (tokens)\n",
        "tokens"
      ]
    },
    {
      "cell_type": "markdown",
      "metadata": {
        "id": "ZrlyqkoiaymK"
      },
      "source": [
        "1.1 - Transformar las oraciones en secuencias (tokens) de palabras"
      ]
    },
    {
      "cell_type": "code",
      "execution_count": null,
      "metadata": {
        "id": "XH_L14Wjaowe"
      },
      "outputs": [],
      "source": [
        "# Recorrer todas las filas y transformar las oraciones\n",
        "# en secuencias de palabras\n",
        "sentence_tokens = []\n",
        "for _, row in df[:None].iterrows():\n",
        "    sentence_tokens.append(text_to_word_sequence(row[0]))"
      ]
    },
    {
      "cell_type": "code",
      "execution_count": null,
      "metadata": {
        "id": "KASzU4CdaxbZ",
        "outputId": "1b92f10f-fe3f-419a-e64a-69cb97d23f71",
        "colab": {
          "base_uri": "https://localhost:8080/"
        }
      },
      "outputs": [
        {
          "output_type": "execute_result",
          "data": {
            "text/plain": [
              "[['hace', 'mucho', 'tiempo', 'en', 'una', 'galaxia'], ['muy', 'muy', 'lejana']]"
            ]
          },
          "metadata": {},
          "execution_count": 52
        }
      ],
      "source": [
        "# Demos un vistazo\n",
        "sentence_tokens[:2]"
      ]
    },
    {
      "cell_type": "code",
      "execution_count": null,
      "metadata": {
        "id": "A659lswTbIIB"
      },
      "outputs": [],
      "source": [
        "# Código para hacer el desfasaje de las palabras\n",
        "# según el train_len\n",
        "text_sequences = []\n",
        "\n",
        "for i in range(train_len, len(tokens)):\n",
        "  seq = tokens[i-train_len:i]\n",
        "  text_sequences.append(seq)"
      ]
    },
    {
      "cell_type": "code",
      "execution_count": null,
      "metadata": {
        "id": "01JEoPPnbgRF",
        "outputId": "ab6999ea-70a0-496e-e07a-2aae56b9d3ff",
        "colab": {
          "base_uri": "https://localhost:8080/"
        }
      },
      "outputs": [
        {
          "output_type": "execute_result",
          "data": {
            "text/plain": [
              "[['hace', 'mucho', 'tiempo', 'en'], ['mucho', 'tiempo', 'en', 'una']]"
            ]
          },
          "metadata": {},
          "execution_count": 54
        }
      ],
      "source": [
        "# Demos un vistazo a nuestros vectores para entrenar el modelo\n",
        "text_sequences"
      ]
    },
    {
      "cell_type": "markdown",
      "metadata": {
        "id": "4B0gHnKVa4W_"
      },
      "source": [
        "1.2 - Crear los vectores de palabras (word2vec)\n",
        "\n",
        "Ahora necesitamos pasarlos a números para que lo entienda la red y separar input de output.\n",
        "- El Input seran integers (word2vec)\n",
        "- Mientras que el output será one hot encodeado (labels) del tamaño del vocabulario"
      ]
    },
    {
      "cell_type": "code",
      "execution_count": null,
      "metadata": {
        "id": "fkPNvXeQcS0U"
      },
      "outputs": [],
      "source": [
        "tok = Tokenizer()\n",
        "\n",
        "# El tokenizer \"aprende\" las palabras que se usaran\n",
        "# Se construye (fit) una vez por proyecto, se aplica N veces (tal cual un encoder)\n",
        "# El token 0 es reservado y no es asignado, esta sutileza nos dará un pequeño\n",
        "# problema al momento de hacer la codificación OHE, pero es sencillo de resolver\n",
        "tok.fit_on_texts(text_sequences)\n",
        "\n",
        "# Convertimos las palabras a números\n",
        "# entran palabras -> salen números\n",
        "sequences = tok.texts_to_sequences(text_sequences)"
      ]
    },
    {
      "cell_type": "code",
      "execution_count": null,
      "metadata": {
        "id": "4SIc44IocyQb",
        "outputId": "922a17b2-f574-4924-aea2-7da8499a6bf8",
        "colab": {
          "base_uri": "https://localhost:8080/"
        }
      },
      "outputs": [
        {
          "output_type": "execute_result",
          "data": {
            "text/plain": [
              "[[4, 1, 2, 3], [1, 2, 3, 5]]"
            ]
          },
          "metadata": {},
          "execution_count": 56
        }
      ],
      "source": [
        "# Ahora sequences tiene los números \"ID\", largo 4\n",
        "sequences"
      ]
    },
    {
      "cell_type": "code",
      "execution_count": null,
      "metadata": {
        "id": "3ro81yCQc1oX",
        "outputId": "1a0f9d41-4cc0-47ad-d304-5392c8fafe58",
        "colab": {
          "base_uri": "https://localhost:8080/"
        }
      },
      "outputs": [
        {
          "output_type": "stream",
          "name": "stdout",
          "text": [
            "2\n"
          ]
        }
      ],
      "source": [
        "# Cantidad de casos (doc) de entrada\n",
        "print(tok.document_count)"
      ]
    },
    {
      "cell_type": "code",
      "execution_count": null,
      "metadata": {
        "id": "nzAWNfroc4u1",
        "outputId": "045cccfe-c0a2-41f5-9541-57a045f99b32",
        "colab": {
          "base_uri": "https://localhost:8080/"
        }
      },
      "outputs": [
        {
          "output_type": "stream",
          "name": "stdout",
          "text": [
            "5\n"
          ]
        }
      ],
      "source": [
        "# Cantidad de veces que aparece cada palabra\n",
        "print(len(tok.word_counts))"
      ]
    },
    {
      "cell_type": "code",
      "execution_count": null,
      "metadata": {
        "id": "spTBxmFQc6h8",
        "outputId": "f2a34289-8145-4f76-f5b9-f159f712a9e9",
        "colab": {
          "base_uri": "https://localhost:8080/"
        }
      },
      "outputs": [
        {
          "output_type": "stream",
          "name": "stdout",
          "text": [
            "{'mucho': 1, 'tiempo': 2, 'en': 3, 'hace': 4, 'una': 5}\n"
          ]
        }
      ],
      "source": [
        "# El índice para cada palabra\n",
        "# El sistema las ordena de las más populares a las menos populares\n",
        "print(tok.word_index)"
      ]
    },
    {
      "cell_type": "code",
      "execution_count": null,
      "metadata": {
        "id": "nUDkjy80c77h",
        "outputId": "7befe593-3f6f-4801-b211-ddd05513c74f",
        "colab": {
          "base_uri": "https://localhost:8080/"
        }
      },
      "outputs": [
        {
          "output_type": "stream",
          "name": "stdout",
          "text": [
            "defaultdict(<class 'int'>, {'en': 2, 'hace': 1, 'mucho': 2, 'tiempo': 2, 'una': 1})\n"
          ]
        }
      ],
      "source": [
        "# Cantidad de veces quea aparece cada palabra en cada \"documento\"\n",
        "# (1 documento = 1 caso de entrada)\n",
        "print(tok.word_docs)"
      ]
    },
    {
      "cell_type": "markdown",
      "metadata": {
        "id": "ohS5Tao1d2KB"
      },
      "source": [
        "### 2 - Preprocesamiento completo\n",
        "Debemos realizar los mismos pasos que en el ejemplo anterior, pero antes de eso debemos transformar ese dataset de filas de oraciones en un texto completo continuo para poder extraer el vocabulario."
      ]
    },
    {
      "cell_type": "code",
      "execution_count": null,
      "metadata": {
        "id": "63Z2-Se2t27r",
        "outputId": "ca9cc8ce-6121-41bc-d07c-54dee22f2fb2",
        "colab": {
          "base_uri": "https://localhost:8080/"
        }
      },
      "outputs": [
        {
          "output_type": "execute_result",
          "data": {
            "text/plain": [
              "0     Hace mucho tiempo en una galaxia\n",
              "1                       muy muy lejana\n",
              "2                         Episodio VII\n",
              "3            EL DESPERTAR DE LA FUERZA\n",
              "4       Luke Skywalker ha desaparecido\n",
              "5          En su ausencia la siniestra\n",
              "6             PRIMERA ORDEN ha surgido\n",
              "7           de las cenizas del Imperio\n",
              "8                y no descansara hasta\n",
              "9         que Skywalker el ultimo Jedi\n",
              "10                 haya sido destruido\n",
              "11                     Con el apoyo de\n",
              "12                        la REPUBLICA\n",
              "13              la General Leia Organa\n",
              "14     dirige una valiente RESISTENCIA\n",
              "15            Desesperadamente busca a\n",
              "Name: 0, dtype: object"
            ]
          },
          "metadata": {},
          "execution_count": 61
        }
      ],
      "source": [
        "# Vistazo a las primeras filas\n",
        "df.loc[:15,0]"
      ]
    },
    {
      "cell_type": "code",
      "execution_count": null,
      "metadata": {
        "id": "kILsSoxTuHEr",
        "outputId": "662a5d8b-b24e-4019-bcc7-691d6909cf93",
        "colab": {
          "base_uri": "https://localhost:8080/",
          "height": 105
        }
      },
      "outputs": [
        {
          "output_type": "execute_result",
          "data": {
            "text/plain": [
              "'Hace mucho tiempo en una galaxia muy muy lejana Episodio VII EL DESPERTAR DE LA FUERZA Luke Skywalker ha desaparecido En su ausencia la siniestra PRIMERA ORDEN ha surgido de las cenizas del Imperio y no descansara hasta que Skywalker el ultimo Jedi haya sido destruido Con el apoyo de la REPUBLICA la General Leia Organa dirige una valiente RESISTENCIA Desesperadamente busca a su hermano Luke con el fin de obtener su ayuda para restaurar la paz y la justicia en la galaxia Leia ha enviado a su piloto mas audaz en una mision secreta a Jakku donde un viejo aliado ha descubierto una pista del paradero de Luke Esto comenzara a enderezar las cosas Viaje muy lejos y vi mucho como para ignorar la desesperacion en la galaxia Sin los Jedi no puede haber equilibro en la Fuerza Gracias a ti ahora tenemos una oportunidad Hace mucho que la General quiere esto La General Para mi ella es de la realeza Claro que si Tenemos compania Tienes que esconderte Tu tienes que irte Vete Vamos BB apurate Disparale a ese Xwing Alli Alli Los veo Tomalo Esta mas seguro contigo que conmigo Llevalo lo mas lejos posible Entiendes Volvere por ti Todo saldra bien Sigan moviendose Quedate aqui Mira lo anciano que estas A ti te ha pasado algo mucho peor Sabes por lo que he venido Se de donde vienes Antes te hacias llamar Kylo Ren El mapa para hallar a Skywalker Sabemos que lo encontraste Y ahora se lo daras a la Primera Orden La Primera Orden surgio del Lado Oscuro Tu no Te mostrare el lado oscuro Puedes intentarlo Pero no puedes negar la verdad sobre tu familia Tienes mucha razon Quien comenzara a hablar Tu o yo El anciano te lo entrego Es dificil entenderte con todos esos  Registralo  aparatos  Nada senor  Subelo a bordo Y los aldeanos senor Matalos Cuando lo ordene Fuego No por favor Aqui no hay nada Avancen Esta bien Esta bien FN Envie su blaster para revision Si Capitan Y quien le dio permiso para quitarse el casco Lo siento Capitan Reportese a mi division enseguida Lo que me trajiste hoy vale un cuarto de porcion Es Teedo Quiere desmantelarte No respeta a nadie Tu antena esta doblada De donde eres Es clasificado Yo tambien Un gran secreto El Puesto de Niima es por alli No vayas por Kelvin Ridge No vayas a los Campos Hundidos Te hundiras en la arena No me sigas El pueblo es para ese lado No Te vas por la manana De nada No tenia idea que teniamos a bordo al mejor piloto de la Resistencia Estas comodo En realidad no Estoy impresionado Nadie pudo hacerte decir que hiciste con el mapa Tendrian que replantearse la tecnica Donde esta No podras intimidar a la Resistencia Donde esta Esta en un droide En una unidad BB Bueno si esta en Jakku pronto lo tendremos Te lo dejo a ti No desesperes Todavia puede venir Sea quien sea a quien esperes Clasificado Tengo experiencia esperando A mi familia Ellos volveran Algun dia Vamos Estas  piezas valen Dejame ver Media porcion La semana pasada era media porcion cada una Y que pasa con el droide Que pasa con el Te lo compro  porciones En realidad El droide no esta en venta Vamos Sigue a la chica y traeme ese droide Ren quiere al prisionero Dobla aqui Escucha con cuidado Si haces lo que diga te puedo sacar de aqui Que Es un rescate Te ayudo a escapar Sabes volar un caza TIE Estas con la Resistencia Que No no Hago que te fugues  Sabes volar un caza TIE  Se volar cualquier cosa Por que Por que estas ayudandome Porque es lo correcto Necesitas un piloto Necesito un piloto Vamos a lograrlo Si Bien Permanece tranquilo Estoy tranquilo Me lo digo a mi mismo Todavia no Bueno vamos Por aqui Siempre quise pilotear uno de estos  Puedes disparar  Si blasters Bien el mismo principio Usa el interruptor para cambiar entre misiles canones y pulsos Usa la mira de la derecha para apuntar Los gatillos para disparar Es muy complicado Puedo arreglarlo Hay un despegue no autorizado en la plataforma dos Avisa al General Hux Y deten a ese caza  fallo  Lo tengo Esto si que se mueve Tenemos que destruir tantos canones como podamos o no llegaremos lejos  Bien  Voy a posicionarnos Mantente atento Arriba Arriba Lo ves En el centro Es un tiro limpio Entendido  Si  Si  Lo viste  Lo vi Como te llamas FN F Que Es el unico nombre que me pusieron Bueno no te llamare asi F N Finn Te llamare Finn Esta bien Finn Si Finn me gusta Me gusta Soy Poe Poe Dameron  Gusto en conocerte Poe  Gusto en conocerte Finn Senor destruyeron nuestros turbolasers Usa los canones ventrales Si senor Los pondre en linea General Hux es el piloto de la Resistencia Si y lo ayudo uno de los nuestros Estamos revisando los registros para identificar al Stormtrooper El de la aldea FN Senor canones ventrales calientes Fuego Viene uno hacia ti A mi derecha Tu izquierda Lo ves Espera Lo veo Buen disparo A donde vamos Regresamos a Jakku Ahi vamos No No podemos volver a Jakku Tenemos que salir de este sistema Tengo que encontrar mi droide antes que la Primera Orden  Que un droide  Si Es una unidad BB naranja y blanca Es unico No me importa el color Ninguno puede ser tan importante Este lo es amigo Tenemos que alejarnos de la Primera Orden Si volvemos a Jakku moriremos El droide tiene un mapa que lleva a Luke Skywalker Tienes que estar bromeando FN fue reportado evaluado y enviado a reacondicionamiento No hubo senales previas de disconformidad Este fue su primer delito General Les dieron  Los destruyeron  Los inhabilitaron Estaban volviendo a Jakku El caza va a estrellarse en los baldios de Goazon Volvieron por el droide Manda una escuadra a los restos Poe Poe Poe Poe Te tengo Poe Poe El Lider Supremo Snoke fue claro Capturar al droide si podemos si no destruirlo Que tan capaces son sus soldados General No quiero que cuestione mis metodos Obviamente son habiles en cometer alta traicion Quizas el Lider Snoke deba considerar usar un ejercito de clones Mis hombres estan bien entrenados Programados desde su nacimiento No tendrian que tener problemas en recuperar el droide Sin ningun dano Ren que sus intereses no interfieran con las ordenes del Lider Snoke Quiero ese mapa Por su bien sugiero que lo consiga Agua Agua No hay agua Agua Hay agua Que Alejate de el Oye Ellos trabajan para Unkar Ese sujeto que te queria Debe estar muy interesado en ti Quien El Cual es tu prisa ladron Que Ladron Que La chaqueta El droide dice que la robaste Tuve un dia dificil esta bien Asi que te agradeceria si dejaras de acusarme de  Basta  Donde la conseguiste Pertenece a su amo Pertenece a Poe Dameron Se llama asi no Fue capturado por la Primera Orden Lo ayude a escapar pero nuestra nave se estrello Poe no sobrevivio Trate de ayudarlo Lo siento Asi que estas con la Resistencia Obviamente Si Si estoy con la Resistencia Estoy con la Resistencia Nunca conoci a un guerrero de la Resistencia Bueno lucimos asi Algunos Otros lucen diferentes BB dice que esta en una mision secreta Tiene que volver a tu base Parece que tiene un mapa que conduce hacia Luke Skywalker y estan todos detras de eso Luke Skywalker Creia que era un mito Que  Que haces  Vamos Vamos BB  Dejame  Tenemos que irnos Se correr sin que me tomes de la mano BB quedate cerca Por aca Solicito ataque aereo Vamos Nos disparan a los dos Si Te vieron conmigo Estas marcada Bueno gracias por eso No soy el que te persiguio con un palo Alguien tiene blasters Estas bien Sueltame la mano Oye Estas bien Si Sigueme No podemos sacarles ventaja En ese quadjumper podriamos Necesitamos un piloto Ya tenemos Tu Y esa nave Esa es chatarra La chatarra servira El puesto de artillero es ahi Alguna vez piloteaste esto No Esta nave no volo en anos Grandioso Puedo hacerlo Puedo hacerlo Oigan Es mia Espera vuela bajo  Que  Vuela bajo Eso confunde su rastreador Aguanta BB Estoy bajando Que haces ahi atras  Vas a responder el fuego  Estoy en eso  Estan puestos los escudos  No es tan facil sin copiloto Prueba sentarte en esta cosa Necesitamos proteccion rapido Estamos por conseguirla Eso espero Maldicion Vamos vamos  Buen tiro  Lo estoy haciendo bastante bien El canon se trabo adelante No lo puedo mover Tienes que perderlo  Preparate  Bueno Para que Realmente lo estamos haciendo No  Buen disparo  Eso es pilotear Gracias  Como lo hiciste  No se Nadie te entreno Pilotee naves pero nunca deje el planeta  Tu ultimo tiro fue genial  Asombroso  Lo derribaste de un tiro  Me ayudaste  Fue perfecto  Estuvo muy bien Estas a salvo Esta con la Resistencia Te va a llevar a casa Los dos lo haremos No se tu nombre Finn Y el tuyo Soy Rey Rey Ayudame con esto Rapido Que pasa Senor no pudimos conseguir el droide en Jakku Escapo en un carguero Corellian modelo YT robado El droide Robo un carguero No exactamente senor Tuvo ayuda No esta confirmado pero creemos que FN pudo haberlo ayudado a escapar Algo mas Estaban acompanados por una chica Que chica Es el motivador Dame una llave inglesa mira ahi Que tan malo es Si queremos vivir no es bueno Ahora nos estan cazando Tenemos que salir de este sistema BB dijo que la ubicacion de la Resistencia es saberla si hace falta Si te estoy llevando ahi me hace falta saberla Esto Vas a decirnos donde esta tu base No hablo ese idioma Esta bien entre nosotros no estoy con la Resistencia si Solo trato de escapar de la Primera Orden Si nos dices donde esta la base te llevare primero ahi Si  Por favor droide  Conductor Pilex de prisa  Donde esta su base  Vamos BB diselo Por favor  El Sistema Illenium  Si en el Sistema Illenium Es ese Llevanos ahi lo mas rapido posible Los dejare en la Terminal de Panima Necesito la cinta adhesiva Rapido Que hay de ti  Tengo que volver a Jakku  Volver a  Por que todos quieren volver a Jakku  Esa no es  Ese lugar es  No No La que te estoy senalando No No No Si no lo parchamos el tanque de propulsion se desbordara y llenara la nave con gas venenoso  Esta  Si Rey eres piloto Puedes ir a cualquier parte Por que volver Tienes familia Tienes novio Uno guapo No es asunto tuyo por eso  Eso no puede estar bien  No Alguien nos esta bloqueando Anularon todos los controles Quitate Quitate Ves algo No Es la Primera Orden Que hacemos Debe haber algo  Dijiste gas venenoso  Ya lo arregle Lo puedes desarreglar Vamos BB Lo tengo Estoy bien BB dejame Crees que funcionara con los Stormtroopers Si Sus mascaras filtran humo no toxinas  Apurate  Me estoy apurando Chewie Estamos en casa Donde estan los otros Donde esta el piloto  Yo soy el piloto  Tu No es verdad Somos los unicos a bordo Puedes entender a esa cosa Y esa cosa puede entenderte asi que cuidado Salgamos de aqui  Donde conseguiste esta nave  En el Puesto de Niima Jakku Esa chatarreria Gracias Chatarreria Te dije que teniamos que chequear bien los Parajes de Occidente De quien era De Ducain La robe A Unkar Plutt Se la robo a los Irving quienes se la robaron a Ducain El que me la robo a mi Dile que Han Solo recupero para siempre el Halcon Milenario Este es el Halcon Milenario Eres Han Solo Solia serlo Han Solo el general de la Rebelion No el contrabandista No fue un heroe de guerra Es la nave que recorrio el Corredor de Kessel en  parsecs   Oye Un ordenador de moofs puso un compresor en la linea de ignicion Fue Unkar Plutt Fue un error Le agrego mucha carga al hiperpropulsor Chewie arrojalos a un pod Los dejaremos en el primer planeta deshabitado No espera Necesitamos tu ayuda Mi ayuda Este droide tiene que ir a la base de la Resistencia lo mas rapido posible Tiene un mapa para ubicar a Luke Skywalker Eres el Han Solo que peleo con la Rebelion Lo conoces Si lo conoci Conoci a Luke No me digas que anda suelto un Rathtar Espera que Acabas de decir Rathtars Oye No transportas Rathtars en este carguero no Transporto Rathtars Genial Son los Guavianos Letales Deben habernos rastreado desde Nantoon Que es un Rathtar Son grandes y peligrosos Has oido hablar de la Masacre de Trillia  No  Mejor Le llevo tres al Rey Prana Tres Como los subiste a bordo Tenia mas tripulantes Vayan abajo y quedense ahi hasta que les diga y ni piensen en tomar el Halcon Que pasa con BB Se queda hasta que me libre de ellos luego lo recuperan y siguen viaje Y los Rathtars Donde los tienes Ahi hay uno Que vas a hacer Lo mismo de siempre Salir de esto Si lo hago Siempre Han Solo Eres hombre muerto BalaTik Cual es el problema El problema es que te prestamos  para este trabajo Puedes verlos No Escuche que tambien le pediste  a Kanjiklub Sabes que no puedes confiar en esos pequenos monstruos Hace cuanto nos conocemos Tienen blasters Muchos No hace mucho Queremos nuestro dinero ya Crees que cazar Rathtars es barato Ya gaste ese dinero Kanjiklub quiere que le devuelvas su inversion Nunca hice un trato con Kanjiklub Diselo a Kanjiklub Tasu Leech Que bueno verte Cometiste otro error Solo Este es tu fin Chicos ambos van a tener lo que les prometi Alguna vez les falle  Si  Dos veces Cual fue la segunda vez Tu truco es viejo No queda nadie a quien puedas estafar en la galaxia No hay donde esconderse Esa unidad BB La Primera Orden esta buscando a uno asi Y a dos fugitivos La primera vez que lo escucho Revisen el carguero Espera espera Si cerramos las puertas blindadas del corredor podemos atraparlos Cerrarlas desde aqui Resetear los fusibles lo haria Tengo un mal presentimiento No No que Fusibles equivocados Matalos Y toma al droide  Esto fue un error  Enorme Como lucen Lucen asi  Por aca  Estas seguro No Finn Finn Rey Quitate Rey Finn Finn Sal de encima Rey Quitate Quitate Finn  Me tenia Pero la puerta  Eso fue suerte Llegue a la puerta Cubrenos Chewie Estas bien Vaya Vamos Vamos  Han  Tu cierra la puerta Tu cuida a Chewie Adonde vas Unkar Plutt puso una bomba de combustible Si no la reparamos no nos iremos Odio a ese tipo  Podrias necesitar un copiloto  Tengo uno esta ahi atras Cuidado con el impulso Saldremos a la velocidad de la luz Desde el hangar Es posible Nunca me pregunto eso hasta haberlo hecho Este dia no es como me lo esperaba Gira el escudo Agarrense atras No hay problema Vamos nena no me defraudes Que El compresor Informa a la Primera Orden que Han Solo tiene el droide Y esta en el Halcon Milenario El droide sera entregado pronto a la Resistencia guiandolos hacia el ultimo Jedi Si regresa Skywalker surgiran los nuevos Jedi Lider Supremo asumo toda la responsabilidad General Debemos cambiar de estrategia El arma Esta lista Creo que llego el momento de usarla Destruiremos al gobierno que apoya a la Resistencia La Republica Sin sus amigos protegiendolos la Resistencia sera vulnerable Y los detendremos antes que hallen a Skywalker Ve Supervisa los preparativos Si Lider Supremo Ha habido un despertar Lo has sentido Si Hay algo mas El droide que buscamos esta en el Halcon Milenario En las manos de tu padre Han Solo El no significa nada para mi Hasta tu maestro de los Caballeros de Ren nunca afrontaste una prueba semejante Por la gracia de su entrenamiento no sere seducido Veremos Veremos Sobrecarga electrica Puedo arreglarlo Fuga de refrigerante Prueba transfiriendo potencia auxiliar al tanque secundario Lo tengo Chewie vamos Necesito ayuda con este gigante peludo Quedate quieto Chewie Si lastimas a Chewie te las veras conmigo Lastimarlo Casi me mata seis veces Lo que esta bien Si explota el hiperpropulsor habra pedazos nuestros en tres sistemas Que hiciste Puentee el compresor Muevete pelota No digas eso Estuviste bien Descansa Buen trabajo chico Gracias De nada Asi que fugitivos no La Primera Orden quiere ese mapa Finn esta con la Resistencia Soy solo una chatarrera Veamos que tienes Adelante Este mapa no esta completo Solo es una parte Desde que desaparecio Luke estuvieron buscandolo Por que se fue Estaba entrenando una nueva generacion de Jedi Un nino un aprendiz se volvio en su contra destruyendo todo Luke se sintio responsable Se alejo de todo Sabes que paso con el Hubieron muchos rumores Historias Los que lo conocian mejor pensaron que fue a buscar el primer Templo Jedi Los Jedi eran reales Solia preguntarmelo Pense que eran pavadas Un poder magico uniendo bien y mal el Lado Oscuro y la Luz Lo raro es Que es verdad La Fuerza Los Jedi Todo eso Es todo verdad No descansa Quieren mi ayuda La tienen Vamos a ver a una vieja amiga Ella llevara tu droide a casa Esta es nuestra parada No sabia que habia tanto verde en toda la galaxia Oye Solo no estoy seguro de entrar aqui  Acabas de llamarme Solo  Lo siento Han Senor Solo Debes saber que soy influyente en la Resistencia Lo que me convierte en un blanco Hay conspiradores aca Simpatizantes de la Primera Orden Escucha Influyente Tienes otro problema Las mujeres siempre descubren la verdad Siempre Podrias necesitar esto Creo que me puedo arreglar sola Se que si Por eso te lo estoy dando Tomalo Sabes usarlo Si Aprietas el gatillo Es algo mas que eso Tienes mucho que aprender Tienes nombre Rey Rey Estuve pensando en tener mas tripulantes Rey Un segundo oficial Alguien que ayude Alguien que nos siga el ritmo a Chewie y a mi y que aprecie al Halcon Me ofreces un trabajo No seria agradable No ganarias mucho Me estas ofreciendo trabajo Lo estoy pensando Y Si lo hicieras estaria halagada Pero tengo que volver a casa A Jakku Estuve demasiado tiempo fuera Chewie revisa la nave lo mejor que puedas Que lastima A Chewie le caes bien Solo por que estamos aca Para subir a tu droide a una nave limpia Limpia Crees que Chewie y yo encontramos el Halcon de casualidad Si nosotros lo encontramos la Primera Orden no estara lejos Maz Kanata es nuestra mejor chance para llevar a BB con la Resistencia Podemos confiaren ella no Relajate chico Ella manejo mil anos este abrevadero Maz es un gusto adquirido asi que dejame hablar a mi Hagas lo que hagas no la mires fijo A que lugar A ninguno Han Solo Cielos Hola Maz Donde esta mi novio Chewie esta trabajando en el Halcon Me gusta ese Wookiee Asumo que necesitas algo Desesperadamente Vamos al grano Avisen a la Resistencia que su droide perdido esta aqui Informen a la Primera Orden que halle al droide Perdoname La siento otra vez La atraccion hacia la luz El Lider Supremo lo detecta Muestramelo otra vez El poder de la oscuridad Y no dejare que nada se interponga en nuestro camino Muestrame Abuelo y terminare lo que empezaste Un mapa Hacia el mismisimo Skywalker Otra vez te metiste en problemas Maz necesito que le lleves este droide a Leia No Estuviste mucho tiempo escapando de esta lucha Han Vuelve a casa Leia no quiere verme Por favor vinimos a pedirte ayuda Que lucha La unica lucha Contra el lado oscuro A traves del tiempo vi a la maldad tomar muchas formas El Sith El Imperio Hoy es la Primera Orden Su sombra se esparce por toda la galaxia Tenemos que enfrentarlos Combatirlos Todos nosotros No hay ninguna lucha contra la Primera Orden Nadie puede ganar Mira a tu alrededor No hay forma de que no nos hayan reconocido Apuesto a que la Primera Orden esta viniendo Que es esto Que estas haciendo Solo que hace ella No lo se Pero nada bueno Si vives lo suficiente ves los mismos ojos en distintas personas Estoy mirando los ojos de un hombre que quiere huir No sabes nada sobre mi De donde vengo Lo que vi No conoces a la Primera Orden como yo Ellos nos masacraran Tenemos que huir Ves a esos dos Intercambiaran trabajo por transporte al Borde Exterior Alli puedes desaparecer Finn Ven conmigo Que pasa con BB Todavia no terminamos Tenemos que llevarlo a tu base No puedo Quedatelo chico Quien es la chica Me dijeron que podias llevarme al Borde Exterior Que haces No te vayas sin mi No puedes irte No te lo voy a permitir  No soy quien tu crees  De que hablas Finn No soy de la Resistencia No soy un heroe Soy un stormtrooper Como a todos ellos me tomaron de una familia que nunca conocere Y me criaron para hacer una cosa Pero en mi primera batalla tome una decision No iba a matar para ellos Asi que hui Hacia ti Y me miras como nunca nadie lo hizo Tenia verguenza de lo que era Pero termine con la Primera Orden Nunca voy a volver Rey ven conmigo No te vayas Cuidate Por favor No No No Regresen No Regresen No No Su energia No nos rodea y nos une La Fuerza sera No Regresen Nina callate No Rey Estos son tus primeros pasos Que fue eso No deberia haber entrado alli Ese sable de luz era de Luke Y antes de su padre Y ahora te llama Tengo que volver a Jakku Han me conto Querida nina Veo tus ojos Ya sabes la verdad A quienes estes esperando en Jakku no volveran Pero hay alguien que todavia podria volver Luke La pertenencia que buscas no esta en el pasado sino en el futuro No soy Jedi pero conozco la Fuerza Se mueve a traves y rodea a todo ser vivo Cierra los ojos Sientela La luz siempre estuvo alli Te guiara El sable Tomalo No lo tocare nunca mas No quiero ser parte de esto Hoy es el fin de la Republica El fin de un regimen que consiente el desorden En este momento en un sistema muy lejano la Nueva Republica le miente a la galaxia mientras que secretamente apoya la traicion de la repugnante Resistencia Esta maquina feroz que han construido sobre la que estamos le pondra fin al Senado A su preciada flota Los sistemas restantes se inclinaran ante la Primera Orden Y recordaremos este como el ultimo dia de la Republica Confirmen paso a control manual Configuren Fuego No Que es Era la Republica La Primera Orden la destruyo Donde esta Rey Que haces Tienes que volver Me voy BB No puedes Debes volver eres muy importante Ellos te ayudaran Lo tuve por mucho tiempo Lo tuve guardado Donde lo conseguiste Una buena pregunta Para otra ocasion Tomalo Encuentra a tu amiga Esas bestias Estan aqui FN mantenga posicion El seguro Senor El droide fue visto yendo al oeste Con una chica Tienes que continuar Sin que te vean Voy a tratar de ahuyentarlos Yo tambien lo espero Vamos Chewie Rey y BB Ellos te necesitan Ahora Ve Necesito un arma Ya tienes una Puedo probarla Me gusta esto Traidor  Estas bien Influyente  Gracias No se muevan TK estamos custodiando a los objetivos Tenemos mas en  Muevanse Muevanse Desplieguen todos los escuadrones repito desplieguenlos Ponganse a cubierto y esperen nuestra posicion Es la Resistencia A ellos Que esos matones no los asusten  Entendido  Estamos contigo Poe Rapido Si Es un gran piloto La chica de la cual tanto oi hablar El droide Donde esta Solicita apoyo aereo El mapa Tu lo has visto Senor cazas de la Resistencia Necesitamos mas soldados Retira a la division Olvida al droide Ya tenemos lo que necesitamos Retrocedan hacia los arboles No No no No No Rey Se la llevo Lo viste Se la llevo No esta Si lo se Vamos Por Dios Han Solo Soy yo CPO Quizas no me reconozcas por el brazo rojo Mira quien esta viste quien Disculpe Prince General Lo siento Ven BB rapido Si solo deben reinstalarme un brazo apropiado Te cambiaste el peinado La misma chaqueta No es una chaqueta nueva Lo vi Leia vi a tu hijo Estuvo aqui Oye BB mi amigo Que bueno verte Finn te salvo Donde esta Poe No Estas vivo Poe Dameron Amigo  Tu tambien  Que te paso Sali despedido Cuando desperte no estaban ni tu ni la nave BB dice que lo salvaste No No fui yo solo Completaste mi mision Finn Esa es mi chaqueta No no Quedatela Te queda bien Eres un buen hombre Finn Poe necesito tu ayuda PZCO reportese a comunicaciones General Organa Siento interrumpirla El es Finn Necesita hablar con usted Y yo necesito hablar con el Fue muy valiente lo que hiciste Renunciar a la Primera Orden salvar a este hombre Gracias senora Pero una amiga fue apresada Han me conto sobre la chica Lo siento Finn conoce el arma que destruyo al Sistema Hosniano Trabajo en la base Estamos desesperados por lo que puedas decirnos Ahi llevaron a mi amiga Tengo que ir ahi rapido Te ayudare pero primero tienes que decirnos lo que sabes Eso suena terrorifico Debes ser muy valiente General Lamento informarle que el mapa de BB esta incompleto Y para peor no coincide con el de ningun sistema No tenemos suficiente informacion para hallar al Maestro Luke Fui tan tonta de pensar que podria traer a Luke a casa Leia No hagas eso Hacer que Nada Princesas Estoy tratando de ser util Cuando hiciste algo util Aparte de la Estrella de la Muerte BB Estas perdiendo el tiempo Es improbable que R pueda tener el resto del mapa en su backup Me temo que no RD esta en modo de bajo consumo desde que el Maestro Luke se fue Lamentablemente puede que nunca mas sea el mismo Escuchame quieres Se que cada vez que Cada vez que me miras te acuerdas de el Crees que quiero olvidarlo Quiero que vuelva Hicimos todo lo posible Hay mucho de Vader en el Por eso queria que entrenara con Luke Nunca debi mandarlo Ahi lo perdi Ahi fue que los perdi a ambos Ambos tenemos que lidiar con eso a nuestro modo Regrese a lo unico para lo que sirvo Ambos lo hicimos Perdimos a nuestro hijo Para siempre No Fue Snoke Hizo que nuestro hijo se pasara al lado oscuro Pero todavia podemos salvarlo Yo Tu Si Luke no pudo llegar a el como podria hacerlo yo Luke es un Jedi Tu eres su padre Todavia hay luz dentro suyo lo se General esta llegando el reporte de reconocimiento de la base enemiga Donde estoy Eres mi invitada Donde estan los otros Los asesinos traidores y ladrones a los que llamas amigos Estaras aliviada de saber que no tengo idea Todavia quieres matarme Eso pasa cuando te persigue una criatura enmascarada Cuentame sobre el droide Es una unidad BB con selenio y un hiperescaner termico Lleva una parte de un mapa de navegacion Tenemos el resto Recobrado de los archivos del Imperio pero necesitamos la parte final De algun modo convenciste al droide para que te lo mostrara Tu Una chatarrera Sabes que puedo tomar lo que quiera Estas tan sola Con tanto miedo de irte A la noche desesperada por dormir Imaginas un oceano Lo veo Veo la isla Y a Han Solo Sientes que es el padre que nunca tuviste Te decepcionaria Sal de mi cabeza Se que viste el mapa Esta ahi dentro Y ahora me lo daras No tengas miedo Yo tambien lo siento No te dare nada Veremos Tu Tu temes Que nunca seras tan fuerte como Darth Vader La chatarrera te resistio Es fuerte con la Fuerza No esta entrenada pero es mas fuerte de lo que cree Y el droide Ren creyo que ya no era util para nosotros Todo lo que necesitamos es a esa chica Como resultado el droide seguramente volvio a manos del enemigo Ya deben tener el mapa Entonces la Resistencia debe ser destruida antes de que hallen a Skywalker Tenemos su ubicacion Rastreamos su nave de reconocimiento al Sistema Illenium Bien Entonces los destruiremos de una vez por todas Prepara el arma Lider Supremo puedo obtener el mapa de la chica Solo necesito su guia Si lo que dices sobre la chica es cierto Traemela Vas a quitar estas contenciones y dejar la puerta de la celda abierta Que dijiste Que vas a quitar estas contenciones y dejaras esta celda con la puerta abierta Ajustare las contenciones maldita chatarrera Quitaras estas contenciones y dejaras la puerta de la celda abierta Quitare las contenciones y dejare la puerta de la celda abierta Y soltaras tu arma Y soltare mi arma No No Guardias Guardias Empiecen a cargar el arma Si senor Arma cargandose Los datos del caza de reconocimiento de Snap confirman el reporte de Finn Crearon un arma de hipervelocidad de la luz dentro del planeta Un canon laser No podemos describir un arma semejante Es otra Estrella de la Muerte Me gustaria que asi fuera Mayor Esta era la Estrella de la Muerte Y esta es la Base del Starkiller Entonces es grande Como es posible darle potencia a un arma de ese tamano Usa la energia del sol A medida que se carga el arma drena el sol hasta que desaparece Senora La Primera Orden estan cargando el arma otra vez El proximo blanco es nuestro sistema Sin la flota de la Republica estamos acabados Bien Como lo volamos  Siempre hay una manera  Han tiene razon Para contener esa cantidad de energia esa base debe tener algun tipo de oscilador termico Alli hay uno En el Precinto  Aqui Si podemos destruir el oscilador podria desestabilizar el nucleo y deshabilitar el arma Quizas el planeta Iremos y atacaremos ese oscilador con todo lo que tengamos Tienen escudos que nuestras naves no pueden penetrar Desactivaremos los escudos Chico tu trabajaste alli Que sabes Puedo hacerlo Me gusta este chico Puedo apagar los escudos pero tengo que estar en el planeta  Te llevaremos alli  Como Han No te gustaria si te lo dijera Entonces apagamos los escudos eliminamos el oscilador y hacemos explotar su gran arma Bien Vamos Chewie revisa ese capitador termico Vamos Andando Finn ten cuidado con esos Son explosivos Ahora me lo dices Sabes No importa cuanto peleemos siempre odio verte partir Por eso lo hice Para que me extranaras Te extrane No todo estuvo mal no Algunas cosas estuvieron Bien Muy bien Algunas cosas nunca cambian Es verdad Todavia me vuelves loca Si ves a nuestro hijo traelo a casa Sensores activados en el Hangar  Estamos registrando el area Ella esta empezando a probar sus poderes Cuanto mas tarden en encontrarla mas peligrosa se hace Droides centinelas sincronicense con el Tiempo Galactico Estandar Desplazamiento  Como vamos a entrar Sus escudos tienen un ritmo de actualizacion fraccionario Nada que viaje a menor velocidad que la luz puede atravesarlos Comenzaremos el aterrizaje a la velocidad de la luz Preparate Chewie Y Ahora Estoy frenando Si voy mas alto nos veran Senor no la hallamos en el hangar  Pero todas las tropas estan alertas Cierren los hangares Tratara de robar una nave para esc Han Solo El tunel de desague esta en esas colinas Llegaremos por ahi Cual era tu trabajo cuando estabas ahi Limpieza Limpieza Y como sabes desactivar los escudos No lo se Estoy aqui para hallar a Rey La gente cuenta con nosotros La galaxia cuenta con nosotros Solo lo resolveremos Usaremos la Fuerza Asi no es como funciona la Fuerza Si Tienes frio Vamos Reporte Arma cargada en  minutos senor Oye Cuanto mas permanezcamos aqui menos suerte tendremos Los escudos Tengo una idea Me recuerdas FN Ya no Me llamo Finn y estoy al mando Estoy al mando ahora Phasma Estoy al mando  Baja el tono  Si Sigueme Has visto el nuevo Ts Los Ts hasta donde yo se son una gran mejora Si Eso es lo que dicen Pero creeme no aguantan  No  No Quieres que te vuele ese balde de tu cabeza Baja los escudos Cometes un gran error Hazlo Solo si esto funciona no tendremos mucho tiempo para hallar a Rey No te preocupes chico No nos iremos sin ella No puedes ser tan tonto para pensar que sera facil Mis tropas irrumpiran en este lugar y los mataran No creo Que hacemos con ella Hay un vertedero de basura Compactador de basura Si General sus escudos estan desactivados Gracias a Dios Han lo logro Envialos Dale autorizacion a Poe para atacar Lider Negro vaya a velocidad subluz Entendido base Escuadrones Rojo y Azul siganme Dejando velocidad de la luz Casi en rango Disparemos al centro del blanco Tantas veces como podamos Acercandose al objetivo Estan llegando cazas Llegando a   Pongan los escudos Envie a todos los escuadrones Si General Bien Abran fuego  Impacto directo  Pero no lo danamos Si tenemos que seguir disparandole Otro bombardeo Recuerden cuando el sol se apague esa arma podra disparar Pero mientras haya luz tenemos una oportunidad Chicos tenemos mucha compania Creemos que pueden estar dividiendose Rumbo a los cuadrantes  y  Usaremos las cargas para volar esa puerta blindada Voy a entrar y disparar pero necesito que me cubras Estas seguro de hacerlo Diablos no Tratare de encontrar a Rey Los stormtroopers nos perseguiran Tenemos que estar listos para eso Hay un tunel de acceso que lleva Por que haces eso Por que haces esto Estoy tratando de armar un plan Estas bien  Si  Bien Que te paso Te lastimo Finn que haces aqui Vinimos a buscarte Que te dijo Que fue tu idea Gracias Como escapaste No puedo explicarlo Y no me creerias Escapemos ahora abracense despues Tengo uno detras mio  Lo ves  Si Estoy en eso  Le dieron a Burillo  Cuidado con los disparos de tierra Estan en problemas No podemos irnos Mi amigo tiene una bolsa llena de explosivos Usemoslos General ve esto Derribaron a dos Xwing mas La mitad de nuestra flota destruida Y el arma estara completamente cargada en  minutos Solo un milagro nos salvara ahora Esa chica sabe lo que hace Pondremos explosivos cada dos columnas Tienes razon Es una mejor idea Ve arriba Yo ire abajo Detonador Nos encontraremos aqui Encuentralos Ben Han Solo Espere mucho tiempo a que llegue este dia Sacate la mascara No la necesitas Que crees que veras si lo hago La cara de mi hijo Tu hijo no existe mas Era debil y tonto como su padre Asi que lo destrui Eso es lo que Snoke quiere que creas Pero no es verdad Mi hijo esta vivo No El Lider Supremo es sabio Snoke esta usandote por tu poder Cuando tenga lo que quiere te destruira Sabes que es cierto Es muy tarde No lo es Sal de aqui conmigo Ven a casa Te extranamos Me estoy haciendo pedazos Quiero librarme de este sufrimiento Se lo que tengo que hacer pero no se si tengo la fortaleza Me ayudaras Si En lo que sea No Gracias No El oscilador ha sido danado pero aun esta operativo Almirante dispararan el arma en dos minutos El Halcon esta por aqui Todavia no terminamos Eres un monstruo Ahora solo somos nosotros Han Solo no puede salvarte Rey Rey Rey No No no Rey Traidor Ese sable de luz Me pertenece Ven a buscarlo Acabamos de perder la Star Estamos sobrepasados Que vamos a hacer No esta resultando Lider Negro hay un nuevo agujero en el oscilador Parece que nuestros amigos entraron Rojo Rojo cubrannos  Estoy en eso  Entendido Los demas disparenle al blanco Denle con todo lo que tengan Necesito ayuda Necesito ayuda  Estoy yendo  Cuidado Me dieron Todos los equipos Estoy entrando Salgan y cubranme Entendido Lider Negro Buena suerte Poe El arma estara completamente cargada en  segundos Preparado para disparar Necesitas un maestro Te podria mostrar los caminos de la Fuerza La Fuerza  Presten atencion a ese caza TIE  Perdemos rapidamente poder Teniente Vuelva a su puesto Mira No sobreviviremos Hasta Hux se fue Lider Supremo Las celdas de combustible se rompieron El planeta empieza a colapsar Deja la base enseguida y ven con Kylo Ren Es tiempo de completar su entrenamiento Finn Finn Todos los equipos  Los estoy vigilando  Si Mision cumplida Vamos a casa Con cuidado Esta herido Su corazon esta latiendo RD Has vuelto Que encontraste Como te atreves a llamarme asi Encontraste al Maestro Luke Como Vamos R Debemos decirle enseguida a los demas General Disculpe General RD quizas tenga esas buenas noticias que necesita Dime Si Bien amigo Espera El mapa esta completo Luke Mi querido amigo como te extrane Nos volveremos a ver Tengo fe en eso Gracias amigo mio Rey Que la Fuerza te acompane Mama gane Bien secho Ani Te debemos todo Ani Es maravilloso Ani Le has dado esperanza a los que no la tienen Estoy muy orgullosa de ti Tu Me enganaste Tu sabias que el nino iba a ganar Lo sabias Yo perdi todo Siempre que se apuesta en algun momento se pierde Lleven todos los repuestos al hangar Luego pasare a tu taller a recoger al nino No te lo puedes llevar No fue una apuesta limpia Lo discutimos con los hutts Ellos pueden resolver el asunto Llevatelo Ya tenemos todos los repuestos Voy a regresar Tengo unos asuntos pendientes Por que percibo que se nos unio otro ser lastimoso Es el chico que nos consiguio estos repuestos Instala este hiperpropulsor Si Maestro No tardara mucho Vamos Estos son tuyos Mama vendimos el podracer Mira todo el dinero que tenemos Cielos Que maravilla Ani Y lo han puesto en libertad Ya no eres esclavo Oiste eso Ahora puedes realizar tus suenos Eres libre Se lo van a llevar Se volvera un Jedi Si No nos conocimos por accidente Nada pasa por accidente Voy a poder irme con Uds en su nave espacial Entrenarse para ser Jedi no es un reto facil Aun si tienes exito es una vida dura Pero quiero ir Siempre he sonado con esto Puedo ir mama Anakin este camino ha sido puesto enfrente de ti La decision es solamente tuya Lo quiero hacer Empaca tus cosas No tenemos mucho tiempo Y mi mama Ella tambien es libre Trate de liberar a tu mama Ani pero Watto se nego Vas a venir con nosotros no mama Hijo mi lugar esta aqui mi futuro esta aqui Es hora de que te independices No quiero que cambien las cosas No puedes evitar el cambio Seria como evitar que los soles se pongan Te quiero Ahora apurate Gracias Yo lo cuidare Le doy mi palabra Ud va a estar bien Hola amo Anakin CPO me liberaron y me voy a ir en una nave espacial Amo Anakin Ud me hizo y le deseo lo mejor Sin embargo preferiria quedar un poco mas completo Lamento no haber podido terminarte Ponerte todas las cubiertas y todo Voy a extranar trabajar en ti Has sido un gran camarada Me asegurare de que mama no te venda ni nada Venderme Adios Cielos No puedo irme mama Simplemente no puedo Ani Tu crees que te vuelva a ver Que te dice tu corazon Espero que si Si Supongo Entonces nos volveremos a ver Volvere y te liberare mama Te lo prometo Ahora se valiente y no mires hacia atras No mires hacia atras QuiGon senor espere Estoy cansado Anakin tirate Corre Diles que despeguen QuiGon esta en apuros Despegue Alla Vuele bajo Esta Ud bien Creo que si Que era No lo se pero estaba bien entrenado en las artes de los Jedi Yo creo que andaba tras la Reina Que vamos a hacer al respecto Tener paciencia Anakin Skywalker te presento a ObiWan Kenobi Ud tambien es Jedi Mucho gusto en conocerlo Su Reina esta perdida su gente tiene hambre y usted Gobernador va a morir antes que su gente No ganaran nada con esta invasion Somos una democracia La gente ha decidido Llevenselo Mis tropas pueden empezar a explorar los pantanos en busca de las supuestas villas sumergidas Pronto las hallaran Las bajas son catastroficas Debemos acceder a sus deseos Tiene que comunicarse conmigo Estas bien Tengo mucho frio Vienes de un planeta calido Ani un poco demasiado para mi gusto El espacio es frio Te ves triste La Reina esta preocupada Sus subditos estan sufriendo muriendo Necesita convencer al Senado de que intervenga o no estoy segura de que pasara Te hice esto para que te acuerdes de mi Lo talle de un pedazo de japor Te dara buena suerte Es hermoso pero no necesito esto para recordarte Muchas cosas cambiaran cuando lleguemos a la capital Pero mi afecto por ti seguira igual Yo tambien siento afecto por ti Lo unico es que yo Extranas a tu mama Coruscant Todo el planeta es una ciudad gigantesca Ahi esta la nave del Canciller Y miren ahi el Senador Palpatine nos esta esperando Es un gran regalo verla viva Su Majestad Al interrumpirse las comunicaciones estabamos muy preocupados Estoy ansioso de oir su informe Le presento al Canciller Supremo Valorum Bienvenida Su Alteza Es un honor por fin conocerla en persona Gracias Canciller Supremo Todos estan muy consternados por la situacion actual He convocado una sesion del Senado para oir su posicion Le agradezco su interes Canciller Hay una cuestion de procedimiento pero confio en que podamos resolverla Necesito hablar con el Consejo Jedi La situacion se ha vuelto mucho mas complicada Ani vamos La Reina sta actuando somamente amable misa pensar Isto is excelente No hay urbanidad solo politica La Republica no es lo que era antes El Senado esta lleno de delegados avariciosos discutidores No hay ningun interes en el bien comun Francamente veo dificil que el Senado intervenga en la invasion El Canciller Valorum cree que hay esperanzas Permitame decirle que el Canciller tiene poco poder real Esta enredado en acusaciones sin base de corrupcion Los burocratas mandan ahora Que opciones tenemos La mejor seria promover la eleccion de un canciller supremo mas fuerte Alguien que pueda controlar a los burocratas y darnos justicia Ud podria solicitar un voto de censura para el Canciller Valorum El nos ha dado el apoyo mas fuerte Nuestra unica otra opcion seria someter una peticion a las cortes Sus deliberaciones toman aun mas tiempo que las del Senado Nuestra gente se esta muriendo Senador Debemos tomar medidas pronto para detener a la Federacion Hay que ser realistas Su Majestad Vamos a tener que aceptar el control de la Federacion por el momento Eso es algo que no puedo hacer Estaba entrenado en las artes Jedi La unica conclusion posible es que fue un Lord Sith Imposible Los Sith llevan un milenio extinguidos No creo que los Sith puedan haber regresado sin que lo supieramos Dificil de ver el lado oscuro es Usaremos todos nuestros recursos para aclarar este misterio Descubriremos la identidad de su atacante Que la Fuerza los acompane Maestro QuiGon mas que decir tiene usted Con su permiso maestro mio He encontrado una vergencia en la Fuerza Una vergencia dice Ud Localizada alrededor de una persona Un nino Sus celulas tienen el nivel mas alto de midiclorianos que he visto en un ser viviente Quiza haya sido concebido por los midiclorianos Se refiere a la profecia de aquel que equilibrara la Fuerza Cree Ud que sea ese nino  No presumo  Pero si presume Su opinion revelada es Solicito que se le hagan pruebas Que lo entrenemos como Jedi solicita para el Lo encontramos por voluntad de la Fuerza De eso no tengo duda Entonces traigalo ante nosotros El nino viene a ver a Padme Que pase Lo siento pero Padme no esta en este momento Quien es Anakin Skywalker viene a ver a Padme Su Alteza Envie a Padme a un mandado Voy camino al templo Jedi para iniciar mi entrenamiento espero Quiza nunca la vuelva a ver asi que vine a despedirme Nosotras le diremos Estamos seguras que su corazon te acompana Gracias Su Alteza El Canciller reconoce al senador del sistema soberano de Naboo Canciller Supremo delegados del Senado Ha sucedido una tragedia que se inicio aqui con el gravamen de rutas comerciales y ha puesto a nuestro planeta bajo la opresion de la Federacion de Comercio Esto es una calumnia Protesto contra las declaraciones del Senador El Canciller no reconoce al Senador de la Federacion de Comercio Para hacer nuestras acusaciones presento a la Reina Amidala recientemente elegida gobernadora de los naboo quien habla por nosotros Honorables representantes de la Republica Acudo a Uds bajo graves circunstancias Naboo ha sido invadido por los droides militares de Protesto No hay pruebas Esto es increible Recomendamos que una comision vaya a Naboo a comprobar la verdad El Congreso de Malastare concurre con la Federacion de Comercio Se debe nombrar una comision Lo importante Disculpeme Sr Canciller Y empiezan los burocratas Los verdaderos gobernadores de la Republica Y que estan en la nomina de la Federacion de Comercio Aqui es donde la fuerza del Canciller desaparecera El argumento es valido Podria posponer su mocion mientras una comision explora las acusaciones No la pospondre He venido para resolver el ataque ahora mismo No vere a mi pueblo sufrir y morir mientras un comite suyo discute la invasion Si este cuerpo no es capaz de actuar sugiero un cambio de liderazgo Pido un voto de censura al liderazgo del Canciller Valorum Votemos ahora Votemos ahora Orden Ahora elegiran un canciller nuevo Un canciller fuerte Uno que no permitira que continue nuestra tragedia El chico no pasara las pruebas del Consejo Es demasiado grande Anakin se volvera un Jedi te lo prometo No desafie al Consejo Maestro Otra vez no Hare lo que deba ObiWan Si hubiera seguido el codigo Ud estaria en el Consejo Esta vez no haran lo que Ud quiera Tienes mucho que aprender mi joven aprendiz Una nave Una taza Una nave Un velotransporte Como te sientes Tengo frio senor Tienes miedo No senor A traves de ti podemos ver Pon atencion en lo que sientes Tus pensamientos se concentran en tu madre La extrano Tienes miedo de perderla creo yo Que tiene que ver eso Todo El miedo es el camino al lado oscuro El miedo lleva al enojo El enojo lleva al odio El odio lleva al sufrimiento Yo percibo mucho miedo en ti Vosa pensando sua gente va a morir No lo se Gungans tambien stiran la pata no Espero que no Gungans no muriendo sin pelear Nosa guerreros Nosa tenemos gran ejercito Por eso no les gustando a vosa Su Alteza Su Alteza El Senador Palpatine ha sido nominado para reemplazar al Canciller Supremo Una sorpresa sin duda pero placentera Su Majestad si me eligen prometo poner fin a la corrupcion Quien mas fue nominado Bail Antilles de Alderaan y Ainlee Teem de Malastare Confio en que nuestra situacion genere simpatia a nuestro favor Yo sere el canciller Para cuando Ud controle a los burocratas Senador ya no quedara nada de nuestra gente de nuestra vida Entiendo su preocupacion Majestad Desafortunadamente la Federacion controla nuestro planeta Senador esta es su arena Siento que yo debo volver a la mia He decidido regresar a Naboo Regresar Pero la obligaran a firmar el tratado No firmare ningun tratado Mi destino no sera diferente al de nuestro pueblo Capitan Prepare mi nave Por favor Su Majestad Quedese aqui donde es seguro Esta claro que la Republica ya no funciona Rezo por que Ud le devuelva cordura y compasion al Senado La Fuerza es fuerte en el Lo entrenaran entonces No No sera entrenado No Es demasiado mayor El es el elegido Tienen que reconocerlo Nebuloso esta el futuro de este chico Yo lo entrenare entonces Tomo a Anakin de alumno padawan Un aprendiz ya tiene QuiGon Imposible tomar otro El codigo lo prohibe  ObiWan ya esta listo  Estoy listo para encarar las pruebas Nosotros decidiremos quien listo esta Es terco y tiene mucho que aprender de la Fuerza pero es competente Hay poco que pueda aprender de mi La suerte del joven Skywalker se decidira luego Este no es el momento para esto El Senado esta eligiendo un nuevo canciller y la Reina Amidala se va Esto presionara a la Federacion y quiza amplie la confrontacion Y revele al atacante de la Reina Vaya con la Reina a Naboo y descubra la identidad del guerrero oscuro Esta es la clave que puede desenmaranar el misterio de los Sith Que la Fuerza los acompane No es falta de respeto es la verdad Desde tu punto de vista El chico es peligroso Todos lo perciben Por que no Ud Su destino es incierto No es peligroso El Consejo decidira el futuro de Anakin Conformate con eso Ahora subete QuiGon senor No quiero ser un problema No lo seras Ani No se me permite entrenarte Asi que quiero que me observes con atencion Recuerda siempre Tu concentracion determina tu realidad Quedate cerca de mi y estaras a salvo Maestro senor oi a Yoda hablar de midiclorianos Estaba pensando que son los midiclorianos Una forma de vida microscopica que reside en todas las celulas vivas  Viven dentro de mi  En tus celulas si Somos simbiontes con ellos Simbiontes Formas de vida que viven juntas con beneficios mutuos Sin los midiclorianos la vida no podria existir y no sabriamos de la Fuerza Nos hablan continuamente diciendonos la voluntad de la Fuerza Cuando aprendas a acallar la mente oiras lo que te dicen No entiendo Con tiempo y entrenamiento lo entenderas Lo entenderas Su Majestad nos complace continuar sirviendola y protegiendola Agradezco su ayuda El Senador Palpatine teme que la Federacion quiera destruirme No permitire que eso ocurra Nosa vamos a casa Ven R El planeta es nuestro Ya dominamos las ultimas areas de formas de vida primitivas El planeta esta completamente bajo nuestro control Muy bien Vere que las cosas sigan como van en el Senado Enviare a mi aprendiz Darth Maul con ustedes Si milord Un Sith aqui Esos son los estabilizadores frontales Y esos dos controlan la inclinacion Aprendes rapido En cuanto aterricemos la Federacion la obligara a firmar el tratado Estoy de acuerdo No estoy seguro de que lograra con esto Recuperare lo que es nuestro Somos muy pocos Su Majestad No tenemos ejercito Y yo solo la puedo proteger No puedo luchar por usted Jar Jar Binks Misa Su Alteza Si necesito tu ayuda Tengo un acorazado en la pantalla Es una nave de droides Probablemente ya nos detectaron Tenemos poco tiempo Jar Jar va camino a la ciudad de los gungans Muy bien Cree que la idea de la Reina funcione Los gungans no son abnegados Y no podemos usar nuestro poder para ayudarle Perdone mi comportamiento Fue inapropiado contradecirlo sobre el chico La agradezco que crea que estoy listo para las pruebas Has sido un buen aprendiz ObiWan Y eres un hombre mucho mas sabio que yo Te convertiras en un gran Caballero Jedi Ahien no hay nadie La ciudad gungan sta desierta Una pelea misa crin Crees que los hayan llevado a los campos Probablemente los aniquilaron Misa penso que no Tu sabes donde estan Cuando hay problemas los gungans van a lugar sagrado Misa ensenarles Vamos misa ensenarles Su Senoria la Reina Amidala de los naboo Hoda gran patron Nass Su Senoria Jar Jar Binks Quienes son isos otros Yo soy la Reina Amidala de los naboo Vengo ante usted en paz La gandisima naboo Vosa trayendo las maquiniks Vosa muy bombad Hemos venido porque queremos aliarnos con Uds Su Senoria Quiensa es ista Yo soy la Reina Amidala Ella es mi senuelo mi proteccion mi leal guardaespaldas Disculpeme por el engano pero tenia que protegerme a mi misma Aunque no siempre estemos de acuerdo Su Senoria nuestras sociedades siempre han coexistido en paz La Federacion ha destruido todo lo que habiamos construido Si no actuamos pronto perderemos todo para siempre Le pido que nos ayude No le ruego que nos ayude Somos sus humildes servidores Nuestra suerte esta en sus manos Vosa no creyendo que son mejores que los gungans A misa gustando eso Quizas nosa siendo amigos Enviamos las patrullas Localizamos su nave en la cienaga Llevara poco tiempo milord Esta jugada de ella es inesperada Es demasiado agresiva Lord Maul sea precavido Deje que ellos tomen la iniciativa Si Maestro Ellos viniendo Fantastico Ya llegaron Que bien lo lograron Vosa haciendo bien Jar Jar junto nosa con los naboo Asi que nosa haciendo vos bombad general General Cual es la situacion La gente esta en campamentos Algunos policias y guardias formaron una resistencia clandestina He traido a algunos lideres El ejercito de la Federacion es mucho mas fuerte de lo que creiamos Su Alteza esta es una batalla que no creo que podamos ganar Es una distraccion Los gungans tienen que sacar a los droides de las ciudades R Podemos entrar a la ciudad por vias secretas del lado de la cascada Ya en la entrada el capitan creara una distraccion Entonces podremos entrar al palacio y capturar al Virrey Sin el Virrey estaran perdidos y confundidos Que opina Maestro Jedi El Virrey estara bien protegido Sera dificil llegar al trono Una vez dentro no creo que haya problema Es posible que con esta distraccion mueran muchos gungans Nosa listos para hacer nosa parte Tenemos un plan para inmovilizar al ejercito de droides Mandaremos a los pilotos que tengamos a destruir su nave de control Un plan bien pensado Sin embargo hay un gran riesgo Las armas de los cazas quiza no penetren el escudo Y hay un peligro aun mayor Si el Virrey se escapa regresara con otro ejercito de droides Por eso tenemos que capturar al Virrey Todo depende de eso Es mas tonta de lo que yo pensaba Estamos mandando todas las tropas contra este ejercito de la cienaga Parece estar formado de primitivos Eso nos servira de ventaja Tengo su aprobacion para seguir adelante Aniquilelos A todos ellos Alto Activando il escudo Abran fuego En cuanto entremos encuentra donde esconderte y quedate ahi Te quedas ahi Ahi estan Entendido entendido Yo crei que la batalla iba a librarse mas lejos Esta demasiado cerca Ani cubrete Rapido Vayan a sus naves Cazas adelante Entendido Lider Bravo Entendido Lider Bravo Cesen el fuego Quietos quietos Activen los droides Si senor Hora de lastimarnos Fuego El Virrey debe estar en la sala del trono Grupo rojo Grupo azul Todos por aca Esperenme Quedate aqui Estaras a salvo Quedate en esa cabina Nosotros nos encargaremos Iremos por el camino largo Tenemos que hacer algo R Estoy tratando No se donde esta el gatillo Me equivoque Quiza sea este No Espera aqui esta Vamos Esta en piloto automatico Trata de anularlo No tenemos tiempo para esto capitan Mira ahi estan Ahi nos esta llevando el piloto automatico Droide tonto Toma eso Quitate Quitate El escudo deflector es demasiado fuerte Esto esta tenso R quita el piloto automatico Va a hacer que nos maten Lo lograste R Vamonos a la izquierda Que regresemos QuiGon me dijo que me quede en esta cabina y eso voy a hacer Voy a girar ese es un buen truco Ya se que estamos en aprietos Agarrate Corran Armas de ascenso Retirense Retirense Isto una lucura Grandes bumers Llevenme Jar Jar usa il bumer Misa no tengo bumer Toma agarra iste Jar Jar Salta Jar Jar Dejen sus armas Ellos ganan este asalto Nos dieron R Estoy tratando de parar Estoy tratando de parar Se calento demasiado Esto no pinta bien No rindiendose general Jar Jar Misa pensar en algo Arriba las manos Mi rindo Mi rindo Su pequena insurreccion ha terminado Su Alteza Es hora de firmar el tratado y terminar este debate en el Senado Virrey Su ocupacion ha terminado Tras ella Esta es un senuelo Capitan Traben las puertas Ahora Virrey discutiremos un nuevo tratado Si tenemos potencia Escudos desplegados Tomen esto Y esto Estamos perdiendo potencia Le pasa algo al reactor principal Imposible Nada puede penetrar nuestro escudo Vamonos de aqui Que pasa Esta estallando desde dentro Nosotros no le dimos Esto si es una carrera de pods Salio uno de los nuestros Que dia Que stan haciendo La nave de control ha sido destruida Mira Todos quebrados Es demasiado tarde Es ObiWan prometeme Prometeme que entrenaras al chico Si Maestro El es el escogido El traera equilibrio Entrenalo Bien Sr Virrey tendra que regresar y explicarle todo esto al Senado Se puede despedir de su franquicia de comercio Estamos en deuda con Ud por su valor ObiWan Kenobi Y Ud joven Skywalker seguiremos su carrera con mucho interes Felicidades por su eleccion Canciller Su osadia salvo a nuestro pueblo Su Majestad Ud se merece las felicitaciones Juntos traeremos paz y prosperidad a la Republica El nivel de Caballero Jedi el Consejo te confiere Pero estar conforme con que tomes a este chico de alumno padawan eso yo no estoy QuiGon creia en el El elegido quiza el nino sea Sin embargo grave peligro temo en su entrenamiento Maestro Yoda le di a QuiGon mi palabra Entrenare a Anakin Sin la aprobacion del Consejo de ser necesario La obstinacion de QuiGon siento en ti Eso no necesitarlo tu De acuerdo contigo el Consejo esta Tu aprendiz Skywalker sera Que va a pasar conmigo ahora El Consejo me dio permiso de entrenarte Seras un jedi Te lo prometo No cabe duda el guerrero misterioso era un Sith Siempre dos son Ni mas ni menos Un maestro y un aprendiz Pero cual fue destruido el maestro o el aprendiz Hoda Hodadodi Paz Maestro Windu debo hablar con Ud Skywalker recibimos noticias de que ObiWan destruyo al general Grievous Debemos asegurarnos de que el canciller devuelva los poderes al senado No lo hara Acabo de enterarme de una verdad terrible Creo que el canciller Palpatine es un lord de los Sith Un lord de los Sith Si el que hemos estado buscando Como sabes esto Conoce el poder de la Fuerza Lo entrenaron para usar el lado oscuro  Estas seguro  Completamente Nuestros peores temores se han hecho realidad Debemos actuar rapidamente si queremos que la orden de los Jedi sobreviva Maestro el canciller es muy poderoso Necesitaran mi ayuda para arrestarlo Por tu propio bien no te metas en este asunto Percibo una gran confusion en ti joven Skywalker El miedo nubla tu juicio  Debo ir maestro  No Si lo que dices es verdad te habras ganado mi confianza Pero por ahora quedate aqui Espera en las camaras del Consejo nuestro regreso Si maestro Si sabes verdad que si los Jedi me destruyen perderas toda posibilidad de salvarla Maestro Windu Supongo que el general Grievous ha sido destruido Llego antes de lo que esperaba En nombre del Senado Galactico de la Republica queda Ud arrestado canciller Me esta amenazando maestro Jedi El senado decidira su suerte  Yo soy el senado  Todavia no Es traicion entonces Queda usted arrestado milord Anakin te dije que ibamos a llegar a esto Tenia razon Los Jedi estan tomando el control La opresion de los Sith no volvera jamas Usted ya perdio Tu moriras Es un traidor El es el traidor Tengo el poder para salvar a tu amada Debes escoger No le hagas caso Anakin No dejes que me mate No puedo resistirlo mas No puedo Estoy debil Estoy demasiado debil Anakin Ayudame Ayudame Ya no puedo resistir mas Voy a terminar esto de una vez por todas No puede Debe ser sometido a juicio Controla el senado y las cortes Es demasiado peligroso para dejarlo vivo Estoy demasiado debil  No me mates Por favor  El codigo de los Jedi no lo permite Debe vivir  Por favor no  Lo necesito Por favor no Poder Poder ilimitado Que hice Estas realizando tu destino Anakin Conviertete en mi aprendiz Aprende a usar el lado oscuro de la Fuerza Hare lo que usted me pida Bien Solo ayudeme a salvar la vida de Padme No puedo vivir sin ella Enganar a la muerte es un poder que solo uno ha logrado pero si trabajamos juntos se que podemos descubrir el secreto Me someto solemnemente a sus ensenanzas Bien Muy bien La Fuerza tiene una gran presencia en ti En un Sith poderoso te convertiras A partir de hoy seras conocido como Darth Vader Gracias maestro Levantate Como el Consejo no confio en ti mi joven aprendiz creo que eres el unico Jedi que no conocia este complot Cuando los Jedi se enteren de lo que sucedio aqui nos mataran junto con todos los senadores Estoy de acuerdo El siguiente ataque del Consejo sera contra el senado Todos y cada uno de los Jedi incluyendo a tu amigo ObiWan Kenobi son ahora enemigos de la Republica Entiendo maestro Debemos movernos rapidamente Los Jedi son implacables Si no los destruimos a todos tendremos una guerra civil sin fin Primero quiero que vayas al templo Jedi Los tomaremos por sorpresa Haga lo que se debe hacer Lord Vader No titubee No demuestre piedad Solo entonces el lado oscuro le dara el poder suficiente para salvar a Padme Que pasara con los demas Jedi dispersados por toda la galaxia Pagaran caro su traicion Despues de que haya matado a los Jedi del templo vaya al sistema Mustafar Elimine al virrey Gunray y a los demas lideres separatistas Una vez mas los Sith dominaran la galaxia Y tendremos paz Sargento aqui Dese prisa Vamos Todas las unidades rojas avancen Muevanse muevanse Comandante contacte a sus tropas Digales que vayan a los niveles mas altos Muy bien senor A proposito creo que va a necesitar esto Gracias Cody Ahora apurense Tenemos una batalla que ganar Si senor Comandante Cody ha llegado el momento Ejecute la orden  Si milord Disparenle Avancen Ejecute la orden  Procedere milord Procedere milord Maestro Skywalker son demasiados Que haremos La oficina del canciller dijo que el maestro Anakin regreso al templo Jedi No se preocupe Estoy seguro que el estara bien  Que pasa aqui  Hubo una rebelion senor Descuide La situacion esta controlada Lo siento senor Es hora de que se vaya Asi es Eliminenlo No se preocupen por el Dejen que se vaya Todos estos wookiees estan muertos Muevanse al este Si senor Adios Tarfful Adios Chewbacca De menos los echare Con suerte podremos interceptar a algunos Jedi antes de que caigan en esta catastrofe  Encontraron a Kenobi  Nadie podria sobrevivir a esa caida Suban sus hombres a las naves Muevanse Codigo de emergencia  No tengo contacto en ninguna frecuencia Maestro Kenobi  Repita  Maestro Kenobi Senador Organa Mis clones me traicionaron Necesito ayuda Rescatamos al maestro Yoda Parece que fue una emboscada general Le estamos enviando nuestras coordenadas Silencio No tan fuerte Estas bien Oi que atacaron el templo Jedi  Se veia el humo desde aqui  Estoy bien Vine a ver si tu y el bebe estan a salvo Que ocurre Los Jedi trataron de derrocar la Republica No puedo creer eso Yo mismo vi al maestro Windu tratar de asesinar al canciller Que vas a hacer No traicionare a la Republica Le debo mi lealtad al canciller y al senado Y a ti  Y ObiWan  No lo se Muchos Jedi han muerto Solo podemos esperar que se mantenga leal al canciller Anakin tengo miedo Ten fe mi amor Todo se arreglara pronto El canciller me ha encomendado una mision muy importante Los separatistas se han reunido en el sistema Mustafar Ire ahi a ponerle fin a esta guerra Esperame hasta que regrese Las cosas seran diferentes Te lo prometo Por favor esperame Bueno esta bajo mucho estres R Cuidate amiguito Miladi la puedo ayudar en algo No gracias PO Me siento tan inutil Cuantos Jedi lograron sobrevivir Ninguna noticia hemos tenido Vi miles de tropas atacar el templo Jedi Por eso fui a buscar a Yoda Hemos tenido contacto con el templo Un mensaje de retirada hemos recibido Solicita que todos los Jedi regresen al templo  Dice que se acabo la guerra  Entonces debemos volver Si hay algunos rezagados caeran en la trampa y los mataran Desmantelar la senal en clave sugieres Si maestro Hay demasiado en juego Estoy de acuerdo Y un mayor conocimiento el camino podria iluminarnos El plan se ha desarrollado como usted lo aseguro milord Ha trabajado bien virrey Cuando llegue mi nuevo aprendiz Darth Vader el se encargara de usted Mensaje de la oficina del canciller senor  Pasemelo  Si senor Senador Organa el canciller supremo solicita su presencia en una sesion especial del Congreso  Ahi estare  Lo estara esperando  Podria ser una trampa  No creo El canciller no podra controlar los miles de sistemas solares sin conservar el senado intacto Si una sesion especial del Congreso hay mas facil para nosotros entrar al templo Jedi sera R quedate con la nave Bienvenido Lord Vader Lo estabamos esperando Y la rebelion de los Jedi ha sido frustrada Que ocurrio El canciller habla de un complot Jedi para derribar al senado Los Jedi sobrevivientes seran perseguidos y vencidos Ni siquiera los ninos sobrevivieron Asesinado no fue por clones este Padawan Una espada laser lo mato Quien Quien pudo haber hecho esto El atentado en mi contra me ha dejado con cicatrices y deforme Pero les aseguro que mi determinacion nunca ha sido mas fuerte Alto Para asegurar su seguridad y su estabilidad continua la Republica debe ser reorganizada y convertida en el primer Imperio Galactico Para tener asi una sociedad estable y segura Conque asi es como muere la libertad Con un aplauso atronador La guerra termino Lord Sidious nos prometio paz Nosotros solo queremos Recalibre el codigo advirtiendo a todos los Jedi sobrevivientes que se alejen Para que los clones descubran la recalibracion un largo tiempo llevara Espere Maestro Hay algo que necesito saber Si las grabaciones de seguridad consultas solo dolor encontraras Debo saber la verdad maestro No puede ser No puede ser Has hecho un buen trabajo mi nuevo aprendiz Ahora Lord Vader ve y trae paz al Imperio Ya no puedo mirar mas Destruir a los Sith debemos Envieme a matar al emperador Yo no matare a Anakin Para pelear con este Lord Sidious suficientemente fuerte no eres Es como mi hermano No puedo hacerlo Pervertido por el lado oscuro el joven Skywalker ha sido El muchacho que entrenaste desaparecido ha Consumido por Darth Vader fue No se adonde lo mando el emperador No se donde buscar Usa tus instintos ObiWan y encontrarlo podras Cuando lo viste por ultima vez  Ayer  Y sabes donde esta ahora Padme necesito tu ayuda  Corre un grave peligro  De los Sith De el mismo Anakin se ha convertido al lado oscuro Te equivocas Como puedes siquiera decir eso Vi un holograma de seguridad de el matando a ninos Anakin no El es incapaz Lo enganaron con una mentira A el y a todos Parece que el canciller esta detras de todo incluyendo la guerra Palpatine es el Lord Sith que buscabamos Despues de la muerte del conde Dooku Anakin se convirtio en su nuevo aprendiz No te creo No puedo Debo encontrarlo Vas a matarlo verdad Se ha convertido en una gran amenaza No puedo Anakin es el padre no Lo siento mucho  Miladi deje que vaya con usted  No hay peligro Se acabo la lucha Y esto es personal Como usted diga miladi pero no estoy de acuerdo Estare bien capitan Esto es algo que debo hacer yo misma Ademas PO me cuidara Cielos Creo que estoy empezando a dominar este asunto de volar Ya me encargue de los separatistas maestro Hemos terminado entonces Has restablecido la paz y la justicia en la galaxia Envia un mensaje a los navios de la Federacion de Comercio Todas las unidades de droides deben apagarse de inmediato Muy bien milord Vi tu nave  Que haces aqui  Estaba muy preocupada por ti ObiWan me dijo cosas terribles Que cosas Dijo que te habias convertido al lado oscuro Que tu habias matado ninos ObiWan trata de ponerte en contra mia Se preocupa por nosotros Nosotros El sabe Quiere ayudarte Anakin lo unico que yo quiero es tu amor El amor no te salvara Padme  Solo mis nuevos poderes pueden  A que costo Eres una buena persona No hagas esto No te perdere como perdi a mi madre Me estoy volviendo mas poderoso de lo que cualquier Jedi pudo sonar Y lo estoy haciendo por ti Para protegerte Ven conmigo Ayudame a criar a nuestro hijo Deja todo lo demas atras mientras aun podemos No te das cuenta Ya no tenemos que huir He traido paz a la Republica Soy mas poderoso que el canciller Puedo derrocarlo Y juntos tu y yo podremos gobernar la galaxia Haremos que las cosas sean como queremos No puedo creer lo que estoy oyendo ObiWan tenia razon Has cambiado Ya no quiero oir nada mas sobre ObiWan Los Jedi me traicionaron No me traiciones tu tambien Ya no te conozco Me estas partiendo el corazon Estas siguiendo un camino que yo no puedo seguir Por ObiWan Por lo que has hecho Por lo que planeas hacer Detente Detente ahora mismo Regresa  Te amo  Mentirosa Estas con el Lo trajiste aqui para matarme Sueltala Anakin Sueltala La volviste en contra mia Tu mismo hiciste eso No me la arrebataras Tu ira y tu avidez de poder ya han hecho eso Permitiste que ese lord oscuro te envenenara la mente hasta convertirte en la misma cosa que habias jurado destruir No me des sermones ObiWan No me enganan las mentiras de los Jedi Yo no le temo al lado oscuro como tu He traido paz libertad justicia y seguridad a mi nuevo imperio Tu nuevo imperio No me obligues a que te mate Anakin yo le debo mi lealtad a la Republica A la democracia Si no estas conmigo entonces eres mi enemigo Solo un Sith piensa en absolutos Hare lo que debo hacer Trataras Me han dicho que un nuevo aprendiz tiene emperador O prefiere que lo llame Darth Sidious Maestro Yoda Sobrevivio Sorprendido Su arrogancia lo ciega maestro Yoda Ahora experimentara el poder completo del lado oscuro Hace mucho tiempo que espero la llegada de este momento mi pequeno amigo verde Por fin los Jedi ya no existen No si al respecto voz yo tengo A su fin su reinado llega Y suficientemente corto no fue Si tan poderoso es por que irse No me detendra Darth Vader se volvera mas poderoso que cualquiera de nosotros dos Fe en su nuevo aprendiz quiza sea un error tener Igual que su fe en el lado oscuro de la Fuerza Date prisa Medir el tiempo muy esencial es Active su senal localizadora cuando este listo No hay indicios de su cuerpo senor  Entonces no esta muerto  Redoblen la busqueda Si senor De inmediato senor Dile al capitan Kagi que prepare mi nave para un despegue inmediato  Si maestro  Siento que Lord Vader esta en peligro Al exilio ir debo Fracasado he Te falle Anakin Yo te falle Debi haber sabido que los Jedi darian un golpe Anakin el canciller Palpatine es malvado Desde mi perspectiva los Jedi son malvados Entonces estas perdido Ha llegado su fin maestro Se acabo Anakin Estoy en el terreno elevado Subestimas mi poder No lo intentes Tu eras El Elegido Tu ibas a destruir a los Sith no a unirte a ellos Ibas a traer equilibrio a la Fuerza no a dejarla en la oscuridad Te odio Eras mi hermano Anakin Te queria Maestro Kenobi Tenemos a la Srta Padme a bordo Por favor dese prisa Debemos irnos de este lugar espantoso Anakin esta bien Su Majestad por aqui Ahi esta Aun esta vivo Trae una capsula medica inmediatamente Si senor Ahora mismo Disculpe maestro Yoda ObiWan Kenobi hizo contacto La llevaremos al centro medico Rapido Desde el punto de vista medico goza de perfecta salud Por razones que no podemos explicar la estamos perdiendo  Se esta muriendo  No sabemos por que Perdio la voluntad de vivir Debemos operar pronto para salvar a los bebes Bebes Tiene gemelos Luke Luke  Es una nina  Leia Hay bondad en el Lo se Se que hay todavia Lord Vader Me oyes Si maestro Donde esta Padme Esta a salvo Se encuentra bien Parece que con tu ira la mataste Yo Yo no pude matarla Ella estaba viva Lo senti No Ocultos a salvo los ninos deben estar Debemos llevarlos adonde los Sith no sientan su presencia Separados deben ser Mi esposa y yo nos ocuparemos de la nina Siempre hablamos de adoptar una nina Tendra amor con nosotros Y el nino A Tatooine Con su familia mandalo Llevare al nino y lo protegere Hasta que llegue el momento oportuno desaparecer debemos Maestro Kenobi espera un momento En tu soledad en Tatooine entrenamiento tengo para ti Entrenamiento Un viejo amigo ha aprendido el camino a la inmortalidad Alguien que regreso del otro mundo de la Fuerza Tu viejo maestro QuiGon Como entrar en comunion con el yo te ensenare  Capitan Antilles  Si Su Alteza Dejo estos droides a su cuidado Tratelos bien Limpielos Borren la mente del droide de protocolo Como No Hace mucho tiempo en una galaxia muy muy lejana Episodio  LA VENGANZA DE LOS SITH Guerra La republica se derrumba ante los ataques del Lord Sith el Conde Dooku Hay heroes en ambos lados El mal esta por todas partes En un inesperado movimiento el diabolico androide lider el General Grievous llego a la capital de la Republica y rapto al Canciller Palpatine lider del senado Galactico Mientras el ejercito separatista de androides intenta huir de la capital con su valioso rehen dos Caballeros Jedi dirigen una desesperada mision para rescatar al Canciller cautivo Fija tus sensores en ellos Maestro la nave del general Grievous esta enfrente La que esta rodeada de droides buitres La veo Esto va a ser facil  Oddball me escuchas  Si Lider Rojo Forma a tu escuadron detras de mi Lo seguimos general Kenobi Preparen los alerones para atacar Aqui es donde empieza la diversion Que pasen entre nosotros Los tengo encima Quitenmelos  Voy a ayudarlos  No Que ellos hagan su trabajo y nosotros el nuestro Misiles Elevese  Se pasaron  Estan dando la vuelta Bueno R No no No hagas nada muy complicado Usa todos los motores R Impulsores de contramarcha listos Los destruimos R Volar es para droides  Me dieron Anakin  Los veo Droides zumbadores R ten cuidado Tienes un Cielos Estan desconectando los controles Muevase a la derecha para que pueda atacarlos La mision Llega a la nave de mando Rescata al canciller Se como evadirlos En nombre de  No dispares No me estas ayudando  Es cierto Fue mala idea No veo nada Se esta nublando mi cabina Los tengo encima Anakin  Muevase a la derecha  Espera Vas a hacer que nos maten Vete No puedes hacer nada No me voy a ir sin Ud maestro Acabalo R Cuidado R dale al ojo central del droide  Le diste  Excelente R La nave del general esta adelante Notaste que tiene los escudos activados Disculpe maestro Esto no me gusta nada Ahi estan Destruyanlos R localiza al canciller La senal del canciller viene de alla de la plataforma de observacion encima de esa torre Percibo al conde Dooku  Yo percibo una trampa  Siguiente paso Activar la trampa R regresa Quedate con la nave Llevate esto y espera instrucciones Cual es la situacion capitan Dos Jedi aterrizaron en el hangar principal Los estamos rastreando Tal como lo predijo el conde Dooku Destructores Suelten sus armas Dije que las suelten  Afirmativo  Afirmativo afirmativo Esos son cazas Jedi  Oprimiste Alto  No y usted Hay mas de una salida No queremos salir sino avanzar R activa el ascensor   Responde R  Que es eso R me escuchas R activa el ascensor numero  Sigue trabajando Eso no fue nada Activa el ascensor  R estamos Siempre en movimiento R enciende tu comunicador R me oyes R R R Detenlo Detenlo R necesitamos subir Manos arriba Jedi R me recibes R me oyes R necesitamos subir no bajar Oye tu Asi esta mejor Pequeno astrodroide torpe Eres tu Mis ojos Mis ojos  Que fue eso  R estuvo  Nada de chistes de cables zafados  Dije algo  Esta tratando  No dije nada  Canciller  Se encuentra bien Conde Dooku  Esta vez pelearemos juntos  Lo mismo iba a decir yo Consigan ayuda no van a poder Es un lord Sith Canciller Palpatine los lores Sith son nuestra especialidad Sus espadas por favor No queremos una masacre delante del canciller Esta vez no escaparas Dooku Esperaba ansiosamente este momento Mis poderes se han duplicado desde el ultimo encuentro conde Que bien Cuanto mas orgullosos mas duro caen Vamos Percibo mucho miedo en ti Skywalker Tienes odio tienes ira pero no los usas Muy bien Anakin muy bien Matalo Matalo ya No debo Hazlo Hiciste bien Anakin Era demasiado peligroso para mantenerlo vivo Si pero era un prisionero desarmado Hice mal Va contra los ideales de los Jedi Es natural El te corto el brazo y querias vengarte No fue la primera vez Anakin Recuerdas cuando me contaste de tu madre y el pueblo de la arena Debemos irnos antes de que lleguen mas droides de seguridad Anakin no hay tiempo Debemos irnos antes de que sea demasiado tarde  Parece que esta bien  Dejalo o no lograremos escapar Correra la misma suerte que nosotros Preparense para atacar Todas las baterias fuego Fuego El ascensor no funciona R activa el ascensor   Invierte los estabilizadores  Invirtiendo los estabilizadores Magnetice Magnetice Arranquen los propulsores de emergencia Nos estamos nivelando senor Tranquilo Estamos en una situacion dificil  Me perdi algo  Sujetese Que es eso R R apaga el ascensor Demasiado tarde Salta A ver si encontramos algo en el hangar que aun vuele R ven aca abajo R me escuchas General encontramos a los Jedi Estan en el pasillo  Activen los escudos de rayos Escudos de rayos Un momento Somos demasiado listos para que nos pase esto Parece que no  Yo digo que paciencia  Paciencia Si R vendra en un momento y entonces el abrira los escudos Ve No hay problema No te muevas Tienes un plan B Si El negociador General Kenobi Lo estabamos esperando Disculpe  No fue un gran rescate  De nada Y Anakin Skywalker Esperaba que alguien de tu reputacion fuera un poco mas viejo General Grievous Usted es mas bajo de lo que esperaba Escoria Jedi Tenemos un trabajo que hacer Anakin No lo hagas enojar Sus espadas laser seran una buena adquisicion para mi coleccion Esta vez no Y esta vez no escapara R Aplastenlos Haganlos sufrir Vamos Ahora Quedense en sus puestos A el A el Corran No se molesten con ellos  Mantengan la nave en orbita  Si senor Ya perdio general Kenobi Vayanse de aqui Corran Es hora de abandonar la nave Todas las capsulas de escape fueron lanzadas Grievous Puedes pilotear el crucero  Aterrizar lo que queda de el  Bien Bajo las circunstancias es irrelevante que sepa o no pilotear esto Ponganse los cinturones Abrir las escotillas Extender los alerones Perdimos algo No te preocupes Todavia tenemos media nave La velocidad esta aumentando Ocho mas   Estamos en la atmosfera  Agarre eso Nivelenos Tranquilos Calma R Cinco mil Naves bombero a ambos lados  Los vamos a escoltar  Entendido  Pista de aterrizaje adelante  Vamos demasiado rapido Otro aterrizaje feliz Viene maestro No Soy cobarde para la politica Debo reportarme al Consejo Ademas necesitan a alguien para las fotografias Un momento Toda esta operacion fue idea suya No olvidemos Anakin que tu me rescataste de los droides zumbadores Tu mataste al conde Dooku y rescataste al canciller cargandome inconsciente Gracias a su entrenamiento Anakin seamos justos Hoy tu fuiste el heroe Te mereces tu dia de gloria con los politicos Bien Pero me debe una y no por salvarlo por decima vez Novena Ese asunto con Cato Neimoidia no cuenta Nos vemos en la junta Canciller Palpatine se encuentra bien Si gracias a sus dos caballeros Jedi Ellos mataron al conde Dooku pero el general Grievous escapo de nuevo El general Grievous huira y se escondera como siempre Es un cobarde Pero como el conde Dooku esta muerto el es el lider del ejercito de droides Y le aseguro que el senado votara a favor de continuar la guerra mientras Grievous siga vivo Entonces el Consejo Jedi considerara prioridad encontrar a Grievous  Cuidado  Perdon Ven R La Republica no puede alabarte lo suficiente Gracias senador Organa No te puede haber ido tan mal En eso estamos de acuerdo De hecho yo mismo necesito una afinacion La lucha continuara hasta que el general Grievous este hecho pedazos Hare todo lo que pueda en el senado  Disculpeme  Claro que si Anakin Te extrane mucho Padme Corrian rumores de que te habian matado Estoy bien Siento que estuvimos separados toda una vida Y podria haber sido si no hubiesen secuestrado al canciller No creo que nos hubiesen traido de la Orilla Exterior  Espera aqui no  Si aqui Estoy harto de enganos Que sepan que estamos casados No digas esas cosas Estas bien Estas temblando Que pasa Paso algo maravilloso Ani estoy embarazada Eso es Eso es maravilloso Que vamos a hacer No nos vamos a preocupar de nada en este momento De acuerdo Es un momento feliz El momento mas feliz de mi vida Si Lord Sidious General Grievous le sugiero que pase a los lideres de los separatistas a Mustafar Asi lo hare milord El final de la guerra se aproxima general Pero la perdida del conde Dooku Su muerte fue una perdida necesaria Pronto tendre un aprendiz nuevo mucho mas joven y mas poderoso Ani quiero tener a nuestro bebe en casa en Naboo Podemos ir a los lagos y nadie se enterara Ahi podemos estar a salvo Puedo ir antes y arreglar el cuarto del bebe Conozco el lugar perfecto junto a los jardines Eres tan hermosa Solo porque estoy enamorada No Es porque yo estoy enamorado de ti Entonces el amor te ha cegado No quise decir eso Pero probablemente sea verdad Anakin ayudame Que te preocupa Nada Recuerdo cuando te di esto Cuanto tiempo nos llevara ser sinceros el uno con el otro  Fue un sueno  Feo Como los que tenia sobre mi mama justo antes de que muriera Y Y se trataba de ti Cuentame Solo fue un sueno Te mueres al dar a luz Y el bebe No se  Solo fue un sueno  No permitire que se vuelva realidad Este bebe cambiara nuestras vidas Dudo que la Reina me permita seguir en el senado Y si el Consejo se entera de que eres el padre te Ya lo se Ya lo se Crees que ObiWan nos pueda ayudar No necesitamos su ayuda Nuestro bebe es una bendicion Premoniciones Premoniciones Estas visiones que tienes Son de dolor sufrimiento muerte De ti mismo hablas o de alguien que conoces De alguien Cercano a ti Si Cuidado debes tener al percibir el futuro Anakin El miedo a perder es un camino al lado oscuro No permitire que estas visiones se realicen maestro Yoda Parte natural de la vida la muerte es Regocijate por aquellos que en la Fuerza se transforman Llorarlos no debes Extranarlos tampoco El apego lleva a los celos La sombra de la avaricia son Que debo hacer maestro Yoda Entrenate para dejar libre todo lo que temes perder Te perdiste el informe sobre los sitios de la Orilla Exterior Disculpe me retrase No tengo excusa En pocas palabras van muy bien Saleucami cayo y el maestro Vos traslado sus tropas a Boz Pity Cual es el problema entonces Esperan que el senado le adjudique mas poderes ejecutivos al canciller hoy Eso significa menos deliberacion y mas accion Eso es malo Sera mas facil poner fin a esta guerra Ten cuidado con tu amigo Palpatine De que me tengo que cuidar  Solicito tu presencia  Para que Se nego a decirnos No le informo al Consejo Eso es raro no Todo esto es raro Y me esta causando ansiedad Espero que confies en mi Anakin Por supuesto Necesito tu ayuda hijo De que habla Cuento contigo Para que No entiendo Para ser los ojos los oidos y la voz de la Republica Anakin te nombro mi representante personal en el Consejo Jedi Yo Ser un maestro Me abruma senor Pero el Consejo elige a sus miembros Jamas aceptara esto Yo creo que si Te necesitan mas de lo que te imaginas Permitir este nombramiento a la ligera el Consejo se niega Turbador es este paso del canciller Palpatine Entiendo Eres parte del Consejo pero no te damos el titulo de maestro Que Como pueden hacer esto Es inaudito Es injusto Como puede uno estar en el Consejo y no ser un maestro Toma asiento joven Skywalker Perdoneme maestro Hemos inspeccionado todos los sistemas de la Republica sin encontrar senal del general Grievous Escondido en la Orilla Exterior Grievous esta Los sistemas lejanos registrar deben No tenemos demasiadas naves Y el ataque de los droides a los wookiees Debemos mandar un grupo de ataque de inmediato Tiene razon No podemos perder ese sistema Ir me propongo Buenas relaciones con los wookiees tengo Entonces queda decidido Yoda llevara un batallon de clones para reforzar a los wookiees en Kashyyyk Que la Fuerza nos acompane a todos Que tonteria es esa Aceptarme en el Consejo sin hacerme maestro Nunca habian hecho eso Es un insulto Calmate Anakin Te concedieron un gran honor Jamas habia sucedido que alguien de tu edad estuviera en el Consejo El problema es que eres demasiado amigo del canciller Al Consejo no le gusta que interfiera con los asuntos de los Jedi Le juro que yo no pedi que me pusieran en el Consejo Pero es lo que querias Tu amistad con el canciller Palpatine parece haber rendido frutos Eso no tiene nada que ver El Consejo solo aprobo tu nombramiento porque el canciller confia en ti Y Anakin estoy de tu lado Yo no queria ponerte en esta situacion En cual situacion El Consejo quiere que informes todos los movimientos del canciller Quieren saber que esta tramando Quieren que espie al canciller  Eso es traicion  Estamos en guerra Anakin Por que no me lo dijo el Consejo cuando estabamos reunidos Esta mision no puede ser oficial El canciller no es un hombre malo ObiWan El me dio su amistad El me ha cuidado desde que llegue Por eso nos debes ayudar Anakin nosotros le debemos lealtad al senado no a su lider quien ha conservado el poder mucho mas tiempo del debido El senado exigio que se quedara Usa tus instintos Anakin Algo esta fuera de lugar Me esta pidiendo que haga algo contra el codigo de los Jedi Contra la Republica contra un mentor y amigo Eso esta fuera de lugar Por que me pide eso El Consejo te lo esta pidiendo Anakin no acepto su nueva tarea con mucho entusiasmo Es muy peligroso juntarlos No creo que el muchacho pueda manejar eso No confio en el Con todo el debido respeto maestro no es El Elegido No es el que ha de destruir a los Sith y traer equilibrio a la Fuerza Eso dice la profecia Una profecia que malinterpretada pudo haber sido El no me decepcionara Nunca lo ha hecho Espero que en lo correcto estes A veces me pregunto que le esta pasando a la orden de los Jedi Creo que esta guerra corroe los principios de la Republica Nunca has considerado que quiza estemos del lado equivocado A que te refieres Y si la democracia que creemos servir ya no existe Si la Republica se ha vuelto el mal que queremos destruir Yo no creo eso y tu suenas como una separatista Esta guerra representa una inhabilidad de escuchar Eres el mas cercano al canciller ahora Por favor pidele que pare la guerra y que reanude la diplomacia No me pidas que haga eso Presenta una mocion en el senado que es donde corresponde hacer eso  Que tienes  Nada No hagas esto No te encierres Deja que te ayude Abrazame como cuando estabamos junto al lago en Naboo Hace mucho cuando solo existia nuestro amor No habia politica ni complots ni guerra  Queria verme canciller  Si Anakin Acercate Tengo buenas noticias Nuestras unidades de espionaje han ubicado al general Grievous Se esta escondiendo en el sistema Utapau Por fin Podremos capturar a ese monstruo y terminar esta guerra Dudaria de la sabiduria colectiva del Consejo si no te escogiera para esta mision Tu eres la mejor opcion por mucho Sientate Dejennos Tu sabes que no puedo confiar en el Consejo Jedi Si no te han incluido en su complot pronto te incluiran Creo que no entiendo Debes percibir lo que yo ya sospecho El Consejo Jedi quiere controlar la Republica Estan planeando traicionarme  Yo no creo que  Anakin Busca en tus instintos Tu lo sabes no Se que no confian en usted Ni en el senado Ni en la Republica Ni en la democracia de paso Tengo que admitir que mi confianza en ellos se ha debilitado Por que Te pidieron que hicieras algo que te hizo sentir deshonesto no Te pidieron que me espiaras verdad Yo no No se que decir Acuerdate de tus primeras ensenanzas Todos los que adquieren poder temen perderlo  Incluso los Jedi  Los Jedi usan su poder para el bien El bien es un punto de vista Anakin Los Sith y los Jedi son similares en casi todos los sentidos incluyendo su busqueda por un poder mayor Los Sith confian en su pasion para adquirir su fuerza Piensan hacia adentro solo en si mismos Y los Jedi no Los Jedi son abnegados Solo les importan los demas Alguna vez oiste la tragedia de Darth Plagueis el Sabio Ya me lo imaginaba Los Jedi no cuentan ese tipo de historias Es una leyenda Sith Darth Plagueis era un lord oscuro de los Sith tan poderoso y tan sabio que podia usar la Fuerza para afectar los midiclorianos para crear vida Tenia tal conocimiento del lado oscuro que hasta podia evitar que la gente a la que el queria muriera El podia realmente salvar a la gente de la muerte El lado oscuro de la Fuerza es un camino hacia muchas habilidades que algunos consideran anormales Que le paso Se volvio tan poderoso que la unica cosa que temia era perder su poder y finalmente asi fue Desafortunadamente le enseno a su aprendiz todo lo que sabia Y su aprendiz lo mato mientras dormia Que ironia Podia salvar a los demas de la muerte pero no a si mismo Es posible aprender ese poder Un Jedi no te lo puede ensenar Unidades rojas aqui Palpatine cree que el general Grievous esta en Utapau Interceptaron un mensaje parcial en un paquete diplomatico del presidente de Utapau Actuar de inmediato debemos La captura del general Grievous a esta guerra pondra fin Rapida y decisivamente debemos proceder El canciller ha solicitado que yo dirija la campana El Consejo tomara la decision de quien ira no el canciller Un maestro se necesita con mas experiencia Opino lo mismo Debe ir el maestro Kenobi Estoy de acuerdo Secundo Secundo Muy bien se levanta la sesion Los droides encendieron sus generadores Entonces este es el momento comandante Si senor Ataquen Cubranse  Me va a necesitar en esta  Estoy de acuerdo Sin embargo quiza resulte ser una persecucion inutil Maestro Lo decepcione No he apreciado su entrenamiento lo suficiente He sido arrogante y le pido disculpas Es que me he sentido muy frustrado con el Consejo Eres fuerte y sabio Anakin y estoy muy orgulloso de ti Te he entrenado desde que eras un nino Te he ensenado todo lo que se Te has convertido en un Jedi mas grande de lo que yo puedo llegar a ser Pero ten paciencia Anakin El Consejo no tardara en convertirte en un maestro Jedi ObiWan Que la Fuerza lo acompane Adios viejo amigo Que la Fuerza te acompane Por suerte la mayoria de las ciudades estan concentradas en este continente En el lado lejano Los distraere hasta que Ud llegue ahi  Pero no tarde demasiado  Cuando le he fallado Muy bien Tendre que evitar destruir a todos los droides hasta que Ud llegue Conserva tu energia No puedo No te rindas Padme ObiWan estuvo aqui verdad Vino esta manana Que queria Esta preocupado por ti Dice que has estado muy estresado Me siento perdido Perdido Que quieres decir ObiWan y el Consejo no confian en mi Te confian sus vidas Algo esta pasando No soy el Jedi que deberia ser Quiero mas Y se que no deberia Esperas demasiado de ti mismo  Encontre una manera de salvarte  De salvarme De mis pesadillas Eso es lo que te esta molestando No te perdere Padme No voy a morir en el parto Ani  Te lo prometo  No yo te lo prometo Saludos joven Jedi Que lo trae a nuestro remoto santuario Lamentablemente la guerra Aqui no hay guerra a menos que la haya traido con usted Con su permiso quisiera combustible y usar su ciudad como una base mientras busco al general Grievous en sistemas cercanos El esta aqui Nos tiene de rehenes  Nos estan vigilando  Entiendo Nivel  Miles de droides de combate Digale a su gente que busque refugio Si tiene guerreros este es el momento Llevate el caza de regreso a la nave Dile a Cody que hice contacto  Trae guerreros adicionales  No dijo No falta mucho para que los ejercitos de la Republica nos encuentren aqui Los voy a mandar al sistema Mustafar en la Orilla Exterior Es un planeta volcanico  Estaran a salvo ahi  A salvo El canciller Palpatine se las ingenio para escapar de sus garras general Sin el conde Dooku dudo que Ud pueda mantenernos a salvo De gracias virrey que Ud no se ha encontrado en mis garras Su nave lo esta esperando Que tal General Kenobi Es usted muy atrevido Matenlo Retrocedan Yo mismo me encargare de esta escoria Jedi Te toca Tonto A mi me entreno en tus artes de Jedi el conde Dooku Ataca Kenobi Con o sin ejercito debes darte cuenta de que estas perdido No me parece Cubran esa esquina Maestro Windu puedo interrumpir El general Kenobi ha hecho contacto con el general Grievous y empezamos el ataque Gracias comandante Anakin entrega este informe al canciller Su reaccion nos revelara sus intenciones Si maestro Percibo un complot para destruir a los Jedi El lado oscuro de la Fuerza rodea al canciller Si no renuncia a sus poderes de emergencia despues de la destruccion de Grievous debera ser relevado de su cargo El Consejo Jedi debe controlar el senado para asegurar una transicion pacifica A un lugar oscuro esa manera de pensar nos llevara Gran cuidado debemos tener Canciller Acabamos de recibir un informe del maestro Kenobi Ha atacado al general Grievous Espero que el maestro Kenobi este a la altura del reto Yo deberia estar ahi con el Me perturba ver que el Consejo no aprecie completamente tus talentos No te preguntas por que no te han convertido en maestro Jedi Ojala lo supiera Cada vez mas tengo la sensacion de que me estan excluyendo del Consejo Se que hay cosas de la Fuerza que no me estan diciendo No confian en ti Anakin Ven tu futuro Saben que tu poder sera demasiado fuerte para poder controlarlo Debes atravesar la niebla de mentiras que los Jedi han creado a tu alrededor Deja que te ayude a conocer las sutilezas de la Fuerza Como las conoce usted Mi mentor me enseno todo acerca de la Fuerza Incluso la naturaleza del lado oscuro Conoce el lado oscuro Si uno quiere entender el gran misterio uno debe estudiar todos sus aspectos no solo la estrecha vision dogmatica de los Jedi Si deseas convertirte en un lider completo y sabio debes abrazar una vision mas grande de la Fuerza Ten cuidado con los Jedi Anakin Solo a traves de mi alcanzaras un poder mas grande que el de cualquier Jedi Aprende a conocer el lado oscuro de la Fuerza y podras salvar a tu esposa de una muerte segura Que dijo Usa mi conocimiento te lo ruego Usted es el Lord Sith Yo se lo que te ha estado preocupando Escuchame No sigas siendo un peon del Consejo Jedi Desde que te conoci has estado buscando una vida mayor que la de un Jedi ordinario Una vida de significado de conciencia  Me vas a matar  Eso me gustaria Ya lo se Siento tu enojo Hace que te concentres te hace mas fuerte Voy a entregarlo al Consejo Jedi Claro Deberias hacer eso Pero no estas seguro de sus intenciones verdad Descubrire rapidamente la verdad de todo esto Tienes una gran sabiduria Anakin Conoce el poder del lado oscuro El poder para salvar a Padme Que incivilizado Ni que lo digas Chewie De donde sacaste a ese viejo fosil Ben es un gran hombre  Muy grande creandonos problemas  Has aportado tu alguna idea Cualquier cosa es mejor que esperar aqui a que vengan a capturarnos Quien te crees  Que le pasa  Me temo que no estoy seguro senor Dice La he encontrado y repite Ella esta aqui A quien A quien ha encontrado  A la princesa Leia  La Princesa Esta aqui  Princesa  Donde esta Princesa Que pasa aqui Nivel  bloque de detencion AA Me temo que han ordenado su ejecucion No Tenemos que hacer algo  De que estas hablando  Los androides son suyos Sale en el mensaje Hay que ayudarla Mira no me vengas con tonterias El viejo ha dicho que le esperemos No sabia que ella estaba aqui Busca la forma de llegar a ese bloque  No pienso ir a ninguna parte  La van a ejecutar Has dicho que no querias esperar aqui Ahora quieres quedarte Colarme en un centro de detencion no es lo que tenia pensado  Pero la van a matar  Mejor a ella que a mi Es rica Rica Rica y poderosa Si la rescatas la recompensa seria  Cuanto  Mas de lo que te puedas imaginar No se soy capaz de imaginarme mucho  Lo tendras  Mas vale Seguro De acuerdo muchacho Mas vale que tengas razon  De acuerdo  Que plan tienes PO dame esas argollas quieres Bien Ahora voy a ponertelas a ti De acuerdo Han ponselas tu Tranquilo Chewie Creo que se lo que tiene pensado Amo Luke disculpe la pregunta pero que haremos R y yo si nos descubren aqui  Cerrar la puerta  Y confiar en que no tengan explosivos Eso no es nada tranquilizador  a control de registro No veo nada con este casco  Esto no va a salir bien  Por que no me lo dijiste antes Si te lo dije antes Adonde llevan esa cosa Trasladamos a este preso desde el bloque  No se me ha comunicado Tendre que comprobarlo  Cuidado Se ha soltado  Nos hara pedazos Cuidado Tenemos que averiguar en que celda esta tu princesa Aqui esta  Ve por ella Yo los entretendre desde aqui Todo esta en orden Situacion normalizada Que ha pasado Tuvimos un pequeno fallo con un arma pero ya esta todo bien Estamos bien Estamos todos muy bien Gracias  Y ustedes  Vamos a enviar una patrulla Negativo negativo Tenemos un escape en el reactor Denos unos minutos para sellar la zona Es un escape grande muy peligroso Quien habla Cual es tu numero de clave Que conversacion mas aburrida Luke vamos a tener compania No eres un poco bajo para ser un soldado de asalto Si el uniforme Soy Luke Skywalker He venido a salvarla  Quien eres  He venido a salvarla Tengo a R He venido con Ben Kenobi  Ben Kenobi Donde esta  Vamos  Esta aqui  ObiWan Kenobi  Que te hace creer eso  Un estremecimiento de la Fuerza La ultima vez que lo senti fue en presencia de mi viejo maestro Seguramente ya debe de estar muerto No subestimes a la Fuerza Los Jedi fueron extinguidos Su fuego desaparecio del universo Tu amigo mio eres lo unico que queda de su religion Si Tenemos una alerta de emergencia en el bloque de detencion AA La Princesa Que todas las secciones esten en alerta ObiWan esta aqui La Fuerza esta con el Si tienes razon no le permitiremos que escape Su plan no es escapar He de enfrentarme a el a solas Ponte detras de mi A la izquierda Se han ido por el tunel  Por ahi no se puede salir  Cortaste nuestra unica salida Su Alteza hubiera preferido seguir en la celda  CPO CPO  Si senor Hay otras salidas del bloque de celdas Estamos atrapados Que has dicho No te he oido He dicho que todos los sectores estan alertados sobre su presencia No hay mas entrada ni salida que la principal La demas informacion sobre su nivel es confidencial Abran aqui Abran aqui No No hay ninguna otra salida No podre seguir entreteniendolos Que hacemos Que rescate No tenian un plan para salir de aqui El cerebro es el encanto Bueno yo no  Que diablos haces  Alguien tiene que salvarnos la piel Por el vertedero de desperdicios Metete Metete zoquete peludo Me da igual lo que huelas Metete y deja ya de protestar Es una chica maravillosa Acabare matandola o empezara a gustarme Metete ahi Esto del vertedero ha sido una idea magnifica Que olor mas delicioso has descubierto Salgamos de aqui  Apartate  No espera Ya lo intente Esta sellado magneticamente Suelta esa arma Nos vas a matar a todos Claro Alteza Tenia la situacion controlada hasta que nos has traido aqui No tardaran mucho en descubrir donde estamos Podria haber sido peor Es peor  Aqui hay algo vivo  Son imaginaciones tuyas Algo ha pasado rozandome la pierna Mirad Han visto eso Que Muchacho Luke Agarrate Maldita sea Se me ha encasquillado  Donde disparo  Donde sea Ayudale  Que ha pasado  No lo se Me ha soltado de repente y ha desaparecido Esto me huele muy mal  Las paredes se estan moviendo  Intenten apuntalarlas con algo Ayudenme Un momento PO Contesta PO PO Donde se habra metido Adelante Encarguense de el Miren ahi Estan locos Van al nivel de la prision Si se dan prisa los alcanzaran Siganme Tu quedate vigilando Vamos Con tanto jaleo se han fundido los circuitos de mi homologo Si no te importa quisiera llevarlo al taller de reparaciones De acuerdo PO Contesta PO PO  Ponte encima  No puedo Donde estara PO PO quieres contestar No estan aqui Tiene que haberles ocurrido algo Mira a ver si los han capturado Date prisa Una cosa si es segura acabaremos todos mas delgaditos  Sube hasta arriba  Eso intento Menos mal que no los han encontrado Donde estaran Que utilice el intercomunicador Vaya lo habia olvidado Lo he apagado  Esta Ud ahi senor  PO  Hemos tenido algunos problemas  Callate y escuchame Desconecta los trituradores de basura del bloque de detencion Me has oido Desconecta los trituradores de basura del bloque de detencion Desconecta los trituradores de basura del bloque de detencion No desconectalos todos Deprisa Que Muy bien PO Escuchalos Se estan muriendo R No he sido lo bastante rapido Todo ha sido culpa mia Mi pobre amo Estamos bien Lo has hecho muy bien Abre la escotilla de acceso de la unidad Donde estamos  POTENCIA CAMPO DE TRACCION Si prescindimos de nuevos consejos femeninos quiza salgamos de aqui Pues en marcha Adonde vas Espera Lo van a oir Ven aqui cobarde  Chewie ven aqui  Escuchen No se quienes son ni de donde vienen pero a partir de ahora haran lo que yo diga de acuerdo Mira Excelencia a ver si dejamos las cosas claras Yo solo recibo ordenes de una sola persona de mi Pues es un milagro que sigas vivo Quiere alguien quitarme de delante a este felpudo con patas No hay recompensa que merezca la pena por esto  Informenme con regularidad por favor  Bien  Sabes lo que pasa  Quiza sea otro ejercicio Has visto ya el nuevo VT Si ya me habian hablado de el Dicen que es algo extraordinario Que ha sido eso Nada Una desgasificacion No te preocupes  Ahi esta  CPO me recibes Si senor  Estan a salvo  Por el momento Estamos en el hangar al otro lado de la nave Estamos justo encima Han venido en eso Hay que tener valor Muy graciosa Vamos Son ellos Disparen Regresen a la nave  Adonde vas  Desde luego es valiente De que nos va a servir si lo matan Vamos Creo que nos hemos equivocado No tiene cerradura  Eso los entretendra un rato  Rapido tenemos que cruzar  Y los mandos que extienden el puente  Creo que acabo de destrozarlos Van a atravesar Toma sujeta esto Ya estan aqui Buena suerte Creemos que se han separado Pueden estar en los niveles  y  Donde estaran Cierren las compuertas Abran las compuertas Abran las compuertas Te he estado esperando ObiWan Por fin volvemos a encontrarnos Ya se ha cerrado el circulo Cuando me fui no era mas que el aprendiz Ahora yo soy el maestro Solo un maestro del mal Darth Tus poderes son debiles anciano No puedes vencer Darth Si logras abatirme me volvere mucho mas poderoso de lo que puedes imaginarte No debiste volver No se acabara nunca esta fiesta  Por que tardaron  Nos topamos con unos amigos  Esta bien la nave  Eso parece si llegamos hasta ella Ojala el viejo haya desconectado el campo de traccion Miren Vamos R Nos vamos Ahora Vamos Vamos Vamos  Luke es demasiado tarde  Vuela la compuerta Corre Luke Corre Espero que haya desconectado el campo de traccion o no llegaremos lejos Adelante Nos acercamos a sus naves centinelas Orienta los escudos deflectores mientras cargo los canones principales No puedo creer que se haya muerto No podias haber hecho nada Vamos aun no hemos salido de esta Listo muchacho Bien estate alerta Ahi vienen Van demasiado aprisa  Hemos perdido los controles laterales  Tranquila la nave aguantara Me oyes nena Aguanta Le he dado Le he dado Muy bien chico No te pongas fanfarron Quedan dos mas  Ya esta lo hemos conseguido  Lo hemos conseguido Socorro Me voy a fundir Y todo por tu culpa Han logrado escapar Acaban de dar el salto al hiperespacio Seguro que la baliza de seguimiento esta bien asegurada a bordo de la nave Estoy corriendo un riesgo tremendo Vader Mas vale que esto funcione Ese rescate no ha estado nada mal no Sabes A veces me asombro incluso a mi mismo Eso no parece que sea muy dificil Nos han dejado escapar Por eso hemos escapado tan facilmente  A eso lo llamas facil  Nos estan siguiendo A esta nave no hermana Al menos la informacion en R sigue intacta Por que es tan importante Que es lo que lleva Los planos tecnicos de esa estacion de combate Mi unica esperanza es que al analizarlos encontremos un punto debil  Esto aun no ha terminado  Para mi si hermana Yo no me meti en esto por la revolucion ni tampoco por ti Princesa Espero que se me pague bien Lo hago por dinero No te preocupes por tu recompensa Si el dinero es lo unico que te importa eso sera lo que recibas Tu amigo es todo un mercenario Dudo que sea capaz de interesarse por algo o por alguien Yo si soy capaz Asi que que opinas de ella Han Trato de no opinar Bien Aunque tiene mucho caracter A ti que te parece Crees que una princesa y un tipo como yo No Estan a salvo Al saber lo de Alderaan nos temimos lo peor No hay tiempo para lamentaciones comandante Debe utilizar la informacion en el R para preparar un plan de ataque Es nuestra unica esperanza  Si  Nos acercamos al planeta Yavin La base rebelde esta en una luna al otro lado Nos preparamos para orbitar el planeta La estacion de combate esta muy bien acorazada y posee una potencia de fuego superior a la de la mitad de la flota Sus defensas estan disenadas para prevenir un ataque a gran escala Un pequeno caza monoplaza podria atravesar las defensas exteriores Disculpe pero que puede hacer un pequeno caza contra eso El Imperio no cree que un caza monoplaza represente un serio peligro de lo contrario tendrian mejores defensas El analisis de los planos que nos ha traido la princesa Leia ha demostrado que existe un punto debil en la estacion de combate Pero llegar a el no va a ser facil Tendran que maniobrar a lo largo de esta trinchera y volar a ras de suelo hasta este punto El blanco solo tiene dos metros de anchura Es una pequena abertura de escape justo debajo de la abertura principal El conducto lleva al sistema de reactores Un impacto directo provocaria una reaccion en cadena que destruiria la estacion Solo un impacto directo puede provocar esa reaccion El conducto esta protegido asi que usaran torpedos de protones Es imposible hasta para un ordenador No es imposible Yo hacia diana con ratas womp en mi T Y no miden mas de dos metros A sus naves y que la Fuerza los acompane Orbitando el planeta a la velocidad maxima La luna con la base rebelde estara a tiro dentro de  minutos Este sera un dia recordado durante mucho tiempo Ha visto el fin de Kenobi y pronto vera el fin de la rebelion Todos los pilotos a sus naves Recibiste tu recompensa y ya te vas Exacto si Tengo viejas deudas que tengo que saldar con esto Y aunque no fuera asi no me creeras tan estupido como para quedarme Por que no vienes con nosotros Luchas bien Podrias venirnos bien Vamos Por que no miras a tu alrededor Sabes lo que va a pasar a lo que se enfrentan Les vendria bien un piloto como tu Les has vuelto la espalda De que te sirve una recompensa estando muerto Ademas atacar esa estacion no es lo que yo entiendo por tener valor Es tener ganas de suicidarse De acuerdo Pues cuidate Han Es lo que mejor sabes hacer verdad Oye Luke Que la Fuerza te acompane Que estas mirando Se muy bien lo que hago Todos los pilotos a sus naves  Que te pasa  Es Han No se creia que iba a cambiar de opinion Ha de seguir su propio camino Nadie puede elegir por el Ojala estuviera aqui Ben Abran tubos principales de lanzamiento Abriendo tubos principales de lanzamiento Oye Luke  Biggs  No puedo creerlo Como estas  Vienes con nosotros  Los acompanare ahi arriba  Tengo muchas cosas que contarte  Skywalker Estas seguro de que sabes manejar esta nave Senor Luke es el mejor piloto de los territorios exteriores  Lo haras muy bien  Gracias senor Lo intentare Tengo que subir a bordo Ya oiremos tus historias cuando volvamos si Oye Biggs Te dije que algun dia lo conseguiria Sera como en los viejos tiempos Luke Jamas nos detendran Tu unidad R esta danada Quieres una nueva Ni hablar Este androide y yo hemos pasado por mucho juntos Estas bien R Muy bien Escuadron Oro inicien procedimiento de despegue Agarrate bien R Tienes que volver No querras que mi vida sea aburrida verdad Luke la Fuerza te acompanara Alerta Se aproxima la Estrella de la Muerte Estaremos a tiro dentro de  minutos  Informen todas las unidades  Rojo  listo  Rojo  listo  Rojo  listo  Rojo  listo  Rojo  listo  Rojo  listo  Rojo  listo Rojo  listo Alas en posicion de ataque Hemos entrado en su campo magnetico Agarrense bien Conecten sus deflectores Maniobren al frente Es inmensa Deja de chacharear Rojo  Aceleren hasta velocidad de ataque  Alla vamos chicos  Jefe Rojo aqui Jefe Oro  Te recibo Jefe Oro  Nos dirigimos al objetivo Estamos en posicion Voy a cruzar su eje para atraer el fuego sobre mi  Fuego intenso jefe  grados  Ya lo veo Vuelen bajo Aqui Rojo  Voy a entrar Luke asciende  Estas bien  Un poco tostado pero bien Son  naves rebeldes pero tan pequenas que escapan a nuestros turbolaseres Tendremos que destruirlas una por una Prepara a nuestros cazas Cuidado Hay fuego intenso desde la derecha de esa torre de deflexion Estoy justo encima  Alla voy Cubreme Porkins  Te sigo Rojo  Tengo un problema  Sal  Puedo controlarlo  Asciende  No estoy bien La base rebelde estara a tiro dentro de  minutos Luke confia en tu instinto Jefes de escuadron estamos recibiendo nuevas senales Se dirigen cazas enemigos hacia ustedes No veo nada en mi radar  Pasa a control visual  Ahi vienen Cuidado llevas uno detras Me han dado  Te sigue uno cuidado  No lo veo Lo tengo pegado Voy enseguida Varios cazas se han separado del grupo principal Vengan conmigo  Vuelvan a la formacion  Cuidado atras Luke Se aproximan cazas por encima Me han dado pero no es grave R a ver que puedes hacer Agarrate bien Rojo  ves a Rojo  Hay un fuego muy intenso Rojo  donde estas No puedo librarme de el Voy por el Luke Maldita sea Biggs Donde estas  Gracias Wedge  Buena punteria Wedge Jefe Rojo aqui Jefe Oro Iniciamos nuestro ataque Recibido Jefe Oro Ponganse en posicion Mantenganse en formacion de ataque La abertura de escape esta localizada y programada Desvien toda la potencia a la pantalla deflectora delantera Desvien toda la potencia a la pantalla deflectora delantera Cuantos canones calculas Oro  Alrededor de  en la superficie y en las torres Estaremos a tiro de la Estrella de la Muerte dentro de  minutos Cambiando a ordenador de seleccion del objetivo Ordenador conectado Recibo la senal Los canones Han dejado de disparar Fijen sus deflectores traseros Cuidado con los cazas enemigos Ahi vienen Tres naves a  Yo me encargo de ellos Cubranme Si senor  Es inutil No puedo maniobrar  Sigue hacia el objetivo  Estamos demasiado cerca  Sigue hacia el objetivo Dispara Oro  a Jefe Rojo Hemos perdido a Tiree y a Hutch  Recibido  Han venido por detras Hemos analizado el ataque senor y existe peligro Quiere que tenga su nave lista Para evacuar En nuestro momento triunfal Creo que sobreestima sus posibilidades Base rebelde a tres minutos Unidades rojas aqui Jefe Rojo Punto de reunion en    Aqui Rojo  voy hacia ustedes  Rojo  preparado Jefe Rojo aqui Base  Deje la mitad de su grupo detras para la proxima oleada Recibido Base  Luke llevate a Rojo  y Rojo  Esperen aqui a mi senal para atacar Alla vamos Ya deberiamos de tenerlo a la vista Cuidado con esos cazas Hay demasiadas interferencias Rojo  los ves  Aun no Espera vienen por   Ya los veo Lo tengo a tiro Se acerca el objetivo Intenta entretenerlos unos segundos Formacion cerrada Ya casi estoy  Dispara Los tengo justo detras  Ya casi estoy No puedo detenerlos Ya lo he soltado  Ha dado en el blanco  Negativo Negativo No ha entrado Fue un impacto en la superficie Jefe Rojo estamos encima de ti Pasa a  Te cubriremos Quedate donde estas He perdido mi reactor de estribor Preparense para su ataque Base rebelde a un minuto Biggs Wedge vamos alla Vamos a entrar a toda potencia Nos quitaremos a esos cazas de encima Te sigo jefe Podras remontar a tiempo a tanta velocidad Sera como el Canon del Mendigo en mi planeta Nos quedaremos detras para cubrirte Mi radar senala la torre pero no veo la abertura de escape Seguro que el ordenador hara diana Cuidado Aumenta a tope la velocidad Que me dices de la torre Ocupate de los cazas Yo me encargo de la torre R el estabilizador se ha vuelto a soltar A ver si puedes asegurarlo Vienen cazas por   Me han dado Ya no puedo seguirlos  Vete Wedge  Ya no puedes hacer nada ahi detras  Lo siento Dejenlo Sigan a su jefe Aprisa Luke Esta vez vienen mucho mas deprisa R aumenta la potencia Date prisa Luke Rapido Rapido Base rebelde a  segundos Voy tras su jefe Aguanta R Utiliza la Fuerza Luke Dejate llevar Luke La Fuerza es intensa en este Luke confia en mi Ha desconectado el ordenador Luke has desconectado tu ordenador Que pasa Nada Todo va bien He perdido a R La Estrella de la Muerte ha franqueado el planeta La Estrella de la Muerte ha franqueado el planeta Base rebelde a tiro Abran fuego en cuanto esten listos Comiencen ignicion inicial Ya te tengo Que es eso Cuidado No hay moros en la costa Vuela esta estacion y vamonos a casa Atentos Atentos Buen disparo muchacho Recuerda la Fuerza siempre te acompanara Sabia que volverias Lo sabia No iba a dejar que te llevaras todo el merito tu Sabia que el dinero no lo era todo para ti No Cielos R me oyes Di algo Podran repararlo verdad  Nos pondremos a trabajar en el  Tienen que repararlo Si sirven algunos de mis circuitos o engranajes estoy dispuesto a donarlos Quedara perfectamente Hace mucho tiempo en una galaxia muy muy lejana Episodio V EL IMPERIO CONTRAATACA Son dias oscuros para la rebelion Aunque la Estrella de la Muerte fue destruida las tropas Imperiales han llevado a las fuerzas rebeldes a sus bases ocultas y los han perseguido a traves de la galaxia Evadiendo la temida Flota Imperial un grupo de combatientes liderados por Luke Skywalker se ha establecido en una nueva base secreta en el remoto y helado planeta de Hoth El malvado Lord Darth Vader obsesionado por encontrar al joven Skywalker ha enviado miles de sondas a lejanos lugares del espacio Eco  a Eco  Han viejo amigo me recibes Alto y claro muchacho Que pasa He acabado mi ronda No veo signos de vida En este cubo de hielo no hay vida ni para un crucero espacial  Los sensores estan colocados  Bien nos veremos pronto Un meteorito ha caido cerca de aqui Quiero inspeccionarlo No tardare Tranquila Tranquila chica Que sucede Hueles algo Chewie Chewie De acuerdo no pierdas los estribos Volvere y te echare una mano Solo No hay senales de vida Los sensores estan colocados  Si algo se acerca lo sabra  Ha vuelto el comandante Skywalker No esta inspeccionando un meteorito que cayo Con tantos meteoritos sera dificil detectar naves que se acerquen Tengo que irme No puedo quedarme mas  Siento oir eso  Mi cabeza tiene un precio Si no saldo mi cuenta con Jabba el Hutt soy hombre muerto No es facil vivir con la amenaza de la muerte Es un buen luchador Solo Lamento perderlo Gracias general Bien Alteza Supongo que eso es todo Asi es No te entristezcas por mi Hasta luego Princesa Han  Si Alteza  Creia que habias decidido quedarte El cazador de recompensas en Ord Mantell me hizo cambiar de idea Han te necesitamos  Necesitamos  Si  Y lo que necesitas tu  Yo No se de que estas hablando  Es posible que no  Que se supone que debo saber Vamos quieres que me quede por lo que sientes por mi Si eres de gran ayuda para nosotros Eres un lider nato No No es por eso Vamos  Vamos  Te estas imaginando cosas De veras Entonces por que me sigues Temias que me fuera sin darte un beso  Besaria antes a un wookiee  Eso puede arreglarse Te vendria bien un buen beso No me culpes Yo no te pedi que encendieras el calentador termal Solo comente que la habitacion de la Princesa estaba helada Pero se supone que esta helando Como vamos a secar su ropa No lo se Apagate Por que desmontas esto Estoy intentando salir de aqui  Perdone  Vuelve a montarlo ahora mismo  Me permite una palabra  Que quieres La princesa Leia intenta llamarlo por el comunicador Lo he apagado No quiero hablar con ella Pero esta preocupada por el amo Luke No ha vuelto  No sabe donde esta  Yo tampoco lo se  Nadie sabe donde esta  Como que nadie lo sabe Oficial de cubierta  Oficial de cubierta  Perdone senor Podria Y el comandante Skywalker No lo he visto Tal vez ha llegado por la entrada sur Tal vez Por que no va a averiguarlo  Esta oscureciendo  Si senor Perdone senor Puedo preguntarle que pasa  Por que no  Un hombre imposible Vamos R Busquemos a la princesa Leia Entre nosotros el amo Luke esta en grave peligro El comandante Skywalker no ha llegado por la entrada sur  Quiza ha olvidado registrarse  Lo dudo Estan los speeders Aun no No podemos adaptarlos al frio  Saldremos con los tauntauns  La temperatura baja rapidamente Exacto y mi amigo esta ahi fuera Su tauntaun se congelara antes de llegar al primer registro Entonces lo vere en el infierno Tienes que venir R No hay nada mas que podamos hacer Y mis articulaciones se estan congelando No digas esas cosas Claro que volveremos a ver al amo Luke Y estara bien ya lo veras Pusilanime cortocircuito Estara perfectamente Senor todas las patrullas han vuelto y todavia Todavia no hay contacto con Skywalker ni con Solo R dice que no ha podido captar ninguna senal aunque admite que su radio de accion es demasiado corto para perder toda esperanza Alteza no podemos hacer nada mas esta noche Hay que cerrar las puertas blindadas  Cierren las puertas  Si senor R dice que las probabilidades de supervivencia son una entre  En realidad R ha cometido errores antes de vez en cuando Cielos No te preocupes por el amo Luke Seguro que estara bien Para tratarse de un ser humano es bastante ingenioso Luke Luke Ben Iras al sistema Dagobah Sistema Dagobah Alli aprenderas de Yoda el maestro Jedi que me instruyo a mi No me hagas esto Luke Vamos dame una senal  No tenemos mucho tiempo  Ben Aguanta hijo El sistema Dagobah Dagobah Puede que esto huela mal Yoda Pero te mantendra caliente mientras construyo un refugio Ben Dagobah Y yo que creia que olian mal por fuera Base Eco detecto algo Podria ser una forma de vida Comandante Skywalker me recibe Aqui Rogue  Aqui Rogue  Capitan Solo me recibe Comandante Skywalker me recibe Aqui Rogue  Buenos dias Gracias por la visita Base Eco aqui Rogue  Los he encontrado Repito los he encontrado Amo Luke me alegra verlo en completo funcionamiento  Gracias PO  R tambien expresa su alivio Que tal te encuentras muchacho No tienes mal aspecto Pareces lo bastante fuerte para arrancar las orejas a un gundark  Gracias a ti  Ya me debes dos nene Bien Excelencia parece que te las has arreglado para mantenerme aqui un poco mas No tuve nada que ver con eso El general Rieekan considera peligroso que salga cualquier nave antes de activar el campo de energia Es una buena excusa pero creo que no quieres perder de vista a un tipo tan guapo como yo No se de donde sacas esas ilusiones cabeza de chorlito Riete felpudo con patas Tu no nos viste en la galeria sur a solas Expreso sus verdaderos sentimientos hacia mi Que Presumido estupido anormal piojoso Quien es un piojoso He debido de dar muy cerca del blanco para que se enfade asi no Supongo que aun no lo sabes todo acerca de las mujeres Personal de jefatura presentense al comando central Personal de jefatura presentense al comando central Tu tranquilo Perdonenos por favor Princesa tenemos visita Hemos observado algo en la Zona  que se mueve hacia el este  Es metalico  No puede ser una de esas criaturas  Puede ser uno de nuestros speeders  No Un momento Ahora llega una senal muy debil Senor soy experto en  millones de formas de comunicacion Esa senal no la utiliza la Alianza Podria ser una clave imperial No es un amigo Chewie vayamos a investigarlo Envie a los Rogues  y  a la Estacion   Me temo que no queda mucho  Que era Una especie de androide No le he dado tan fuerte  Ha debido de autodestruirse  Un androide imperial sonda Apuesto a que el Imperio sabe que estamos aqui Sera mejor que empecemos la evacuacion  Almirante  Si capitan Hemos encontrado algo Es un informe fragmentado de un androide sonda en el sistema Hoth pero es la mejor pista que tenemos Tenemos miles de androides sonda registrando la galaxia  Quiero pruebas no pistas  Las visuales indican que hay vida Podria ser cualquier cosa Si siguieramos todas las pistas Se supone que el sistema Hoth carece de vida humana  Han encontrado algo  Si milord Es ahi Los rebeldes estan ahi Milord hay tantas colonias desconocidas  Podrian ser contrabandistas  Ese es el sistema Estoy seguro de que Skywalker esta con ellos Fijen el rumbo hacia el sistema Hoth General Veers prepare a sus hombres Almirante Los grupos  y  pilotearan los speeders Cuando se carguen los transportes tendremos autorizacion para despegar Bien senor Muy bien ya esta Intentalo Apagalo Apagalo Senor tardaremos mucho en evacuar los T Olvidate del equipo pesado Lleva los modulos pequenos  Cuidese senor  Gracias Chewie cuidate de acuerdo Bueno bueno Hola muchacho Debe de haber una razon para esto Revisa el otro extremo Espera un momento  Estas bien  Si Ten cuidado Tu tambien General una flota de destructores se acerca desde el hiperespacio por el Sector  Desvie toda la potencia al campo de energia Hay que aguantarlos hasta que los transportes se hayan ido Preparense para un ataque terrestre Que pasa general La flota ha salido de la velocidad luz ComScan ha detectado un campo de energia que protege una zona del sexto planeta del sistema Hoth Es lo bastante fuerte para desviar cualquier bombardeo Los rebeldes han detectado nuestra presencia El almirante Ozzel salio de la velocidad luz demasiado cerca del sistema  Creyo que la sorpresa era lo mejor  Es tan torpe como estupido General prepare las tropas para un ataque de superficie Si milord Lord Vader La flota ha salido de la velocidad luz y nos estamos preparando Me ha fallado usted por ultima vez almirante  Capitan Piett  Si milord Nuestras tropas aterrizaran detras de su campo de energia y luego despliegue la flota para que nada salga del sistema Ahora esta usted al mando almirante Piett Gracias Lord Vader Los transportes de tropas se concentraran en la entrada norte Las naves de transporte pesado partiran en cuanto se carguen Solo dos cazas como escolta por cada nave El campo de energia solo puede abrirse durante un momento asi que permaneceran muy cerca de los transportes Dos cazas contra un destructor estelar El canon de iones disparara varias veces para que ninguna nave enemiga este dentro de su trayectoria Cuando salgan del campo de energia vayan directamente al punto de reunion Entendido Buena suerte Todos a sus puestos Vamos Su objetivo principal seran los generadores de energia Preparados para abrir el campo Senor naves rebeldes se acercan a nuestro sector Bien Nuestra primera pieza del dia Atencion control ion Fuego El primer transporte ha partido El primer transporte ha partido  Se encuentra bien senor  Estoy como nuevo Dak Y tu Ahora mismo yo solo podria acabar con todo el Imperio Si lo comprendo Base Eco T Hemos avistado walkers imperiales Walkers imperiales en la cresta norte Base Eco  estamos en ruta Bien muchachos mantenganse unidos No tengo un vector de aproximacion No estoy listo Tranquilo Dak Formacion de ataque Delta Adelante Alla voy Hobbie sigues conmigo Su blindaje es demasiado fuerte Utilicen arpones y cables de remolque Apunten a las patas Es nuestra unica posibilidad Preparado Dak Tenemos una averia en el control de disparo  Tendre que utilizar el auxiliar  Tu aguanta Aguanta Dak Listo para disparar el cable de remolque Dak Dak Si Lord Vader He llegado al generador de energia central El campo caera dentro de un momento Puede iniciar el aterrizaje Rogue  Adelante Wedge he perdido a mi artillero Tendras que disparar tu Yo te cubrire Fija tu arpon Sigueme en la proxima pasada Alla voy Lider Rogue Preparado Rogue  Activa el arpon Buen disparo Janson Una vuelta mas Cable fuera Sueltalo  Desengancha el cable  Cable desenganchado Vamos  Eso le ha dado  Lo he visto Wedge Bien hecho No podemos proteger dos transportes a la vez Es arriesgado pero no aguantaremos mucho mas No tenemos alternativa  Que despeguen  Evacuen a todo el personal de tierra Este va aqui y este va aqui De acuerdo R cuida muy bien del amo Luke entendido Y tu cuidate tambien Cielos Que desembarquen las tropas para el ataque terrestre Preparados para destruir el generador principal  Rogue  estas bien  Si estoy contigo Lider Prepara el arpon Yo te cubrire  Alla voy  Cuidado con el fuego cruzado Coloquense en posicion  Preparados Mantenganse juntos y en vuelo raso Alla vamos Hobbie Me han dado  Estas bien  Por que sigues aqui  Han alcanzado al mando central  Tienes permiso para irte Tranquila me ire Pero primero te llevare a tu nave Alteza debemos subir a ese transporte Es nuestra ultima esperanza Envie las tropas del Sector  a la ladera sur para proteger a los cazas Las tropas imperiales han entrado en la base Las tropas imperiales Venga vamonos De la senal de evacuacion  Y vayan a los transportes  Esperenme Retirense Retrocedan Distancia a los generadores de energia  Objetivo Maxima potencia de fuego Transporte aqui Solo Despeguen no puedo alcanzarlos Me la llevare en el Halcon Vamos Esperen Vuelvan Esperen Esperenme Alto  Tipico  Vamos Corre lingote de oro O te quitaran el brillo Esperen Esperen  Y ahora  Servira de algo si salgo y empujo  Capitan Solo  Quiza Senor puedo sugerirle Puedo esperar Con este trasto no atravesaremos ese bloqueo Aun tiene escondidas algunas sorpresas Vamos Vamos Ignicion Esperemos que no se funda nada Has visto Algun dia te equivocaras y espero verlo Arranca R Prepara la nave para despegar Buena suerte Luke Nos vemos en el punto de reunion No te preocupes R Ya nos vamos No pasa nada R Solo estoy fijando un nuevo rumbo No nos reuniremos con los demas Vamos al sistema Dagobah Si R Tranquilo Me gustaria mantener el control manual durante un rato  Los he visto  El que Destructores estelares se acercan dos  Senor puedo sugerirle  Haz que se calle o apagalo Comprueba el escudo deflector Genial Todavia podemos esquivarlos Maniobra evasiva  Listos para pasar a velocidad luz  Pero senor Se estan acercando Si Pues mira esto Que mire que  Creo que tenemos problemas  Si me permite he notado que ha sido danado el reactor de hipervelocidad Es imposible alcanzar la velocidad luz Tenemos problemas Propulsores horizontales Reguladores aluviales No es eso Traeme la llave neumatica No se como vamos a salir de esta Chewie Eso no ha sido una descarga laser Han ven aqui Vamos Chewie Asteroides  Chewie fija   Que haces No iras a meterte en un campo de asteroides Estan locos si nos siguen No hagas esto para impresionarme Las probabilidades de exito cruzando un campo de asteroides  son de una entre   Nunca me digas las probabilidades Querias verme cometer un error Puede que sea ahora Retiro lo dicho Acabaremos pulverizados si seguimos aqui mucho rato  No te llevare la contraria  Pulverizados Me acercare a uno grande  Acercarte  Acercarte Esto es un suicidio No hay a donde ir Ahi eso tiene buen aspecto Que tiene buen aspecto Si ira de maravilla Perdone senora pero adonde vamos  Espero que sepas lo que haces  Si yo tambien Si eso es Dagobah No no voy a cambiar de opinion sobre esto No detecto ciudades ni tecnologia Pero hay indicios enormes de vida Hay algo vivo ahi abajo Si estoy seguro de que no hay peligro para los androides Lo se lo se Los radares no funcionan No veo nada Tu aguanta Conectare el ciclo de aterrizaje No R tu quedate ahi Yo echare un vistazo R Donde estas R Ten mas cuidado R por ahi R No Estas bien Vamos Tienes suerte de haber salido de ahi Tienes algo roto Si dices que venir aqui fue mala idea empiezo a estar de acuerdo contigo R que estamos haciendo aqui Es como una especie de sueno o No se Tal vez me este volviendo loco Si almirante Hemos avistado al Halcon Milenario pero entro en un campo de asteroides y no podemos arriesgarnos Esos asteroides no me importan almirante  Quiero esa nave no quiero excusas  Si milord Desconectare todo salvo los sistemas de energia de emergencia Casi me da miedo preguntar pero eso incluye desconectarme a mi No necesito que hables con el Halcon Averigua que le pasa a la hipervelocidad Senor es muy posible que el asteroide no sea totalmente estable Que no es totalmente estable Menos mal que estas aqui para decirnoslo Chewie lleva al profesor ahi detras y conectalo al sistema de hipervelocidad A veces no comprendo el comportamiento humano Despues de todo solo trato de hacer mi trabajo Dejame  Dejame por favor  No te excites Capitan el que tu me abraces no es suficiente para excitarme Lo siento preciosa No tenemos tiempo para nada mas Quieres energia De acuerdo Veamos Conecto esto aqui Ya esta Ahora lo que tengo que hacer es encontrar a Yoda si es que existe Es un lugar extrano para encontrar a un maestro Jedi Este lugar me da escalofrios Aunque tambien me resulta familiar No se  Siento como  Que sientes Que nos estan vigilando Tu arma esconde No voy a hacerte dano Me pregunto por que estas aqui  Estoy buscando a alguien  Buscando Encontrado a alguien has yo diria Asi es Ayudarte puedo si No lo creo Estoy buscando a un gran guerrero Un gran guerrero Las guerras a uno grande no le hacen Deja eso Oye Es mi cena Como has crecido tanto comiendo esta clase de comida Escucha no quisimos aterrizar en este charco Sacariamos nuestra nave pero no podemos  Sacar la nave no puedes  Sal de ahi Oye podias haberlo roto No hagas eso Lo estas revolviendo todo Oye dame eso Mia o mi ayuda no tendras No quiero tu ayuda quiero mi linterna La necesito para salir de este asqueroso charco de barro Charco de barro Asqueroso Mi hogar es R deja que se la quede  Mia Mia Mia  R Quieres largarte amiguito Tenemos mucho que hacer A ayudarte me quedare A encontrar a tu amigo No busco a un amigo Busco a un maestro Jedi Maestro Jedi Yoda  Buscas a Yoda  Lo conoces Llevarte a el podria Si si Pero ahora tenemos que comer Ven Buena comida Vamos Vamos vamos R quedate y vigila el campamento Este R nunca esta cuando lo necesito Senor no se donde aprendio a comunicarse su nave pero tiene un dialecto muy peculiar El acoplamiento de energia del eje negativo ha sido polarizado Me temo que tendra que cambiarlo Pues claro que tendre que cambiarlo Toma Chewie Hay que cambiar el acoplamiento negativo de energia Oye Excelencia solo intento ayudar Quieres dejar de llamarme asi Claro Leia  A veces eres insoportable  Lo se es verdad Aunque tu podrias ser un poco mas amable Vamos admitelo No siempre te caigo tan mal Bueno quiza algunas veces cuando no te comportas como un sinverguenza Un sinverguenza Me gusta como suena  Para  Que pare que Estate quieto Tengo las manos sucias Yo tambien De que tienes miedo  Miedo  Estas temblando No estoy temblando Te gusto porque soy un sinverguenza No conoces a demasiados sinverguenzas Me gustan los hombres decentes  Soy un hombre decente  No lo eres Senor He aislado el acoplamiento de energia del flujo inverso Gracias  Muchas gracias  No hay de que senor Esa fue la ultima vez que aparecieron en nuestras pantallas Con los danos que hemos sufrido seguro que los destruimos No capitan estan vivos Que todas las naves registren el campo de asteroides hasta que los encuentren  Lord Vader  Si almirante Que pasa El Emperador le ordena que se ponga en contacto con el Saque la nave del campo de asteroides para que podamos enviar una transmision clara Si milord Que desea mi Senor Hay una gran perturbacion en la Fuerza Lo he notado Tenemos un nuevo enemigo El joven rebelde que destruyo la Estrella de la Muerte No me cabe ninguna duda de que este muchacho es el hijo de Anakin Skywalker Como es posible Explora tus sentimientos Lord Vader Sabras que es la verdad Podria destruirnos Es solo un nino ObiWan ya no podra ayudarlo La Fuerza es intensa en el El hijo de Skywalker no debe convertirse en un Jedi Si se lo pudiera atraer se convertiria en un poderoso aliado Si Seria muy valioso para nosotros Puede hacerse Se unira a nosotros o morira mi Senor Seguro que es delicioso pero no entiendo por que no podemos ver a Yoda ahora Paciencia Para el Jedi es hora de comer tambien Come Come Caliente Buena comida Buena A cuanto esta Yoda de aqui Esta muy lejos No lejos Yoda no muy lejos esta Paciencia Pronto estaras con el Raices Las cocino Por que convertirte en un Jedi quieres Sobre todo por mi padre supongo Tu padre Un poderoso Jedi era el  Poderoso Jedi  Vamos Como puedes conocer a mi padre No sabes ni quien soy No se lo que estoy haciendo aqui Estamos perdiendo el tiempo No puedo ensenarle El chico no tiene paciencia Aprendera a tenerla Mucha ira en el hay como en su padre Era yo diferente cuando me ensenaste No  No esta preparado  Yoda Estoy preparado yo Puedo ser un Jedi Ben dile que Preparado estas Que sabes tu de estar preparado Durante  anos he adiestrado a los Jedi Yo decidire quien debe ser adiestrado Un Jedi debe tener la mas profunda dedicacion la mente mas serena Lo he observado durante mucho tiempo Toda su vida ha distraido su mirada hacia el futuro hacia el horizonte Su mente jamas ha estado donde el estaba en lo que estaba haciendo Aventuras Emociones Un Jedi no ansia esas cosas Eres imprudente Asi era yo no lo recuerdas Es demasiado viejo Si demasiado viejo para empezar a entrenarse Pero he aprendido mucho  Acabara lo que empiece  No te fallare No tengo miedo Lo tendras Lo tendras  Senor si puedo dar mi opinion  No me interesa tu opinion Hay algo afuera  Donde  Fuera en la cueva Ahi esta Escuche  Voy a salir  Estas loco Acabo de repararlo No dejare que lo hagan anicos Entonces voy contigo Sera mejor que me quede aqui para vigilar la nave No Este terreno es muy extrano No parece roca Aqui dentro hay muchisima humedad No se pero esto no me gusta nada Si Cuidado Tranquilos tranquilos Si es lo que pensaba un mynock Chewie registra el resto de la nave y asegurate de que no haya mas comiendose los cables de energia Mynocks Ve adentro Los liquidaremos si hay mas Largo Bestia inmunda Fuera Un momento  Chewie vamonos  El Imperio sigue ahi fuera No hay tiempo para someterlo a votacion Hace mucho tiempo en una galaxia muy muy lejana Episodio VI EL REGRESO DEL JEDI Luke Skywalker ha vuelto a su planeta natal Tatooine en un intento por rescatar a su amigo Han Solo de las garras del malvado mafioso Jabba el Hutt Poco sabe Luke acerca de que el Imperio Galactico ha empezado secretamente la construccion de una nueva estacion belica incluso mas poderosa que la primera Estrella de la Muerte Cuando este terminada esta arma definitiva significara la perdicion para la pequena organizacion rebelde que lucha por restaurar la libertad en la galaxia Llamando a la estacion Este es el transporte  pidiendo permiso para ingresar Nos estamos acercando desactive el escudo deflector El escudo deflector sera desactivado cuando tengamos confirmacion de su codigo Esperen  Permiso concedido  Comenzando el acercamiento Informe al comandante que la nave de Lord Vader ha llegado Si senor Lord Vader que inesperado placer Nos honra su presencia No pierda tiempo en presentaciones comandante Estoy aqui para ponerlo de vuelta a trabajar Le aseguro Lord Vader que mis hombres trabajan lo mas rapido que pueden Quizas yo pueda encontrar nuevas formas para motivarlos Se lo digo Esta estacion estara operacional segun lo planeado El Emperador no comparte su optimismo sobre la situacion Pero pide lo imposible Necesito mas hombres Bueno entonces podra hacerle la peticion en persona cuando llegue  El emperador vendra aqui  Eso es correcto comandante Y esta muy decepcionado con su actual progreso  Doblaremos nuestros esfuerzos  Eso espero por su bien comandante El emperador no es tan benevolente como yo Claro que estoy molesto y tu tambien deberias estarlo Lando Calrissian nos prometio que no volveriamos a este horrible lugar No estes tan seguro Si te dijera la mitad de las cosas que se sobre Jabba el Hutt de seguro saldrias corriendo de aqui R estas seguro de que este es el lugar correcto Mejor golpeo la puerta Parece que no hay nadie Volvamos con el amo Luke No tiene para que insultarme No creo que nos dejen entrar R Mejor nos vamos R espera Dios mio R no creo que sea precavido entrar R esperame Apresurate en entregar el mensaje del amo Luke y vayamonos de aqui Traemos un mensaje para su amo Jabba el Hutt Y un regalo Regalo Cual regalo Dice que tenemos instrucciones de entregarle el mensaje solo a Jabba el Hutt en persona Lo siento mucho este tipo de situaciones lo ponen nervioso R tengo un mal presentimiento sobre todo esto Buenos dias El mensaje R El mensaje Saludos excelentisimo Permitame presentarme Soy Luke Skywalker Caballero Jedi y amigo del Capitan Solo Entiendo que Solo le guarda un gran rencor Y que el suyo hacia el es igualmente grande Busco un encuentro con su Excelentisimo para discutir sobre la vida de Solo Con su venia estoy seguro de que podemos llegar a un acuerdo que resulte mutuamente beneficioso y que nos permita evitar incomodas confrontaciones Como muestra de mi buena voluntad le traigo un obsequio estos  androides Que fue lo que dijo Ambos son trabajadores y lo serviran como corresponde R estas mostrando el mensaje equivocado Estamos acabados R mira El Capitan Solo todavia esta congelado en carbonita Que le puede haber molestado al amo Luke Habra sido algo que hice Nunca se mostro insatisfecho con mi trabajo Traigo nuestras nuevas adquisiciones Tu eres un androide protocolo no Yo soy CPO relaciones humanociberneticas Si o no  Si  Cuantos lenguajes hablas Estoy familiarizado con  millones de formas de comunicacion y Esplendido Habiamos estado sin interpretes desde que el amo se enojo con el ultimo androide de protocolo  y lo desintegro  Lo desintegro Este androide de protocolo tal vez sea util Llevalo a control y despues envialo de vuelta al salon de eventos de su Excelentisimo R no me dejes Eres un pequenuelo molesto pero pronto aprenderas a respetar Tengo preparado para ti el trabajo perfecto Creo que te agradara Chewbaca Si estoy aqui para servirle El Jabba el Hutt les da la bienvenida y dice que pagara encantado la recompensa de  Pide  No menos Fue algo que dije El Excelentisimo Jabba pregunta por que deberia pagarle los  Porque tiene una bomba Jabba ofrece la suma de  Le sugiero encarecidamente que la acepte Acepto Tienes que calmarte Eres libre de la carbonita Tendras por algun rato ciertos efectos nocivos No puedo ver Tu vista retornara en unos momentos  Donde estoy  En el palacio de Jabba Quien eres tu Alguien que te ama Leia Tengo que sacarte de aqui Que es eso Conozco esa risa Mira Jabba estaba en camino de pagarte pero tuve algunos contratiempos No es mi culpa Mira Jabba te pagare el triple estas rechazando una fortuna no seas tonto Tenemos amigos poderosos te vas a arrepentir de esto No puedo ver Chewie eres tu No puedo ver Que esta sucediendo Luke Luke esta loco No puede cuidarse a si mismo Mucho menos tratar de rescatar a alguien Un Caballero Jedi Yo me ausento por un tiempo y todos empiezan con sus delirios de grandeza Ya esta bien amigo Tu debes ser Skywalker Jabba me advirtio sobre ti me dijo que no te dejara pasar Debo hablar con Jabba Me llevara con Jabba ahora Lo llevare con Jabba ahora Sirves a tu amo como es debido y seras recompensado Por fin El amo Luke ha venido a rescatarme Es Luke Skywalker Caballero Jedi Se me debe permitir hablar Me entregara al Capitan Solo y al wookie Se lo digo por ultima vez me llevo al Capitan Solo y a sus amigos Puede aceptar mis terminos o ser destruido Es su decision pero le aconsejo no subestimar mis poderes Amo Luke esta parado en Traigan a Solo y al wookie  Estas bien  Estoy bien Juntos de nuevo no No me lo perderia por nada  Y como han ido las cosas  Siguen como siempre Igual de mal no  Donde esta Leia  Estoy aqui El Excelentisimo Jabba el Hutt ha decidido que ustedes deben ser ejecutados  inmediatamente  Bien odio las esperas largas Su ejecucion sera en el mar de las dunas donde seran arrojados al Carkoon El horrible hogar del temible Solak No suena tan mal Ahi encontraran un nuevo sentido para la palabra sufrimiento siendo digeridos durante mil anos  Retiro lo dicho  No deberia hacer esto Jabba Este sera el ultimo error que tenga oportunidad de cometer Creo que mis ojos estan mejorando En vez de una gran mancha negra ahora veo una gran mancha blanca de luz  No hay nada para ver yo vivia aqui  Y moriras aqui muy conveniente Solo quedate cerca de Chewie y Lando Yo me hare cargo de todo Estupendo R Que estas haciendo aqui Me doy cuenta de que estas sirviendo tragos pero este lugar es peligroso Van a ejecutar al amo Luke sin mencionar lo que nos pueda pasar a nosotros Quisiera compartir tu optimismo Victimas del temible Salak su Excelencia espera que mueran honrosamente Pero si alguno de Uds quisiera reclamar por clemencia el Gran Jabba el Hutt los escucha ahora CPO dile a esa horrible y grasienta bola de mierda que no le daremos ese placer No es cierto Esta es su ultima oportunidad Liberenos o muera Chewie esta bien Alcanzalo con esto Espera  Lando agarrate de esto  Bajalo mas Agarrame Chewie Vamos alcanzalo Agarralo casi lo tienes Con cuidado Bien Tranquilo tranquilo Chewie dame el laser  No te muevas Lando  Que No que estabas ciego  Estoy bien ahora veo mejor  Un poco mas alto mas alto Subenos Vamos tenemos que salir de aqui Mi ojo Mi ojo no Trae el canon Dispara a la cubierta Dispara a la cubierta R donde me llevas Es imposible que Ven aqui Vamonos Y no olviden a los androides Nos vamos Nos encontraremos en la Flota Apresurate La Alianza debe estar reunida ya Lo hare Oye Luke gracias gracias por rescatarme Te debo una Si R iremos al sistema Dagobah Se lo prometi a un viejo amigo De pie mi aprendiz La Estrella de la Muerte sera terminada en los tiempos acordados Ha hecho bien Lord Vader Y creo que ahora es su deseo continuar su busqueda del joven Skywalker Si maestro Paciencia mi amigo a su tiempo lo vera y cuando eso pase lo traera ante mi Si mi aprendiz Solo juntos podremos llevarlo al lado oscuro de la fuerza Como desee Todo procede como lo tenia previsto A mi cara mirame  Luzco demasiado viejo a tus ojos  No claro que no Si Estoy viejo Enfermo y debil Con  anos no lucirias tan bien Descansar debo Para siempre dormir A la muerte esperare Maestro Yoda Ud no puede morir Poderoso la fuerza me ha hecho pero no asi de fuerte El mas alla me espera justo como a todos Ese es el modo de las cosas Del modo de la Fuerza Pero necesito su ayuda He vuelto a completar mi entrenamiento No mas entrenamiento necesitas Todo lo que debes saber ya sabes Entonces soy un Jedi Aun no Solo falta algo Vader debes enfrentar a Vader Y entonces solo entonces un Jedi seras Enfrentalo bien Maestro Yoda Es Darth Vader mi padre Descanso necesito descanso Yoda debo saber Tu Padre el es El te lo dijo Si Inesperado esto es Y desafortunado Es desafortunado que sepa la verdad Desafortunado es que debas enfrentarlo para completar tu entrenamiento No estas listo para eso Lo siento Recuerda el poder de un Jedi fluye de la Fuerza Pero ten cuidado La ira el temor la agresividad del lado oscuro son Si comienzas a caminar por el lado oscuro Dominara tu destino para siempre No subestimes los poderes del emperador O el destino de tu padre sufriras Una vez yo me haya ido el ultimo de los Jedi seras La Fuerza es fuerte en tu familia Debes ensenar lo que has aprendido Luke existe otro Skywalker No puedo hacerlo R No puedo hacerlo solo  Yoda estara siempre contigo  ObiWan Por que no me lo dijiste Me dijiste que Vader traiciono y mato a mi padre Tu padre fue seducido por el lado oscuro de la fuerza Era Anakin Skywalker y se transformo en Darth Vader Cuando eso paso el buen hombre que era tu padre fue destruido Asi que lo que yo te dije es verdad desde cierto punto de vista Desde cierto punto de vista Luke debes aprender que muchas de las verdades en que creemos dependen directamente de nuestro punto de vista Anakin fue un buen amigo Cuando lo conoci tu padre ya era un buen piloto Pero me sorprendio lo fuerte que era la fuerza en el Tome en mis manos el entrenarlo como Jedi Pense que podia ensenarle tan bien como lo haria Yoda Me equivoque  Aun hay bien en el  Es mas maquina que hombre Retorcido y malvado  No puedo hacerlo mi amigo  No puedes escapar a tu destino Debes enfrentar a Darth Vader de nuevo No puedo matar a mi propio padre Entonces el emperador ya ha ganado Tu eras nuestra ultima esperanza Yoda hablo de otro El otro del que hablo Yoda es tu hermana gemela Pero no tengo hermanas Para proteger a ambos del emperador fueron escondidos de tu padre al nacer El emperador sabia tal como yo que si Anakin tenia descendencia seria una amenaza para el Esa es la razon por la que tu hermana permanece segura en el anonimato Leia Leia es mi hermana Tus sentimientos te guian bien Viejos sentimientos muy profundos Luke Te pueden ayudar pero tambien te pueden hacer debil ante el Emperador Mirate Un General Alguien les conto de mi pequena maniobra en la batalla de Tenev No me lo digas a mi solo dije que eras un valiente piloto No sabia que estaban buscando alguien para liderar este loco ataque Me sorprende que no te lo hayan pedido a ti Quien dijo que no lo hicieron Pero yo no estoy loco Tu eres el respetable recuerdas El Emperador se encuentra en crisis al momento de nuestro ataque Sabemos por los datos traidos por nuestros espias la posicion exacta de la nueva estacion espacial Tambien sabemos que el sistema de armas no se encuentra aun operacional Con la flota imperial dispersa por la galaxia incapaz de encontrarnos aqui Esta relativamente desprotegida Pero lo mas importante de todo Hemos sabido que el Emperador en persona se encuentra supervisando los ultimos trabajos de construccion de esta Estrella de la muerte Muchos hombres murieron para traernos esta informacion Almirante Ackbhark por favor Pueden ver aqui la Estrella de la Muerte orbitando la frondosa luna de Endor Aun cuando las armas de la estacion no estan operacionales la Estrella de la Muerte cuenta con un poderoso mecanismo de defensa Esta protegida por un escudo de energia generado desde la luna de Endor El escudo debe ser desactivado si hemos de intentar cualquier ataque Una vez desactivado el escudo nuestros cruceros haran un perimetro Y los cazas entraran en la estructura de la estacion intentando destruir el reactor principal General Calrissian Ud liderara el ataque Buena suerte Vas a necesitarla General Endeed Hemos robado una pequena nave imperial Es una nave de carga y usando un codigo imperial secreto un equipo de asalto aterrizara en la luna y desactivara el generador del escudo Suena peligroso Me pregunto a quien habran encontrado para eso General Solo esta su equipo de asalto listo Mi equipo esta listo pero no tengo tripulacion para la nave No sera facil amigo no lo decia por ti  Llevamos uno  General cuente conmigo Yo ire tambien  Que pasa  Preguntame de nuevo en algun tiempo  Luke  Hola Han Emocionante no es la palabra que yo usaria Mira realmente quiero que te la lleves llevatela Necesitas toda la ayuda que puedas tener Es la nave mas rapida de la flota Esta bien amigo Se lo que significa para ti la cuidare bien No tendra ni un rasguno Esta bien Bien  Tengo tu promesa ni un rasguno  Anda tranquilo pirata  Buena suerte  A ti tambien  Estamos listos  Si No creo que el Imperio haya pensado en wookies cuando diseno la nave Chewie  Oye estas bien  Solo tuve un pensamiento raro como que no la volvere a ver Vamos General empecemos Chewie vemos lo que este pedazo de chatarra puede hacer  Esta listo todo  Todo listo Aqui vamos de nuevo Agarrense Que debemos hacer maestro Envia la flota al lado mas lejano de Endor y espere ahi hasta que el lo busque Que hay acerca de los reportes del ataque planeado por la flota rebelde No hay de que preocuparse pronto la rebelion sera aplastada y el joven Skywalker sera uno de los nuestros Su obra esta terminada mi amigo Vaya a la nave madre y espere mis ordenes Si maestro Si algo sale mal tendremos que salir rapido de aqui Los tenemos en nuestra pantalla por favor identifiquense El carguero Traidilium pidiendo la desactivacion del escudo deflector Nave Traidilium transmitanos el codigo para proceder Comenzando la transmision Ahora veremos si el codigo vale su precio Funcionara funcionara Vader esta en esa nave No te pongas asi hay muchas naves de comando Manten distancia Chewie pero que no parezca intencional No lo se Vuela normal Hacia donde se dirige esa nave Nave Traidilium diganos su carga y destino Repuestos y refacciones tecnicas nos dirigimos a la Luna de Endor  Tienen un codigo de acceso  Es un codigo viejo pero vigente aun Debo detenerlos Pongo en peligro la mision No debi haber venido Es tu imaginacion chico Vamos mostremos un poco de optimismo Los detengo No dejemelo a mi Vere el asunto yo mismo Como desee milord Nave Traidilium Desactivacion del escudo confirmada Siga su actual curso Te dije que iba a funcionar No hay problema Te dije que seria peligroso este lugar  Deberiamos rodearlos  Tomaria tiempo Toda la fiesta se arruinaria si nos ven Chewie y yo nos haremos cargo Uds quedense aqui  Ten cuidado quizas haya mas  Oye se trata de mi Mira ahi dos mas Ya los vi Espera Leia Oigan esperen Bloquea sus comunicadores Acercate a ellos Ponte al lado de ese Preocupate de ese Yo me ocupo a estos otros General Solo alguien se acerca  Donde esta Leia  Como No volvio Pense que estaba contigo Nos separamos Mejor empecemos a buscarla Llevese al escuadron nos encontraremos en el generador del escudo a las  Vamos R necesitaremos tus sensores No se preocupe amo Luke sabemos que hacer Y decia que era lindo aqui Detente No te voy a hacer dano Bueno parece que estoy varada aqui El problema es que no tengo idea donde estoy Quizas tu puedas ayudarme Ven sientate Te prometo que no te hare dano Ahora ven aqui Bien Veamos si tengo algo de comer aqui Asi esta bien Vamos Mira es un sombrero no te hara dano ves Eres un pequenuelo curioso no es cierto Que pasa Quieta Vamos levantese Ve a buscar tu vehiculo Llevala a la base Si senor Que dem Vamos salgamos de aqui Te dije que permanecieras en la nave madre Una pequena nave rebelde ha atravesado el escudo y aterrizado en Endor Si lo se Mi hijo esta con ellos  Estas seguro  Lo he sentido maestro Extrano es que yo no lo haya sentido Me pregunto si sus sentimientos en este tema son claros Lord Vader Lo son maestro Entonces debes ir a la Luna y esperar por el El vendra a mi Lo he previsto Su compasion por ti sera su perdicion El vendra a ti y tu lo traeras ante mi Como desee Amo Luke Hay dos vehiculos mas por alla Encontre esto Temo que los sensores de R no encuentran rastro de la princesa Leia Espero que este bien Que pasa Chewie Que pasa Chewie Hace mucho tiempo en una galaxia muy muy lejana Episodio I LA AMENAZA FANTASMA La republica Galactica esta sumida en el caos El sistema tributario de las rutas comerciales esta en disputa Esperando resolver el asunto con un bloqueo de mortiferas naves de guerra la codiciosa Federacion de Comercio ha suspendido los embarques al pequeno planeta Naboo Mientras el Congreso de la Republica debate sin descanso esta alarmante cadena de sucesos el Canciller Supremo ha enviado secretamente a dos Caballeros Jedi los guardianes de la paz y la justicia en la galaxia a resolver el conflicto  Capitana  Si senor Digales que deseamos abordarlos Con todo respeto los embajadores del Canciller desean abordar de inmediato Si por supuesto Como saben nuestro bloqueo es perfectamente legal Recibiremos con mucho gusto a los embajadores Yo soy TC a sus ordenes Vengan por aca por favor Nos honran mucho con su visita embajadores Ponganse comodos Mi amo los atendera enseguida Siento que algo esta mal Yo no percibo nada No es sobre la mision Maestro Es algo en otro lado escurridizo No te concentres en tus ansiedades ObiWan Manten tu atencion aqui y ahora como debe ser El Maestro Yoda dijo que debo prestar atencion al futuro No a costa del presente Concentrate en la fuerza viva joven padawan Si Maestro Como tomara este virrey de comercio nuestras exigencias Los de la Federacion son cobardes Las negociaciones seran cortas Que Que dijiste Los embajadores son Caballeros Jedi creo Ya lo sabia Vienen a imponer un trato Distraelos Hablare con Lord Sidious Perdio el juicio Yo no voy a entrar ahi con dos Jedi Mande un droide Es normal hacernos esperar tanto No Percibo demasiado miedo para algo tan trivial como esta disputa comercial Que sucede Su plan ha fallado Lord Sidious Se acabo el bloqueo No nos atrevemos a desafiar a los Jedi Virrey no quiero volver a ver a este despreciable enano de fango Este ha sido un giro desafortunado Debemos acelerar nuestros planes Empiece a desembarcar sus tropas Senor mio es legal eso Yo lo hare legal Y los Jedi El Canciller jamas debio meterlos en esto Matelos inmediatamente Si Si milord Como Ud desee Capitana mire Activar escudos Disculpen Dioxis Ya deben de estar muertos Destruyan lo que quede de ellos Con permiso Eche un vistazo cabo Entendido entendido Disparenles Que pasa alla abajo Perdimos la transmision senor Alguna vez se ha topado con un Caballero Jedi Bueno no pero Sellen el puente Eso no bastara senor Envien droidekas enseguida No vamos a sobrevivir Cierren puertas protectoras Eso los detendra Todavia siguen entrando Esto es imposible Donde estan los droidekas Droides destructores Tienen escudos de energia Vamonos No pueden contra los droidekas Subieron por el pozo de ventilacion  Droides de batalla  Es un ejercito invasor Que jugada extrana de la Federacion Hay que advertir a los naboo y avisar al Canciller Valorum Separemonos Iremos de polizones en dos naves y nos reuniremos en el planeta Tenia razon sobre una cosa Maestro Las negociaciones fueron cortas Senor una transmision del planeta Es la Reina Amidala en persona Por fin obtenemos resultados De nuevo ante nosotros Su Alteza No se sentira tan bien cuando sepa lo que vengo a decirle Su boicot comercial de nuestro planeta ha terminado No estaba informado de tal fracaso Se que los embajadores estan con Ud y que se le ha ordenado que llegue a un acuerdo No estoy enterado de ningun embajador Debe de estar equivocada Cuidado Virrey La Federacion ha ido demasiado lejos esta vez Nosotros nunca hariamos nada sin la aprobacion del Senado Ud presume demasiado Ya lo veremos Tiene razon El Senado hara Es demasiado tarde Sospechara del ataque No se pero debemos interrumpir todas las comunicaciones alla abajo No han empezado las negociaciones porque los embajadores no estan ahi Como es posible El Canciller me lo confirmo Sus embajadores si llegaron Debe de obra negociar embajadores Senador Palpatine Que sucede Revise el generador transmisor Una interrupcion de comunicaciones solo significa una cosa una invasion La Federacion no iria tan lejos El Senado les revocaria su franquicia de comercio y seria su fin Debemos confiar en las negociaciones Negociaciones Perdimos toda comunicacion Y donde estan los embajadores del Canciller Esta situacion es peligrosa Su Alteza Nuestros guardias voluntarios no pueden contra el ejercito de la Federacion No tolerare una estrategia que nos lleve a la guerra Si Virrey Capitan revisamos la nave y no hay rastro de los Jedi Quiza se fueron en una de sus naves de desembarco Si estan aca abajo los encontraremos Tenga cuidado No se debe subestimar a estos Jedi Fuera Vete de aqui Que fuese eso Espere Muimui Lo quiero Por ti casi nos matan Tienes poco cerebro Yo heblo El poder hablar no significa que seas inteligente Ahora vete No no Misa quedar Misa llamarme Jar Jar Binks Misa sua humilde servidor Eso no sera necesario Pero si Los dioses nos li ordenan si Echate al suelo Salvo mi otra vez Que es esto Un indigena Vamonos antes de que vengan mas droides Mas Dejo que mas Descolpeme pero el lugar mas seguro es Ciudad Gunga Es donde yo craci Es una ciudad escondida Una ciudad Nos puedes llevar Pensandolo bien no La verdad no no Mi da verguenza pero mi temo que mi expulsen Mi olvidar Los Patrones mi harian cosas horribles si mi regresar alla Oyes eso Es el sonido de mil cosas terribles que vienen hacia aca Si nos encuentran nos aplastaran nos haran pedacitos y nos mandaran al olvido Vosa observacion tiene sentido Por aca Rapido Cuanto falta Nosa vamos a andar por debajo del agua stasi bieni Yo advertirles que a los gungans no les gustan los de fuera no speren colida bienvenida No te preocupes Este no ha sido un dia de calidas bienvenidas Vosa siganme stasi bieni Que gusto star en mi casa Oye tusa alto ahi Holadoli capitan Tarpals Misa de vuelta Otra vezJar Jar Tusa ir con patrones Esta vez tusa metiste en caca hasta el cuello Que gosero Vosa no puede star aqui Ese ejercito de maquiniks alla arriba es nueva razon Un ejercito de droides va a atacar a los naboo Debemos advertirles A nosa no nos gustan los naboo Los naboo crin que son muy listis Ellos crin que sus cerebros son grandes Una vez que los droides controlen la superficie los controlaran a ustedes Misa no penso asi Ellos no saben de nosa Uds y los naboo forman un circulo simbiotico Lo que le pase a uno le afectara al otro Debe comprenderlo A nosa no nos imporrrtan los naboo Entonces permita que partamos enseguida Nosa permitiremos vosa vayan Un transporte nos seria util Nosa vamos a darles un bongo Il camino mas rapido a los naboo es atravesando il centro del planeta Ahora vayanse Gracias por su ayuda Nos vamos en paz  Maestro que es un bongo  Un transporte espero Stan tendiendo vosa trampa Atravesar centro del planeta Mala bombeada Cualquier ayuda aqui seria caliente Maestro se nos acaba el tiempo Necesitamos un navegante para atravesar el centro del planeta Este gungan quiza nos pueda servir Que va a pasar con Jar Jar Binks Elsen va a ser custigado Yo le salve la vida Me debe lo que Uds llaman deuda de vida Sus dioses exigen que su vida me pertenece a mi ahora Binks vosa tiene deuda di vida con iste senor Llevenselo No cuenten conmigo para isto Mejor muerto aqui que muerto en il centro Cielos Que misa diciendo Isto una lucura Un pez guber Por que te expulsaron Jar Jar Is una larga cuenta pero en parte es porque misa torpe Te expulsaron por ser torpe Vosa podria decirsen eso Misa quiza causo uno o dos chiquitos accidantitos Vosa diria rompi il gaseador luego estrelle el heybliber luego expulsado Un pez guber gigante Dientes inormes Siempre hay un pez mas grande Misa penso que mejor regresar La invasion se realizara a tiempo milord Tengo al Senado enmaranado en procedimientos No tendra mas remedio que aceptar su control del sistema La Reina confia en que el Senado se pondra de su lado La Reina Amidala es joven e ingenua Controlarla no les resultara dificil Si milord No le dijo del Jedi desaparecido No hay necesidad de reportar eso hasta no tener algo que reportar  Adonde nosa vamos  Descuida la Fuerza nos guiara Maxigrande la Fuerza Eso mi huele reteapestoso Estamos perdiendo potencia Nosa muriendonos aqui Calma Aun no estamos en aprietos Aun Monstruos afuera inundandosen aqui nosa hundiendonos y sin potencia Cuando vosa crin que vamos a star en aprietos Ya recuperamos la potencia Volvio el monstruo Calmate Se le paso la mano Enfila a ese afloramiento Caray Virrey hemos capturado a la Reina Victoria Isto muy hermoso Como explicara esta invasion al Senado La Reina y yo firmaremos un tratado que legitimara nuestra ocupacion Se me asegura que el Senado lo ratificara Yo no cooperare Ya ya Su Alteza El sufrimiento de su gente hara que vea nuestro punto de vista  Comandante  Si senor Proceselos Capitan llevelos al Campamento  Entendido entendido Salgamos de la calle Su Alteza Quitenles las armas Ea Vosa son bombaticos Somos los embajadores del Canciller Supremo Sus negociaciones fracasaron Sr Embajador Nunca se efectuaron Debemos hacer contacto con la Republica Interrumpieron todas las comunicaciones Tienen transportes En el hangar principal Por aca Son demasiados No habra problema Su Alteza sugiero que venga a Coruscant con nosotros Gracias embajador Pero yo debo estar con mi gente La mataran si se queda No se atreverian Necesitan que firme el tratado que legitima su invasion No la pueden matar Hay algo mas detras de esto Alteza Es ilogica esta jugada de la Federacion Siento que la destruiran Ojala el Senado nos apoye El Senador Palpatine necesitara su ayuda Cualquier opcion representa un grave peligro para todos Somos valientes Su Alteza Si se va a ir Su Alteza tiene que ser ahora Presentare nuestro caso al Senado Tenga cuidado Gobernador Necesitamos liberar a esos pilotos Yo me encargo de eso Alto Yo soy el embajador del Canciller Supremo Llevo esta gente a Coruscant Adonde los lleva A Coruscant Coruscant Eso no computa Esperen Quedan todos arrestados Vamos muevanse Corran Quedate aqui Y no te metas en problemas Hola jovenos Ahi esta el bloqueo Le dieron al generador Que goseros Estamos perdiendo droides Si no pueden arreglar el generador somos blanco facil Ya no hay escudos Volvio la corriente Ese droidito lo logro Desvio la energia del sistema de mando Escudos deflectores al maximo No hay suficiente potencia para llegar a Coruscant El hiperpropulsor tiene una perdida Necesitaremos aterrizar para reparar la nave Aqui Maestro En Tatooine Es distante y pobre La Federacion de Comercio no tiene presencia alli Como puede estar seguro Esta controlado por los hutts No puede llevar a Su Alteza Los hutts son gangsters Si la descubren Seria lo mismo que aterrizar en un sistema controlado por la Federacion Excepto que los hutts no la estan buscando lo cual nos da la ventaja Ya firmo el tratado la Reina Amidala Ha desaparecido milord Un crucero naboo atraveso el bloqueo Quiero ese tratado firmado Milord es imposible localizar la nave Esta fuera de nuestro alcance No para un sith Este es mi aprendiz Darth Maul El encontrara su nave perdida Esto se esta poniendo feo Ahora ya son dos Nunca debimos haber hecho este pacto Un droidito extremadamente bien hecho Su Alteza Sin duda salvo la nave asi como nuestras vidas Hay que agradecerle Cual es su numero RD Su Alteza Gracias RD Padme Limpia bien a este droide Se merece nuestra gratitud Continue capitan Su Alteza con su permiso iremos a un planeta remoto llamado Tatooine Esta en un sistema fuera del alcance de la Federacion Yo no concuerdo con los Jedi en esto Debe confiar en mi criterio Su Alteza Hoda Perdoneme Quien sosa vos Yo soy Padme Misa Jar Jar Binks Eres un gungan no Como acabaste aqui con nosotros Mi no se Misa dia empezo bastante stasi bieni con riqui desayuni Luego bum Mi asusten mucho y agarren ese Jedi y pas Misa aqui Misa espantandome mucho mucho Ahi esta Tatooine Hay una colonia Aterrice en las afueras No queremos llamar la atencion El generador no sirve Hay que conseguir otro Eso lo complicara todo Ten cuidado siento un disturbio en la Fuerza Yo tambien lo siento No dejes que envien transmisiones Este sol sta matando misa piel Esperen Esperen Su Alteza les ordena llevar a su dama de compania No mas ordenes de Su Alteza hoy Este puerto va a ser desagradable La Reina lo desea Tiene curiosidad sobre el planeta No es buena idea Quedate cerca de mi Granjas de humedad mas que nada Algunas tribus indigenas y traperos Los pocos puertos espaciales como este son refugios para quienes se ocultan Como nosotros Esto stasen muy muy mal Fango asquerosito Probaremos con un traficante menor Les deseo un buen dia Que quiere Necesito repuestos para un J nubiano Si Nubiano Tenemos mucho de eso Muchacho Ven aca enseguida Mi droide tiene una lista de lo que necesito Por que tardaste tanto Estaba limpiando los ventiladores Vigila la tienda Necesito hacer unas ventas Permitanme que los lleve atras Ahi encontraran lo que necesitan No toques nada Eres un angel Un angel Oigo a los pilotos del espacio hablar de ellos Son las criaturas mas bellas del universo Viven en las lunas de Iego creo Eres un nino muy chistoso Como sabes tanto Oigo a todos los comerciantes y pilotos que pasan por aqui Yo soy piloto sabes Y algun dia me voy a ir volando de aqui Eres piloto De toda la vida Cuanto tiempo llevas aqui Desde que era muy pequeno Tenia  anos creo Nos vendieron a mi mama y a mi a Gardulla el Hutt pero nos perdio apostando en las carreras Eres esclavo Soy una persona y me llamo Anakin Disculpame No entiendo completamente Nunca habia estado aqui Adonde tusa yendo Pegale en la nariz Un generador de hiperimpulso T Vosotros tened suerte Yo soy el unico que tiene uno Pero mas vale que compreis una nave nueva Creo que seria mas barato Y a proposito como vais a pagar todo esto Tengo  dataries de la Republica Los creditos de la Republica no sirven aqui Necesito algo mas real No tengo nada mas pero los creditos son validos No no lo son Los creditos son validos No no lo son Te crees un Jedi pasandome asi la mano Yo soy un toydarian Los trucos mentales no funcionan conmigo Solo dinero Si no hay dinero no hay repuestos no hay trato Y nadie mas tiene un hiperpropulsor T te lo aseguro Yo no habria durado tanto si no fuera bueno para construir cosas Nos vamos Jar Jar Me dio mucho gusto conocerte Anakin El gusto fue mio Forasteros Creen que no sabemos nada A mi me parecieron buenas personas Limpia las repisas y luego te puedes ir a casa Seguro que no queda nada a bordo Unos envases de abastecimientos El guardarropa de la Reina quiza pero no lo suficiente para hacer el trueque que necesita Estoy seguro que se presentara otra solucion Luego te llamo Otra vez Otra vez Estos seres de por aqui stan lucos Nosa van a gobar y a pegar Lo dudo No tenemos nada de valor Ese es el problema Muimui Va a pagar eso Cuesta siete wupiupis Esto es tuyo De quien misa Ten cuidado Sebulba Es un forastero muy poderoso No quisiera que te rebanara antes de que volvamos a correr La proxima vez que corramos muchacho sera tu fin Si no fueras un esclavo te aplastaria ahora Si seria lamentable que tuvieras que pagar por mi Hola Tu amigo casi se vuelve papilla naranja Se peleo con un dug Con un dug muy peligroso llamado Sebulba Misa odia abofeteo Eso es lo ultimo que misa quieren Sin embargo el nino tiene razon Te ibas a meter en problemas Gracias mi joven amigo Pero pero misa no haciendo nada Esta tormenta los retrasara Parece bastante grande  Recibiendo un mensaje de casa  Vamos para alla Le van a gustar estos palis Gracias Me duelen los huesos Viene una tormenta Ani Mas vale que regreses pronto a tu casa  Tienen refugio  Iremos a nuestra nave  Esta lejos  En las afueras Jamas llegaran a las afueras a tiempo Las tormentas de arena son muy muy peligrosas Vengan los llevare a mi casa Mama Mama ya llegue Isto acogedor  Estos son mis amigos mama  Hoda Yo soy QuiGon Jinn Estoy haciendo un droide Lo quieres ver Su hijo nos ofrecio refugio Ven te ensenare a PO No es genial Todavia no lo termine Es maravilloso De veras te gusta Es un droide de protocolo para ayudar a mama Mira Donde estan todos Hola yo soy CPO relaciones ciberneticas humanas En que puedo servirles  Es perfecto  Perfecto Pasada la tormenta les mostrare mi racer Estoy haciendo un podracer No se si este suelo sea totalmente estable Hola No creo que nos hayan presentado RD mucho gusto en conocerte Yo soy CPO relaciones ciberneticas humanas Disculpa pero que quieres decir con desnudo Se me ven las partes Cielos Las bajas son catastroficas Debemos acceder a sus deseos Tienen que comunicarse conmigo Es un truco No responda No envie ninguna transmision Me parece un senuelo para rastrear la conexion Que tal si es verdad y la gente se esta muriendo De cualquier manera se nos acaba el tiempo Tatooine esta poco poblado Si el rastreo fue acertado los hallare Maestro Ataca primero al Jedi Asi no tendras dificultad en llevar a la Reina a Naboo a firmar el tratado Por fin nos revelaremos a los Jedi Por fin nos vengaremos Has sido bien entrenado mi joven aprendiz No van a poder contigo A todos los esclavos se les pone un transmisor en el cuerpo Estoy disenando un rastreador para encontrar el mio Si uno trata de escapar Te vuelan en pedazos Bum Que goseros No puedo creer que aun haya esclavitud Las leyes de la Republica Aqui no existe la Republica Tenemos que sobrevivir solos Descolpenme Alguna vez han visto una carrera de pods Las hay en Malastare Son muy rapidas y muy peligrosas Soy el unico humano que participa Debes tener reflejos de Jedi si piloteas podracers No vuelvas a hacer eso Ud es un Caballero Jedi verdad Por que lo dices Vi su espada laser Solo los Jedi portan esas armas Quiza mate a un Jedi y se la quite Lo dudo mucho Nadie puede matar a un Jedi Ojala fuera cierto Yo sone que era un Jedi Volvia aca y liberaba a todos los esclavos Vienen a liberarnos No me temo que no Yo creo que si Por que otra razon pueden haber venido Veo que es imposible enganarte Anakin Vamos a Coruscant el sistema central de la Republica Es una mision crucial Como acabaron aca en los linderos exteriores Nuestra nave esta danada No podemos irnos hasta arreglarla Yo les puedo ayudar Yo puedo arreglar lo que sea No lo dudo Pero antes debemos adquirir los repuestos Sin nada de pasto pa pagar Esos mercaderes de chatarra deben de tener una debilidad El juego Todo gira alrededor de apostar en esas carreras horribles Carreras de pods La avaricia puede ser un fuerte aliado Yo construi un podracer La mas rapida que hay Hay una carrera importante manana en Boonta Eve Inscriban mi pod Anakin Watto no te va a dejar El no sabe que la hice Digale que es suya y que me deje pilotearla No quiero que corras Me muero cada vez que Watto te obliga a hacerlo Pero mama me encanta Con el premio podran pagar los repuestos que necesitan Anakin Tu mama tiene razon Hay algun amigo de la Republica que nos pueda ayudar No Siempre dices que el mayor problema es que nadie le ayuda a nadie QuiGon no quiere poner a su hijo en peligro Hallaremos otra manera No no hay otra manera Quiza no me guste pero el les puede ayudar Su destino es ayudarles Esta seguro de esto Confiar nuestra suerte a un nino desconocido La Reina no estaria de acuerdo La Reina no necesita saber Pues yo no estoy de acuerdo El chico dice que Ud lo quiere patrocinar en la carrera Como puede Ud hacerlo Con creditos de la Republica no lo creo Mi nave sera mi tarifa de entrada No esta mal no esta mal Nubiana no Esta en buen estado excepto por los repuestos Que va a pilotear el chico Choco mi podracer en la ultima carrera Llevara mucho tiempo arreglarla No fue culpa mia De veras Sebulba me apunto sus escapes De hecho yo salve el podracer La mayor parte Es cierto El chico es bueno sin duda alguna Adquiri un podracer en un juego de azar la mas rapida que existe Espero que no haya matado a alguien que yo conozco por ella no Asi que Uds ponen el pod y la tarifa de entrada yo pongo al chico Compartimos las ganancias mitad y mitad no Si va a ser mitad y mitad ponga Ud el dinero de la entrada Si ganamos se queda con el premio menos el costo de los repuestos Si perdemos se queda con mi nave De cualquiera manera Ud gana Trato hecho Tu amigo es un tonto pienso yo Y si falla este plan Maestro Podemos quedarnos aqui mucho tiempo Es demasiado peligroso pedir ayuda y una nave sin potencia no nos va a llevar a ningun lado Y este nino tiene algo Debe estar muy orgullosa de su hijo Da sin pensar en ninguna recompensa No es nada avaricioso Tiene un Tiene poderes especiales Si Ve las cosas antes de que pasen Por eso tiene tan buenos reflejos Es una caracteristica de los Jedi Se merece mas que una vida de esclavo De haber nacido en la Republica lo habriamos identificado de pequeno La Fuerza es extraordinariamente poderosa en el Quien fue su padre No tuvo padre Yo lo traje en mi vientre Yo lo di a luz Yo lo crie No me explico lo que paso Puede ayudarle No se No vine aqui a liberar esclavos Un verdadero astrodroide Como tuviste tanta suerte Eso es lo de menos Voy a entrar en la carrera de Boonta manana Como Con esto Que bromista eres Ani  Llevas anos haciendo eso  Nunca va a funcionar Vamonos a jugar pelota Sigue corriendo Ani Vas a acabar como mosca embarrada Oye Jar Jar Alejate de esas cadenas de energia Si el rayo te toca la mano se te adormece durante horas Bueno Mi lengua sta gorda Mi lengua Llave di tuercas Donde sta la llave Ahi Ani stoy atorado Ani Sabes esa criatura Jar Jar me parece un poco extrana  Ni siquiera sabes si va a andar  Claro que si Es hora de averiguarlo Usa este cargador de energia Si senor Kitster vamos a alejarnos Mi mi boca Ani estoy atorado Mi lengua sta gorda Tienes toda la razon Es muy extrano Gracias Enciendelo Esta funcionando Esta funcionando Quedate quieto Dejame limpiar esta cortada Hay tantas Todas tienen sistemas de planetas La mayoria Alguien ha ido a todos Es improbable Quiero ser el primero en verlos todos Ani hora de dormir Ya esta Quedaste como nuevo Ani no te lo voy a volver a decir  Que hace  Veo si tienes infecciones Vete Tienes un dia importante manana Que duermas bien Ani  ObiWan  Si Maestro Necesito un analisis de la sangre que te mando Un momento Necesito un conteo de midiclorianos El conteo se sale de la grafica Mas de  Ni el Maestro Yoda tiene un conteo tan alto Ningun Jedi lo tiene Que significa eso No estoy seguro Quiero ver su nave al instante de que acabe la carrera Paciencia mi amigo azul Tendra sus ganancias antes del ocaso y nosotros ya estaremos lejos No si su nave me pertenece a mi creo yo no Le advierto que nada de trucos No cree que Anakin pueda ganar No me entienda mal Tengo gran fe en el chico Es un orgullo para su raza Pero Sebulba ese de ahi el va a ganar creo yo No Por que cree eso Porque siempre gana Yo voy a apostarle mucho a Sebulba Acepto su apuesta Como Le apuesto mi nuevo podracer contra el nino y su mama Ningun pod vale dos esclavos Imposible El nino entonces Bueno dejaremos que la suerte decida Resulta que tengo aqui un cubo de la suerte Azul es el chico Rojo su madre Gano esta pequena apuesta forastero pero no ganara la carrera Asi que da lo mismo Haz que tu amigo deje de apostar o acabare poseyendolo a el tambien A que se referia Luego te digo Buenos dias Cielos viajar en el espacio suena peligroso Te aseguro que nunca haran que me suba yo a una de esas naves Esto es mago Ani Se que esta vez vas a lograrlo Lograr que Acabar la carrera por supuesto Nunca has ganado Pues no exactamente Ni siquiera acabado Kitster tiene razon Esta vez lo lograre Claro que si Y tienes toda la razon Hay una gran asistencia aqui hoy de todos los rincones de los linderos exteriores Los competidores se estan acercando al emparrillado de partida Veo a Ben Quadrinaros del sistema Tund El dos veces ganador Boles Roor Sebulba Y en la primera fila cerca de la linea de partida Mawhonic Un saludo cordial a Clegg Holdfast y su Voltec KT Avispa Y tenemos otra vez al poderoso Dud Bolt con su increible vehiculo de carrera el Vulptereen  Y con esperanzas de una gran victoria hoy Ody Mandrell y su equipo de droides decididos a marcar nuevos records Y una inscripcion tardia el joven Anakin Skywalker un chico local Veo que las banderas estan entrando a la pista Fuchis paruchis Cuidate Si mama Te lo prometo No vas a salir caminando de esta esclavo asqueroso No cuentes con ello bola de fango Vas a acabar de comida de bantha Estas listo Ani  Si  Bien Recuerda concentrate en el momento Siente no pienses Usa tus instintos Lo hare Que la Fuerza te acompane Bienvenidos Que empiece la carrera Parece que estan desalojando el emparrillado  Esta nervioso  Esta bien Los Jedi son demasiado temerarios La Reina La Reina confia en mi juicio jovencita Y tu tambien deberias Presume demasiado Enciendan sus motores Isto va a ponerse feo Mi no ver No Esperen El pequeno Skywalker no logra arrancar Parece que Quadrinaros tambien tiene problemas de motor Vamos Ani Y alla va Skywalker Vamos Ani Le va a costar trabajo alcanzar a los lideres Parece que hay varios piratas tusken en la vuelta de la duna Adios cadenas de energia de Quadrinaros Donde esta el amo Anakin Aqui viene Parece que Skywalker esta ganando terreno Tiene que completar dos circuitos mas Dios Skywalker gira fuera de control No importa de que universo seas eso tiene que doler Aqui viene Al final de la ultima vuelta Sebulba lleva la delantera seguido de cerca por Skywalker Hurra Skywalker se encuentra en la rampa de servicio Es Skywalker Increible Una pequena descarga y vuelve a la carrera Se strello Skywalker esta en aprietos Sebulba se le adelanta Esta alcanzando a Sebulba Cuidado Ani Cuidado Ani Ese pequeno humano esta loco Van lado a lado No lo puedo creer La multitud se esta volviendo loca Hace mucho tiempo en una galaxia muy muy lejana Episodio IV UNA NUEVA ESPERANZA Es un periodo de guerra civil Las naves espaciales rebeldes estacionadas en una base oculta han logrado su primera victoria en contra del malvado imperio galactico Durante la batalla los espias rebeldes se las han ingeniado para robar los planos secretos acerca de la ultima arma del Imperio denominada Estrella de la Muerte una estacion espacial blindada con el suficiente poder como para destruir un planeta entero Perseguida por los siniestros agentes del Imperio la princesa Leia se dirige a su hogar en su nave espacial custodiando los planos robados que pueden salvar a su gente y restaurar la libertad de la galaxia Has oido eso Han alcanzado al reactor principal Nos van a destruir seguro Que locura Estamos perdidos Esta vez la Princesa no podra escapar Que es eso RD donde estas Por fin Donde te habias metido Vienen en esta direccion Que vamos a hacer Nos mandaran a las minas de Kessel o nos trituraran Un momento Adonde vas Los planos de la Estrella de la Muerte no estan en el ordenador central Donde estan esas transmisiones que han interceptado Que han hecho con esos planos No hemos interceptado ninguna transmision Esta es una nave consular en mision diplomatica Si esta es una nave consular donde esta el embajador Comandante registre a fondo esta nave hasta que encuentre esos planos Y traigame a los pasajeros Los quiero vivos Ahi hay uno Fuego no letal Se pondra bien Informa a Lord Vader de que tenemos un prisionero Oye ahi no se puede entrar Esta prohibido Te van a desactivar seguro No me llames filosofo tonto pegote de grasa Sal antes de que te vea alguien Mision secreta Que planos De que estas hablando No pienso entrar ahi Se que me voy a arrepentir de esto  Ahi va otra  No disparen No detecto formas de vida Habra sufrido un cortocircuito Es curioso Los danos no parecen tan graves desde aqui Estas seguro de que estamos a salvo aqui Darth Vader Solo tu podrias ser tan osado El Senado Imperial no tolerara esto  Has atacado a una nave diplomatica  No finjan sorpresa Alteza Esta vez no iban en mision de paz Esta nave ha recibido varias transmisiones de los espias rebeldes Quiero saber que ha sido de los planos que les enviaron No se de que estas hablando Soy miembro del Senado Imperial y voy en mision diplomatica a Alderaan Forman parte de la Alianza Rebelde y eres una traidora Llevensela Es peligroso retenerla Si llega a saberse puede provocar simpatia hacia la rebelion y el Senado Tiene lazos con los espias rebeldes Ella es lo unico que tengo para encontrar su base secreta Morira antes de decirle nada Deje eso en mis manos Envie una senal de socorro e informe al Senado de que todos han muerto Lord Vader los planos de la estacion no estan en esta nave y no se ha hecho transmision alguna Fue lanzada una capsula durante la lucha pero no habia formas de vida a bordo Ella debio de esconder los planos en esa capsula Envie un destacamento a buscarlos Encarguese de ello personalmente Esta vez nadie nos detendra Si senor Como nos habremos metido en este lio La verdad es que no lo se Parece que estamos hechos para sufrir Es nuestro destino en la vida Necesito descansar antes de deshacerme Tengo las articulaciones atascadas Que lugar mas desolado Adonde crees que vas Yo no voy por ahi Es demasiado accidentado Por aqui es mucho mejor Por que crees que hay asentamientos por ahi No me vengas con tecnicismos Que mision De que hablas Ya me tienes casi harto Vete por ahi Acabaras reventado en menos de un dia cacharro miope Y no vengas luego a suplicarme ayuda porque no te la prestare Basta de aventuras No ire por ahi Ese cacharro idiota Todo esto es culpa suya Me ha enganado para que fuera por aqui pero a el no le ira mejor Espera Que es eso Un transporte Estoy salvado Aqui Oye Oye Socorro Por favor socorro R RD eres tu Eres tu Alguien vino en la capsula Las huellas van en esta direccion Mire senor Androides Nos hemos detenido Despierta Despierta Estamos perdidos Crees que nos van a fundir No dispares No dispares Es que esto no acabara nunca  Esta bien vamos  Luke Luke Luke dile a tu tio que si consigue a un traductor que hable bocce No creo que haya mucho donde elegir pero se lo recordare Si nos quedaremos con el rojo No este no Tu supongo que estas programado para la etiqueta y el protocolo Protocolo Es mi funcion principal Estoy muy versado en las costumbres  No necesito un androide de protocolo  Claro que no senor No en un ambiente como este Por eso he sido programado Necesito un androide que comprenda el lenguaje binario de los evaporadores Evaporadores Mi primer trabajo fue programar elevadores binarios muy similares a los evaporadores  Sabes hablar bocce  Claro es como una segunda lengua  Bien callate Me quedo con este  Me callo senor Lleva a estos dos al garaje Limpialos antes de cenar Iba a ir al garaje de Tosche a recoger unos alternadores Podras perder el tiempo con tus amigos cuando termines tu trabajo Anda en marcha Esta bien vamos Y ese rojo tambien Vamos Vamos rojo Vamos  Tio Owen  Si A esta unidad R le falla el impulsor Mira Que es lo que intentas vendernos Disculpe pero esa unidad R esta en perfectas condiciones Es una ganga Tio Owen Y ese Que tal ese azul Nos lo quedamos  Llevense este trasto  Estara muy satisfecho con el senor Esta en excelentes condiciones He trabajado antes con el Ahi viene Bien vamonos No olvides esto Nunca comprendere por que me arriesgo siempre por ti Gracias sean dadas al Hacedor Este bano de aceite me sentara muy bien Me ha entrado tal cantidad de polvo que apenas puedo moverme No es justo Biggs tiene razon Nunca conseguire salir de aqui Puedo ayudar de alguna forma No salvo que puedas modificar el tiempo apresurar las cosechas o teletransportarme a otro lugar No creo que pueda senor No soy mas que un androide y carezco de esos conocimientos Al menos en este planeta Es mas ni siquiera se en que planeta estoy Bueno si existe un centro del universo estas en el planeta mas alejado de el Ya veo senor  Puedes llamarme Luke  Ya veo Sr Luke Luke a secas Yo soy CPO relaciones ciberneticas humanas Y este es mi homologo RD Hola Estas lleno de marcas de carbono Parece que no han estado quietos Con todo por lo que hemos pasado me asombra que aun funcionemos con esa rebelion y todo Saben lo de la rebelion contra el Imperio A causa de ella hemos venido a parar a su servicio senor  Han luchado en muchas batallas  En varias creo Pero no hay mucho que contar No soy mas que un simple interprete y no valgo para contar historias No se hacerlas interesantes la verdad Vaya amiguito tienes algo aqui pero que muy atascado Iban en un crucero estelar Ayudame ObiWan Kenobi Eres mi unica esperanza Que es eso Que es que Te ha hecho una pregunta Que es eso Ayudame ObiWan Kenobi Eres mi unica esperanza Ayudame ObiWan Kenobi Eres mi unica esperanza Dice que no es nada senor Un simple fallo Datos atrasados No haga caso Quien es ella Es preciosa Me temo que no estoy muy seguro senor Era una pasajera en nuestro ultimo viaje Alguien de cierta importancia  Nuestro capitan  Hay algo mas en esa grabacion Comportate bien R No nos crees mas complicaciones Puedes confiar en el Es nuestro nuevo amo Eres mi unica esperanza Dice que el es propiedad de ObiWan Kenobi que reside por aqui y es un mensaje privado para el Francamente no se a que se refiere Nuestro ultimo amo era el capitan Antilles Pero con todo lo que ha pasado esta unidad se ha vuelto algo excentrica ObiWan Kenobi Me pregunto si se referira al viejo Ben Kenobi Disculpe senor pero sabe a que se refiere No conozco a nadie llamado ObiWan pero el viejo Ben vive al otro lado del Mar de Dunas Es una especie de eremita Me pregunto quien es ella Parece que esta en apuros Sera mejor verlo entero Dice que el tornillo inmovilizador ha bloqueado su sistema de registro Sugiere que quite ese tornillo y asi podra ver la grabacion entera Si bueno no creo que haya peligro de que te escapes si te quito esto De acuerdo Ya esta Adonde se ha ido Traela de vuelta Repite el mensaje entero Que mensaje El que estabas reproduciendo El que llevas en tus tripas oxidadas Luke Luke Voy enseguida tia Beru Lo siento senor pero me temo que se ha atascado Toma A ver si puedes arreglarlo Enseguida vuelvo Haz el favor de reproducir ese mensaje No creo que no le caes nada bien No a mi tampoco Esa unidad R podria haber sido robada Que te hace pensar eso Ha reproducido una grabacion mientras la estaba limpiando Dice que pertenece a un tal ObiWan Kenobi Podria referirse al viejo Ben Sabes de que esta hablando Me pregunto si es pariente de Ben Ese brujo es un viejo loco Manana lleva esa unidad R a Anchorhead para que le borren la memoria Y fin del asunto Ahora es nuestra Pero y si ese ObiWan viene aqui a buscarla No vendra Ni siquiera creo que este vivo Murio al mismo tiempo que tu padre  Conocia a mi padre  Te he dicho que lo olvides Lo unico que debe preocuparte es preparar a los androides para manana Los quiero en el sur a primera hora reparando esos condensadores Si senor Creo que esos dos androides daran muy buen resultado De hecho estaba pensando en nuestro acuerdo en lo de quedarme otra estacion Si esos androides dan buen resultado solicitare mi ingreso en la academia El proximo semestre antes de la cosecha Claro tienes androides de sobra Es cuando mas te necesito Solo sera una estacion mas Ganaremos lo suficiente este ano para que pueda contratar a mas gente y podras ir a la academia el ano que viene Comprende que te necesito aqui  Pero es otro ano entero  Solo es otra estacion  Eso dijiste al irse Biggs y Tank  Adonde vas Por lo visto a ninguna parte A terminar de limpiar a esos androides No puede quedarse aqui eternamente Se han ido casi todos sus amigos Significa mucho para el Se ira el ano que viene Lo prometo Luke nunca sera granjero Owen Es igual que su padre Eso es lo que me da miedo  Que haces escondido ahi detras  No ha sido culpa mia senor Por favor no me desactive Le he dicho que no se fuera pero tiene fallos no funciona bien  Solo hablaba de su mision  No Esa unidad R siempre ha sido un problema Los astroandroides se estan descontrolando Ni yo mismo logro entender su logica Como he podido ser tan tonto No lo veo por ninguna parte  Maldita sea  No podriamos ir tras el Es demasiado peligroso ahora Tendremos que esperar a manana Luke voy a cortar la energia Bien ire dentro de unos minutos Amigo la que me va a caer  Ese androide me metera en un lio  En eso no le gana nadie Vamos Has visto a Luke esta manana Dijo que tenia algo que hacer antes de empezar y salio temprano  Se ha llevado a los dos androides  Creo que si Como no tenga los condensadores reparados antes del mediodia va a saber lo que es bueno Hay un androide en el radar Justo de frente Puede ser nuestra unidad R Acelera Adonde crees que vas El amo Luke es ahora tu propietario Acaba ya con esa mania de ObiWan Kenobi Y no me hables de tu mision Tienes suerte de que no te haga anicos aqui mismo Esta bien pero sera mejor irnos Que le pasa ahora Se acercan criaturas extranas por el sudeste Los moradores de las arenas O algo peor Andando vamos a echar un vistazo Andando Hay dos Banthas pero no veo a ningun Espera un segundo Son moradores de las arenas Puedo ver a uno Hola Ven aqui amiguito No tengas miedo Tranquilo Se pondra bien Tranquilo hijo Has tenido un dia agitado Tienes suerte de estar aun con vida Ben Ben Kenobi No sabe cuanto me alegro de verle No se debe viajar tan confiadamente por estos desiertos Dime joven Luke que te ha traido hasta aqui Este pequeno androide Busca a su antiguo dueno pero nunca he visto tanta devocion Dice que es propiedad de un tal ObiWan Kenobi Es pariente de Ud Sabe a quien se esta refiriendo ObiWan Kenobi ObiWan Es un nombre que no habia oido desde hace mucho tiempo Mucho tiempo Mi tio creo que lo conocia Dice que ha muerto No ha muerto Todavia no  Ud lo conoce  Claro que lo conozco Soy yo No he utilizado el nombre de ObiWan desde antes de que tu nacieras Entonces este androide es suyo No recuerdo haber tenido nunca un androide Que interesante Sera mejor resguardarnos Los moradores de las arenas huyen facilmente pero volveran pronto y en mayor numero PO Donde estoy He debido de tropezar Puedes ponerte de pie Tenemos que irnos antes de que vuelvan No creo que pueda andar Sigan ustedes amo Luke No se arriesguen por mi Yo ya estoy acabado Ni hablar Que cosas dices Aprisa vienen hacia aqui Mi padre no lucho en las guerras Era navegante de un carguero espacial Es lo que te ha dicho tu tio No compartia los ideales de tu padre Queria que se quedara aqui y que no interviniera  Ud lucho en las Guerras Clon  Si Fui un Caballero Jedi igual que tu padre Ojala lo hubiese conocido Era el mejor piloto estelar de la galaxia y un valiente soldado Me han dicho que tu tambien eres un piloto excelente Y era un buen amigo Lo cual me recuerda que tengo algo aqui para ti Tu padre queria que recibieras esto cuando fueras lo bastante mayor pero tu tio no lo permitio Temia que siguieras al viejo ObiWan en alguna cruzada alocada idealista como hizo tu padre Senor si no me necesita me apagare durante un rato Claro adelante  Que es eso  La espada laser de tu padre El arma de todo Caballero Jedi No es tan tosca e imprecisa como un arma de fuego Es un arma noble para tiempos mas civilizados Durante mas de mil generaciones los Caballeros Jedi fueron los guardianes de la paz y la justicia en la antigua Republica antes de estos tiempos oscuros antes del Imperio Como murio mi padre Un joven Jedi llamado Darth Vader que fue discipulo mio hasta que se convirtio al mal ayudo al Imperio a perseguir y exterminar a los Caballeros Jedi Traiciono y asesino a tu padre Ahora los Jedi se han extinguido Vader fue seducido por el lado oscuro de la Fuerza La Fuerza La Fuerza es lo que le da al Jedi su poder Es un campo de energia creado por todas las cosas vivientes Nos rodea y penetra en nosotros Mantiene unida la galaxia Veamos si podemos averiguar lo que eres amiguito y de donde vienes  Vi parte del mensaje  Creo que ya lo he encontrado General Kenobi hace anos serviste a mi padre en las Guerras Clon Ahora te ruega que le ayudes en su lucha contra el Imperio Siento no poder hacerte este ruego personalmente Mi nave ha sido atacada y mi mision de llevarte a Alderaan ha fracasado He grabado informacion vital para la supervivencia de la rebelion en la memoria de esta unidad R Mi padre sabra como extraerla Asegurate de que le sea entregado este androide sano y salvo en Alderaan Estamos en una situacion desesperada Ayudame ObiWan Kenobi Eres mi unica esperanza Debes aprender los caminos de la Fuerza si vas a venir conmigo a Alderaan A Alderaan No voy a ir a Alderaan Tengo que volver a casa Me la voy a cargar Necesito tu ayuda Luke Ella la necesita Yo soy demasiado viejo para estas cosas No puedo intervenir en esto Tengo cosas que hacer No me gusta el Imperio lo detesto pero no puedo hacer nada ahora mismo  Todo eso queda muy lejos de aqui  Estas hablando igual que tu tio Vaya mi tio Como voy a explicarle esto Aprende a utilizar la Fuerza Luke Puedo llevarle hasta Anchorhead Alli encontrara un medio de transporte a Mos Eisley o adonde quiera ir Debes hacer lo que tu creas justo por supuesto Hasta que esta estacion de combate entre en funcionamiento seremos vulnerables Los rebeldes estan muy bien equipados Son mas peligrosos de lo que cree Peligrosos para su flota estelar comandante no para esta estacion de combate La rebelion seguira ganando apoyo en el Senado Imperial El Senado Imperial ya no debe preocuparnos en absoluto He sido informado de que el Emperador ha disuelto la camara permanentemente Los ultimos vestigios de la Republica han sido ya barridos Eso es imposible Como va a mantener el control sin la burocracia Los gobernadores regionales controlan ahora sus territorios El miedo mantendra el orden en los sistemas locales  El miedo a esta estacion de combate  Y la rebelion que Si los rebeldes han conseguido los planos tecnicos de esta estacion es posible aunque poco probable que encuentren un punto debil y lo aprovechen Los planos a los que se refiere volveran pronto a nuestras manos Cualquier ataque contra esta estacion seria una accion inutil a pesar de los datos que hayan conseguido Esta estacion es ahora la potencia suprema del universo Sugiero que la utilicemos No este demasiado orgulloso de este terror tecnologico que ha construido La habilidad de destruir un planeta es insignificante comparada con el poder de la Fuerza No pretenda intimidarnos con sus cuentos de brujas Lord Vader Su penosa devocion a esa antigua religion no le ha servido para encontrar las cintas robadas ni le ha permitido encontrar la fortaleza secreta de los rebeldes Su falta de fe me resulta molesta Ya basta Vader liberalo Como quieras Estas disputas no tienen sentido Lord Vader nos facilitara el emplazamiento de la fortaleza rebelde para cuando esta estacion entre en funcionamiento Entonces aplastaremos la rebelion de un solo golpe Fueron los moradores de las arenas Hay armas suyas huellas de banthas pero nunca habian realizado un ataque de esta envergadura No han sido ellos aunque se pretenda que asi lo creamos Estas huellas van paralelas Los moradores de las arenas van siempre en fila para ocultar su numero Son los mismos jawas que nos vendieron a R y a PO Y esos disparos son demasiado precisos para ser los moradores de las arenas Solo las tropas de asalto imperiales son tan precisas Pero por que matarian a los jawas Si siguieron la pista de los robots saben a quien se los vendieron eso les habra llevado a casa Espera Luke Es demasiado peligroso Tio Owen Tia Beru Ahora Alteza vamos a hablar del lugar donde se encuentra su base rebelde secreta No habrias podido hacer nada aunque hubieras estado aqui Te habrian matado a ti tambien y los androides estarian ahora en poder del Imperio Quiero ir contigo a Alderaan Aqui ya no me queda nada Quiero aprender los caminos de la Fuerza y ser un Jedi como mi padre El puerto espacial de Mos Eisley No encontraras otro lugar mas infeliz tan lleno de escoria y de vileza Hemos de tener mucho cuidado Desde cuando tienes a esos androides  Hace tres o cuatro estaciones  Estan a la venta si les interesan Ensename la documentacion No necesitan ver su documentacion No necesitamos ver su documentacion Estos no son los androides que buscan No son los androides que buscamos Es libre de ir adonde quiera  Eres libre de ir adonde quieras  Vamos Vamos No soporto a estos jawas Que seres mas asquerosos Largo largo No entiendo como nos han dejado pasar Ya lo veia todo perdido La Fuerza puede influir poderosamente en las mentes debiles Crees que ahi encontraremos a un piloto que nos lleve a Alderaan Aqui se encuentran casi todos los mejores pilotos de carga Pero andate con ojo Este lugar puede ser un poco peligroso Estoy preparado para lo que sea Vamos R  Oye no servimos a los de su especie  Que Tus androides que esperen fuera No los admitimos aqui Espera fuera No queremos problemas Estoy totalmente de acuerdo senor Sirvame uno de esos  No le caes bien  Lo siento A mi tampoco me caes bien Ten mucho cuidado Somos fugitivos Estoy condenado a muerte en  sistemas  Tendre mucho cuidado  Te matare Este jovencito no vale la pena Ven te invitare a un trago Estoy bien Chewbacca es el primer oficial de una nave que podria llevarnos Esto no me gusta nada Han Solo Soy el capitan del Halcon Milenario Chewie me ha dicho que buscan transporte para el sistema Alderaan Cierto Siempre que sea una nave rapida Una nave rapida No has oido hablar del Halcon Milenario Tenia que haber oido hablar de ella Es la nave que realizo el viaje a Kessel en menos de  parasegundos Las naves imperiales no pueden seguirme Y no solo los cruceros pesados Me refiero a las grandes naves Corellian Es lo bastante rapida para ustedes  Que cargamento es  Solo pasajeros Yo este chico dos androides y nada de preguntas Se han metido en algun lio Digamos que preferimos evitar cualquier tipo de enredos imperiales Bueno he ahi el quid de la cuestion Y les costara un poco mas  todo por adelantado  Podriamos comprarnos nuestra propia nave con eso Y quien la va a pilotar Tu Claro que si No soy mal piloto Por que seguimos escuchandolo Podemos darte  ahora mas  cuando lleguemos a Alderaan Diecisiete De acuerdo ya tienen una nave Partiremos en cuanto esten listos Muelle   Parece que alguien empieza a interesarse por su trabajito De acuerdo lo comprobaremos  Esos tipos deben de estar desesperados Esto puede salvarme el pellejo Ve a la nave y ponla a punto  Tendras que vender tu speeder  Da igual No pienso volver nunca mas a este planeta Vas a alguna parte Solo Si Greedo En realidad iba a ver a tu jefe ahora mismo Dile a Jabba que ya tengo su dinero Es demasiado tarde Debiste pagarle cuando tuviste la oportunidad Jabba ha puesto un precio tan alto a tu cabeza que cada cazador de recompensas de la galaxia te estara buscando Por suerte te encontre yo primero Si pero esta vez tengo el dinero Damelo y olvidare que te he encontrado No lo tengo conmigo Dile a Jabba Jabba esta harto de ti No tiene tiempo para los contrabandistas que sueltan la carga en cuanto ven un crucero imperial Incluso a mi me abordan a veces Crees que tenia eleccion Eso diselo a Jabba Quiza se conforme solo con tu nave Pasando por encima de mi cadaver Esa es la idea Llevo mucho tiempo esperando este momento Apuesto a que si Perdona el estropicio Su resistencia a la sonda mental es considerable Costara bastante tiempo sonsacarle cualquier informacion Se ha efectuado la ultima comprobacion Todos los sistemas funcionan Que rumbo seguimos Quiza acabara cediendo ante una nueva forma de persuasion Que quieres decir Creo que ya es hora de demostrar el poder de esta estacion  Ponga rumbo a Alderaan  Sera un placer Cierra la puerta R Miren al otro lado de la calle Esta puerta esta cerrada La siguiente Preferiria haberme ido con el amo Luke a quedarme aqui contigo No se a que viene todo este lio pero seguro que es por tu culpa No digas palabrotas Esta bien damelo Me lo quedo Fijate Desde que ha salido el XP ya no lo quiere nadie Con esto bastara Solo Sal de ahi Solo Estoy aqui Jabba Te estaba esperando No me digas No creerias que iba a huir verdad Han muchacho me decepcionas Por que no me has pagado y por que has carbonizado al pobre Greedo Mira cuando quieras hablar conmigo ven en persona No envies a estos bobos Han no puedo hacer excepciones Y si todos mis contrabandistas tirasen su cargamento al primer indicio de una nave imperial No seria un buen negocio Mira Jabba incluso a mi me abordan a veces Crees que tenia eleccion Pero ahora tengo un trabajito facil Te lo devolvere mas los intereses Solo necesito un poco mas de tiempo Han muchacho eres el mejor Asi que por un  extra Quince Jabba No te pases De acuerdo un  Pero como vuelvas a fallarme pondre un precio tan alto a tu cabeza que no podras ni acercarte a un sistema civilizado Jabba eres una persona maravillosa Vamos Si la nave es tan rapida como dice todo saldra bien Que pedazo de chatarra Supera en  la velocidad de la luz No parece gran cosa pero tiene lo que hace falta Yo mismo le he hecho una serie de modificaciones especiales Pero tenemos prisa Si son tan amables de subir a bordo partiremos enseguida Hola senor Por donde Bien carguen sus armas Detengan la nave Disparen Chewie sacanos de aqui Cielos ya habia olvidado como detesto los viajes espaciales Un crucero imperial Nuestros pasajeros estan mas buscados de lo que creia Entretenlos Orienta los escudos mientras programo a velocidad de la luz Atento vienen dos mas Van a intentar cortarnos el paso Despegate de ellos Creia que este trasto era rapido Cierra la boca o te tiro fuera de la nave Estaremos a salvo en cuanto saltemos al hiperespacio Me se un par de maniobras Los despistare Ahora empieza lo divertido Cuando pasaras a la velocidad de la luz En cuanto el ordenador de navegacion nos de las coordenadas Nos estan alcanzando Viajar por el hiperespacio no es como dar una vuelta por el campo Sin calculos exactos chocariamos contra una estrella o pasariamos cerca de una supernova y se acabaria nuestro paseito  Que senal es esa  Un fallo del escudo deflector Ponganse los cinturones Voy a pasar a la velocidad de la luz Hemos penetrado en el sistema Alderaan Gobernador Tarkin Debi figurarme que sujetaba la correa de su perro Vader Reconoci su repugnante hedor en cuanto me trajeron a bordo Encantadora hasta el final No saben lo dificil que me ha resultado firmar su orden de ejecucion Me extrana que haya tenido el valor de asumir esa responsabilidad Princesa Leia antes de que la ejecuten me agradaria que me acompanara en una ceremonia con la que entrara en funcionamiento esta estacion de combate Ningun sistema estelar se atrevera ahora a oponerse al Emperador Cuanto mas fuerte sea su opresion Tarkin mas sistemas estelares se le escaparan de las manos No despues de haber demostrado el poder de esta estacion En cierto modo han determinado la eleccion del planeta que sera destruido en primer lugar Puesto que se resisten a revelarnos el emplazamiento de la base rebelde he decidido poner a prueba el poder destructivo de esta estacion con su planeta de origen Alderaan No Alderaan es pacifico No poseemos armas Prefiere otro objetivo Un objetivo militar Pues diganos el nombre del sistema Ya estoy harto de preguntarlo asi que lo hare por ultima vez Donde esta la base rebelde En Dantooine Estan en Dantooine Ya esta Ves Lord Vader Puede ser razonable Sigan adelante con la operacion Abran fuego en cuanto esten listos  Que  Es demasiado confiada Dantooine esta demasiado lejos para una demostracion eficaz No se preocupe Pronto me encargare de sus amigos rebeldes Comiencen ignicion principal Te encuentras bien Que te pasa He sentido una gran perturbacion en la Fuerza como si de pronto millones de voces gritaran de terror y luego fueran acalladas de repente Temo que haya ocurrido algo horrible Sera mejor que sigas con tus ejercicios Ya pueden olvidarse de esas babosas imperiales Ya les dije que las dejaria atras No me den las gracias todos a la vez Como sea llegaremos a Alderaan a las  Ten cuidado R La llave ha sido legal No sirve de nada quejarte Dejale ganar No conviene enfadar a un wookiee Pero a nadie le preocupa enfadar a un androide Porque un androide no le arranca los brazos a su rival cuando pierde Los wookiees tienen fama de hacer eso Comprendo lo que dice senor Te sugiero otra estrategia R Deja ganar al wookiee Recuerda un Jedi puede sentir como la Fuerza fluye en el  O sea que controla tus acciones  Parcialmente Pero tambien obedece tus ordenes Las religiones y las armas antiguas no tienen nada que hacer contra un laser No crees en la Fuerza verdad Me he recorrido esta galaxia de un extremo a otro He visto cosas muy raras pero nunca nada que me hiciera creer que haya una unica fuerza todopoderosa que lo controla todo Ningun campo de energia mistica controla mi destino Todo eso no son mas que trucos y tonterias Te sugiero que pruebes de nuevo Luke Esta vez deja a un lado tu conciencia y actua por instinto Con esto tapandome no puedo ver Como voy a luchar Tus ojos pueden enganarte No confies en ellos Guiate por tus sentimientos Has visto Lo puedes hacer Yo a eso lo llamo suerte En mi experiencia la suerte no existe Que valga contra una bola es una cosa Que valga contra los seres vivos es algo muy diferente Estamos llegando a Alderaan Si he sentido algo Casi podia ver la bola Muy bien Has dado tu primer paso hacia un mundo sin limites Si Las naves de reconocimiento han llegado a Dantooine Han hallado restos de una base rebelde abandonada hace algun tiempo Estan realizando un registro a fondo de los sistemas cercanos Ella mintio Nos ha mentido Ya te dije que nunca traicionaria deliberadamente a la rebelion Que sea eliminada inmediatamente Atento Chewie Pasamos a los reactores inferiores Que diablos Nos hemos metido de lleno en una lluvia de meteoritos  No figura en ningun mapa  Que pasa Nuestra posicion es correcta pero Alderaan no esta  Y donde esta  Es lo que intento decirte No esta aqui Ha estallado  Que Como  Lo destruyo el Imperio La flota estelar entera no podria destruirlo Se necesitaria un millar de naves con mas potencia de fuego  Se acerca otra nave  Quiza sepan lo que ha pasado Es un caza imperial  Nos siguio  No es un caza de corto alcance No hay bases por aqui De donde ha salido Va a gran velocidad Si nos identifica tendremos problemas No si lo evito Chewie corta las transmisiones  Dejalo Esta fuera de nuestro alcance  No por mucho tiempo Un caza de ese tamano no puede adentrarse tanto en el espacio solo Se habra perdido formaria parte de algun convoy Pues no tendra tiempo de informar a nadie sobre nosotros Mira se dirige a esa pequena luna Le alcanzare antes de que llegue Ya lo tengo casi a tiro Eso no es una luna  Es una estacion espacial  Es demasiado grande para serlo Esto no me gusta nada Da la vuelta Si tienes razon Demos marcha atras Chewie conecta los motores auxiliares Chewie conecta los motores auxiliares Por que seguimos acercandonos Nos han atrapado en un campo de traccion Haz algo No puedo Vamos a toda potencia Tendre que desconectar los reactores Pero no me dejare atrapar sin luchar No puedes ganar pero hay otras alternativas en vez de luchar Despejen la plataforma  Vamos a abrir el campo magnetico A sus puestos Vengan conmigo Cierren todos los escudos exteriores Cierren todos los escudos exteriores Si Hemos capturado una nave de carga entre los restos de Alderaan Sus caracteristicas coinciden con las de una nave que huyo de Mos Eisley Deben de estar intentando devolverle los planos robados a la Princesa Ella puede sernos aun muy util Desconecten    y  Suelten cargas No hay nadie a bordo senor Segun el diario de a bordo abandonaron la nave nada mas despegar Es un senuelo Han sido lanzadas varias capsulas de salvamento  Hay algun androide  No senor Si lo habia lo han lanzado tambien Envie una unidad de reconocimiento Que registren a fondo la nave Si senor Noto algo una presencia que no habia sentido desde Traigan una unidad de reconocimiento Registren a fondo esta nave No hay nadie aqui Menos mal que tienes estos compartimentos Los utilizo para el contrabando Nunca pense que yo seria el contrabando Esto es ridiculo Aunque pueda despegar no saldremos del campo de traccion  Deja eso de mi cuenta  Maldito tonto Sabia que dirias eso Quien es mas tonto el tonto o el tonto que sigue al tonto La nave esta a su disposicion Si el escaner detecta algo reportenlo Bien vamos Oigan ustedes Pueden darnos una mano TK por que no esta en su puesto TK me recibe Sigue tu El transmisor no funciona Voy a ver que puedo hacer Con los aullidos que pega y tus disparos es un milagro que la estacion entera no sepa que estamos aqui Pues que vengan Prefiero pelear cara a cara que esconderme Hemos encontrado la salida del ordenador Conectalo Podra interpretar la red de comunicaciones imperial Ha encontrado los mandos del campo magnetico que retiene a la nave Intentara que su posicion exacta aparezca en el monitor El campo de traccion esta acoplado al reactor principal por siete terminales Una perdida de energia en una terminal permitira que la nave despegue Ustedes no pueden ayudarme Tengo que ir yo solo Lo que tu digas Yo ya he hecho mucho mas de lo que pensaba hacer  Quiero ir contigo  Ten paciencia Cuida de los androides Hemos de entregarlos sanos y salvos o de lo contrario otros sistemas correran la misma suerte que Alderaan Tu destino discurre por un sendero diferente al mio La Fuerza estara contigo siempre Hace mucho tiempo en una galaxia muy muy lejana Episodio II EL ATAQUE DE LOS CLONES Hay malestar en el Senado Galactico Varios miles de sistemas estelares han manifestado su intencion de abandonar la Republica Este movimiento Separatista liderado por el misterioso Conde Dooku ha dificultado al limitado numero de Caballeros Jedi el mantener la paz y el orden en la galaxia La Senadora Amidala ex reina de Naboo esta regresando al Senado para emitir su voto en el critico asunto de crear un Ejercito de la Republica para apoyar a los desborados Jedi Senadora ya nos acercamos a Coruscant Muy bien teniente Llegamos Parece que me equivoque No habia ningun peligro Corde Miladi perdoneme Le falle senadora No Miladi todavia corre peligro aqui Hice mal en regresar Esta votacion es muy importante Ud cumplio con su deber Corde tambien Venga Senadora Amidala por favor No se cuanto tiempo mas pueda posponer la votacion Mas sistemas solares se estan volviendo separatistas Si se separan Yo no dejare que esta Republica que ha existido durante mil anos se divida en dos Mis negociaciones no fallaran Si fallan los Jedi no bastaran para proteger a la Republica Somos guardianes de la paz no soldados Maestro Yoda piensa Ud que habra guerra El lado oscuro nubla todo Imposible ver el futuro es El Comite de Ciudadanos Leales ya llego Muy bien Que pasen Discutiremos esta cuestion despues Senadora Amidala su tragedia en la plataforma de aterrizaje terrible Verla viva trae sentimientos de alegria a mi corazon Saben quien planeo este ataque Aparentemente mineros descontentos en las lunas de Naboo Creo que el conde Dooku fue el que lo planeo El es un idealista politico no un asesino Miladi el conde Dooku fue Jedi No podria asesinar a nadie Seria contrario a su caracter Pero puede estar segura senadora que Ud en grave peligro esta Maestro Jedi puedo sugerir que se coloque a la senadora bajo la proteccion de sus excelencias Le parece prudente dadas las dificultades de estos tiempos Canciller yo no creo Que la situacion sea tan seria No pero yo si senadora Me doy cuenta de que la vigilancia adicional quiza le sea incomoda pero quiza alguien que Ud conozca Un viejo amigo como el maestro Kenobi Eso es posible Acaba de volver de una disputa fronteriza en Ansion Hagalo por mi miladi por favor La idea de perderla es insoportable Hare que ObiWan se reporte con Ud de inmediato Gracias maestro Windu Te veo un poco nervioso En absoluto No te habia sentido tan tenso desde que caiste en el nido de gundarks Ud cayo en esa pesadilla maestro y yo lo rescate Se acuerda Si Estas sudando Relajate Respira profundamente No la he visto en  anos Obi Obi Misa se sonrie mucho de verte Igualmente Jar Jar Senadora Padme Misos amigos estan aqui Mire mire senadora Los Jedi ya llegaron Es un gran placer volver a verla miladi Ha pasado demasiado tiempo maestro Kenobi Ani  Dios mio como has crecido  Ud tambien En hermosura digo Para una senadora quiero decir Siempre seras el nino que conoci en Tatooine Nuestra presencia aqui sera invisible Se lo aseguro Soy capitan Typho de la guardia real La reina Jamillia esta enterada de su mision Gracias por venir La situacion es mas peligrosa de lo que ella admite No necesito mas guardias sino respuestas Quiero saber quien quiere matarme Venimos a protegerla no a iniciar una investigacion Descubriremos quien esta tratando de matarla Se lo prometo No excederemos nuestras ordenes aprendiz Padawan Mi intencion era para protegerla mejor maestro No volveremos a discutir esto Presta atencion a mi ejemplo Por que Por que asignarnos a protegerla si no para hallar al asesino Proteccion es un trabajo para guardias locales Un Jedi es demasiado Nuestras ordenes implican investigar Seguiremos las instrucciones del Consejo Y tu aprenderas tu lugar jovencito Quiza su mera presencia revele los misterios de esta amenaza Ahora con su permiso me voy a retirar Me sentire mejor teniendolos aqui Asignare un oficial a cada piso y yo estare abajo Misa desborda de felicidad de verte otra vez Ani Padme casi ni me reconocio Jar Jar Yo he pensado en ella a diario desde que nos separamos y ella me ha olvidado por completo Ella esta contenta Mas feliz que yo la he visto en mucho tiempo Estas concentrandote en lo negativo Cuida bien tus pensamientos Si le dio gusto vernos Revisemos la seguridad Vole la nave pero usaron un senuelo Debemos probar algo mas sutil Mi cliente esta perdiendo la paciencia Llevate estos Cuidado son muy venenosos Y Zam esta vez no puede haber errores El capitan Typho tiene muchos hombres abajo Nadie entrara por ahi  Hay actividad aca arriba  Esto parece una tumba No me gusta solamente esperar a que pase algo Que pasa Tapo sus camaras Creo que no le gusta que yo la vea Como se le ocurre RD nos advertira si hay un intruso Hay otras maneras de matar a una senadora Ya lo se pero tambien queremos atrapar al asesino no La estas usando de carnada Fue idea de ella No le pasara nada Yo puedo sentir todo lo que pasa en ese cuarto Confie en mi Es demasiado arriesgado Ademas tus sentidos no estan tan afinados Y los suyos si Posiblemente Te ves cansado Ya no duermo bien Por tu madre No se por que no dejo de sonar con ella Los suenos pasan con el tiempo Preferiria sonar con Padme Nada mas estar cerca de ella otra vez es intoxicante Ten cuidado con tus pensamientos te delatan Te has comprometido con la Orden de los Jedi un compromiso dificil de romper Y ella es politica No son dignos de confianza Ella no es como los demas senadores En mi experiencia los senadores complacen a los que los financian Se olvidan de las sutilezas de la democracia para obtener fondos No me de otro sermon Al menos no sobre la economia de la politica Ademas esta generalizando El canciller no parece ser corrupto Palpatine es un politico Es muy astuto para usar las pasiones y prejuicios de los senadores Yo creo que es un buen hombre Mi Yo tambien lo senti Quedate aqui Se encuentra bien Que de Por que tardaste tanto  No hallaba una nave que me gustara  Ahi esta con cabina abierta y la potencia que queria Si te dedicaras mas a la esgrima que a hacer chistes serias mejor que Yoda Yo creia que ya lo era Solo en tu mente mi muy joven aprendiz Enderezanos Anakin Enderezanos No me gusta que hagas eso Perdon maestro Olvide que no le gusta volar Volar esta bien pero esto es suicidio Cuantas veces te he dicho que evites los empalmes Eso estuvo bien A donde vas Se fue para alla Si seguimos persiguiendolo asi el desgraciado acabara horneado Quisiera descubrir quien es y para quien trabaja Este es un atajo creo Se te fue Lo lamento mucho maestro Vaya atajo Anakin Se fue para el otro lado Otra vez te Con su permiso Detesto que haga eso Anakin Se metio al club maestro Paciencia Usa la Fuerza Piensa  Perdon maestro  Entro para ocultarse no para huir Si maestro Trata de no perderla Esta arma es tu vida Yo trato maestro Siento que un dia me vas a matar No diga eso Ud es lo mas parecido que tengo a un padre  Por que no me haces caso  Estoy tratando Lo ves Creo que el es mas bien ella Y creo que es un cambiador En ese caso ten mas cuidado todavia  Ve y encuentrala  A donde va usted A tomar algo Quieres unas varas letales  No quieres venderme eso  No quiero venderte eso  Ve a casa y contempla tu vida  Ire a casa y contemplare mi vida Tranquilos Asunto de Jedi Sigan bebiendo Sabes a quien trataste de matar A la senadora de Naboo Quien te contrato Solo era un trabajo Quien te contrato Dinos Dinos ahora mismo Un caza recompensas llamado Dardo toxico Rastrear a ese caza recompensas debes ObiWan Y lo mas importante es averiguar para quien trabaja Y la senadora Amidala Todavia necesita proteccion De ella tu Padawan se encargara Anakin escolta a la senadora a su planeta natal de Naboo Estara mas segura ahi Y no usen vehiculos registrados Viajen como refugiados Como lider de la oposicion la senadora no va a querer abandonar la capital Hasta que en nuestras manos el asesino este respetar nuestro criterio ella debera Anakin ve al senado Pide al canciller Palpatine que hable con ella Yo hablare con ella La senadora Amidala no contravendra mi orden La conozco lo suficiente para asegurartelo Gracias Su Excelencia Conque finalmente te han dado una mision propia Tu paciencia ha rendido frutos Sus consejos mas que mi paciencia Tu no necesitas consejos Anakin Con el tiempo aprenderas a confiar en lo que sientes Entonces seras invencible Lo he dicho muchas veces eres el Jedi mas talentoso que he conocido Gracias Su Excelencia Te veo convirtiendote en el mas grande de todos los Jedi Aun mas poderoso que el maestro Yoda Me preocupa mi Padawan No esta listo para que le den esta mision El Consejo confia en su decision El chico tiene dones excepcionales Pero aun tiene mucho que aprender Sus habilidades lo han vuelto pues arrogante Si un defecto cada vez mas comun entre los Jedi Demasiado seguros de si mismos estan Aun los viejos con mas experiencia Recuerda ObiWan Si la profecia es verdad solo tu aprendiz puede volver a equilibrar la Fuerza Voy a tomar un descanso largo Es tu responsabilidad ocupar mi lugar en el senado Representante Binks se que cuento con usted Misa acepta este honor que es un gran peso Misa lo acepta con muy muy humildad y Jar Jar no quiero entretenerte mucho Se que tienes mucho que hacer Claro miladi No me gusta la idea de esconderme Descuida El Consejo ha ordenado una investigacion El maestro Obi Wan dara con el caza recompensas No trabaje un ano contra el Acto de Creacion Militar para no votar A veces debemos olvidar el orgullo y hacer lo que nos piden Anakin has madurado El maestro ObiWan se las ingenia para no verlo No me malentiendas ObiWan es un gran tutor Es sabio como el maestro Yoda y poderoso como el maestro Windu Estoy muy agradecido de ser su aprendiz Pero en ciertos aspectos en muchos aspectos estoy mas adelantado que el Estoy listo para las pruebas Pero el siente que soy demasiado impredecible No me deja avanzar  Debe de ser frustrante  Peor Me critica por cualquier cosa Nunca me escucha No entiende No es justo Los tutores ven nuestros defectos mas de lo que nos gustaria Asi es como crecemos Ya lo se Anakin no trates de crecer demasiado rapido Pero si ya madure Tu misma lo dijiste No me mires asi Por que no Me siento incomoda Perdon miladi  Tenga cuidado miladi  Gracias capitan Cuide a Dorme La amenaza se cierne sobre Uds ahora El estara a salvo conmigo Te va a ir bien No estoy preocupada por mi sino por Ud Que si se enteran de que abandono la capital Entonces mi protector Jedi tendra que demostrar su pericia Anakin no hagas nada sin antes consultarme a mi o al Consejo Si maestro Llegare al fondo de este complot Ud volvera en muy poco tiempo Le agradecere mucho su prontitud  Es hora de irse  Ya lo se Anakin que la Fuerza te acompane Que la Fuerza lo acompane maestro De repente tengo miedo Esta es mi primera mision solo Yo tambien tengo miedo Pero descuida RD viene con nosotros Ojala no haga ninguna tonteria A mi me preocuparia mas que ella hiciera algo Alguien viene a verte guapo Un Jedi aparentemente ObiWan Hola Dex Sientate Voy en un segundo Quieres un vaso de jugo de jawa Si Gracias Mi camarada Dime amigo En que te puedo servir Dime que es esto No he visto uno de estos desde que andaba buscando minas en Subterrel mas alla de la Orilla Exterior De donde viene Este precioso es de los clonadores Lo que tienes ahi es un sable dardo kaminiano No aparecio en los archivos de analisis Estos cortes raros en los lados lo identifican Los droides de analisis solo se concentran en los simbolos Los Jedi deberian respetar mas la diferencia entre conocimientos y sabiduria Si los droides pudieran pensar no estariamos aqui verdad Yo no conozco Kamino Esta en la Republica No esta pasando la Orilla Exterior Yo diria que a unos  parsecs del Laberinto Rishi Va a ser facil encontrarlo aun para los droides de tus archivos Esos kaminianos son muy reservados Son clonadores Y muy buenos tambien Son amigables Eso depende De que depende Dex De que tan buenos modales tengas y de que tan grande sea tu cuenta de banco  Pidio ayuda  Si la pedi Tiene un problema maestro Kenobi Estoy buscando un sistema solar llamado Kamino No esta en el archivo Kamino No es un sistema que yo conozca Tiene las coordenadas correctas Deberia aparecer en este cuadrante al sur del Laberinto Rishi Lamento decirlo pero parece que el sistema que busca no existe Imposible Quiza esten incompletos los archivos Si una cosa no aparece en nuestros registros no existe Oye tu No se permiten droides Largo de aqui Gracias R Debe de ser dificil jurar lealtad para toda la vida No poder visitar lugares que quieres o hacer cosas que quieres O estar con la gente que amo Se te permite amar Yo creia que le estaba prohibido a un Jedi Estan prohibidos los lazos La posesion esta prohibida La compasion que yo definiria como amor incondicional es central en la vida de un Jedi Asi que puedes decir que se nos alienta a amar  Has cambiado tanto  Tu no has cambiado nada Eres justo como te recordaba en mis suenos Busquenla Sientan la Fuerza a su alrededor Usar sus sentimientos deben Jovencitos Jovencitos Un visitante tenemos Hola maestro ObiWan Disculpe la molestia maestro En que servirte puedo ObiWan Estoy buscando un planeta que un amigo me describio El sistema no aparece en los mapas del archivo Perdido un planeta el maestro ObiWan ha Que verguenza Que verguenza Liam las persianas Reunanse junto al lector de mapas Despejen sus mentes y encontrar el planeta extraviado lograremos Deberia estar aqui Pero no esta La gravedad esta tirando las estrellas de la zona a este punto La silueta de la gravedad es visible pero la estrella y sus planetas desaparecido han Como puede esto ser Alguna idea Alguien Maestro Porque alguien lo borro de la memoria del archivo Verdaderamente maravillosa la mente de un nino es El Padawan tiene razon Ve al centro de la atraccion de la gravedad y tu planeta encontraras La informacion debe de haber sido borrada Pero maestro Yoda quien puedo haber borrado la informacion Es imposible no Peligroso e inquietante este acertijo es Solamente un Jedi pudo haber borrado esos expedientes Pero quien y por que es mas dificil contestar Sobre eso meditare Yo no fui la reina mas joven jamas elegida pero no estoy segura de que tenia la madurez de que estaba lista Tu pueblo cree que gobernaste bien Oi que trataron de cambiar la Constitucion para que siguieras reinando Fue un alivio cuando acabaron mis dos periodos pero cuando la reina me pidio que fuera senadora no me pude negar Estoy de acuerdo con ella La Republica te necesita Me alegro de que decidiste servir Si el senado decide crear un ejercito habra guerra civil Es impensable No ha habido una guerra desde que se formo la Republica Pueden negociaciones recuperar a los separatistas No si se sienten amenazados Pediran ayuda a la Federacion de Comercio o al Gremio Es increible que despues de cuatro juicios en la Suprema Corte Nute Gunray siga siendo virrey de la Federacion de Comercio Me temo que el senado no tiene el poder para resolver esta crisis Debemos conservar la fe en la Republica El dia que perdamos fe en la democracia sera el dia que la democracia perecera Recemos por que nunca llegue ese dia Mientras tanto debemos pensar en tu seguridad Que sugiere Ud maestro Jedi Anakin aun no es Jedi todavia es un aprendiz Padawan Un momento Disculpa Creo que debo quedarme en la Region de los Lagos Es una zona muy aislada Disculpeme a mi Yo estoy a cargo de la seguridad miladi Este es mi hogar Lo conozco por eso vinimos Seria prudente aprovechar mis conocimientos en este caso Perdon miladi Perfecto Queda decidido entonces Ahi esta R Justo donde deberia estar el planeta perdido Kamino Maestro Jedi el primer ministro lo esta esperando  Me esta esperando  Por supuesto Esta ansioso de conocerlo Despues de todos estos anos empezabamos a pensar que no venia Por favor venga por aqui Le presento a Lama Su primer ministro de Kamino Le presento al maestro Jedi ObiWan Kenobi Confio en que disfrutara de su estancia Por favor Y ahora a los negocios Le encantara saber que vamos a tiempo  mil unidades estan listas y un millon mas estan en camino Que buenas noticias Por favor diga a su maestro SifoDyas que llenaremos su pedido a tiempo Disculpe El maestro El maestro Jedi SifoDyas sigue siendo un miembro importante del Consejo Jedi no El maestro SifoDyas murio hace casi  anos Lamento mucho oir eso Estoy seguro de que estaria orgulloso del ejercito que le hicimos El ejercito Si un ejercito de clones Y la verdad es uno de los mejores que hemos creado Digame mi maestro hablo con usted acerca del ejercito Le dijo para que era Por supuesto El ejercito es para la Republica Pero Ud ya debe de estar ansioso de inspeccionar las unidades A eso vine Veniamos aqui a nuestro retiro escolar Nadabamos a esa isla todos los dias Me encanta el agua Nos acostabamos en la arena y dejabamos que el sol nos secara y tratabamos de adivinar que ave estaba cantando A mi no me gusta la arena Es burda aspera e irritante y se mete en todos lados Claro que aqui no Aqui todo es sedoso y suave No No deberia haberte besado Lo lamento Muy impresionante Esperaba que se sintiera complacido Los clones pueden pensar creativamente Descubrira que son infinitamente superiores a los droides Nos enorgullecemos de nuestra educacion y entrenamiento de combate Este grupo fue creado hace unos  anos Menciono Ud crecimiento acelerado Es esencial Si no un clon maduro tardaria una vida en crecer Ahora lo podemos hacer en la mitad de tiempo Ya veo Son totalmente obedientes Cumplen ordenes sin cuestionarlas Los modificamos geneticamente para hacerlos menos independientes que el modelo original Y quien fue el modelo original Un caza recompensas llamado Jango Fett Donde esta el ahora Lo tenemos aqui Aparte de su paga que es considerable Fett solo exigio una cosa Un clon sin alteraciones para si mismo Que curioso no Sin alteraciones Una replica genetica pura Sin modificar los genes para hacerlo mas docil Y sin crecimiento acelerado Me gustaria mucho conocer a Jango Fett Sera un placer para mi hacer los arreglos Magnificos no cree No lo se Si sabes pero no me lo quieres decir  Usaras un truco mental de Jedi  Solo funcionan con los debiles Esta bien Yo tenia  anos Conoci a Palo en el Programa Legislativo Juvenil El era unos anos mayor que yo Muy guapo Cabello oscuro Ojos de sonador Esta bien ya entendi Que le paso Yo entre al servicio publico El se volvio artista Quiza el fue el listo A ti de veras no te gustan los politicos Me gustan dos o tres Pero de una no estoy muy seguro Yo creo que el sistema no funciona Que cambios le harias Los politicos deberian sentarse y discutir el problema ponerse de acuerdo en que es lo mejor para la gente y hacerlo Eso es lo que hacemos El problema a veces es ponerse de acuerdo Alguien los deberia obligar Quien  No lo se Alguien  Tu  Claro que no  Pero alguien Alguien sabio Eso suena mucho a dictadura Bueno si funciona Te estas burlando de mi Me da miedo burlarme de una senadora Ani Ani estas bien Boba esta tu papa Si Lo podemos ver Claro Papa vino Taun We Jango bienvenido Fue productivo tu viaje Bastante Te presento al maestro Jedi ObiWan Kenobi Vino a inspeccionar nuestro progreso Sus clones son impresionantes Debe de estar orgulloso Solo trato de ganarme la vida en el universo Alguna vez su vida lo llevo a Coruscant Una o dos veces Recientemente Es posible Entonces debe conocer al maestro SifoDyas Al maestro que SifoDyas No fue el Jedi que lo contrato para este trabajo Nunca he oido hablar de el De veras A mi me recluto un hombre llamado Tyranus en una luna de Bogden Que curioso Le gusta su ejercito Tengo muchos deseos de verlo en accion Haran bien su trabajo Se lo garantizo Gracias por su tiempo Jango Siempre es un placer conocer a un Jedi Que pasa papa Empaca tus cosas Ya nos vamos Cuando llegue con ellos empezamos negociaciones agresivas Que son negociaciones agresivas Bueno negociaciones con una espada laser Si el maestro ObiWan me viera haciendo esto se pondria grunon Desde el momento en que te conoci hace ya tantos anos no ha habido un solo dia que no haya pensado en ti Ahora que estoy contigo de nuevo siento una gran agonia Entre mas me acerco a ti peor se pone La idea de no estar contigo no puedo respirar Me agobia el beso que nunca debiste darme Mi corazon late con la esperanza de que ese beso jamas cicatrice Estas dentro de mi alma misma atormentandome Que puedo hacer Hare cualquier cosa que me pidas Si estas sufriendo tanto como yo por favor dimelo No puedo No podemos Simplemente no es posible Cualquier cosa es posible Escuchame No escuchame tu Vivimos en un mundo real Vuelve a el Tu estas estudiando para volverte Jedi Yo soy una senadora Seguir tu idea a sus ultimas consecuencias nos llevara a un lugar a donde no podemos ir sin importar lo que sintamos el uno por el otro Entonces si sientes algo No dejare que sacrifiques tu futuro por mi Me estas pidiendo que sea racional Eso es algo que se que no puedo hacer Quisiera poder eliminar mis sentimientos con tan solo desearlo pero no puedo No voy a ceder Sabes que Las cosas pueden ser distintas Podemos guardar el secreto Viviriamos una mentira que no podriamos ocultar ni queriendo Yo no puedo hacer eso Tu si Tu podrias vivir asi No Tienes razon Nos destruiria Diga a su Consejo que los primeros batallones estan listos Y recuerdeles que si necesitan mas tropas requeriremos mas tiempo para criarlas No lo olvidare Y gracias Gracias a usted R Desmodular codigo  a Coruscant al asilo de ancianos Hice contacto con el primer ministro de Kamino Han creado un ejercito de clones de un caza recompensas Jango Fett Siento que este caza recompensas es el asesino que estamos buscando Crees que los clonadores son parte del complot de asesinato No maestro No hay ningun movil aparente No presupongas nada ObiWan Tu mente despejada debe estar si has de descubrir a los verdaderos villanos detras de este complot Si maestro Dicen que el maestro SifoDyas ordeno un ejercito de clones a peticion del senado hace diez anos Yo creia que habia muerto mucho antes Autorizo el Consejo la creacion de un ejercito de clones No Quien hizo el pedido no tenia nuestra autorizacion Traelo aca Interrogarlo debemos Si maestro Me reportare cuando lo tenga Ciegos estamos si la creacion de este ejercito de clones no pudimos ver Debemos reportar que nuestra habilidad de usar la Fuerza ha disminuido Solo el Senor Oscuro de los Sith conoce nuestra debilidad Si el senado fuese informado nuestros rivales se multiplicarian Mama no No No te vayas No deseo molestarte Tu presencia es calmante Tuviste otra pesadilla anoche Los Jedi no tienen pesadillas Te oi Vi a mi madre Esta sufriendo Padme La vi tan claramente como te estoy viendo a ti Esta sufriendo dolor fisico Se que estoy desobedeciendo mis ordenes de protegerte pero me tengo que ir Le tengo que ayudar Ire contigo Perdoname No tengo mas remedio Papa Mira Boba subete a bordo Que desastre Espera aqui ChutChut Watto Dejeme ayudarle con eso Que Que quieres Espere Ud es un Jedi Sea lo que sea yo no fui Busco a Shmi Skywalker Ani El pequeno Ani Tu eres Ani Eres tu Te estiraste verdad Un Jedi Que te parece Quiza me puedas ayudar con unos sinverguenzas que me deben mucho dinero Mi madre Si Shmi Ya no es mia La vendi  La vendiste  Hace anos Disculpa Ani pero negocios son negocios Se la vendi a un higrofinquero llamado Lars Al menos creo que se llamaba Lars Aunque no lo creas parece que la libero y se caso con ella Que buen final no Sabes donde estan ahora Muy lejos de aqui En algun lugar al otro lado de Mos Eisley creo Quisiera saberlo Claro que si Definitivamente Vamos a ver en mis archivos Papa Creo que nos estan rastreando Debe de habernos puesto un transmisor Entraremos al campo de asteroides Le daremos un par de sorpresas Cargas sismicas Preparate No parece entender indirectas Cuidado Dale papa Dale Fuego Rayos Por esto odio volar Le dimos Hay que acabar con el R preparate para arrojar las latas de refacciones Ahora No lo volveremos a ver Creo que ya esperamos suficiente Hay una concentracion anormal de naves de la Federacion Quedate con la nave R Hola En que les puedo servir Yo soy C PO El creador Maestro Ani Yo sabia que volveria Lo sabia Y la Srta Padme Cielos Hola PO Benditos sean mis circuitos Que gusto me da verlos Vine a ver a mi madre Creo que quiza lo mejor sea entrar a la casa Joven Owen le presento a dos visitas muy importantes Yo soy Anakin Skywalker Owen Lars Te presento a mi novia Beru Yo soy Padme Parece que soy tu hermanastro Sentia que un dia ibas a aparecerte Esta aqui mi madre No no esta Cliegg Lars Shmi es mi esposa Vamos adentro Tenemos mucho de que hablar Fue justo antes del amanecer Salieron de la nada una partida de caza de bandidos tusken Tu madre habia salido temprano a cosechar los hongos que crecen en los vaporizadores A juzgar por las huellas venia a mitad del camino a casa cuando la atraparon Esos tusken caminan como hombres pero son unos depravados unos monstruos imbeciles Treinta hombres fueron por ella Cuatro volvieron Yo hubiera ido con ellos pero despues de perder mi pierna no he podido cabalgar y no podre hasta que sane No quiero darme por vencido pero hace un mes que se fue Hay pocas esperanzas de que haya durado tanto A donde vas A buscar a mi madre Tu madre esta muerta hijo Aceptalo Tendras que quedarte aqui Son gente buena Padme Estaras a salvo Anakin No tardare mucho El Gremio de Comerciantes y la Alianza Corporativa deben unirse Y la senadora de Naboo Ya esta muerta No firmare un tratado hasta no tener su cabeza en mi escritorio Yo siempre cumplo mi palabra virrey Con los nuevos droides de combate que le hicimos tendra el mejor ejercito de la galaxia Como les explique antes estoy convencido de que  sistemas mas se nos uniran con el apoyo de ustedes Lo que propone podria llamarse traicion El ejercito de Techno Union esta a su disposicion conde El Clan Bancario firmara su tratado Bueno Muy bien Nuestros amigos de la Federacion de Comercio nos apoyan Combinando sus droides de combate con los de Uds tendremos el ejercito mas grande de la galaxia Los Jedi se veran aplastados La Republica accedera a todas nuestras demandas Mama Mama Ani Eres tu Aqui estoy mama Estas a salvo Ani Que guapo te ves Mi hijo Mi hijo ya crecido Estoy muy orgullosa de ti Ani Te extrane Ya estoy completa Te quie No te me vayas mama Todo Yo Yo te quie Anakin Anakin No Que pasa Dolor sufrimiento muerte siento Algo terrible ha sucedido El joven Skywalker esta sintiendo dolor Un dolor terrible El transmisor funciona bien pero no hay senal de respuesta Coruscant esta lejos Puedes aumentar la potencia Necesitamos otra solucion Quiza podemos hablar con Anakin en Naboo Esta mucho mas cerca Anakin Anakin me oyes Habla ObiWan Kenobi Anakin No esta en Naboo R Voy a ampliar las frecuencias Ojala no le haya pasado nada Esa es la senal de rastreo de Anakin Pero viene de Tatooine Que demonios esta haciendo ahi Le dije que se quedara en Naboo No tenemos mucho tiempo Anakin me oyes Habla ObiWan Kenobi esta averiado Retransmite este mensaje a Coruscant Te traje algo Tienes hambre Los cambios se descompusieron La vida parece mas simple cuando estas arreglando cosas Soy bueno para arreglar cosas Siempre lo he sido Pero no pude Por que se tuvo que morir Por que no la pude salvar Yo se que podia A veces hay cosas que nadie puede arreglar  No eres todopoderoso Ani  Pues deberia serlo Algun dia lo sere Sere el Jedi mas poderoso de la historia Te lo juro Hasta aprendere a evitar que la gente muera Anakin Todo es por culpa de ObiWan Me tiene envidia Me esta deteniendo Que te pasa Ani Los mate Los mate a todos Estan muertos Todos y cada uno Y no solo los hombres sino las mujeres y los ninos tambien Son como animales Y los mate como a animales Los odio Enojarse es de humanos Soy un Jedi Se que soy mejor Yo se que dondequiera que estes ahora es un lugar mejor Fuiste la pareja mas carinosa que cualquier hombre pudo haber tenido Adios mi querida esposa Y gracias No tuve las fuerzas para salvarte mama Me faltaron fuerzas Pero yo te juro que no volvere a fracasar Te extrano muchisimo R Que haces aqui Parece que trae un mensaje de ObiWan Kenobi Maestro Ani conoce Ud ese nombre Mi transmisor esta averiado Retransmite este mensaje a Coruscant Segui al caza recompensas Jango Fett a las fundiciones de droides en Geonosis La Federacion de Comercio construyo un ejercito de droides Esta muy claro que el virrey Gunray esta detras de los conatos de asesinato a la senadora El Gremio de Comerciantes y la Alianza Corporativa han ofrecido sus ejercitos al conde Dooku y estan formando Esperen Sucede mas en Geonosis me temo de lo que ha sido revelado Estoy de acuerdo Anakin nosotros nos encargaremos de Dooku Es muy importante que te quedes donde estas Protege a la senadora a toda costa Esa es tu primera prioridad Entendido maestro No llegaran a tiempo para salvarlo Estan del otro lado de la galaxia Mira Geonosis esta a menos de un parsec Si todavia esta vivo Vas a quedarte aqui y dejarlo morir Es tu amigo tu tutor Es como mi padre El maestro Windu me dio ordenes estrictas de quedarme aqui Te dio ordenes estrictas de protegerme Y yo voy a ayudar a ObiWan Si piensas protegerme vas a tener que venir No estoy preocupado R Es que nunca habia volado El Gremio de Comerciantes se dispone a pelear Dooku debe de haber hecho un tratado con ellos El debate se ha terminado Ahora necesitamos el ejercito de clones Desafortunadamente el debate no ha acabado El senado solo aprobara el uso de clones si los separatistas atacan Es una crisis El senado debe dar poderes especiales al canciller Entonces el podra aprobar la creacion de un ejercito Pero que senador tendra el valor de proponer una medida tan radical Si tan solo estuviera aqui la senadora Amidala Traidor No amigo Este es un grave error Se pasaron de la raya Esto es una locura Yo creia que Ud era el lider aqui Esto no tiene nada que ver conmigo Pedire inmediatamente que se te ponga en libertad Espero que no tarden mucho Tengo trabajo pendiente Puedo preguntar que hace un Caballero Jedi hasta aca en Geonosis Estaba siguiendo a un caza recompensas llamado Jango Fett Lo conoce Aqui no hay caza recompensas Los geonosianos no confian en ellos No los culpo Pero le aseguro que el esta aqui Es una gran lastima que nuestros caminos no se hayan cruzado antes QuiGon hablaba muy bien de ti Ojala todavia viviera Su ayuda me vendria muy bien QuiGon Jinn jamas se uniria a usted No estes tan seguro mi joven Jedi Olvidas que el fue mi aprendiz igual como tu fuiste el suyo El jamas hubiera tolerado la corrupcion en el senado si hubiera sabido la verdad  La verdad  La verdad Sabes que los Senores Oscuros de los Sith controlan la Republica No es posible Los Jedi se habrian dado cuenta El lado oscuro de la Fuerza ha nublado su vision amigo mio Cientos de senadores estan bajo la influencia de un Senor Sith llamado Darth Sidious No le creo El virrey de la Federacion de Comercio estuvo confabulado con el tal Darth Sidious Pero el Senor Oscuro lo traiciono hace  anos Me vino a pedir ayuda y me lo conto todo Debes unirte a mi ObiWan y juntos destruiremos al Sith Yo jamas me le unire Dooku Quiza sea dificil arreglar tu liberacion Es obvio que los separatistas hicieron un trato con la Federacion de Comercio Colegas aqui presentes Como respuesta a esta amenaza directa a la Republica misa propone que el senado de inmediatamente poderes de emergencia al Canciller Supremo Palpatine Palpatine Palpatine Palpatine Palpatine Palpatine Orden Tendremos orden Es con una gran renuencia que he decidido aceptar este llamado Yo amo la democracia Yo amo a la Republica Renunciare a este poder que me han otorgado tan pronto se abata la crisis Y como primer acto con esta nueva autoridad creare un gran ejercito de la Republica para combatir las amenazas cada vez mayores de los separatistas Entonces ya esta hecho Juntare a los Jedi que encuentre e ire a Geonosis a ayudar a ObiWan Visitare yo a los clonadores de Kamino y vere el ejercito que han creado para la Republica Ves esa columna de humo Son escapes de algun tipo Aqui esta bien Pase lo que pase haz lo que yo haga No quiero empezar una guerra Como senadora quiza pueda encontrar una solucion diplomatica No te preocupes Ya acepte que no puedo discutir contigo Si hubieran necesitado nuestra ayuda nos la hubieran pedido Tienes mucho que aprender sobre el comportamiento humano Para ser un mecanico piensas demasiado Yo estoy programado para entender humanos Que significa eso Que yo soy el que manda aqui A donde vas No sabes que hay alla afuera No tienes sentido comun Idiota Espera por favor Sabes a donde vas Espera Dios mio Increible Maquinas haciendo maquinas Que perverso Calmate R Por poco me caigo Ya podras luego Me van a hacer chatarra Que pesadilla Me quiero ir a casa Que hice para merecerme esto Que le habra pasado al pobre de RD Siempre se mete en problemas No Que confundido estoy Otra vez no ObiWan me va a matar No te muevas Jedi Llevenselos No tengas miedo No tengo miedo de morir He muerto un poco cada dia desde que volviste a mi vida De que hablas Te amo Me amas Yo creia que habiamos decidido no enamorarnos Que nos veriamos forzados a vivir una mentira y que destruiria nuestras vidas Creo que nuestras vidas estan a punto de ser destruidas Yo verdaderamente profundamente te amo Y antes de morir queria que lo supieras No sabia si habias recibido mi mensaje Lo retransmiti como me lo pidio maestro Y entonces decidimos rescatarlo Bien hecho Calma Calma Que empiecen las ejecuciones Esto no me gusta nada Relajate Concentrate Y Padme Esta por encima de las circunstancias Ella no puede hacer eso Disparenle o algo Salta No debe ser asi Jango Acaba con ella Paciencia virrey paciencia Ella morira Maestro Windu que gusto que haya venido a acompanarnos Esta fiesta se acabo Valiente pero descabellado mi viejo amigo Jedi Somos demasiados para ustedes No me parece Ya lo veremos Mis piernas no me obedecen Necesito mantenimiento Que es todo ese ruido Una batalla Ha habido un gran error Yo sirvo para la etiqueta no para pelear Mueran perros Jedi Que dije Cielos Lo siento muchisimo Disculpen Estoy atrapado No me puedo parar Esto es una solucion diplomatica No estas son negociaciones agresivas Afirmativo afirmativo R que haces aqui Que haces Detente Vas a luxarme algo Mi cuello A donde me llevas Eres una verdadera lata Estoy fuera de mis casillas R por favor ten cuidado Estas quemando mis circuitos Bravo Pero tengo bien puesta la cabeza Maestro Windu ha peleado galantemente Se merece un reconocimiento en los anales de la Orden Jedi Ahora esto ha terminado Rindanse y les perdonare la vida No seremos rehenes para que haga sus trueques Dooku Entonces lo siento viejo amigo Miren Alrededor de los sobrevivientes un perimetro creen Tuve un sueno sumamente peculiar Si Dooku escapa mas sistemas a su causa aunara Sujetense Apunta arriba del combustible Bien hecho mi joven Padawan Los Jedi han amasado un ejercito enorme Parece imposible De donde sacaron un ejercito tan rapido Tenemos que enviar todos los droides a la batalla Son demasiados Bloquearon nuestras comunicaciones Piloto aterrice en esa zona de reunion Si senor Senor tengo  unidades especiales de comandos esperando ordenes Al Centro de Mando de Avanzada llevenme Ataca esas naves estelares de la Federacion Maestro Yoda las posiciones mas adelantadas estan avanzando Muy bien Muy bien Esto no pinta nada bien Debemos mandar todas las naves estelares al espacio Tenemos que ordenar la retirada Mi senor jamas permitira que la Republica nos traicione asi Ordenare a mis guerreros que se oculten en las catacumbas Los Jedi no deben encontrar el diseno de la superarma Si descubren lo que queremos construir estamos perdidos Yo me llevare los disenos a Coruscant Ahi estaran mucho mas a salvo con mi senor Concentren todo su fuego en la nave mas cercana Si senor Muevan todos los cuadrantes al sector  Miren ahi Es Dooku Derribelo Ya no tenemos cohetes senor  Sigalo  Necesitaremos ayuda No hay tiempo Anakin y yo podemos con el Aterriza la nave Olvida tus sentimientos personales Siga esa moto  Aterriza  No puedo con Dooku solo Si lo agarramos podemos poner fin a la guerra Es nuestro trabajo No me importa Aterriza La Orden de los Jedi te expulsara No la puedo dejar Se razonable Que crees que haria Padme en tu lugar Ella cumpliria con su deber El ejercito de droides se retira Bien hecho comandante Traigame una nave La pagaras por los Jedi que mataste hoy Dooku Atacaremos juntos  Yo lo atacare ya  No Anakin Como ves mis poderes de Jedi son muy superiores a los suyos Ahora retirate Yo creo que no Maestro Kenobi me decepcionas Yoda te estima mucho Seguramente sabes pelear mejor Se encuentra bien Si Vamos al Centro de Mando de Avanzada No Reuna todas las tropas que pueda Debemos llegar a ese hangar Traiga un transporte De prisa Enseguida Un acto valiente muchacho Pero no aprendiste tu leccion Soy de lento aprendizaje Anakin Maestro Yoda Conde Dooku Ha interferido en nuestros asuntos por ultima vez Poderoso te has vuelto Dooku El lado oscuro siento en ti Me he vuelto mucho mas poderoso que cualquier Jedi Incluso usted Mucho que aprender todavia tienes Esta lucha no sera decidida por nuestro conocimiento de la Fuerza sino por nuestra pericia con la espada laser Peleado bien has mi viejo Padawan Esto es solo el principio Anakin La Fuerza esta con nosotros maestro Sidious Bienvenido a casa lord Tyranus Ha hecho un buen trabajo Le tengo buenas noticias milord La guerra ha empezado Excelente Todo va segun lo planeado Cree Ud lo que Dooku dijo que Sidious controla el senado No lo senti verdad Unidose al lado oscuro Dooku ha Mentiras enganos crear desconfianza son sus metodos ahora Sin embargo debemos vigilar mas de cerca al senado Estoy de acuerdo Donde esta su aprendiz Camino a Naboo escoltando a la senadora Amidala a casa Debo admitir que sin los clones esto no habria sido una victoria Victoria Victoria dices Maestro ObiWan victoria no ha sido La mortaja del lado oscuro ha caido La Guerra de los Clones empezado ha Hace mucho tiempo en una galaxia muy muy lejana Episodio VIII LOS ULTIMOS JEDI La PRIMERA ORDEN impera Luego de diezmar a la pacifica Republica el Lider Supremo Snoke ahora envia a sus despiadadas legiones a asumir el control militar de la galaxia Solo la general Leia Organa y su grupo de combatientes de la RESISTENCIA se oponen a la creciente tirania convencidos de que el Maestro Jedi Luke Skywalker regresara y restaurara la chispa de esperanza en la lucha Pero la Resistencia ha sido expuesta Mientras la Primera Orden se dirige hacia la base rebelde los valientes heroes organizan un desesperado escape Aun no vaciamos todo Quedan  pales de proyectiles en la bodega C Olvida las municiones no hay tiempo Sube a todos a los transportes No Los atrapamos en el medio de la evacuacion Tengo ordenes del mismisimo Lider Supremo Snoke Aqui es donde destruimos a la Resistencia de una vez por todas Dile al Capitan Canady que prepare su dreadnought Que incinere su base destruya sus transportes y que aniquile su flota General nave de la Resistencia acercandose Armas y escudos en modo ataque Solo un caza ligero Solo bips alegres companero vamos Hicimos acrobacias mas locas Solo para que conste Comandante Dameron esta vez estoy de acuerdo con el droide Gracias por tu apoyo General Bips alegres Atencion Habla el Comandante Poe Dameron de la Republica Tengo un comunicado urgente para el General Ugh Pasamelo Aqui el General Hux de la Primera Orden La Republica no existe mas Su flota consta de basura Rebelde y criminales de guerra Dile a tu preciosa princesa que no habra acuerdo no habra rendicion Hola estoy esperando al General Ugh Habla Hux Tu y tus amigos tienen los dias contados Eliminaremos su inmundicia de la galaxia Bueno Esperare Hola Hola Si Todavia estoy aqui Puede escucharme  Ugh  Puede escucharme Con H Flacucho Un poco palido Puedo oirte Tu puedes oirme No puedo esperar Si lo contactas dile que Leia tiene un mensaje urgente para el Creo que le esta tomando el pelo senor sobre su madre Disparen BB acelera Va por el dreadnought Esta chiflado Genial Va rapido Bien ahora destruyo los canones  Tallie comienza a acercarte  Entendido Capitan Canady por que no esta acribillando a esa nave endeble Esa nave endeble es muy pequena y esta muy cerca Debemos lanzar nuestros cazas hace cinco malditos minutos Nunca penetrara nuestro blindaje No trata de penetrar nuestro blindaje Esta eliminando nuestros canones de superficie Queda un canon Y aqui llega el desfile Si Si lo veo No no Maldita sea BB mis armas no funcionan Eliminaremos ese ultimo canon o los bombarderos estan fritos Haz trabajar tu magia companero Los autocanones estan preparados Preparados y listos senor Que estamos esperando Disparen a la base Dale Ultimo transporte en vuelo Evacuacion lista Lo lograste Poe Ahora trae tu escuadron asi nos podemos ir de aqui No General No podemos hacerlo Podemos derribar un dreadnought Esas cosas son asesinos de flotas No podemos dejarlo escapar Retirate ahora Comandante Es una orden Borra esa expresion nerviosa de tu cara CPO Lo intentare General Nerviosa Vamos BB Es ahora o nunca Si Despejado Traigan las bombas Capitan los bombarderos de la Resistencia se acercan Claro que si Bombarderos mantengan esa formacion Cazas protejan a los bombarderos No siempre podemos darle a un dreadnought que valga la pena Entendido Lider Azul Si nos llevas alli les dispararemos  Entendido En eso estamos  Llegan cazas Artilleros muevanse mas rapido Cazas snub a   Se acercan  Formense Estan por todas partes  Aqui vienen  Llegan cazas Formense Vector a velocidad de ataque  Elevense  Flanco derecho Socorro Nos desplomamos Recarga los autocanones Apunten a ese crucero Lo veo Tallie han apuntado a la flota y comenzo la secuencia de preparacion Entendido Ya casi llegamos Bombarderos inicien conteo para arrojar las bombas Tengo contacto visual con el objetivo Nos acercamos al punto de ataque Las bombas estan armadas Autocanones apuntando Restan  segundos para carga completa Destruyan ese ultimo bombardero Paige vamos Estamos sobre el objetivo Abre las compuertas Es el unico bombardero que queda Todo depende de ti  Nix  Paige Tira ahora los explosivos Cuidado No Fuera bombas Impacto directo Dreadnought derribado General el Lider Supremo Snoke esta haciendo contacto desde su nave Excelente Lo atendere en mi cuarto General Hux Bien Lider Supremo Mi decepcion por su desempeno no puede ser exagerada No pueden escapar Lider Supremo Los tenemos atados a una cuerda Rey Bien hecho amigo Finn bolsa chorreante Que Se te quemo un chip Finn Finn companero Que bueno verte Que Vamos Tenemos que vestirte Vamos Debes tener mil preguntas Donde esta Rey Maestro Skywalker Maestro Skywalker Soy de la Resistencia Me envio tu hermana Leia Necesitamos tu ayuda Hola Vete Chewie que haces aqui Dijo que regreses con nosotros Como me encontraste Te contaremos la historia en el Halcon Halcon Espera Donde esta Han En efecto atados a una cuerda General Hux Bien hecho La Resistencia pronto estara en nuestras manos Gracias Lider Supremo Te preguntas por que tengo un perro rabioso en un lugar de tanto poder La debilidad de un perro bien manipulada puede ser un instrumento afilado Como esta tu herida No es nada El poderoso Kylo Ren Cuando te encontre vi lo que todo maestro suena ver Un poder puro y salvaje Y mas alla de eso algo verdaderamente especial El potencial de tu linaje Un nuevo Vader Ahora me temo que estaba equivocado Todo lo que tengo se lo di a usted Al lado oscuro Quitate esa ridiculez Si ahi esta En ti hay demasiado del corazon de tu padre joven Solo Yo mate a Han Solo Cuando llego el momento no lo dude Y mirate la hazana hirio profundamente tu espiritu Fuiste desequilibrado vencido por una chica que nunca habia sostenido un Sable de Luz Fracasaste Skywalker esta vivo La semilla de la Orden Jedi esta viva Y mientras eso pase la esperanza vive en la galaxia Pensaba que tu serias quien la extinguiria Ay de mi no eres Vader Eres solo un nino portando una mascara Preparen mi nave No queda luz en Kylo Ren Simplemente se esta fortaleciendo La Primera Orden controlara los sistemas principales en semanas Necesitamos tu ayuda Necesitamos de vuelta a la Orden Jedi Necesitamos a Luke Skywalker No necesitan a Luke Skywalker Oiste algo de lo que dije Tu que crees Que ire con una espada laser a enfrentar a la Primera Orden Que creiste que iba a pasar aqui Crees que vine al lugar mas recondito de la galaxia por nada Vete No me ire sin ti Cuidado Pierdes el tiempo Quien eres Conozco este lugar Fue construido hace mil generaciones para guardar esto Los textos Jedi originales Como yo es lo ultimo que queda de la religion de los Jedi Viste este lugar Viste esta isla Solo en suenos Quien eres Me envio la Resistencia Ellos te enviaron Que tienes de especial  De donde eres  De ninguna parte  Nadie es de ninguna parte  De Jakku Bueno eso es lo mas parecido a ninguna parte Por que estas aqui Rey de ninguna parte Me envio la Resistencia Precisamos tu ayuda La Primera Orden es imparable Por que estas aqui Hay algo dentro de mi que siempre estuvo alli Pero ahora esta despierto Y tengo miedo No se lo que es o que hacer con eso Y necesito ayuda Necesitas un maestro No puedo ensenarte Por que no Vi tu rutina diaria No estas ocupado Nunca entrenare otra generacion Jedi Vine a morir a esta isla Es hora de que se terminen los Jedi Por que Leia me envio aqui con esperanza Si ella estaba equivocada merece saber por que Todos lo merecemos  Te degrado  Que Espera  Derribamos un dreadnought  A que costo Si empiezas un ataque lo terminas Poe deja de pensar como piloto Hay cosas que no puedes resolver subiendo a un Xwing y haciendo volar algo Necesito que aprendas eso Hubo heroes en esa mision Heroes muertos No lideres Estamos muy lejos Como nos hallara Rey Una baliza binaria camuflada Para indicarle su camino a casa Bueno hasta que ella regrese cual es el plan Necesitamos hallar una nueva base Una con poder para enviar una senal de auxilio a nuestros aliados dispersos en el Borde Exterior Alerta de proximidad Nos encontraron Es imposible Es la nave de Snoke No puede ser Podemos hacer el salto Tenemos combustible para un salto Hazlo Tenemos que salir de aqui Espera Nos rastrearon mientras ibamos a la velocidad de la luz Eso es imposible Si Y lo hicieron Si hacemos otro salto nos encontraran y nos quedaremos sin combustible  Nos tienen  Aun no no nos tienen Permiso para ir en un Xwing a volar algo Permiso concedido Almirante rodeenos Marcha atras Roten los escudos A sus puestos Muevanse Hagan lo que yo hago Escuadron Verde a posicion de lanzamiento Despejen el trafico de lanzamiento No me esperes Sube y ponte en marcha Tecnicos aseguren los suministros para las condiciones de lanzamiento Muevanse Poe estas bien Hay que alejarse de los Destructores Estelares Hay que que A toda maquina Los cazas se retiraran si se alejan de los Destructores Estelares Todas las naves a toda potencia Concentren escudos traseros Ren la Resistencia esta fuera de alcance No lo podemos cubrir a esta distancia Regrese a la flota Cual es el objetivo de todo esto si no podemos hacer explotar a tres pequenos cruceros Son mas rapidos y livianos senor Pueden mantener una distancia tal que nuestros canones no afecten sus escudos Bueno sigan con el bombardeo Al menos recordemosles que seguimos aqui Muy bien senor No duraran mucho consumiendo combustible asi Es solo cuestion de tiempo Muevanse Abran paso Hagan lugar Sus signos vitales son debiles pero esta luchando Artoo Artoo Si Si lo se Oye es una isla sagrada cuida tu vocabulario Viejo amigo Desearia poder lograr que entiendas Pero no regresare Nada puede hacerme cambiar de parecer Hace anos serviste a mi padre en la Guerra de los Clones Ahora te suplica que lo ayudes en su lucha contra el Imperio Me duele no poder decirlo en persona Ese fue un truco barato pero estan atacando mi nave y temo que mi mision de traerte a Alderaan fracaso Es nuestra hora mas desesperada Ayudame ObiWan Kenobi Eres mi unica esperanza Manana al amanecer Tres lecciones Te ensenare las costumbres de los Jedi y por que se les debe poner fin La General Organa Leia esta inconsciente pero se recupera Son las unicas buenas noticias que tengo El Almirante Ackbar todos nuestros lideres murieron Leia fue la unica sobreviviente en el puente Dios Si estuviera aqui diria que guarden su dolor para despues de la batalla Por esa razon la cadena de mando es clara sobre quien deberia tomar su lugar La Vicealmirante Holdo del crucero Ninka Gracias Comandante Somos cuatro mil en tres naves Somos lo ultimo que queda de la Resistencia Pero no estamos solos En cada rincon de la galaxia los esclavizados y oprimidos conocen nuestro simbolo y ponen su esperanza en el Somos la chispa que encendera el fuego que restaurara la Republica Esa chispa esta Resistencia debe sobrevivir Esa es nuestra mision Ahora a sus puestos Y que la Fuerza nos acompane Esa es la Almirante Holdo La misma de la batalla de Chyron Belt No es lo que esperaba Vicealmirante Comandante Dameron Por el consumo de combustible por un tiempo muy limitado estaremos fuera del alcance de sus naves Eres muy amable en ponerme al tanto Dejame a mi esos calculos Y precisamos perderlos antes de hallar otra base cual es nuestro plan Nuestro plan capitan No comandante no Degradarte no fue el ultimo acto oficial de Leia por tu plan del dreadnought donde perdimos toda la flota de bombarderos Capitan Comandante Me puedes llamar como quieras Solo quiero saber que sucede Claro que si Entiendo Trate con muchos intrepidos de gatillo facil como tu Eres impulsivo Peligroso Y lo ultimo que precisamos Asi que quedate en tu puesto y sigue mis ordenes Turboascensores siete y ocho desconectados por mantenimiento Que haces aqui Hola Estaba Ya sabes Eres Finn El inigualable Finn  El inigualable Finn  Lo siento Trabaje tras las tuberias todo el dia No es mi fuerte dar charla a heroes de la Resistencia Dar dar charla Me llamo Rose Respira  Bueno  Si Oye no soy un heroe de la Resistencia pero fue agradable charlar contigo Rose Que la Fuerza te acompane Vaya A ti tambien Bueno Pero eres un heroe Dejaste la Primera Orden lo de la Base del Starkiller Mi hermana Paige dijo Rose es un verdadero heroe Diferencia bien y mal y no huye cuando se pone dificil dijo Sabes esta manana tuve que aturdir a tres que intentaban irse  en este pod de escape  Que Estaban huyendo Eso es vergonzoso Lo se De todos modos Debo seguir con lo que hacia asi que Que estabas haciendo  Unos chequeos  Chequeando los pods de escape  No chequeos de rutina  Abordando uno con una bolsa de viaje Esta bien Escucha yo No puedo moverme  Lo se  Que paso Te encierro y te entrego por desertor No estaba desertando  Te dije que  Mi hermana acaba de morir protegiendo a la flota Y tu estabas huyendo Lo lamento Esta flota esta condenada y si mi amiga regresa a ella tambien lo estara Debo llevar este Debo llevar esta baliza muy lejos Asi ella me hallara y estara segura Eres un traidor egoista No rebasamos a la flota de la Primera Orden Saltemos a la velocidad de la luz Pueden rastrearnos  Rastrearnos a la velocidad de la luz  Si Aparecerian y consumiriamos mucho combustible del que a proposito nos queda muy poco  Nos rastrean a la velocidad de la luz  Si Y podrian No siento mi diente Con que me disparaste Rastreo activo Y ahora que Nuevo rastreo hiperespacial debe tener el mismo principio de todo rastreador activo  Solo nos rastrean a nosotros  Si  de la nave principal  principal Pero no podemos llegar al rastreador Es un proceso clase A controlado desde el puente Pero todo proceso clase A tiene un interruptor dedicado Pero Quien sabe llegar a la subestacion del Destructor Estelar Soy el tipo que solia limpiarlos Si podemos llegar ahi puedo apagar su rastreador Repitemelo pero mas facil La Primera Orden solo nos rastrea desde un Destructor el principal Asi que lo hacemos explotar Me gusta como piensas pero no Nos rastrearian desde otro Destructor  Pero si  Si nos colamos en el principal y apagamos el rastreador sin que se den cuenta podemos No notaran que esta apagado por un ciclo Unos seis minutos Colarse a bordo Apagar el rastreador Nuestra flota escapa antes de que se den cuenta Como se conocieron ustedes Cuestion de suerte Si Buena suerte Aun no estoy segura Poe tenemos que hacerlo Salvara a la flota y a Rey Si debo ser la unica voz de la razon a la Almirante Holdo no le gustara este plan Si tienes razon CPO Lo sabra solo quien haga falta y ella no lo sabra  Eso no fue exactamente  Bien apaguen el rastreador Estare aqui para hacer el salto La pregunta es como los colamos en el Destructor de Snoke Robando codigos de autorizacion No estan BioHexaencriptados y los recodifican No podemos atravesar sus escudos sin ser detectados Nadie puede Podria hacerlo yo Claro que podria Pero no puedo hacerlo Ahora estoy un poco ocupada Maz Que pasa Un conflicto sindical No van a querer saber al respecto Pero por suerte para ustedes hay un tipo en quien confio que puede descifrar algo asi Es un maestro descifrador un piloto experto un poeta con un blaster Cielos Parece que el amigo descifrador puede hacer de todo Si Lo encontraran con una flor de ploom roja en su solapa apostando en las mesas de apuestas altas en el casino en Canto Bight Canto Bight No Eso es Maz podemos ocuparnos nosotros de esto Lo siento nene Es desencriptacion rala Si quieren ir a ese Destructor conozco solo una opcion Encuentren al maestro descifrador Me traeras a Luke Skywalker No vas a hacerlo El esfuerzo podria matarte Puedes ver lo que me rodea Vas a pagar por lo que hiciste No puedo ver lo que te rodea Solo a ti Asi que no Esto es otra cosa Luke De que se trata Limpiaba mi blaster Se disparo Empecemos Quienes eran esas cosas Guardianes Nativos de la isla Preservaron las estructuras Jedi desde su construccion No creo que yo les agrade No puedo imaginar por que Maestro Skywalker tienes que traer a los Jedi porque Kylo Ren es fuerte con el lado oscuro de la Fuerza Sin los Jedi no tendremos oportunidad contra el Que sabes sobre la Fuerza Es un poder de los Jedi que les permite controlar a la gente y  hacer flotar cosas  Impresionante Cada palabra en esa oracion estaba equivocada Leccion uno sientate aqui con las piernas cruzadas La Fuerza no es ningun poder que tienes No se trata de hacer flotar rocas Es la energia entre todas las cosas una tension un equilibrio que vincula a todo el universo Esta bien Pero que es Cierra los ojos Respira Ahora estirate Siento algo  Lo sientes  Si  Es la Fuerza  En serio Vaya debe ser muy fuerte contigo Nunca senti nada Decias que me estire como Lo intentare otra vez Respira Solo respira Estirate con tus sentimientos Que ves La isla Vida Muerte y descomposicion que alimenta a la vida nueva Calor Frio Paz Violencia Y entre todo eso Equilibrio Una energia Una Fuerza Y dentro de ti Dentro de mi la misma Fuerza Y esta es la leccion La Fuerza no le pertenece a los Jedi Decir que si mueren los Jedi muere la luz es vanidad Lo puedes sentir Hay algo mas debajo de la isla Un lugar Un lugar oscuro Equilibrio Luz poderosa oscuridad poderosa Esta frio Me llama Resistelo Rey Rey Rey Fuiste derecho a la oscuridad Ese lugar trataba de mostrarme algo Te ofrecia algo que necesitabas Y ni siquiera trataste de detenerte Pero no te vi Para nada Le impediste el acceso a la Fuerza Claro que si Esta fuerza pura la vi solo una vez en Ben Solo En ese momento no me asusto lo suficiente Ahora si Que fue eso Nada almirante Escombros que pasaron A la flota le queda combustible para  horas Tenemos que apurarnos Todavia no puedes contactar a la Resistencia Sigue intentando Si te contactas fijate como estan Y pregunta por Finn Por que nos conecta la Fuerza  A ambos  Serpiente asesina Llegas tarde Perdiste Encontre a Skywalker Te conto lo que paso La noche que destrui su templo te dijo por que Se todo lo que necesito sobre ti Si Si Tienes esa mirada en los ojos La del bosque Cuando me llamaste monstruo Eres un monstruo Si lo soy Bueno Entramos hallamos al descifrador y salimos Conoces esta ciudad Canto Bight Por lo que cuentan Es un lugar horrible lleno de la peor gente de la galaxia Grandioso Le dije a esos dos La playa es publica No pueden estacionar ese transbordador Pero salieron a toda velocidad al casino Hagan sus apuestas Todas las apuestas sobre la mesa ya Hagan sus apuestas aqui Si Este lugar es genial Bueno Maz dice que este maestro descifrador tendria una flor de ploom roja Vamos a buscarlo y salgamos de aqui Bien jugado Gana la casa  Mas bien que modales son esos  Vamos Recorrimos todo el casino Ninguna flor de ploom Donde esta este tipo Aquellos son lo que pienso Que son esas cosas Fathiers Nunca vi uno de verdad Oye este lugar es hermoso Vamos Por que lo detestas tanto Mira mejor Mi hermana y yo crecimos en un sistema minero pobre La Primera Orden nos saco la mena para financiar su milicia luego nos bombardearon para probar sus armas Se llevaron todo lo que teniamos Y quienes crees que eran ellos Solo hay un negocio en la galaxia que te hace tan rico La guerra Vender armas a la Primera Orden Desearia atravesar con mi puno esta repugnante y hermosa ciudad Una flor de ploom roja Una flor de ploom roja El maestro descifrador Si esos son los mal estacionados Esta bien Estan arrestados por la infraccion de estacionamiento B  Tienen derecho  Que fue eso No no Ahora no carino Tengo una buena racha Leccion dos Ahora que estan extintos los Jedi estan idealizados divinizados Pero si quitas los mitos y miras sus obras el legado de los Jedi es el fracaso La hipocresia la arrogancia No es verdad En la cima de su poder dejaron ascender a Darth Sidious crear el Imperio y eliminarlos Un Maestro Jedi fue el responsable por el entrenamiento y la creacion de Darth Vader Y lo salvo un Jedi Si el hombre mas odiado de la galaxia Pero viste que interiormente estaba conflictuado Creiste que no era del todo malo Que se lo podia convertir Y me converti en leyenda Por muchos anos hubo equilibrio y entonces vi a Ben Mi sobrino con esa poderosa sangre Skywalker Y en mi arrogancia crei que podria entrenarlo que podria pasarle mi fuerza Han actuo como era de esperarse pero Leia me confio a su hijo Lo lleve a el y a una docena de estudiantes y empece un templo de entrenamiento Cuando note que yo no era rival para la oscuridad que crecia en el ya era demasiado tarde Que paso Fui a enfrentarlo Y se volvio contra mi Ben no Debe haber pensado que yo estaba muerto Cuando recobre la conciencia el templo estaba ardiendo El habia desaparecido con un punado de mis alumnos Y masacrado al resto Leia culpo a Snoke pero fui yo Falle Porque era Luke Skywalker El Maestro Jedi Una leyenda La galaxia podria necesitar una leyenda Necesito a alguien que me muestre mi lugar en todo esto Y no le fallaste a Kylo Kylo te fallo a ti Yo no te fallare El crucero principal sigue fuera de alcance Pero su fragata medica no tiene combustible y se quedo sin escudos El principio de su fin Destruyala Nuestro ultimo tripulante fue evacuado y va hacia ustedes Fue un honor almirante Buen viaje Rebeldes Almirante queda combustible para seis horas Manten el rumbo actual Mantenlo Finn Rose donde estan chicos Reparteme naipes Gracias Finn la flota esta en las ultimas Sin un descifrador que nos cuele en el Destructor Estelar de Snoke  Que hacemos  No lo se Si no tienes un ladron en tu bolsillo nuestro plan no va mas Puedo hacerlo Que Que Que Disculpen simplemente no pude evitar escuchar todo lo que dijeron tan fuerte mientras trataba de dormir Descifrador Ladron Puedo hacerlo No hablamos sobre robar billeteras esta bien Si No te dejes enganar por mi apariencia amigo Los codigos de la Primera Orden y yo nos conocemos hace mucho Y si el precio es razonable te podria hacer entrar en los aposentos del viejo Snoke  No  Ya lo tenemos bajo control  Acaba de  Si Debemos salir de aqui Por aca Por que pequeno Tu hiciste esto Oye arriba las manos Arriba las manos Si hombre Cual es tu historia gordito Se fueron por ahi Cierra todas las salidas Espera Huele de maravilla Esos policias estaran aqui en breve Y ahora No espera Por favor no Estamos con la Resistencia Entendido Ahora revisamos los establos  Por aqui  Deben haber pasado por aqui Andando andando Deja de disfrutarlo Los tenemos No van a ninguna parte Muevanse Salgan del camino Nuestra nave esta en la playa que tenemos adelante Precisamos proteccion Demasiada proteccion Asi es No Vamos Dejen ir al rebano Sigan a los criminales Adonde fueron Creo que lo perdimos Ahora bajamos a la playa y volvemos Un acantilado Estamos atrapados Creo que valio la pena Arrasar ese pueblo hacerles dano Vamos Ahora vale la pena Ahi estan BB Espera estas piloteando esa cosa Necesitan un aventon Luke Leia Preferiria no hacer esto ahora Si lo mismo digo Por que odiabas a tu padre Tienes algo Una tunica o algo para ponerte Por que odiabas a tu padre Contestame con sinceridad Tenias un padre que te queria a el le importabas  No lo odiaba  Entonces por que Por que que Por que que Dilo Por que lo Por que lo mataste No entiendo No Tus padres te tiraron como basura  No  Si Pero no puedes dejar de necesitarlos Es tu mayor debilidad Los buscas por todas partes en Han Solo ahora en Skywalker Te dijo lo que paso aquella noche Si No Percibio mi poder como percibe el tuyo Y eso lo asusto Mentiroso Deja morir al pasado Matalo si hace falta Es la unica forma de convertirte en lo que estas destinada No Rey Deberia haberme sentido atrapada o asustada Pero no No duro para siempre supe que iba hacia alguna parte Y eso al fin me mostraria lo que vine a ver Rey Permiteme verlos A mis padres por favor Crei que aqui encontraria respuestas Estaba equivocada Nunca me senti tan sola No estas sola Tu tampoco Rey No es demasiado tarde Detente Es cierto Trataste de matarlo Abandona esta isla ya Detente Detente Lo hiciste Creaste a Kylo Ren Dime la verdad Vi la oscuridad La senti formandose en el La vi por momentos durante su entrenamiento Pero luego mire en su interior e iba mas alla de lo que nunca imagine Snoke ya habia convertido su corazon El traeria destruccion dolor muerte y el fin de todo lo que amo por lo que terminara siendo Y por el brevisimo momento de puro instinto pense que podria detenerlo Paso como una sombra fugaz Y me fui avergonzado sufriendo las consecuencias Y lo ultimo que vi fueron los ojos de un chico asustado cuyo maestro le habia fallado Ben no Le fallaste por pensar que el ya eligio No fue asi Aun hay conflicto en su interior Si se convirtiera del lado oscuro eso podria cambiar todo Podria ser la forma de ganar Esto no va a salir como piensas Si Recien cuando nos tocamos las manos vi su futuro Tan solidamente como te veo a ti Si voy con el Ben Solo se convertira Rey no lo hagas Entonces el es nuestra ultima esperanza Maestro Yoda Joven Skywalker Voy a terminar todo esto El arbol el texto los Jedi Voy a hacer arder todo Skywalker Extrane a ti Asi que es hora que se termine la Orden Jedi Tiempo es Muchos libros viejos tu ignorar Los textos Jedi sagrados Leido los has  Bueno yo  Libros emocionantes no son Si si Sabiduria poseen pero esa biblioteca no contiene nada que la muchacha Rey ya no tenga Skywalker todavia busca el horizonte Nunca aqui ahora La necesidad en tus narices Fui debil Imprudente Perder a Solo lo hiciste Perder a Rey no debemos No puedo ser lo que ella necesita que sea Prestado atencion a lo que dije no has no Ensenale lo que aprendiste Fuerza dominio Pero la debilidad tonteria y tambien fracaso Si mas que nada fracaso El maestro mas grande el fracaso es Luke somos lo que ellos llegan a ser Es la verdadera carga de todos los maestros Cuatro parsecs para llegar Es muy rapida Espero que aun estemos a tiempo Puedes hacerlo no Si con respecto a eso Chicos puedo hacerlo Pero hay una conversacion previa acerca del precio Cuando terminemos la Resistencia te dara lo que quieras Que tienen como adelanto Estas bromeando Miranos Eso es metal haysiano Ya es algo No te dimos nuestra palabra Te vamos a pagar Deberia bastarte Chicos quiero seguir ayudando Pero si no hay nada no hago nada Bien escucha debes Hazlo Ahora puedo ayudar Devuelveselo Que Devuelveselo No sabes lo que significa para ella Que estas Por que saqueas tu propia nave No es tu nave Dice que la robe Si lo entendi La robamos Al menos robas a los chicos malos y ayudas a los buenos Chicos buenos chicos malos palabras inventadas Veamos de quien era este precioso pedazo de chatarra Este tipo era un traficante de armas Pudo fundar su banco vendiendo armas a los chicos malos Y a los buenos Finn dejame ensenarte algo importante Todo es una maquinaria socio Vivan libres no se unan Era su ultima nave de apoyo Ahora es su crucero principal Y su reserva de combustible Segun nuestros calculos muy baja  Esta ahi  Te prohibio estar en el puente  No hagamos escandalo  No  Holdo  No puedes estar aqui  Intrepido  Basta senora Teniamos una flota ahora tenemos solo una nave y no nos dijiste nada Dinos que tenemos un plan Que aun hay esperanza Cuando servia con Leia ella decia que la esperanza es como el sol Si solo crees en el cuando puedes verlo Nunca sobreviviras a la noche Si Abasteces de combustible los transportes Si A todos Abandonamos la nave Ese es Ese es tu plan Para eso nos trajiste Cobarde Esos transportes estan desarmados sin escudos Si abandonamos este crucero estamos perdidos No tenemos ninguna posibilidad No no eres solo una cobarde eres una traidora Saquen a este hombre de mi puente Finn Holdo sube a la tripulacion al transbordador Va a abandonar la nave Donde estas Poe estamos regresando a la flota Estamos muy cerca Y el maestro descifrador Encontramos a un descifrador Podemos desactivar el rastreador Gana un poco mas de tiempo Bien Dense prisa Ni bien despegue ponte fuera de alcance Permanece ahi hasta que te avise donde es el punto de reunion Si ves a Finn antes que yo dile Si perfecto Dile eso Camuflando acercamiento No nos deberian detectar Luego le hacemos una hendidura a su escudo Y nos escurrimos por ahi Asi que un Stormtrooper y quien mas Haciendo que Tratan de salvarnos Es nuestra mejor oportunidad para escapar Dales todo el tiempo que puedas a Finn y a Rose Apostaste la supervivencia de la Resistencia a algo improbable y nos pusiste en peligro a todos Ahora se acabo el tiempo Debemos evacuar el crucero  Carguen los transportes  Si Si temia que dijeras eso Vicealmirante Holdo te relevo de tu comando para que sobreviva esta nave su tripulacion y la Resistencia Espero que entiendas lo que haces Si Voy al puente Si se mueven aturdelos Esta al menos a tres ciclos Si senor Trabajamos en eso Muy bien Hare mi maximo esfuerzo senor Ya casi llegamos No tienes que hacer esto Siento el conflicto en tu interior Te esta destrozando Ben cuando nos tocamos las manos vi tu futuro Solo su forma pero solida y claramente No te inclinaras ante Snoke Te convertiras Te ayudare Lo vi Yo tambien vi algo Por lo que vi se que cuando llegue el momento tu te convertiras Permaneceras conmigo Rey Vi quienes son tus padres Bien hecho mi buen y fiel aprendiz Recobre mi fe en ti Jovencita Rey Bienvenida Es esta El rastreador esta detras de esta puerta Metal haysiano Mejor conductor Y de nada Buen momento para ver como volver a la flota Se donde esta el pod de escape mas cercano  Claro que si  BB cuentame algo bueno Poe ya casi llegamos Alista el crucero para el salto Si estoy en eso amigo Apurate Escolten a los oficiales al hangar Comandante Capitan Dameron la Almirante Holdo lo buscaba Si ya hablamos Senor casi temo preguntar Tienes buen instinto CPO Sigue asi Sellen esa puerta Nos quedamos sin tiempo Vamos como va Casi listo CPO adonde crees que vas Iria contra mi programa  participar en un motin  Oye No es un protocolo valido  Tampoco este  Finn Estamos listos para saltar Es ahora o nunca Ahora Es tu turno Ustedes arriba las manos Vigilalos  Tiren sus armas  Manos arriba rebeldes Bajenlas Bajenlas dije FN Que bueno que hayas vuelto No lo lograron Leia Aborden los transportes segun su designacion de evacuacion Despejen los transportes Dejenme empujarlos chicos Ese es problematico Me agrada A mi tambien Es hora de abordar tu transporte Para que escapen los transportes alguien debe quedarse a pilotear el crucero Demasiadas bajas No puedo soportarlo mas Claro que puedes Me ensenaste como Que la Fuerza te Sigue tu Ya lo repeti bastante Que la fuerza te acompane siempre Dispositivo de camuflaje activado Deberiamos estar fuera de su alcance Esperemos que funcione Ven mas cerca nina Demasiada fuerza La oscuridad asciende y la luz tambien para encontrarse con ella Le adverti a mi joven aprendiz que si se hacia mas fuerte su equivalente en la luz ascenderia Skywalker asumi equivocadamente Mas cerca dije Subestimas a Skywalker a Ben Solo y a mi Eso sera tu perdicion Has visto algo Un punto debil en mi aprendiz Por eso viniste Jovencita tonta Fui yo quien conecto sus mentes Alimente el conflicto interno de Ren Sabia que no era tan fuerte como para esconderlo de ti Y que tu no eras tan sabia como para resistirte a esa carnada Y ahora tu me daras a Skywalker Luego te matare con el mas atroz golpe No Si Dame todo No No No No no Poe Que es eso El planeta mineral Crait Un escondite desconocido de los dias de la Rebelion  Esa es una base Rebelde  Abandonada pero fuertemente blindada que puede enviar una senal de auxilio a los aliados dispersos en el Borde Exterior Holdo sabia que la Primera Orden rastreaba nuestra nave grande No monitorean transportes pequenos Podriamos bajar a la superficie sin ser vistos y ocultarnos hasta que pase la Primera Orden Podria funcionar Ella estaba mas interesada en proteger la luz que en parecer una heroina Buen viaje Rebeldes Buen trabajo Phasma Tu nave y tu pago tal como acordamos Serpiente embustera Nos atraparon Hice un trato Espera un trato con que Revisamos la informacion del ladron Hicimos un barrido de descamuflaje y efectivamente habia  transportes de la Resistencia recien lanzados Nos dijo la verdad Nunca se acaban las sorpresas No Estan listas nuestras armas Listas y apuntadas senor Disparen a voluntad Espera No no puedes No Almirante estamos bajo ataque  Volvemos  No estan demasiado lejos Maxima velocidad a la base A maxima velocidad Bueno bueno No esperaba que Skywalker fuera tan sabio Le daremos a el y a la Orden Jedi la muerte que el desea Cuando los Rebeldes mueran iremos a su planeta y arrasaremos toda la isla Tienes tanta determinacion Ahora mira aqui Toda la Resistencia esta en esos transportes Pronto estaran todos muertos Para ti esta todo perdido Y aun tienes ese fogoso aliento de esperanza Tienes el espiritu de una verdadera Jedi Y por eso debes morir Mi valioso aprendiz hijo de la oscuridad el aparente heredero de Lord Vader Donde habia conflicto ahora siento determinacion Donde habia debilidad fuerza Termina tu entrenamiento y cumple con tu destino Se lo que tengo que hacer Ben Crees que puedes convertirlo Nina patetica No puedo ser traicionado No puedo ser vencido Veo su mente Veo todas sus intenciones Si Lo veo prendiendo el Sable de Luz para golpear a la verdad Y ahora nina tonta el lo enciende y mata a su verdadero enemigo Propulsores al maximo A toda velocidad Si senor Maldito asesino Calmate Gran F Ellos te reventaron hoy tu los revientas manana Son solo negocios Estas equivocado Quizas Ben La flota Ordenales que cesen el fuego Aun hay tiempo para salvar la flota Ben Es hora de dejar morir todo lo viejo Snoke Skywalker El Sith los Jedi los Rebeldes Dejarlos morir a todos Rey Quiero que te me unas Podemos reinar juntos y traerle un nuevo orden a la galaxia No hagas esto Ben No vayas por este camino No Sigues aguantando Vamos Quieres saber la verdad sobre tus padres O siempre la supiste Y simplemente la ocultaste Sabes la verdad Dila Dila Eran unos don nadie Eran sucios comerciantes de chatarra que te vendieron para tener dinero para beber Estan muertos en una pauperrima tumba en el desierto de Jakku No hay lugar para ti en esta historia Creciste sin tener nada No eres nada Pero no para mi Unete a mi Por favor Senor el crucero de la Resistencia se prepara para el salto Esta vacio Estan tratando de desviar nuestra atencion Patetico Sigue atacando a los transportes Ejecutarlos con un blaster es demasiado bueno para ellos Que les duela Finn Cuando lo ordene Ella esta escapando No No Disparenle a ese crucero Ejecuten Finn Hay un transbordador alla atras Tenemos que ir Traidor Que Finn Eres un error en el sistema Vamos peladita Vamos No Oye Siempre fueron basura Basura Rebelde Oye Necesitas que te lleven Que paso La chica mato a Snoke Que paso Tomo la nave de escape de Snoke Sabemos adonde va Envie tropas a esa base de la Resistencia Terminemos esto Terminar esto A quien cree que le esta hablando Osa comandar mis tropas Nuestro Lider Supremo esta muerto No tenemos gobernante El Lider Supremo esta muerto Larga vida al Lider Supremo Estan llegando cierren la puerta Entrando Andando Muevanse Cierren bien esa puerta del escudo  No dispares Somos nosotros  No dispares Alto el fuego  No dispares  Alto el fuego  Finn  Finn Rose No estas muerta Donde esta mi droide Companero Me alegra tanto verte Espera que Espera mas despacio Es todo lo que queda Tenemos los escudos no pueden darnos desde la orbita Usa la potencia que tengamos para emitir una senal de auxilio al Borde Exterior Usa mi codigo personal Si hay algun aliado a la Resistencia es ahora o nunca Rose que tienes Municiones podridas artilleria oxidada y skim speeders rotos Bueno recemos para que esa puerta aguante hasta que consigamos ayuda Un canon ariete Un que perdon Una mini Estrella de la Muerte Rompera esa puerta como si nada Tiene que haber una puerta trasera no BB que tienes BB analizo el esquema de la mina Esta es la unica manera de entrar o salir Vamos Tenemos aliados La gente cree en Leia Recibiran nuestro mensaje y vendran Pero tenemos que ganar tiempo Vamos a destruir ese canon A mi Muevanse Atras Tomen sus armas Vengan aca No disparen Es sal Fuerzas de superficie entrando Entendido Vamos en camino Enciende tu monoski El interruptor verde Bien escuchen No me gustan estas chatarras ni nuestras posibilidades pero Que diablos Mantenganse juntos y no se acerquen demasiado hasta que no saquen el canon Fuerzas de superficie disparen un poco Llegan  naves ligeras Esperamos hasta que los eliminemos No La Resistencia esta en esa mina Atravieselos Cazas separense Vamos Tenemos que detenerlos hasta que saquen ese canon Rose tienes a tres detras de ti No puedo perderlos Si Esto me gusta Vuele en pedazos esa chatarra y saquela del cielo A todos los cazas Chewie sacalos de la batalla Alejalos de los speeders Ella los alejo A todos Odian esa nave Chewie Ahi esta Esa es un arma grande Esta fuertemente blindada La unica posibilidad es ir derecho a la garganta Se abre el canon Es nuestra oportunidad Disparen todo a esos speeders Concentren el fuego en esos speeders Estamos teniendo grandes perdidas Nos destruyen uno por uno No vamos a lograrlo Hago mi acercamiento final Objetivo en la mira armas listas No Detente Que El canon esta cargado Es suicida A todas las naves alejense  No Ya casi llego  Retirada Finn Es una orden Finn Es demasiado tarde No lo hagas No No los dejare ganar No Finn hazle caso a Poe Tenemos que retirarnos El canon esta calentandose Entendido Lo vemos Preparense para disparar Muevanse Andando Rapido Vamos Rose Rose Rose Por que lo hiciste Casi habia llegado Por que me detuviste Te salve tonto Asi es como vamos a ganar No peleando contra lo que odiamos sino salvando lo que amamos General Hux avance Sin cuartel Sin prisioneros Nuestra senal de auxilio fue recibida en muchos lugares pero no fue respondida Nos escucharon pero no viene nadie Peleamos hasta el final Pero la galaxia perdio toda esperanza La chispa se apago Luke Se lo que vas a decir Que me peine diferente Te queda bien asi Leia Lo siento Lo se Se que si Me alegra que estes aqui en el final Vine a enfrentarlo Leia Y no puedo salvarlo Por mucho tiempo mantuve la esperanza pero se que mi hijo no esta mas Nadie se va en realidad nunca Maestro Luke Alto Quiero que le disparen con todo lo que tengamos a ese hombre Haganlo Mas Mas Suficiente Suficiente Cree que lo vencio Si estamos listos para movernos podemos terminar esto Senor Lleveme con el Mantenga cubierta la puerta y no avance hasta que le diga Lider Supremo no se distraiga nuestro objetivo Ahora mismo senor Paquete medico Necesito un paquete medico Esta muy mal herida Es Kylo Ren Luke lo enfrenta solo Deberiamos ayudarlo Vamos No espera Espera Regresaste para decir que me perdonas Para salvar mi alma No Lo hace por una razon  Hace tiempo asi podemos escapar  Escapar Es uno contra un ejercito Tenemos que pelear y ayudarlo No Somos la chispa que encendera el fuego que queme a la Primera Orden Skywalker lo hace para que podamos sobrevivir Tiene que haber una salida de esta mina Diablos como entro Es posible que exista una entrada natural no cartografiada Pero esta instalacion es tal laberinto de tuneles interminables que la posibilidad de hallar una salida es de  Callate  A uno  Escucha Mis sensores auditivos ya no detectan el Exacto Donde se fueron las criaturas de cristal Siganme Por que me miran Siganlo Si tenemos la baliza debajo deben estar en alguna parte Sigan buscando formas de vida Por aca Los veo Chewie alli No No no No Levantando rocas Te falle Ben Lo lamento Estoy seguro de que si La Resistencia esta muerta La guerra termino Y cuando te mate habre matado al ultimo Jedi Asombroso Cada palabra que acabas de decir estuvo equivocada La Rebelion renacio hoy La guerra recien empieza Y no sere el ultimo Jedi La destruire a ella a ti y a todo No Derribame con ira y siempre estare contigo Tal como tu padre lo esta No Nos vemos chico No Cai Es muy buen amigo Chewie Luce bien Fue una locura hombre  Hola  Hola Soy Poe Rey Lo se Tengo un contacto en el Borde Exterior Es muy posible Luke esta muerto Lo senti Pero no fue ni tristeza ni dolor Fue paz e intencion Yo tambien lo senti Como construimos una Rebelion con esto Tenemos todo lo que necesitamos Luke Skywalker Maestro Jedi Hace mucho tiempo en una galaxia muy muy lejana Episodio IX EL ASCENSO DE SKYWALKER Los muertos hablan La galaxia ha escuchado una transmision misteriosa una amenaza de VENGANZA con la siniestra voz del fallecido EMPERADOR PALPATINE LA GENERAL LEIA ORGANA envia agentes secretos a obtener informacion mientras que REY la ultima esperanza de los Jedi entrena para luchar en contra de la diabolica PRIMERA ORDEN Mientras tanto el Lider Supremo KYLO REN busca furiosamente al Emperador fantasma dispuesto a destruir cualquier amenaza a su poder Por fin Snoke te entreno bien Mate a Snoke Te matare a ti Mi muchacho Yo hice a Snoke Fui cada voz que escuchaste dentro de tu cabeza La Primera Orden fue solo el principio Te dare mucho mas Primero moriras Ya mori antes El lado oscuro de la Fuerza es un camino hacia muchas habilidades que algunos consideran antinaturales Que podrias darme Todo Un nuevo Imperio Pronto estara listo el poderio de la Orden Final Sera tuyo si haces lo que te pido Mata a la muchacha Acaba con los Jedi y conviertete en lo que no pudo convertirse tu abuelo Vader Gobernaras toda la galaxia como el nuevo emperador Pero ten cuidado ella no es quien crees que es Quien es Nunca haras la jugada  No puede ganarnos siempre  Parece que si Como lo hace Este tipo Hace trampa  Bromeo  Vamos Haz la jugada  Tienes  anos  Tardas mucho Es trampa  Claro que eres mejor  Por eso creemos que haces trampa  Despreocupate  No lo apagaremos  Hace trampa  Sin dudas Klaud espero que hayas arreglado esa sobrecarga T menos cinco Artoo Boolio me alegra verte Tienes algo para nosotros De un nuevo aliado Un espia en la Primera Orden Un espia Quien No lo se Transfiere el mensaje Enviaselo a Leia deprisa Podria ser grande Artoo Objetivo fijado Finn nos estan por destruir Ya falta poco Poe lo tenemos Como podemos agradecerte Ganen la guerra Lo lamento Lo se Finn se suponia que ibas a deshacerte de esas cosas  Tengo una  Cuantas quedan Demasiadas Que Bien pensado Chewie Finn hay que aplastar a los TIE Pensaba en eso Llevanos de vuelta a la base Que tan gruesa te parece esa pared de hielo  Poe  Lo se Que estas haciendo Doy hipersaltos rapidos Como sabes hacer eso Si Rey no esta no Ultimo salto quiza el ultimo de todos Sujetense Esten conmigo Esten conmigo Esten conmigo No estan conmigo Rey Ten paciencia Empiezo a pensar que no es posible escuchar las voces de los Jedi que estuvieron antes Nada es imposible Nada es imposible Hare el curso de entrenamiento No Unete a mi Unete a mi Ben no Lo mataste Ben BB lo lamento mucho No termine el curso de entrenamiento Me distraje No me siento bien Se que parece Parece que pongo excusas No me digas lo que parecen las cosas Dime lo que son Creo que estoy cansada Eso es todo General el Halcon aun no llego El Comandante pide orientacion Me ganare el sable de su hermano algun dia No no puedes hacerlo por mi Nunca subestimes a un droide Si Maestra Rey Regreso el Halcon Vamos vengan Necesito un equipo de bomberos aqui Y otro atras Andando Ya vamos Esta en llamas Esta todo en llamas Todo  Esta en llamas  Oye  Oye  Hay un espia Nos hubiera venido bien tu ayuda ahi afuera Como les fue Muy mal en realidad Muy mal  La nave de Han  Que le hiciste al droide Que le hiciste al Halcon El Halcon esta mejor que el  BB no esta en llamas  Lo que queda no esta en llamas  Dime que paso  Tu primero  Sabes que eres  Que Eres dificil Realmente dificil  Eres un hombre dificil  Tu tu eres  Rey  Finn Pudiste regresar Si Apenas  De mal humor  Yo  El  Siempre Tenemos un espia Bueno Diste hipersaltos rapidos Si eso nos trajo aqui no Poe el compresor no funciona  Lo se estuve ahi  Como siempre No puedes hacer saltar al Halcon  En realidad si  Bueno chicos acabamos de aterrizar  Que paso  Malas noticias eso paso  No hay espia  No Hay espia Contactamos o no a un espia Hay un infiltrado en la Primera Orden y nos envio un mensaje Le tiraste un arbol encima  Rompiste ambos subalternadores  Entonces deberias habernos acompanado  Sabes que queria  Si pero no estabas Estas aqui entrenando Para que Eres la mejor piloto que tenemos Te necesitamos Ahi afuera no aqui Junior lleva a Artoo a reacondicionamiento Es cierto Cual es el mensaje Decodificamos la informacion del espia de la Primera Orden y confirma lo peor De algun modo Palpatine regreso Esperen Creemos esto No puede ser El Emperador esta muerto Ciencia oscura Clonacion  Secretos que solo los Sith conocian  Planeo su venganza Sus seguidores estuvieron construyendo algo por anos La flota mas grande que conocio la galaxia La llama la Orden Final En  horas empezaran los ataques a todos los mundos libres El Emperador y su flota se escondieron en las regiones desconocidas En un mundo llamado Exegol Exegol no figura en ningun mapa estelar Pero la leyenda lo describe como el mundo oculto de los Sith Siempre hubo rumores de su ansia de enganar a la muerte Palpatine estuvo ahi afuera todo el tiempo Moviendo los hilos Siempre En las sombras Desde el principio Si queremos detenerlo debemos hallarlo Debemos hallar Exegol General Puedo hablar con usted Se como llegar a Exegol  Dime  Luke lo busco Durante mucho tiempo Casi lo encontro Hay cosas cifradas que no puedo leer Pero dijo que para llegar alli se necesita uno de estos Un orientador sith Son brujulas que conducen a Exegol Para detener lo que ambas sabemos que viene necesito terminar lo que empezo Luke Hallar Exegol Hallar al Emperador No No quiero ir sin su bendicion pero lo hare Lo hare Es lo que haria usted Y Lo tienes funcionando bien Antes tenias razon Continuare la busqueda de Exegol que inicio Luke Empezare donde perdio el rastro En el Desierto Prohibido de Pasaana Si lo se Iremos contigo Chewie arreglaste ese compresor Tengo que ir sola Si Sola con amigos Es demasiado peligroso Finn Vamos juntos Estoy totalmente de acuerdo Rose es tu ultima chance La General dijo que estudie los viejos Destructores Asi destruimos la flota si la hallan Si Cuando Cuando Oye deberiamos irnos Que pasa Nada En caso de que no regrese quiero que sepas que fuiste un verdadero amigo Artoo Mi mejor amigo de hecho Hay mucho que quiero decirte Dimelo cuando regreses Rey nunca tengas miedo de quien eres Eso es  Los Caballeros de Ren  Espiritus malignos Tenemos un espia en nuestras filas que envio un mensaje a la Resistencia Sea quien sea este traidor no nos detendra Con lo que vi en Exegol la Primera Orden esta por convertirse en un verdadero Imperio Siento inquietud por mi apariencia General Hux Por la mascara No senor Bien hecho Me gusta Disculpeme senor pero estos aliados de Exegol parecen una secta Conjuros y adivinos Conjuraron legiones de Destructores Estelares La flota Sith aumentara diez mil veces nuestros recursos Ese alcance y poder corregira el error de la Base del Starkiller Necesitaremos reclutar mas Reclutar mas jovenes de la galaxia Que es esta flota Un regalo Que pide a cambio Preparense a aplastar cualquier mundo que nos desafie Mis caballeros y yo iremos a cazar a la carronera Estas seguro de que es aqui Estas son las coordenadas exactas que dejo el Amo Luke Que es esto El Festival Acky Acky de los Ancestros Esta celebracion ocurre solo una vez cada  anos Eso es tener suerte Buena suerte Este festival es conocido por sus cometas de colores y sus deliciosos dulces Nunca vi nada asi Nunca vi tan pocos orientadores Siempre hay patrullas aleatorias de la Primera Orden en multitudes asi Asi que pasen desapercibidos Chewie Separemonos Veamos que saben los lugarenos Ella dice Bienvenida Se llama Nambi Ghima Es un nombre excelente Soy Rey Ella se sentiria honrada de saber tu apellido tambien No tengo Soy simplemente Rey Palpatine te quiere muerta  Sirves a otro amo  No Tengo otros planes Una vez te ofreci la mano Querias tomarla Por que no lo hiciste Pudiste matarme Por que no lo hiciste No puedes ocultarte Rey No de mi Veo a traves de tu mascara Estas atormentado No puedes dejar de ver lo que le hiciste a tu padre Aun cuentas los dias desde que se fueron tus padres Hay mucho dolor en ti mucha ira No quiero tener que matarte Voy a encontrarte y te hare pasar al lado oscuro Cuando te ofrezca la mano otra vez la tomaras Ya veremos Lo viste Debemos irnos Regresar al Halcon Ya  Por que  Es Ren Senor ya lo analizamos Viene del Sistema Middiano Pasaana del Valle Prohibido Prepara mi nave Alerta a las tropas locales Envia un escuadron Si Lider Supremo Quietos Alto ahi Localice a los fugitivos de la Resistencia Todas las unidades reportense Siganme Apurense Leia me envio una transmision Esta bien Como nos encontraste Los wookiees se destacan en una multitud Tambien me alegra verte viejo amigo Es el General Lando Calrissian Sabemos quien es Threepio Es un honor General General Calrissian buscamos Exegol Claro que si Solo se hicieron dos Un orientador sith Luke Skywalker vino aqui a buscar uno Lo se Estaba con el Luke y yo seguiamos a un viejo cazador de Jedi Ochi de Bestoon El tenia una pista que podria conducirnos a un orientador Seguimos su nave por media galaxia hasta aqui Cuando hallamos su nave estaba abandonada Ni pista Ni orientador La nave de Ochi sigue aqui En el desierto donde la dejo Necesitamos llegar a esa nave Buscar otra vez Tengo un mal presentimiento sobre esto La nave de Ochi esta pasando el Canon Lurch  Andando  Gracias General Tu tambien Chewie Leia necesita pilotos General Mis dias de vuelo pasaron hace mucho Pero hazme un favor dale mis saludos a Leia Deberia darselos usted mismo Gracias Ahi Con esos speeders Como sabes hacerlo No se preocupen Ya llegue Debemos irnos Divisamos a los fugitivos Ahora vuelan Ahora vuelan Ahora vuelan Los perdimos  Eso parece  Excelente trabajo senor Pesimo trabajo senor Ahora no BB Nunca subestimen a un droide Poe Si Bien La nave de Ochi Ya vi esa nave antes Rey Los destruiste a todos Que diablos es esto Campos hundidos Trata de agarrar algo Alguna vez acabara esta agonia Vamos BB No Rey Rey nunca te dije Que Finn General Tenemos informes de un ataque en el Festival de los Ancestros La mision lo es todo No podemos fallar Alguna noticia de Rey El Halcon no responde Tienes que decirlo asi Asi como Hazme un favor Se optimista Si senora Esto es genial No va a creer lo bien que resultara todo Sera genial Rey Finn No dijo mi nombre senor pero estoy bien  Estas bien  Si Donde esta Finn Donde esta Chewie Estoy bien Amo Finn Que es este lugar No es el mas alla no Se permiten droides aqui Crei que estabamos perdidos Aun podriamos estarlo Por donde se sale Tenemos que apurarnos  Que era  Que  Que ibas a decirme  Cuando Cuando te hundias en la arena dijiste Nunca te dije Te lo dire despues Cuando Poe no este Si Moriremos en madrigueras de arena y guardamos secretos Te lo dire cuando nos digas sobre esas cosas sospechosas que haces No quiero saber que hizo estos tuneles A juzgar por la circunferencia de las paredes del tunel Dije que no quiero saber No Que es eso  Es un speeder  Que Uno antiguo Quizas encontraremos al conductor Si BB muerto tambien lo creo  Cielos Una insignia hex  Un que Un emblema comun de leales a los Sith Sith Esto era de Ochi Luke lo presintio Ochi nunca se fue de aqui  Y termino aqui abajo  Se dirigia a su nave Le paso lo mismo que a nosotros Como salio Ochi No salio No no lo hizo Huesos No me gustan los huesos Huesos Nunca es una buena senal Si lo veo Cosas horribles sucedieron con esto Tiene algo escrito Quizas pueda traducirlo La ubicacion del orientador fue inscrita en esta daga Es la pista que el Amo Luke buscaba  Y  Donde esta el orientador Me temo que no puedo decirselos Sabes  tantillones de idiomas y no puedes leerlo Lo lei senor Se con exactitud donde esta el orientador Desafortunadamente esta escrito en el idioma runico de los Sith Y que Mi programa me prohibe traducirlo Dices que la unica vez que precisamos que hables no puedes Es ironico senor Mecanicamente soy incapaz de decir traducciones del Sith Creo que el Senado de la Antigua Republica aprobo la ley Una serpiente Rey Finn  Le disparare con el blaster  No lo hagas Le transferi un poco de vida Le di de mi energia de la Fuerza Tu hubieras hecho lo mismo De ningun modo podemos volar en esta chatarra vieja Debemos seguir moviendonos Hallar a alguien que pueda traducir esa daga Como un droide servicial Sugiero que regresemos al Halcon Milenario de una vez Nos estaran esperando en el Halcon Si nos tiraran a las Fosas de Griq Si Y te usaran como droide para tiro al blanco A veces los argumentos de ambos son excelentes Que pasa Estare detras de ustedes Esta bien Veamos que tenemos Encendamos esos convertidores Que nave mugrienta Miren eso Donde esta ella Finn ayudame aqui Chewie dile a Rey que debemos irnos Que hace Donde diablos esta Chewie Es Ren Esta bien vamos Suba al transporte Muevase animal Rey Rey Tienen a Chewie Lo tienen Chewie No Rey Debemos irnos Ahi vienen Vamos Rey Rey  Debemos irnos  Chewie Vamos Rey Perdi el control No fue tu culpa Lo fue No Fue Ren El te hizo hacerlo Chewie murio Ese poder proviene de mi Finn hay cosas que no sabes Dimelas entonces Tuve una vision Del trono de los Sith Y quien estaba sentado en el Ren Y yo Recuperamos la nave de la carronera pero ella escapo Bajo las ordenes de los Caballeros de Ren sufrimos perdidas  Un transporte fue destruido  Ya vi el informe Eso es todo No General Colegiado Habia otro transporte en el desierto Trajo a un prisionero valioso Un prisionero La bestia que solia volar con Han Solo Llevalo a Interrogacion Seis Muy bien deprisa Solo nos quedan ocho horas Que vamos a hacer Que podemos hacer Debemos volver a la base No tenemos tiempo para volver No nos rendiremos Si lo hacemos Chewie murio en vano Poe Chewie tenia la daga  Hallaremos otra forma  No la hay Era la unica pista al orientador y se fue Es muy cierto La inscripcion vive solo en mi memoria Espera La inscripcion de la daga esta en tu memoria Si Amo Poe Pero no se puede recuperar la traduccion de un idioma prohibido Eso sin hacer un puenteo completo de la memoria borrada Un que completo Es un acto muy peligroso y pecaminoso realizado por criminales en droides inconscientes Hagamoslo Conozco un constructor ilegal de droides  Constructor ilegal de droides  Pero esta en Kijimi Que pasa con Kijimi Tuve un poco de mala suerte ahi Pero si falla esta mision habra sido todo en vano Todo lo que hicimos todo este tiempo Todos estamos en esto Hasta el final Por Chewie  Nos damos la mano  Si Por Chewie Kijimi Bateria cargada Hola Hola  Hola  No gracias Parece que alguien lo trato mal Esta bien Ahora estas con nosotros UATT patrulla caminante baje a la calle  Abran Los buscan para interrogarlos Revisen este lado de la calle La puerta esta cerrada Vayan a la siguiente Informenme con regularidad por favor Usted contra la pared Muestreme su identificacion Donde esta su identificacion Estan por todas partes Por favor dejenla en paz No hizo nada Bueno se lo que deberiamos hacer Yo tambien Deberiamos irnos Cierra el pico Threepio Siganme Muy bien Bajemos por aqui Oi que te vieron en Monks Gate Pense No es tan tonto como para volver aqui Te sorprenderias  Quien es  Que pasa Chicos ella es Zorii Zorii ellos son Rey y Finn Podria apretar el gatillo ahora mismo  Te vi hacer cosas peores  Por mucho menos Podemos simplemente hablarlo Quiero ver tus sesos en la nieve Entonces sigues enojada Zorii podrias ayudarnos Debemos abrir rapido la cabeza del droide  Disculpa  Tratamos de hallar a Babu Frik Babu Solo trabaja con el personal Tu ya no formas parte Que personal Que raro que nunca lo menciono El antiguo trabajo de tu amigo era traficar especias Traficabas especias  Tu eras stormtrooper  Traficabas especias Eras carronera Podriamos seguir toda la noche No tienen toda la noche Aun trato de salir del pozo en el que me metiste cuando fuiste a unirte a la Resistencia Tu Te buscan La recompensa por ella podria cubrirnos  Djakkankah  No djakkankah Podrias ayudarnos Por favor Se que no te importa pero creo que eres buena Me importa  Ya esta en linea T  Si senor Reconociendo el perimetro Caminantes Permanezcan cerca Poe Dameron traficante de especias Traficante de especias  Muy bien  Consigue tus especias Vamos Threepio Babu esta en la parte de atras No te preocupes por nosotros No tengo la menor idea de por que accedi a hacer esto Debo estar funcionando mal Debo estar funcionando mal Babu Frik Nos puedes ayudar con esto Zorii Esto va a funcionar Dice que hallo algo en la memoria prohibida de tu droide Palabras traducidas del Sith  Eso es  Si es lo que precisamos Con quien se juntan que habla Sith Puedes hacer que Babu puedes hacer que lo traduzca Si Pero causara un borrado Un borrado completo de memoria Espera Si lo hacemos traducir eso no recordara nada Droide la memoria le queda en blanco En blanco Debe haber otra forma Artoo no hizo una copia de tu memoria Por favor las unidades de almacenamiento de Artoo no son confiables Sabes las posibilidades mejor que nosotros Tenemos alternativa Si la mision fracasa todo habra sido en vano Todo lo que hicimos todo este tiempo Que haces ahi Threepio Mirando por ultima vez senor a mis amigos Que triste Pronto empezaran las redadas nocturnas Seguire vigilando Ire contigo Aun no confias en mi Alguna vez confiaste en mi No Informe General Pryde Hubo un avance senor Los Caballeros de Ren localizaron a la carronera En un asentamiento llamado Kijimi Destruiremos la ciudad Lider Tuve una idea Podriamos intentar algo mas Cuanto tiempo lleva asi La Primera Orden se llevo a la mayoria de los ninos hace mucho tiempo Ya no puedo soportar los gritos Ahorre lo suficiente para irme Ire a las Colonias Como Todas esas hipervias estan bloqueadas Es un medallon de Capitan de la Primera Orden Nunca vi uno de verdad Libre transito por cualquier bloqueo Permiso para aterrizar en cualquier nave Quieres venir conmigo No puedo dejar esta guerra No hasta que termine Quiza ya lo hizo Enviamos un llamado de auxilio en la Batalla de Crait No vino nadie Todos tienen mucho miedo Se rindieron No no creo que creas eso Oye Ellos ganan haciendote creer que estas solo Recuerdas Hay mas de nosotros La rueda chirria Me chirria la rueda Chirrido eliminado Gracias Muy amable Algo no esta bien en todo esto Se donde la vi La nave en la que estaba el La de Ochi Que El dia que mis padres se fueron Estaban en esa nave Estas segura Esta llegando un Destructor Debemos irnos Lo conseguimos Babu Si El droide esta listo El orientador del Emperador esta en la boveda imperial En delta  temporal  rumbo  en una luna del sistema Endor En la ribera sur Solo esta daga dice Solo esta daga dice El sistema Endor Donde termino la ultima guerra Rey El Destructor de Ren El esta aqui Chewie Que hay de el Esta en la nave de Ren Esta vivo Que Como Esta vivo Debio estar en otro transporte Debemos ir a buscarlo Tu amigo esta en esa basura del cielo Supongo que si Puedo presentarme Soy CPO relaciones ciberneticohumanas Y ustedes son Bueno esto sera un problema Hola Soy Babu Frik Pues hola Threepio mueve tu trasero metalico Ya casi llegamos Como te atreves Acabamos de conocernos Poe Podria llevarte a una nave capital Ve a ayudar a tu amigo Zorii no creo poder aceptarlo No me importa lo que creas Debemos irnos Ya  Ven con nosotros  Poe Puedo besarte Vete No hagan movimientos bruscos Que es eso Dejen de moverse El medallon es bueno Podemos entrar al hangar  Aguanta Chewie Ya vamos Sea quien sea este Chewie es una locura Credenciales y manifiesto Cierren las puertas blindadas  Ustedes tres quedense alli  Con mucho gusto Por donde Ni idea Siganme Suelten sus armas Esta bien que estemos aqui  Esta bien que esten aqui  Esta bien Los alivia que estemos aqui  Gracias a Dios que estan aqui  Bienvenidos chicos Ella nos hace eso Buscamos a un prisionero y sus pertenencias Las camaras Dijeron que Chewie esta por aqui Rey vamos La daga esta en esta nave La precisamos Por que Es una sensacion Nos vemos en el hangar Rey no puedes Chewie Registren otra vez la ciudad Esta cerca Claro que vinimos por ti Chewie Si Rey esta aqui Conseguira la daga De quien es esta nave La nave esta por aqui Siganme Por aqui Camino equivocado No es un buen camino no Los encontre Disparenles Por aqui Ahi estan Atrapenlos  Estamos cerca  Al frente Disparenles Alto Poe Estas bien No Ustedes manos arriba Suelten sus armas Ahora Bajen sus armas Sueltenlas Sueltenlas ya  Hola chicos  Callate escoria No No No Rey Dondequiera que estes es dificil encontrarte Es dificil deshacerse de ti Te manipule en el desierto porque necesitaba verlo Necesitaba que lo vieras Quien eres Conozco el resto de tu historia Rey Estas mintiendo Nunca te menti Tus padres eran don nadies Eligieron serlo Para mantenerte a salvo No Recuerdas mas de lo que dices Estuve en tu cabeza No quiero esto Busca en tus recuerdos No Recuerdalos Miralos Mi amor Rey se valiente Aqui estaras a salvo Te lo prometo Regresen No Te vendieron para protegerte Deja de hablar Rey se lo que les paso Muevanse General Colegiado la carronera no esta con ellos Llevatelos Matalos Dime donde estas No sabes toda la historia Palpatine se llevo a tus padres El te estaba buscando Pero no dijeron donde estabas Asi que dio la orden Ella no esta en Jakku Se fue No No Asi que estas ahi Sabes por que el Emperador siempre te quiso muerta No Ire a decirtelo Ella estaba en mis aposentos Bloqueen la nave En realidad me gustaria hacerlo yo mismo Que ibas a decirle antes a Rey Sigues con eso Perdon es mal momento Es bastante mal momento Poe Porque mas tarde no parece ser opcion Si vas a confesar algo quiza no sea el peor momento Soy el espia  Que  Tu No tenemos mucho tiempo Lo sabia No no lo sabias Cual es tu numero operativo Eso ni siquiera es un idioma Cielos Mi primera batalla de laseres  Y los demas  Aun no regresaron Encuentralos  Andando  Si Hay amigos adelante  Si ahi estan  Vamos BB Apagare los obstaculizadores Tienen poco tiempo Ahi esta ella Es una sobreviviente Espera  Disparame en el brazo Rapido  Que O lo sabran No Por que nos ayudas No me importa si ganan Necesito que pierda Kylo Ren Por que vino por mi el Emperador Por que queria matar a una nina Dime Porque vio en lo que te convertirias No tienes solamente poder Tienes su poder Eres su nieta Eres una Palpatine Mi madre era la hija de Vader Tu padre era el hijo del Emperador Lo que Palpatine no sabe es que somos una diada en la Fuerza Rey Dos que son uno Lo mataremos juntos y tomaremos el trono Sabes lo que tienes que hacer Lo sabes Si Mantenlo quieto Finn date prisa Rey Vamos Vamos Yo te atrapo Fue una incursion coordinada General Colegiado Dominaron a los guardias y me forzaron a llevarlos a su nave Ya veo Llama al Lider Supremo Si senor Dile que hallamos a nuestro espia No se por que no nos siguen pero no confio en eso Se rompio el tren de aterrizaje Que tan roto Solo importa el orientador Hallar Exegol Es lo que hacemos El mato a mi madre Y a mi padre Ire a buscar a Palpatine y lo destruire Rey eso no parece propio de ti Rey te conozco La gente sigue diciendome que me conoce Me temo que nadie me conoce La aprendiz de Jedi aun esta viva Quiza me traicionaste No hagas que ponga mi flota en tu contra Se adonde va Ella nunca sera una Jedi Asegurate de eso Matala Que es eso La Estrella de la Muerte Un mal lugar de una antigua guerra Nos llevara anos hallar lo que buscamos Cielos Solo esta daga dice El orientador esta alli Atentos Un aterrizaje forzoso  Vi peores  Yo vi mejores Son de la Resistencia Depende Captamos una transmision de alguien llamado Babu Frik Babu Frik Es uno de mis mas viejos amigos Dijo que vendrias Dijo que eras la ultima esperanza Debemos llegar a esos restos Hay algo ahi dentro que necesitamos Puedo llevarlos por el agua  Viste el agua  Ahora no Es muy peligroso Podemos ir al alba No podemos esperar tanto No tenemos tiempo Ni opcion Arreglemos esa nave Tienes piezas de repuesto Algunas  Soy Jannah  Soy Poe Hola No gracias Que situacion terrible Asi son todos los dias para tu gente Que locura Encontramos su control de volumen Es un O pero deberia funcionar Gracias Es una pieza de la Primera Orden Hay un viejo crucero en la cresta occidental Desmantelado Al que estabamos asignados En el que escapamos Bueno espera Eras de la Primera Orden No por eleccion Nos reclutaron de chicos A todos nosotros Yo era TZ Stormtrooper FN Tu No sabia que habia mas Desertores Todos eramos stormtroopers Nos amotinamos en la batalla de la Isla Ansett Nos ordenaron dispararles a civiles No pudimos hacerlo Depusimos las armas  Todos  Toda la compania Ni siquiera se como paso No fue una decision en realidad fue como un Un instinto Un sentimiento Un sentimiento La Fuerza La Fuerza me trajo aqui Me trajo hacia Rey Y hacia Poe Lo dices como si estuvieras seguro de que es real Es real Antes no estaba seguro pero ahora si Que pasa amigo Como que no la viste Se llevo el skimmer En que diablos pensaba Poe debemos ir tras ella Repararemos el Halcon y nos iremos No la vamos a perder Mira ella nos dejo Que quieres hacer Nadar No es ella misma No sabes contra lo que lucha Y tu si Si lo se Y Leia tambien Yo no soy Leia Eso es muy cierto Finn Hay otro skimmer No tengas miedo de quien eres Mirate Querias probarle a mi madre que eras una Jedi pero probaste otra cosa Ahora no puedes regresar con ella Como no puedo yo Damelo El lado oscuro esta en nuestra naturaleza Rindete a el Damelo a mi La unica forma de que llegues a Exegol es conmigo No Leia sabe lo que debe hacerse Artoo Llegar a su hijo le tomara toda la fuerza que le queda Rey Rey No No no podemos seguirlos  No puedo dejarla  No podemos Rey Ben Leia Yo queria tomarte la mano La mano de Ben Adios querida princesa Poe paso algo  Finn  Esto no puede esperar Debemos ver a la General Ella murio Chewie Oye chico Te extrano hijo Tu hijo esta muerto No Kylo Ren esta muerto Mi hijo esta vivo Eres solo un recuerdo Tu recuerdo Ven a casa Es demasiado tarde Ella murio Tu madre murio Pero lo que representaba por lo que luchaba eso no murio Ben Se lo que debo hacer pero no se si tengo la fuerza para hacerlo La tienes Papa Lo se La Princesa de Alderaan perturbo mi plan pero su acto insensato sera en vano Ven a verme a Exegol General Pryde Tal como lo servi en las antiguas guerras lo servire ahora Envia una nave a un mundo que ellos conozcan Hazlo arder Comienza la Orden Final Ella vendra sus amigos la seguiran Si mi senor Los niveles se mantienen estables al  Capitan  Kijimi esta en rango  Fuego Kijimi Como Lo volaron desde un Destructor Estelar Una nave de la nueva flota Sith De las desconocidas El Emperador envio una nave de Exegol Significa que cada nave de la flota Tiene armas para matar planetas Claro que si Todas Asi es como el terminara esto Escuchen Esta en todas las frecuencias La Resistencia esta muerta La llama Sith ardera A todos los planetas rindanse o mueran Comienza El Orden Final Leia te nombro general interino Y ahora que Sinceramente no se como hacer esto Lo que hiciste No estoy listo Nosotros tampoco Luke Han Leia yo Quien esta listo Como lo hicieron Derrotar un imperio con casi nada Nos teniamos los unos a los otros Asi fue como ganamos Oye no lo toques Es de mi amiga Disculpa Ella se fue Si se fue No se adonde La extrano Yo tambien la extrano Como te llamas  Debo decirte algo  Debo decirte algo No puedo hacerlo solo Te necesito al mando conmigo Este droide tiene Gracias Te lo agradezco  General  General Este droide tiene muchisima informacion sobre Exegol  Espera que Cara conica  Soy DO Disculpa DO El iba a Exegol con Ochi de Bestoon Por que iba ahi Ochi A llevarle al Emperador a la ninita que iba a buscar a Jakku El la queria viva Un arma Jedi merece mas respeto Maestro Skywalker Que estas haciendo Me vi en el trono oscuro No permitire que pase Nunca dejare este lugar Hare lo mismo que tu Estaba equivocado El miedo me mantuvo aqui Que es a lo que mas temes A mi misma Porque eres una Palpatine Leia tambien lo sabia Ella no me lo dijo Aun asi me entreno Porque vio tu espiritu Tu corazon Rey Algunas cosas son mas fuertes que la sangre Enfrentar el miedo es el destino de un Jedi Es tu destino Si no enfrentas a Palpatine significara el fin de los Jedi Y la guerra estara perdida Hay algo que mi hermana querria que tuvieras El sable de Leia Era la ultima noche de su entrenamiento Leia me dijo que presintio la muerte de su hijo al final de su camino como Jedi Me entrego su sable y dijo que un dia seria recogido otra vez por alguien que terminaria su camino Ahora viven en ti mil generaciones Pero es tu lucha Llevaras los dos sables a Exegol No puedo llegar ahi No tengo el orientador Destrui la nave de Ren Tienes todo lo que necesitas Se hicieron dos Hola soy CPO relaciones ciberneticohumanas Y tu eres Que Estoy bastante seguro de que recordaria si tuviera un mejor amigo Que quieres ponerme en la cabeza De ninguna manera Restauracion de memoria completada Artoo te enteraste Ire con la senorita Rey en su primera mision Ya fui Recibes una senal De quien La informacion que precisas para un ataque aereo a Exegol Si salvo como llegar alli  Ves esas lecturas atmosfericas  Es un desastre  Campos magneticos cruzados  Pozos gravitatorios vientos solares  Como puede despegar una flota  Lo lamento mucho La memoria de Artoo debe estar cruzada con sus receptores logicos Dice que esta recibiendo una transmision del Amo Luke Es la identificacion de una vieja nave Es el Xwing de Luke Skywalker Transmite senales de recorrido yendo a las regiones desconocidas Es Rey Esta yendo a Exegol Nos lo esta mostrando Nos muestra como llegar alli Vamos juntos entonces Vamos amigo te necesitamos Mientras esos Destructores Estelares esten en Exegol podemos atacarlos Atacarlos Como No pueden activar sus escudos hasta dejar la atmosfera Eso no es facil en Exegol Naves de ese porte precisan ayuda para despegar El navegador no puede discernir el camino ahi Como despegan las naves Usan una senal de una torre de navegacion como esta Salvo que ellos no lo haran El equipo aereo hallara la torre el terrestre la volara  Equipo terrestre  Tengo una idea para eso Al caer la torre la flota estara atrapada en la atmosfera unos minutos sin escudos y sin salida Creemos que un ataque a los canones incendiaria los reactores Es nuestra chance Precisamos hacer algunas maniobras de Holdo Danarlos mucho Vamos Esa maniobra es muy dificil Cazas y cargueros pueden eliminar sus canones si somos suficientes No somos suficientes Tiene razon Seriamos insectos para ellos Ahi entran Lando y Chewie Llevaran el Halcon a los sistemas del nucleo Enviaran un llamado de auxilio para cualquiera que escuche Tenemos amigos ahi afuera Vendran si saben que hay esperanza Lo haran La Primera Orden gana haciendonos creer que estamos solos No estamos solos La gente de bien luchara si la lideramos Leia nunca se rindio Y nosotros tampoco lo haremos Les mostraremos que no tenemos miedo No dejaremos morir aquello por lo que nuestras madres y nuestros padres lucharon Hoy no Hoy haremos nuestro ultimo ataque Por la galaxia Por Leia Por todos los que perdimos Se llevaron a muchos de nosotros Ahora les llevamos la guerra a ellos Ella se aproxima Que asciendan todas las naves a altura de despliegue Se que es un viaje duro pero manten fijado el curso de Rey Frecuencia de ejecucion clara Capitan llega una nave de la Resistencia General Colegiado Use los canones ionicos Miren esa flota Maldita sea Bienvenido a Exegol Vigila tu estribor Wexley Lleguen a su altitud No nos pueden disparar sin darse entre ellos No se den por vencidos Ya llega la ayuda Ahi esta Poe la veo Tengo la torre a la vista Hay TIE entrantes Los veo Yo te ayudo Finn  Estas lista ahi atras  Mas que nunca Apuntan a la torre de navegacion asi no se puede desplegar la flota Entonces no usaremos esa torre Cambia la fuente de senal de navegacion a esta nave Nosotros guiaremos la flota La torre de navegacion fue desactivada  Que  Esas naves precisan esa senal Tiene que venir de alguna parte Descubrieron lo que hacemos Cancelen la invasion terrestre Espera La senal de navegacion viene de esa nave de mando Es nuestra zona de descenso Como sabes Un presentimiento Quieres lanzar una invasion terrestre a un Destructor Estelar No pero no podemos sacar del aire el sistema de navegacion de esa nave Cubrenos La flota debe quedar ahi hasta que llegue ayuda  Eso esperamos  Eso esperamos Ya oyeron al General Que los caza cubran ese modulo de aterrizaje Aterrizaron un transporte de tropas  Bloquea los speeders  No puedo senor Por que no No estan usando speeders Nada mal por haber tenido una leccion Tuviste una buena maestra Lo estas haciendo genial amigo La torre esta adelante Espere mucho tiempo Para que mi nieta regrese a casa Nunca te quise muerta Te queria aqui Emperatriz Palpatine Ocuparas el trono Tu derecho de nacimiento es reinar aqui Esta en tu sangre Nuestra sangre No vine a dirigir a los Sith vine a acabar con ellos Como Jedi  Si  No Tu odio tu ira Quieres matarme Eso es lo que quiero Matame y mi espiritu pasara a ti Como todos los Sith viven en mi tu seras Emperatriz seremos uno Esos propulsores estan calientes Como vamos Vamos a abrirnos paso y eliminar esa torre de navegacion Las escotillas son a prueba de blasters Bueno BB es tu turno Te cubrire Esto deberia servir Ahi va Bien hecho Finn No hay senal de navegacion pero no por mucho No tenemos conexion senor Reinicie la senal de navegacion Tomara minutos senor  Andando Finn  No espera escucha Se detuvieron los canones Reinician sus sistemas  Y  Tengo que hacer algo Me quedare contigo No vinieron ni el Halcon ni refuerzos No se Artoo Quiza no vendra nadie mas Que hacemos General Debemos atacarlos nosotros Que podemos hacer contra esas cosas Seguir con vida Llego la hora Con tu ira me quitaras la vida Y ascenderas Todo lo que quieres es que odie pero no lo hare Ni siquiera a ti Eres debil Como tus padres Mis padres eran fuertes Me salvaron de ti Tu Maestro Luke Skywalker fue salvado por su padre La unica familia que tienes aqui soy yo No tienen mucho tiempo Nadie vendra a ayudarlos Y tu eres la que los guio aqui Matame Toma el trono Reina sobre el nuevo Imperio y la flota sera tuya Solo tu tienes el poder para salvarlos Rehusate y tu nueva familia muere Bien Finn donde estas El modulo de aterrizaje se va  Finn  Vayanse sin nosotros Destruiremos toda la nave Que Como Atacaremos el puente de mando Rose por favor Ve  Rose  Rose Ire por el detonador Empieza el ritual Ella me matara y se comprometera a ser una Sith Desenfundara su arma Vendra hacia mi Obtendra su venganza Y con un golpe de su sable renacen los Sith Los Jedi estan muertos Hazlo Haz el sacrificio Permanezcan juntos mueran juntos La fuerza vital de su union es una diada en la Fuerza Es un poder como la vida misma Invisible durante generaciones Y ahora el poder de dos restaura al unico y verdadero Emperador  Snap los tienes atras  Si los veo No Snap No Cayo Alfa Tres Los tengo atras No puedo Estan por todas partes Le dieron al lider Delta General cual es nuestro proximo movimiento Poe y ahora que Amigos mios lo lamento Crei que teniamos una chance Pero hay demasiados Pero hay mas de nosotros Poe Hay mas de nosotros Mira esto Mira esto Lando lo lograste Lo lograste Ataquen esos canones vulnerables Cada uno que destruyamos es un mundo que salvamos Lindo vuelo Lando Cayo una nave Perdimos un Destructor Los sistemas no responden De donde sacaron esas naves de combate No tienen flota No es una flota senor son solo personas Hasta la vista basura del cielo Quien es ese piloto Adivina traficante de especias Zorii Lo lograste Miren lo que hicieron Tal como una vez cai asi cae el ultimo Skywalker No teman ese debil ataque mis fieles Nada detendra el retorno de los Sith Artoo mis sistemas estan fallando Alguien me recibe Esten conmigo Esten conmigo Esten conmigo Estos son tus pasos finales Rey Asciende y dalos  Rey  Rey Rey Restablece el equilibrio Rey como lo hice yo En la noche encuentra la luz Rey No estas sola Rey Sola nunca estuviste En ti vive cada Jedi que vivio alguna vez La Fuerza te rodea Rey  Permite que te guie  Como nos guio a nosotros Siente la Fuerza fluyendo a traves de ti Rey Deja que te levante Asciende Rey Estamos detras de ti Rey Rey Asciende en la Fuerza En el corazon de una Jedi reside su fuerza Asciende Asciende Rey la Fuerza te acompanara siempre Que tu muerte sea la declaracion final en la historia de la Rebelion Estoy operativo otra vez Es nuestra ultima chance Disparemosles a esos canones ya No eres nada Una carronera no es rival para el poder que hay en mi Soy todos los Sith Y yo soy todos los Jedi Poe la nave de mando Su flota esta atrapada aqui Estan fritos Vamos Finn estas viendo esto Finn no abordo el modulo de aterrizaje Aun siguen en la nave de mando Los veo Voy a traerlos General no lo lograra Confia en mi soy rapido No tan rapido como esta nave Sujetate Chewie Finn No Rey Ben Alli mira Rojo Cinco esta en el aire Rey esta viva La veo La gente se esta levantando en toda la galaxia Poe Lo logramos Lo logramos Feliz Chewie Chewie Esto es para ti Oiste eso De donde es General Del sistema Oro Y tu chica No lo se Averiguemoslo No hubo nadie por tanto tiempo Quien eres Soy Rey Rey que Rey Skywalker Esto no es una votacion No puedes saltar a la velocidad luz en este campo de asteroides Sientate preciosa Vamos a despegar  Mire  Ya lo veo  Estamos acabados  La cueva se cierra  Esto no es una cueva  Que Eso es corre Si el poder de un Jedi proviene de la Fuerza Pero ten cuidado con el lado oscuro ira miedo agresion El lado oscuro de la Fuerza son ellos Con facilidad fluyen y enseguida te inducen a la pelea Si alguna vez caes en el lado oscuro para siempre dominara tu destino Te consumira como hizo con el discipulo de ObiWan Vader  Es mas poderoso el lado oscuro  No no No Mas rapido mas facil mas seductor Como distinguire el lado bueno del malo Lo sabras cuando estes tranquilo en paz equilibrado Un Jedi utiliza la Fuerza para aprender y defenderse nunca para atacar  Pero por que no puedo  No no hay un porque Nada mas te ensenare hoy Libera tu mente de preguntas Aqui hay algo extrano Siento frio Muerte Ese lugar es mas poderoso con el lado oscuro de la Fuerza Es propiedad del mal Entrar en el debes Que hay dentro Solo lo que lleves contigo Tus armas no las necesitaras Cazadores de recompensas No necesitamos a esa escoria  Si senor  Esos rebeldes no escaparan Tenemos una llamada de prioridad del destructor estelar Vengador Bien Habra una sustanciosa recompensa para quien encuentre al Halcon Milenario Pueden utilizar los metodos que crean convenientes pero los quiero vivos Nada de desintegraciones  Como desee  Lord Vader Milord los tenemos Menos mal que hemos salido del campo de asteroides Larguemonos Listos para saltar a la velocidad luz Uno dos Tres Esto no es justo Los circuitos de conmutacion no funcionan No es culpa mia  No tenemos velocidad luz  No es culpa mia Perdimos el escudo deflector trasero Un impacto mas y estamos acabados Dale la vuelta Dale la vuelta Desviare la energia al escudo delantero  Vas a atacarlo  Las probabilidades de sobrevivir  un asalto frontal a un destructor  Callate Estan en posicion de ataque Conecten los escudos Siganlos Pueden volver a hacer otra pasada La nave ya no aparece en nuestras pantallas No pueden haber desaparecido No tienen un dispositivo de camuflaje  No hay rastro de ellos  Lord Vader exige ser informado Preparen un transbordador Asumire toda la responsabilidad y le pedire disculpas a Lord Vader  Entretanto sigan registrando la zona  Si capitan Needa Utiliza la Fuerza Si Ahora la piedra Sientela Concentrate No Jamas la sacaremos de ahi Tan seguro estas Tu siempre dices que no se puede Nada oyes de lo que digo Maestro mover piedras es una cosa pero esto es totalmente diferente No no es diferente Solo es diferente en tu mente Tienes que olvidarte de lo que has aprendido  Esta bien lo intentare  No lo intentes Hazlo o no lo hagas Pero no lo intentes No puedo Es demasiado grande El tamano no importa Mirame a mi Por mi tamano me juzgas no Pues no deberias hacerlo porque mi aliada es la Fuerza Y una poderosa aliada es La vida la crea y la hace crecer Su energia nos rodea y nos une Seres luminosos somos no esta materia bruta Debes sentir la Fuerza a tu alrededor Aqui entre tu y yo el arbol la roca Por todas partes Si incluso entre la tierra y la nave Quieres lo imposible No puedo creerlo Por eso has fallado Disculpa aceptada capitan Needa Lord Vader nuestras naves han reconocido toda la zona sin encontrar nada Si el Halcon alcanzo la velocidad luz puede estar al otro lado de la galaxia De la alerta a todos los mandos Calculen cualquier posible destino a lo largo de su ultima trayectoria  Si milord Los encontraremos  No vuelva a fallarme almirante Alerten a todos los mandos Desplieguen la flota Capitan Solo esta vez se ha excedido No no me callare Chewbacca Por que no me escucha nadie La flota ha empezado a desplegarse Quedate cerca del disparador manual del tren de aterrizaje No veo como nos ayudara eso La rendicion es perfectamente aceptable en circunstancias extremas El Imperio puede ser lo bastante indul  Gracias  Que tienes pensado hacer ahora Si siguen el procedimiento normal tiraran la basura antes de saltar a la velocidad luz  Nos iremos flotando  Con toda la basura Y luego que Habra que encontrar un puerto seguro por aqui Tienes alguna idea  Donde estamos  En el sistema Anoat El sistema Anoat Ahi no hay demasiado Espera Que interesante  Lando  El sistema Lando Lando no es un sistema es un hombre Lando Calrissian Un jugador de cartas un jugador  Un sinverguenza Te gustara  Gracias Bespin Esta lejos pero creo que lo conseguiremos  Una colonia minera  Si una mina de gas tibanna Lando se la gano a alguien Lando y yo nos conocemos desde hace mucho tiempo  Confias en el  No Pero no le tiene afecto al Imperio eso te lo aseguro Alla vamos Chewie Listo Desacopla Tienes tus momentos No muchos pero los tienes Concentrate Siente fluir la Fuerza Si Muy bien Calma Si Cosas a traves de la Fuerza veras Otros lugares El futuro El pasado Los viejos amigos que se fueron Control control Tienes que aprender a controlarlo Vi una ciudad en las nubes Amigos tienes alli  Sufrian mucho  Es el futuro lo que ves El futuro Moriran Dificil de decir es Siempre en movimiento el futuro esta Tengo que ir con ellos Decidir debes como mejor servirles Si ahora te vas ayudarlos podrias pero destruirias todo aquello por lo que ellos han luchado y sufrido No no tengo permiso de aterrizaje Estoy intentando ver a Lando Calrissian Espere Dejeme explicarselo No se desvie de su rumbo actual  Que quisquillosos no  Creia que lo conocias Eso fue hace mucho tiempo Seguro que se ha olvidado de ello Tiene permiso para aterrizar en la plataforma  Gracias No hay por que preocuparse Lando y yo somos viejos amigos Quien se preocupa Nadie viene a recibirnos Esto no me gusta  Y que te gustaria  Nos han dejado aterrizar Oye no te preocupes Todo va a salir bien Confia en mi Ves Mi amigo Manten los ojos abiertos Oye Puerco tramposo cerdo estafador Tienes muchas agallas para venir aqui despues de lo que me hiciste Como estas viejo pirata Me alegro de verte  Crei que no volveria a verte  Bueno parece muy simpatico Si Muy simpatico  Que estas haciendo aqui  Reparaciones Necesito tu ayuda  Que le has hecho a mi nave  Tu nave Oye recuerdalo te la gane limpiamente Y tu que tal Chewbacca Sigues con este perdedor Vaya Que tenemos aqui Bienvenida Soy Lando Calrissian el administrador de esta instalacion  Y usted quien es  Leia Bienvenida Leia Bien bien Viejo zorro Hola soy CPO Relaciones Ciberneticas Humanas Mis servicios estan Por favor  Que le pasa al Halcon  La hipervelocidad  Pondre a mi gente a trabajar en ello  Bien Esa nave me salvo la vida muchas veces Es el trasto mas rapido de la galaxia Que tal la mina de gas Te sigue dando dinero No como quisiera Somos una avanzada pequena y poco autosuficiente He tenido problemas de suministros de todas clases he tenido problemas laborales  Que tiene tanta gracia  Tu Escucharte Pareces un hombre de negocios un jefe responsable Quien lo hubiera pensado no Verte me trae viejos recuerdos Si Si ahora soy responsable Es el precio que hay que pagar por tener exito Me alegra ver una cara familiar Que grosero Eso suena como una unidad R Me pregunto si Hola Que interesante  Quien eres  Cielos Lo siento muchisimo No quise interrumpir No se levante Luke debes completar tu entrenamiento No puedo olvidar esa vision Son mis amigos debo ayudarlos No debes irte  Han y Leia moriran si no me voy  Eso no lo sabes Ni siquiera Yoda puede ver su destino Pero puedo ayudarlos Siento la Fuerza Pero no puedes controlarla Este es un momento peligroso para ti cuando te veas tentado por el lado oscuro de la Fuerza Si si A ObiWan escucha La cueva  Recuerda tu fracaso en la cueva  He aprendido mucho desde entonces Maestro Yoda prometo volver y acabar lo que he empezado Te doy mi palabra Es a ti y tus habilidades lo que quiere el Emperador Por eso ha hecho sufrir a tus amigos Por eso tengo que ir No quiero perderte ante el Emperador de la forma que perdi a Vader No me perderas Detenerlo debemos De esto todo depende Solo un Caballero Jedi adiestrado y con la Fuerza como su aliada conquistara a Vader y a su Emperador Si acabas tu aprendizaje ahora si eliges el camino rapido y facil como hizo Vader te convertiras en un servidor del mal Paciencia  Y sacrificar a Han y a Leia  Si honras aquello por lo que luchan si Si eliges enfrentarte a Vader lo haras tu solo Yo no puedo interferir Lo comprendo R enciende los convertidores Que no te invada el odio Eso lleva al lado oscuro Vader fuerte es Recuerda lo que has aprendido Salvarte podria Lo hare Y volvere Lo prometo Te lo dije Imprudente es el Ahora las cosas estan peor Ese chico es nuestra ultima esperanza No hay otra La nave esta casi lista Un par de cosas mas y estara a punto Cuanto antes mejor Aqui pasa algo Nadie ha visto ni sabe nada de PO Ha pasado demasiado tiempo para que se haya perdido Tranquila Hablare con Lando a ver que puedo averiguar No confio en Lando Yo tampoco confio en el pero es mi amigo Ademas pronto nos iremos Y tu tambien te iras no Que ha pasado Donde Lo encontraste en un basurero Que desastre Crees que puedes repararlo  Lando tiene gente que puede repararlo  No gracias  Perdon Interrumpo algo  No realmente Esta usted preciosa Aqui es donde debe estar sin duda entre las estrellas  Gracias  Me acompanaria a tomar un refresco Estan todos invitados claro Tienen problemas con su androide No ningun problema Por que Veras como somos una pequena explotacion no estamos bajo la jurisdiccion del Imperio  Son parte del Gremio de Minas  En realidad no Somos tan pequenos que no llamamos la atencion Lo cual es una ventaja para todos ya que nuestros clientes quieren evitar atraer la atencion sobre si mismos No tienes miedo de que el Imperio te descubra y acabe contigo Ese peligro siempre ha existido sobre todo lo que hemos construido pero he garantizado mi seguridad Acabo de hacer un trato que mantendra al Imperio fuera de aqui para siempre Nos sentiriamos honrados si nos acompanaran No tenia eleccion Llegaron justo antes que ustedes Lo siento Yo tambien lo siento No PO esta con ellos Aguanta ya casi hemos llegado Lo siento muchisimo No quise interrumpir No por favor no se levante Tropas de asalto Aqui Estamos en peligro Tengo que decirselo a los demas No Me han disparado Lord Vader Le llevaras al capitan Solo a Jabba el Hutt despues de que yo tenga a Skywalker Muerto no me sirve Sus lesiones no seran permanentes Lord Vader que hay de Leia y el wookiee Jamas abandonaran esta ciudad No acordamos eso Ni que entregaria a Han a este caza recompensas Quiza piensa usted que se le ha enganado No Bien Seria una lastima que tuviera que dejar una guarnicion aqui Este trato resulta cada vez peor Si eso esta muy bien Me gusta Algo no esta bien porque ahora no veo Eso esta mucho mejor Espera Espera Cielos Que has hecho Estoy al reves Bola de pelo pulgosa Solo una fregona gigantesca como tu seria lo bastante estupido Me siento fatal Por que hacen esto No me han hecho ni una sola pregunta  Largate de aqui Lando  Callate y escucha Vader esta de acuerdo en confiarme a Leia y a Chewie  Deben quedarse pero estaran a salvo  Y Han que  Se lo entregara al caza recompensas  Vader nos quiere muertos No los quiere a ustedes Persigue a alguien llamado Skywalker  Lord Vader le ha tendido una trampa  Y somos el cebo  Viene hacia aca  Perfecto Nos la has jugado bien verdad Mi amigo Quietos He hecho todo lo posible Lo siento pero tengo mis propios problemas Si Eres un verdadero heroe Desde luego tienes mucho don de gentes Esta instalacion es rudimentaria pero servira para congelar a Skywalker hasta llevarlo frente al Emperador Lord Vader se acerca una nave tipo ala X Bien Sigan a Skywalker y permitanle aterrizar Lord Vader solo usamos esta planta para congelar el carbono Podria matarlo No quiero danar el premio del Emperador Lo probaremos antes con el capitan Solo Si me hubieras ensamblado las piernas no estaria en esta posicion tan ridicula Recuerda Chewbacca eres responsable de mi asi que no hagas tonterias Que pasa ahora amigo Te van a meter en el congelador de carbono Y si no sobrevive Para mi es de mucho valor Si muere el Imperio te recompensara Metanlo dentro  Chewbacca quieto  No Chewie alto Nos mataran a todos Si alto No estoy dispuesto a morir Oye Escuchame Chewie esto no me ayudara Conserva tus fuerzas Ya tendras otra oportunidad La Princesa Tienes que cuidar de ella Me oyes  Te quiero  Lo se Que sucede Date la vuelta No veo Lo han recubierto de carbono Estara muy bien protegido si sobrevive al proceso de congelacion claro Bien Calrissian ha sobrevivido Si esta vivo Y en perfecta hibernacion Es todo tuyo cazador de recompensas Vuelvan a ajustar la camara para Skywalker Skywalker ha aterrizado milord Muy bien Aseguraos de que encuentre el camino hasta aqui Calrissian lleva a la Princesa y al wookiee a mi nave Dijo que se quedarian aqui bajo mi vigilancia Cambio el trato Y ruega por que no cambie nada mas Luke no Es una trampa Es una trampa La Fuerza esta contigo joven Skywalker Pero todavia no eres un Jedi Bien hecho Encierrenlos en la torre de seguridad y no hagan ruido Vamos  Que cree usted que esta haciendo  Vamos a salir de aqui Sabia que tenia que ser un error Cree que despues de lo que le hizo a Han  No tenia eleccion  Que hacen Confien en el Lo comprendemos verdad Chewie No tenia eleccion Solo intento ayudar No necesitamos su ayuda Que  Parece que dice Han  Todavia podemos salvar a Han En la plataforma este Siento muchisimo todo esto Despues de todo solo es un wookiee Metan al capitan Solo en la bodega de carga R donde te habias metido Espera Date la vuelta melenas Deprisa Intentamos salvar a Han del cazador de recompensas Bueno por lo menos tu sigues entero Mira lo que me ha pasado a mi No Chewie estan detras de ti Has aprendido mucho jovencito Descubriras que estoy lleno de sorpresas Tu destino va unido al mio Skywalker ObiWan sabia esta verdad Demasiado facil Quiza no seas tan fuerte como creia el Emperador Impresionante Muy impresionante ObiWan te ha ensenado bien Has controlado tu miedo Ahora descarga tu ira Solo tu odio puede destruirme Han cambiado la clave de seguridad R dile la computadora que anule los sistemas de seguridad R date prisa Atencion Aqui Lando Calrissian Atencion El Imperio controla la ciudad Aconsejo que se vayan antes de que lleguen mas tropas imperiales Por aqui No me culpes a mi Soy un interprete No se distinguir un enchufe de un terminal de computadora No nos interesa la hipervelocidad del Halcon Ya esta arreglado Tu solo abre la puerta cacharro estupido No he dudado de ti ni por un segundo Maravilloso Que dano Agachate desconsiderado Vamos Crei que esa bestia peluda acabaria conmigo Claro que he tenido mejor aspecto Estas derrotado Resistirse es inutil No te dejes destruir como lo hizo ObiWan No hay escapatoria No me obligues a destruirte Todavia no te has dado cuenta de tu importancia Solo has empezado a descubrir tu poder Unete a mi y yo completare tu entrenamiento Combinando nuestras fuerzas podemos poner fin a este conflicto destructivo y poner orden en la galaxia Jamas me unire a ti Si solo conocieras el poder del lado oscuro de la Fuerza ObiWan no te dijo lo que le paso a tu padre Me dijo lo suficiente Me dijo que tu lo mataste Yo soy tu padre Eso no es verdad Es imposible Examina tus sentimientos Sabes que es verdad Tu puedes destruir al Emperador El lo ha previsto Es tu destino Unete a mi y juntos gobernaremos la galaxia como padre e hijo Ven conmigo Es tu unica opcion Ben Ben por favor Escuchenme  Tenemos que volver  Que  Se donde esta Luke  Y que hacemos con esos cazas Chewie hazlo Esta bien esta bien Avise a mi destructor estelar para que se prepare para mi llegada Mira ahi arriba hay alguien Es Luke Chewie ve despacio Nos pondremos debajo de el Lando abre la escotilla superior Bien Despacio Chewie  Lando  Ya esta vamonos Bien Chewie Vamonos Volvere Un destructor estelar Bien Chewie Preparados para la velocidad luz Si tu gente arreglo la hipervelocidad Las coordenadas estan programadas Ahora o nunca Dale Me dijeron que lo habian arreglado Confie en ellos No es culpa mia Estaran a tiro de nuestro laser dentro de un momento milord Desactivaron sus hombres la hipervelocidad del Halcon Milenario  Si milord  Bien Prepare el abordaje y usen armas no letales  Si milord Teniente  Si senor Bestia ruidosa Por que no vamos a la velocidad luz No podemos Como sabes que la hipervelocidad esta desactivada Te lo dijo la computadora central de la ciudad No confies en lo que te dice una computadora extrana Ten cuidado con lo que haces Padre Hijo ven conmigo Ben Por que no me lo dijiste Es Vader Luke es tu destino Por que no me lo dijiste Alerten a todos los mandos Preparen el laser R vuelve aqui enseguida Todavia no has acabado conmigo Tu no sabes arreglar la hipervelocidad Chewbacca puede hacerlo Yo estoy aqui hecho pedazos y tu tienes delirios de grandeza Lo has conseguido  Luke estamos listos para despegar  Buena suerte Lando Cuando encontremos a Jabba el Hutt y a ese caza recompensas te avisaremos Nos veremos en el punto de reunion en Tatooine Princesa encontraremos a Han Lo prometo Chewie estare esperando tu senal Tengan cuidado los dos Que la Fuerza los acompane No entiendo Es solo un animal muerto Chewie Chewie espera no Bien hecho Excelente Chewie Bien siempre pensando con el estomago Pueden calmarse Veamos como salir de aqui  Han puedes alcanzar mi sable laser  Si seguro R no estoy seguro de que sea buena idea Hay demasiada altura Apunta esa cosa para otro lado Han no calma Chewie dame tu ballesta Mi cabeza Madre mia Entiendes algo de lo que dicen Si amo Luke recuerde que estoy familiarizado con mas de  millones de formas de comun  Que les estas diciendo  Hola creo Puedo equivocarme tienen un lenguaje muy primitivo Pero creo que piensan que soy alguna clase de Dios Y entonces por que no usas tu Influencia Divina y nos sacas de este lio Ya se me habia ocurrido Gral Solo pero no seria apropiado Apropiado Va en contra de mi programacion personificar divinidades Por que Fue un error Es un amigo mio Tengo un mal presentimiento respecto a todo esto Que es lo que dice No estoy muy seguro Gral Solo Pero al parecer Ud sera el plato principal de un banquete en mi honor Su Alteza Real Pero ellos son mis amigos PO diles que deben liberarlos Tengo la leve impresion de que no eso no nos ayudo mucho Diles que si no hacen lo les ordenas te enfureceras y usaras tu magia Pero amo Luke que magia No podria Solo diles Lo ve amo Luke no me creyeron justo como le dije Gracias PO Nunca supe que pudiera hacer eso Si R justo iba a contar esa parte  Que sucede  No lo se Maravilloso Desde ahora somos parte de la tribu Es lo que siempre quise Estoy seguro de que todo esto sera para bien Chewie Dice que nos mostraran el camino mas seguro al generador Bien Que tan lejos esta Preguntales Y ve si nos dan provisiones tambien Trata de recuperar nuestras armas Apurate No tengo todo el dia Luke que pasa Recuerdas a tu madre Tu madre biologica Solo un poco Murio cuando yo era una nina Que recuerdas Solo imagenes en realidad sentimientos Cuentame Era muy hermosa Atenta pero triste  Por que me preguntas todo esto  No tengo recuerdos de mi madre Nunca la conoci Luke dime que es lo que te atormenta Vader esta aqui ahora en esta luna  Como sabes  Siento su presencia Viene por mi puede sentir mi presencia Por eso es que debo irme Mientras me quede pongo en peligro al equipo y a la mision  Debo enfrentarlo  Por que Es mi padre  Tu padre  Y hay mas No sera facil para ti oir esto pero debo decirtelo Si no vuelvo tu eres la unica esperanza para la alianza Luke no digas eso Tu tienes un poder que yo ni siquiera entiendo que nunca podre tener Te equivocas Leia Tu tienes ese poder tambien A su tiempo aprenderas a usarlo La Fuerza es fuerte en mi familia Mi padre la tiene Yo la tengo Y Mi hermana la tiene Si eres tu Leia Lo se De alguna manera siempre lo supe Entonces sabes por que debo enfrentarlo No Luke escapate Vete lejos Si el puede sentir tu presencia entonces deja este lugar  Desearia poder ir contigo  No lo haras Siempre has sido fuerte Pero por que debes enfrentarlo Porque hay bien en el puedo sentirlo No me entregara al Emperador Puedo salvarlo Puedo hacerlo cambiar al lado bueno Debo intentarlo Que sucede Nada solo quiero estar sola un rato Nada Vamos dime que esta pasando No te puedo contar Pero a Luke si Es a el quien le diras Lo siento Abrazame Este es el rebelde que se entrego Aunque el lo niega creo que quizas haya mas Pido permiso para comenzar una busqueda en el area Estaba armado solo con esto Buen trabajo comandante Dejenos solos Empiece su busqueda y traigame los rebeldes a mi Si milord El emperador te ha estado esperando Lo se padre Entonces has aceptado la verdad He aceptado la verdad de que una vez fuiste Anakin Skywalker mi padre Ese nombre ya no tiene ningun significado para mi Es tu nombre verdadero ya lo has olvidado Se que hay bien en ti El emperador no te lo ha quitado completamente Por eso no pudiste destruirme Y por eso no me llevaras con el emperador ahora Veo que te has hecho un nuevo sable laser Tus habilidades son completas Realmente eres poderoso como el emperador lo habia previsto Ven conmigo ObiWan una vez penso como tu No conoces el poder del lado oscuro Debo obedecer a mi maestro No cambiare Antes debes matarme  Si ese es tu destino  Escucha tus sentimientos padre No puedes hacer esto Siento el conflicto y el odio dentro de ti Es muy tarde para mi hijo mio El emperador te mostrara la verdadera naturaleza de la Fuerza El es tu maestro ahora Entonces mi padre ha muerto verdaderamente La entrada principal a los controles esta tras esa plataforma  Esto no sera facil  No te preocupes Chewie y yo hemos entrado a muchos lugares bastante mas resguardados que este Que dice Dice que hay una entrada secreta por el otro lado Almirante estamos en posicion Todos los cazas estan listos Proceda con la cuenta regresiva Todos los grupos asuman posiciones de ataque No te preocupes mi amigo esta alla abajo El escudo caera a tiempo O si no este sera el ataque mas corto de todos los tiempos Preparense a entrar al hiperespacio a mi senal Muy bien Esa puerta Buena idea Solo hay unos pocos guardias no deberian hacernos problemas Solo hace falta uno para activar la alarma Por eso lo haremos en silencio Dios mio Princesa Leia Me temo que nuestro pequeno guia quiere hacer su propio ataque Ahi va nuestro ataque sorpresa Miren ahi Detengalo Nada mal para el peludito Solo queda uno Tu quedate aqui Nosotros nos haremos cargo He decidido que debemos quedarnos aqui Bienvenido joven Skywalker Te he estado esperando Ya no las necesitaras Guardias Dejenos Veo que completaras tu entrenamiento A su tiempo me llamaras Maestro Se equivoca completamente No me convertira como lo hizo con mi padre No mi joven Jedi Comprenderas que eres tu el que esta equivocado respecto a muchas cosas  Su sable laser  Si el arma de un Jedi Como lo fue tu padre Pero ahora debes saber que tu padre jamas podra dejar el lado oscuro E igualmente sera contigo Se equivoca Pronto estare muerto y usted conmigo Quizas te refieras al inminente ataque de tu flota rebelde Si te aseguro que estamos a salvo de tus amigos aqui Su exceso de confianza es su debilidad Tu fe en tus amigos es la tuya Es inutil resistirse hijo mio Todo sucede de acuerdo a mis deseos En estos momentos tus amigos que estan en la luna caen en una trampa Como tambien tu flota rebelde Fui yo quien permitio a la Alianza conocer la ubicacion del generador del escudo Es demasiado para tu pequena y patetica banda Una legion entera de mis mejores tropas los espera Me temo que el escudo deflector estara operacional cuando tus amigos lleguen Alto Arriba vamos Rapido rapido Han apurate La flota llegara en cualquier momento Pasenme las cargas Vamos vamos Dios Seran capturados Espera Vuelve R quedate conmigo Quietos Basura rebelde Lideres reporte Lider rojo listo Lider gris listo Lider verde listo Asuman posiciones de ataque Que las fuerza nos acompane Deberiamos obtener alguna lectura para ver si el escudo cayo Pero como pueden estar bloqueando los sensores si si no saben que venimos Aborten el ataque El escudo sigue arriba No obtengo ninguna lectura Esta seguro Todas las naves quiebren formacion Base Eco a naves Grupo verde mantenganse en el ataque Almirante nos esperan naves enemigas en el sector  Es una trampa Se aproximan cazas enemigos Hay demasiados de ellos Aceleren a velocidad de ataque Concentren el fuego en los cruceros Entendido Lider Oro Ven chico velo por ti mismo Desde aqui presenciaras la destruccion final de la Alianza y el fin de tu insignificante rebelion Quieres esto no El odio se acrecienta lo sabes Toma tu arma Jedi usala Estoy desarmado Atraviesame con ella Entregate a tu ira Con cada momento que pasa te vuelves mas mi sirviente  No  Es inevitable Es tu destino Tu tal como tu padre eres mio Ya muevanse Hola Ustedes por alla Me estan buscando a mi Traigan a esos dos aqui abajo Bueno vienen en camino No estoy muy seguro que sea una buena idea Quietos  No se muevan  Nos rendimos Ve la entrada Necesitamos a R Aqui esta la terminal R donde estas Te necesitamos en la entrada ven rapido Te vas Que quieres decir con que te vas Ir donde R Espera no es momento para ser el heroe Cuidado Wedge Tienes tres atras  Rojo  y Rojo  cubranme  Entendido  naves enemigas entrando a  grados Vira a la izquierda yo asumo el comando Choco con un crucero Solo los cazas atacan Me pregunto que esperan los cruceros  Estamos en posicion de ataque senor  Mantengala  No vamos a atacar  Tengo ordenes del emperador tiene un plan especial Solo evitaremos que escapen Como puedes ver mi joven aprendiz tus amigos han fracasado Ahora se testigo del poder de esta completamente operacional estacion belica Disparen a voluntad comandante Ese disparo vino de la Estrella de la Muerte Si esta operacional Nave  este es Lider oro La estacion es operacional Debemos retirarnos No tendra otra oportunidad como esta No tenemos opcion Gral Calrissian Nuestros cruceros no pueden responder a ese poder de fuego Tendremos el escudo abajo Tenemos que darles mas tiempo Llegamos Vamos Vamos R apurate Mi Dios Por que tuviste que ser tan valiente Bueno supongo que yo tendre que ocuparme de esto Te cubrire Dije mas cerca Mantengase lo mas cerca que puedan de los cruceros No podran evitar el fuego cruzado A esa distancia no duraremos mucho frente a los cruceros imperiales Pero mas que frente a la Estrella de la Muerte Ademas nos llevaremos algunos con nosotros Va a explotar Me dieron Tu flota esta perdida Y tus amigos en la luna de Endor no sobreviviran No hay salida mi joven aprendiz La alianza morira y tambien tus amigos Bien Puedo sentir tu ira Estoy indefenso Toma tu arma y atraviesame con toda tu ira y tu camino hacia el lado oscuro estara completo Creo que lo tengo Lo tengo Princesa Leia Se encuentra bien  Dejame ver  No es grave  Quietos  Dios mio No se muevan  Te amo  Lo se Manos arriba De pie Quedate atras Baja Esta herida No espera Tengo una idea Bien Usa tu agresividad hijo Deja que el odio fluya a traves de ti ObiWan te enseno bien No luchare contigo padre Eres desprevenido al bajar tus defensas Tus pensamientos te traicionan padre Siento el bien en ti  El conflicto  No hay conflicto alguno No fuiste capaz de matarme antes y no creo que seas capaz de hacerlo ahora Subestimas el poder del lado oscuro Si no luchas encontraras tu destino Bien bien Atento escuadron Entendido Lider oro Buen tiro Rojo  Van a ver un poco de lo nuestro ahora Vamos Han viejo amigo no me decepciones Se termino comandante Los rebeldes huyeron y se escondieron en el bosque Necesitamos refuerzos para continuar la persecucion Envie  escuadrones para ayudar  Abra la puerta trasera  Si senor Tirame otra carga No te puedes esconder para siempre Luke No luchare contigo Entregate al lado oscuro Es la unica forma en que puedes salvar a tus amigos Si tus pensamientos te traicionan Tus sentimientos hacia ellos son fuertes Especialmente hacia tu hermana Asi que tienes una hermana gemela Tus pensamientos ahora la traicionan a ella ObiWan fue sabio al ocultarla de mi Ahora su fracaso es total Si tu no te entregas al lado oscuro quizas ella lo haga Bien Tu odio te ha hecho poderoso Ahora enfrenta tu destino y toma el lugar de tu padre a mi lado Nunca Nunca me entregare al lado oscuro Ha fracasado su alteza Soy un Jedi como lo fue mi padre Se un Jedi Muevanse Muevanse El escudo cayo Empiecen el ataque a la Estrella de la Muerte Estamos en camino Grupo Rojo y grupo Oro todos los cazas siganme Te dije que lo harian Si no te conviertes al lado oscuro seras destruido Nino tonto Solo ahora al final entenderas Tus pateticas habilidades no se comparan con el poder del lado oscuro Pagaras el precio por tu estrechez de mente Padre Por favor Ahora joven Skywalker moriras Voy a entrar No durara mucho Sigan la fuente mas fuerte de energia esa deberia ser el generador Aqui Formman Mantenganse alertas volaremos muy rapido Vuelve a la superficie Ve si puedes llevarte contigo algunos cazas Entendido Lider oro Eso estuvo demasiado cerca Debemos proteger a los cazas Concentren el fuego en los Cruceros Imperiales Senor Hemos perdido el escudo deflector Intensifique el fuego No quiero que nada lo atraviese Intensifique el fuego Demasiado tarde Ayudame a quitarme esta mascara Pero moririas Nada puede evitar eso ahora Solo por una vez dejame verte con mis propios ojos Ahora vete hijo mio Dejame No vendras conmigo No te dejare aqui debo salvarte Ya lo has hecho Luke Tenias razon tenias razon Dile a tu hermana que tenias razon Padre No te dejare Ahi esta Bien Wedge ve por el regulador de poder en la torre norte Entendido Lider Estoy en camino Lleven la flota lejos de la Estrella de la Muerte Lo lograron Estoy seguro de que Luke no estaba en esa cosa al momento de la explosion No No estaba puedo sentirlo Lo amas Lo amas no  Si  Esta bien entiendo Bien Cuando vuelva no interferire entre Uds No se trata de eso Es mi hermano'"
            ],
            "application/vnd.google.colaboratory.intrinsic+json": {
              "type": "string"
            }
          },
          "metadata": {},
          "execution_count": 62
        }
      ],
      "source": [
        "# Concatenamos todos los rows en un solo valor\n",
        "corpus = df.apply(lambda row: ' '.join(row.values.astype(str)), axis=0)[0]\n",
        "corpus"
      ]
    },
    {
      "cell_type": "code",
      "execution_count": null,
      "metadata": {
        "id": "_KlsYd7_uOez",
        "outputId": "780a86fe-480c-4f15-c58d-a3a01819e248",
        "colab": {
          "base_uri": "https://localhost:8080/"
        }
      },
      "outputs": [
        {
          "output_type": "execute_result",
          "data": {
            "text/plain": [
              "['hace',\n",
              " 'mucho',\n",
              " 'tiempo',\n",
              " 'en',\n",
              " 'una',\n",
              " 'galaxia',\n",
              " 'muy',\n",
              " 'muy',\n",
              " 'lejana',\n",
              " 'episodio',\n",
              " 'vii',\n",
              " 'el',\n",
              " 'despertar',\n",
              " 'de',\n",
              " 'la',\n",
              " 'fuerza',\n",
              " 'luke',\n",
              " 'skywalker',\n",
              " 'ha',\n",
              " 'desaparecido']"
            ]
          },
          "metadata": {},
          "execution_count": 63
        }
      ],
      "source": [
        "# Transformar el corpus a tokens\n",
        "tokens=text_to_word_sequence(corpus)\n",
        "# Vistazo general de los primeros tokens\n",
        "tokens[:20]"
      ]
    },
    {
      "cell_type": "code",
      "execution_count": null,
      "metadata": {
        "id": "GlqpZSJOJ1xQ",
        "outputId": "f5efd5ce-803a-489e-e2fe-eac45e987c9e",
        "colab": {
          "base_uri": "https://localhost:8080/"
        }
      },
      "outputs": [
        {
          "output_type": "stream",
          "name": "stdout",
          "text": [
            "Cantidad de tokens en el corpus: 62219\n"
          ]
        }
      ],
      "source": [
        "print(\"Cantidad de tokens en el corpus:\", len(tokens))"
      ]
    },
    {
      "cell_type": "code",
      "execution_count": null,
      "metadata": {
        "id": "RhQevOynuYk2"
      },
      "outputs": [],
      "source": [
        "# Código para hacer el desfasaje de las palabras\n",
        "# según el train_len\n",
        "text_sequences = []\n",
        "for i in range(train_len, len(tokens)):\n",
        "  seq = tokens[i-train_len:i]\n",
        "  text_sequences.append(seq)"
      ]
    },
    {
      "cell_type": "code",
      "execution_count": null,
      "metadata": {
        "id": "FU3FuqHSuhzq",
        "outputId": "4a839ea2-e83c-47c7-e4ac-c34988f15d98",
        "colab": {
          "base_uri": "https://localhost:8080/"
        }
      },
      "outputs": [
        {
          "output_type": "execute_result",
          "data": {
            "text/plain": [
              "[['hace', 'mucho', 'tiempo', 'en'],\n",
              " ['mucho', 'tiempo', 'en', 'una'],\n",
              " ['tiempo', 'en', 'una', 'galaxia'],\n",
              " ['en', 'una', 'galaxia', 'muy'],\n",
              " ['una', 'galaxia', 'muy', 'muy'],\n",
              " ['galaxia', 'muy', 'muy', 'lejana'],\n",
              " ['muy', 'muy', 'lejana', 'episodio'],\n",
              " ['muy', 'lejana', 'episodio', 'vii'],\n",
              " ['lejana', 'episodio', 'vii', 'el'],\n",
              " ['episodio', 'vii', 'el', 'despertar'],\n",
              " ['vii', 'el', 'despertar', 'de'],\n",
              " ['el', 'despertar', 'de', 'la'],\n",
              " ['despertar', 'de', 'la', 'fuerza'],\n",
              " ['de', 'la', 'fuerza', 'luke'],\n",
              " ['la', 'fuerza', 'luke', 'skywalker'],\n",
              " ['fuerza', 'luke', 'skywalker', 'ha'],\n",
              " ['luke', 'skywalker', 'ha', 'desaparecido'],\n",
              " ['skywalker', 'ha', 'desaparecido', 'en'],\n",
              " ['ha', 'desaparecido', 'en', 'su'],\n",
              " ['desaparecido', 'en', 'su', 'ausencia']]"
            ]
          },
          "metadata": {},
          "execution_count": 66
        }
      ],
      "source": [
        "# Demos un vistazo a nuestros vectores para entrenar el modelo\n",
        "text_sequences[:20]"
      ]
    },
    {
      "cell_type": "code",
      "execution_count": null,
      "metadata": {
        "id": "064N2jtLvHRg",
        "outputId": "a73d9ace-fbe1-4c89-af56-966b5c5bc6bc",
        "colab": {
          "base_uri": "https://localhost:8080/"
        }
      },
      "outputs": [
        {
          "output_type": "execute_result",
          "data": {
            "text/plain": [
              "[[141, 54, 69, 7],\n",
              " [54, 69, 7, 20],\n",
              " [69, 7, 20, 142],\n",
              " [7, 20, 142, 44],\n",
              " [20, 142, 44, 44],\n",
              " [142, 44, 44, 746],\n",
              " [44, 44, 746, 747],\n",
              " [44, 746, 747, 3621],\n",
              " [746, 747, 3621, 6],\n",
              " [747, 3621, 6, 2376],\n",
              " [3621, 6, 2376, 2],\n",
              " [6, 2376, 2, 4],\n",
              " [2376, 2, 4, 52],\n",
              " [2, 4, 52, 55],\n",
              " [4, 52, 55, 80],\n",
              " [52, 55, 80, 37],\n",
              " [55, 80, 37, 831],\n",
              " [80, 37, 831, 7],\n",
              " [37, 831, 7, 23],\n",
              " [831, 7, 23, 3622]]"
            ]
          },
          "metadata": {},
          "execution_count": 67
        }
      ],
      "source": [
        "# Proceso de tokenización\n",
        "tok = Tokenizer()\n",
        "tok.fit_on_texts(text_sequences)\n",
        "\n",
        "# Convertimos las palabras a números\n",
        "# entran palabras -> salen números\n",
        "sequences = tok.texts_to_sequences(text_sequences)\n",
        "\n",
        "# Damos un vistazo\n",
        "sequences[:20]"
      ]
    },
    {
      "cell_type": "code",
      "execution_count": null,
      "metadata": {
        "id": "vwsvmvDKKXSP",
        "outputId": "3caf8eea-76c7-41e2-a10b-a34e049c24b2",
        "colab": {
          "base_uri": "https://localhost:8080/"
        }
      },
      "outputs": [
        {
          "output_type": "stream",
          "name": "stdout",
          "text": [
            "Cantidad de rows del dataset: 62215\n"
          ]
        }
      ],
      "source": [
        "print(\"Cantidad de rows del dataset:\", len(sequences))"
      ]
    },
    {
      "cell_type": "markdown",
      "metadata": {
        "id": "QMVP4bj0vL2e"
      },
      "source": [
        "### 3 - Input y target"
      ]
    },
    {
      "cell_type": "code",
      "execution_count": null,
      "metadata": {
        "id": "mx2xwdz3KloJ",
        "outputId": "6006f765-8a29-412f-f57d-3bc711dd9d6d",
        "colab": {
          "base_uri": "https://localhost:8080/"
        }
      },
      "outputs": [
        {
          "output_type": "execute_result",
          "data": {
            "text/plain": [
              "array([[1, 2, 3, 4],\n",
              "       [5, 6, 7, 8]])"
            ]
          },
          "metadata": {},
          "execution_count": 69
        }
      ],
      "source": [
        "# Con numpy es muy fácil realizar el slicing de vectores\n",
        "ex = np.array([[1,2,3,4],[5,6,7,8]])\n",
        "ex"
      ]
    },
    {
      "cell_type": "code",
      "execution_count": null,
      "metadata": {
        "id": "BEod7qghvTVt",
        "outputId": "d7f6ddc5-1a86-4ece-b6d7-367de4da3219",
        "colab": {
          "base_uri": "https://localhost:8080/"
        }
      },
      "outputs": [
        {
          "output_type": "stream",
          "name": "stdout",
          "text": [
            "Dimension: (2, 4)\n",
            "Todos los elementos: [[1 2 3 4]\n",
            " [5 6 7 8]]\n",
            "Todos los elementos menos el último: [[1 2 3]\n",
            " [5 6 7]]\n"
          ]
        }
      ],
      "source": [
        "# Con numpy es muy fácil realizar el slicing de vectores\n",
        "print(\"Dimension:\", ex.shape)\n",
        "print(\"Todos los elementos:\", ex)\n",
        "print(\"Todos los elementos menos el último:\", ex[:, :-1])"
      ]
    },
    {
      "cell_type": "code",
      "execution_count": null,
      "metadata": {
        "id": "i95xWqtCvp8T",
        "outputId": "a0f6006b-301b-462f-af18-b297f8d63dbc",
        "colab": {
          "base_uri": "https://localhost:8080/"
        }
      },
      "outputs": [
        {
          "output_type": "stream",
          "name": "stdout",
          "text": [
            "Input: [[1 2 3]\n",
            " [5 6 7]]\n",
            "Target: [4 8]\n"
          ]
        }
      ],
      "source": [
        "input = ex[:,:-1] # todos los rows, menos la ultima col\n",
        "target = ex[:, -1] # última col de cada row\n",
        "\n",
        "print(\"Input:\", input)\n",
        "print(\"Target:\", target)"
      ]
    },
    {
      "cell_type": "code",
      "execution_count": null,
      "metadata": {
        "id": "e1vJTG65v4Qn",
        "outputId": "99f97469-88d7-4baa-d83d-27f4e5cc5b4c",
        "colab": {
          "base_uri": "https://localhost:8080/"
        }
      },
      "outputs": [
        {
          "output_type": "stream",
          "name": "stdout",
          "text": [
            "(62215, 3)\n",
            "(62215,)\n"
          ]
        }
      ],
      "source": [
        "arr_sequences = np.array(sequences)\n",
        "x_data = arr_sequences[:,:-1]\n",
        "y_data_int = arr_sequences[:,-1] # aún falta el oneHotEncoder\n",
        "\n",
        "print(x_data.shape)\n",
        "print(y_data_int.shape)"
      ]
    },
    {
      "cell_type": "code",
      "execution_count": null,
      "metadata": {
        "id": "ln6kVWVlwBBs",
        "outputId": "ad5cc6d8-a2ab-408c-c408-23ff7b11bb27",
        "colab": {
          "base_uri": "https://localhost:8080/"
        }
      },
      "outputs": [
        {
          "output_type": "execute_result",
          "data": {
            "text/plain": [
              "{1: 'que',\n",
              " 2: 'de',\n",
              " 3: 'no',\n",
              " 4: 'la',\n",
              " 5: 'a',\n",
              " 6: 'el',\n",
              " 7: 'en',\n",
              " 8: 'lo',\n",
              " 9: 'es',\n",
              " 10: 'un',\n",
              " 11: 'y',\n",
              " 12: 'los',\n",
              " 13: 'esta',\n",
              " 14: 'si',\n",
              " 15: 'se',\n",
              " 16: 'por',\n",
              " 17: 'me',\n",
              " 18: 'te',\n",
              " 19: 'tu',\n",
              " 20: 'una',\n",
              " 21: 'mi',\n",
              " 22: 'para',\n",
              " 23: 'su',\n",
              " 24: 'con',\n",
              " 25: 'al',\n",
              " 26: 'bien',\n",
              " 27: 'pero',\n",
              " 28: 'aqui',\n",
              " 29: 'mas',\n",
              " 30: 'yo',\n",
              " 31: 'como',\n",
              " 32: 'eso',\n",
              " 33: 'nos',\n",
              " 34: 'jedi',\n",
              " 35: 'las',\n",
              " 36: 'del',\n",
              " 37: 'ha',\n",
              " 38: 'solo',\n",
              " 39: 'hay',\n",
              " 40: 'vamos',\n",
              " 41: 'este',\n",
              " 42: 'nave',\n",
              " 43: 'ya',\n",
              " 44: 'muy',\n",
              " 45: 'esto',\n",
              " 46: 'estoy',\n",
              " 47: 'maestro',\n",
              " 48: 'ahora',\n",
              " 49: 'le',\n",
              " 50: 'todo',\n",
              " 51: 'puedo',\n",
              " 52: 'fuerza',\n",
              " 53: 'senor',\n",
              " 54: 'mucho',\n",
              " 55: 'luke',\n",
              " 56: 'donde',\n",
              " 57: 'han',\n",
              " 58: 'estas',\n",
              " 59: 'r',\n",
              " 60: 'estan',\n",
              " 61: 'tengo',\n",
              " 62: 'ahi',\n",
              " 63: 'nada',\n",
              " 64: 'tenemos',\n",
              " 65: 'fue',\n",
              " 66: 'son',\n",
              " 67: 'algo',\n",
              " 68: 'eres',\n",
              " 69: 'tiempo',\n",
              " 70: 'sus',\n",
              " 71: 'esa',\n",
              " 72: 'tienes',\n",
              " 73: 'hacer',\n",
              " 74: 'todos',\n",
              " 75: 'rey',\n",
              " 76: 'general',\n",
              " 77: 'ti',\n",
              " 78: 'anakin',\n",
              " 79: 'ese',\n",
              " 80: 'skywalker',\n",
              " 81: 'he',\n",
              " 82: 'chewie',\n",
              " 83: 'ella',\n",
              " 84: 'tiene',\n",
              " 85: 'vez',\n",
              " 86: 'ser',\n",
              " 87: 'puede',\n",
              " 88: 'soy',\n",
              " 89: 'estamos',\n",
              " 90: 'creo',\n",
              " 91: 'quien',\n",
              " 92: 'asi',\n",
              " 93: 'cuando',\n",
              " 94: 'nunca',\n",
              " 95: 'lado',\n",
              " 96: 'orden',\n",
              " 97: 'obiwan',\n",
              " 98: 'canciller',\n",
              " 99: 'sin',\n",
              " 100: 'tan',\n",
              " 101: 'poder',\n",
              " 102: 'gracias',\n",
              " 103: 'podemos',\n",
              " 104: 'tus',\n",
              " 105: 'finn',\n",
              " 106: 'demasiado',\n",
              " 107: 'puedes',\n",
              " 108: 'amigo',\n",
              " 109: 'has',\n",
              " 110: 'padre',\n",
              " 111: 'sabes',\n",
              " 112: 'va',\n",
              " 113: 'voy',\n",
              " 114: 'oscuro',\n",
              " 115: 'vader',\n",
              " 116: 'republica',\n",
              " 117: 'ver',\n",
              " 118: 'siempre',\n",
              " 119: 'nosotros',\n",
              " 120: 'nuestro',\n",
              " 121: 'debemos',\n",
              " 122: 'quiero',\n",
              " 123: 'primera',\n",
              " 124: 'leia',\n",
              " 125: 'siento',\n",
              " 126: 'era',\n",
              " 127: 'senado',\n",
              " 128: 'antes',\n",
              " 129: 'bueno',\n",
              " 130: 'ellos',\n",
              " 131: 'resistencia',\n",
              " 132: 'tambien',\n",
              " 133: 'sistema',\n",
              " 134: 'mis',\n",
              " 135: 'flota',\n",
              " 136: 'entonces',\n",
              " 137: 'verdad',\n",
              " 138: 'o',\n",
              " 139: 'cuidado',\n",
              " 140: 'espera',\n",
              " 141: 'hace',\n",
              " 142: 'galaxia',\n",
              " 143: 'hasta',\n",
              " 144: 'debe',\n",
              " 145: 'cosas',\n",
              " 146: 'seguro',\n",
              " 147: 'nuestra',\n",
              " 148: 'sera',\n",
              " 149: 'mejor',\n",
              " 150: 'dos',\n",
              " 151: 'ni',\n",
              " 152: 'sith',\n",
              " 153: 'vida',\n",
              " 154: 'ud',\n",
              " 155: 'uno',\n",
              " 156: 'parece',\n",
              " 157: 'droide',\n",
              " 158: 'veo',\n",
              " 159: 'sea',\n",
              " 160: 'necesito',\n",
              " 161: 'desde',\n",
              " 162: 'ataque',\n",
              " 163: 'hecho',\n",
              " 164: 'lider',\n",
              " 165: 'base',\n",
              " 166: 'lugar',\n",
              " 167: 'ir',\n",
              " 168: 'sido',\n",
              " 169: 'pasa',\n",
              " 170: 'poe',\n",
              " 171: 'estar',\n",
              " 172: 'mal',\n",
              " 173: 'momento',\n",
              " 174: 'consejo',\n",
              " 175: 'ayuda',\n",
              " 176: 'planeta',\n",
              " 177: 'podria',\n",
              " 178: 'lord',\n",
              " 179: 'esos',\n",
              " 180: 'favor',\n",
              " 181: 'amo',\n",
              " 182: 'alguien',\n",
              " 183: 'otra',\n",
              " 184: 'aun',\n",
              " 185: 'capitan',\n",
              " 186: 'vas',\n",
              " 187: 'kenobi',\n",
              " 188: 'gran',\n",
              " 189: 'naves',\n",
              " 190: 'luz',\n",
              " 191: 'vi',\n",
              " 192: 'ani',\n",
              " 193: 'hemos',\n",
              " 194: 'emperador',\n",
              " 195: 'sobre',\n",
              " 196: 'mismo',\n",
              " 197: 'oye',\n",
              " 198: 'toda',\n",
              " 199: 'estaba',\n",
              " 200: 'todas',\n",
              " 201: 'conmigo',\n",
              " 202: 'nadie',\n",
              " 203: 'otro',\n",
              " 204: 'rojo',\n",
              " 205: 'muerte',\n",
              " 206: 'droides',\n",
              " 207: 'acuerdo',\n",
              " 208: 'hacia',\n",
              " 209: 'guerra',\n",
              " 210: 'quiza',\n",
              " 211: 'debo',\n",
              " 212: 'claro',\n",
              " 213: 'fuego',\n",
              " 214: 'les',\n",
              " 215: 'contra',\n",
              " 216: 'pueden',\n",
              " 217: 'yoda',\n",
              " 218: 'ejercito',\n",
              " 219: 'imperio',\n",
              " 220: 'haber',\n",
              " 221: 'bb',\n",
              " 222: 'rapido',\n",
              " 223: 'dijo',\n",
              " 224: 'velocidad',\n",
              " 225: 'aprendiz',\n",
              " 226: 'usted',\n",
              " 227: 'nuevo',\n",
              " 228: 'ben',\n",
              " 229: 'poco',\n",
              " 230: 'jar',\n",
              " 231: 'viejo',\n",
              " 232: 'buen',\n",
              " 233: 'dice',\n",
              " 234: 'fuera',\n",
              " 235: 'ven',\n",
              " 236: 'hijo',\n",
              " 237: 'fin',\n",
              " 238: 'mira',\n",
              " 239: 'escudos',\n",
              " 240: 'tienen',\n",
              " 241: 'arma',\n",
              " 242: 'amigos',\n",
              " 243: 'debes',\n",
              " 244: 'energia',\n",
              " 245: 'quieres',\n",
              " 246: 'miedo',\n",
              " 247: 'fuerte',\n",
              " 248: 'palpatine',\n",
              " 249: 'joven',\n",
              " 250: 'suerte',\n",
              " 251: 'hola',\n",
              " 252: 'camino',\n",
              " 253: 'cazas',\n",
              " 254: 'alteza',\n",
              " 255: 'listo',\n",
              " 256: 'todavia',\n",
              " 257: 'nuestros',\n",
              " 258: 'tener',\n",
              " 259: 'hacerlo',\n",
              " 260: 'salvo',\n",
              " 261: 'halcon',\n",
              " 262: 'estacion',\n",
              " 263: 'mision',\n",
              " 264: 'contigo',\n",
              " 265: 'razon',\n",
              " 266: 'necesitamos',\n",
              " 267: 'paso',\n",
              " 268: 'misa',\n",
              " 269: 'dia',\n",
              " 270: 'parte',\n",
              " 271: 'crees',\n",
              " 272: 'gente',\n",
              " 273: 'reina',\n",
              " 274: 'federacion',\n",
              " 275: 'naboo',\n",
              " 276: 'idea',\n",
              " 277: 'volver',\n",
              " 278: 'supremo',\n",
              " 279: 'casa',\n",
              " 280: 'dije',\n",
              " 281: 'queda',\n",
              " 282: 'chico',\n",
              " 283: 'armas',\n",
              " 284: 'comandante',\n",
              " 285: 'estos',\n",
              " 286: 'entendido',\n",
              " 287: 'somos',\n",
              " 288: 'van',\n",
              " 289: 'escudo',\n",
              " 290: 'estara',\n",
              " 291: 'esperanza',\n",
              " 292: 'milord',\n",
              " 293: 'senal',\n",
              " 294: 'jabba',\n",
              " 295: 'piloto',\n",
              " 296: 'tenia',\n",
              " 297: 'caza',\n",
              " 298: 'haciendo',\n",
              " 299: 'trabajo',\n",
              " 300: 'casi',\n",
              " 301: 'buena',\n",
              " 302: 'nuestras',\n",
              " 303: 'alla',\n",
              " 304: 'dooku',\n",
              " 305: 'campo',\n",
              " 306: 'haya',\n",
              " 307: 'cerca',\n",
              " 308: 'muerto',\n",
              " 309: 'habia',\n",
              " 310: 'unica',\n",
              " 311: 'menos',\n",
              " 312: 'poderoso',\n",
              " 313: 'mensaje',\n",
              " 314: 'princesa',\n",
              " 315: 'ultimo',\n",
              " 316: 'ren',\n",
              " 317: 'hablar',\n",
              " 318: 'pronto',\n",
              " 319: 'cualquier',\n",
              " 320: 'cosa',\n",
              " 321: 'gusta',\n",
              " 322: 'esas',\n",
              " 323: 'tropas',\n",
              " 324: 'mama',\n",
              " 325: 'senadora',\n",
              " 326: 'quiere',\n",
              " 327: 'quedate',\n",
              " 328: 'haces',\n",
              " 329: 'alguna',\n",
              " 330: 'anos',\n",
              " 331: 'cuanto',\n",
              " 332: 'padme',\n",
              " 333: 'ultima',\n",
              " 334: 'tal',\n",
              " 335: 'rebelde',\n",
              " 336: 'lando',\n",
              " 337: 'lejos',\n",
              " 338: 'posible',\n",
              " 339: 'cada',\n",
              " 340: 'porque',\n",
              " 341: 'viene',\n",
              " 342: 'puerta',\n",
              " 343: 'potencia',\n",
              " 344: 'sistemas',\n",
              " 345: 'seria',\n",
              " 346: 'estrella',\n",
              " 347: 'dentro',\n",
              " 348: 'imposible',\n",
              " 349: 'destino',\n",
              " 350: 'salir',\n",
              " 351: 'cual',\n",
              " 352: 'hombre',\n",
              " 353: 'adonde',\n",
              " 354: 've',\n",
              " 355: 'entrenamiento',\n",
              " 356: 'ninguna',\n",
              " 357: 'mientras',\n",
              " 358: 'madre',\n",
              " 359: 'alderaan',\n",
              " 360: 'peligroso',\n",
              " 361: 'ustedes',\n",
              " 362: 'po',\n",
              " 363: 'alli',\n",
              " 364: 'dificil',\n",
              " 365: 'ves',\n",
              " 366: 'snoke',\n",
              " 367: 'detras',\n",
              " 368: 'luego',\n",
              " 369: 'tanto',\n",
              " 370: 'entrar',\n",
              " 371: 'saber',\n",
              " 372: 'visto',\n",
              " 373: 'pueda',\n",
              " 374: 'temo',\n",
              " 375: 'llegar',\n",
              " 376: 'darth',\n",
              " 377: 'grande',\n",
              " 378: 'ten',\n",
              " 379: 'alto',\n",
              " 380: 'almirante',\n",
              " 381: 'punto',\n",
              " 382: 'virrey',\n",
              " 383: 'exegol',\n",
              " 384: 'paz',\n",
              " 385: 'decir',\n",
              " 386: 'sigue',\n",
              " 387: 'aca',\n",
              " 388: 'facil',\n",
              " 389: 'espero',\n",
              " 390: 'problema',\n",
              " 391: 'veces',\n",
              " 392: 'nino',\n",
              " 393: 'sabia',\n",
              " 394: 'control',\n",
              " 395: 'plan',\n",
              " 396: 'mio',\n",
              " 397: 'hare',\n",
              " 398: 'principal',\n",
              " 399: 'grievous',\n",
              " 400: 'androide',\n",
              " 401: 'rebeldes',\n",
              " 402: 'esperando',\n",
              " 403: 'algun',\n",
              " 404: 'entre',\n",
              " 405: 'destruir',\n",
              " 406: 'atras',\n",
              " 407: 'rebelion',\n",
              " 408: 'deben',\n",
              " 409: 'manos',\n",
              " 410: 'hagas',\n",
              " 411: 'cielos',\n",
              " 412: 'transporte',\n",
              " 413: 'unos',\n",
              " 414: 'peligro',\n",
              " 415: 'androides',\n",
              " 416: 'mapa',\n",
              " 417: 'hiciste',\n",
              " 418: 'arriba',\n",
              " 419: 'lleva',\n",
              " 420: 'problemas',\n",
              " 421: 'ningun',\n",
              " 422: 'bajo',\n",
              " 423: 'hizo',\n",
              " 424: 'deberia',\n",
              " 425: 'muevanse',\n",
              " 426: 'deja',\n",
              " 427: 'ayudar',\n",
              " 428: 'transportes',\n",
              " 429: 'pasado',\n",
              " 430: 'encontrar',\n",
              " 431: 'clones',\n",
              " 432: 'paciencia',\n",
              " 433: 'nosa',\n",
              " 434: 'juntos',\n",
              " 435: 'conde',\n",
              " 436: 'ira',\n",
              " 437: 'crucero',\n",
              " 438: 'llamado',\n",
              " 439: 'jakku',\n",
              " 440: 'permiso',\n",
              " 441: 'unidad',\n",
              " 442: 'escapar',\n",
              " 443: 'ordenes',\n",
              " 444: 'queria',\n",
              " 445: 'irnos',\n",
              " 446: 'bastante',\n",
              " 447: 'trato',\n",
              " 448: 'dile',\n",
              " 449: 'tres',\n",
              " 450: 'nueva',\n",
              " 451: 'perdido',\n",
              " 452: 'suficiente',\n",
              " 453: 'iba',\n",
              " 454: 'vivo',\n",
              " 455: 'cpo',\n",
              " 456: 'final',\n",
              " 457: 'cree',\n",
              " 458: 'cuenta',\n",
              " 459: 'mando',\n",
              " 460: 'despues',\n",
              " 461: 'ire',\n",
              " 462: 'hora',\n",
              " 463: 'morir',\n",
              " 464: 'situacion',\n",
              " 465: 'entiendo',\n",
              " 466: 'jamas',\n",
              " 467: 'justo',\n",
              " 468: 'recompensas',\n",
              " 469: 'chica',\n",
              " 470: 'canones',\n",
              " 471: 'primer',\n",
              " 472: 'mia',\n",
              " 473: 'chicos',\n",
              " 474: 'buscando',\n",
              " 475: 'llegue',\n",
              " 476: 'vaya',\n",
              " 477: 'odio',\n",
              " 478: 'habra',\n",
              " 479: 'ojos',\n",
              " 480: 'futuro',\n",
              " 481: 'salvar',\n",
              " 482: 'laser',\n",
              " 483: 'tonto',\n",
              " 484: 'objetivo',\n",
              " 485: 'listos',\n",
              " 486: 'tarde',\n",
              " 487: 'acompane',\n",
              " 488: 'ciudad',\n",
              " 489: 'comercio',\n",
              " 490: 'vosa',\n",
              " 491: 'presencia',\n",
              " 492: 'muchacho',\n",
              " 493: 'vuelta',\n",
              " 494: 'torre',\n",
              " 495: 'fueron',\n",
              " 496: 'vienen',\n",
              " 497: 'jefe',\n",
              " 498: 'imperial',\n",
              " 499: 'destructor',\n",
              " 500: 'hallar',\n",
              " 501: 'bordo',\n",
              " 502: 'hoy',\n",
              " 503: 'usa',\n",
              " 504: 'tiro',\n",
              " 505: 'gusto',\n",
              " 506: 'canon',\n",
              " 507: 'adelante',\n",
              " 508: 'hacemos',\n",
              " 509: 'muchos',\n",
              " 510: 'forma',\n",
              " 511: 'batalla',\n",
              " 512: 'conozco',\n",
              " 513: 'encuentra',\n",
              " 514: 'posicion',\n",
              " 515: 'esperen',\n",
              " 516: 'fui',\n",
              " 517: 'cierto',\n",
              " 518: 'sabe',\n",
              " 519: 'atencion',\n",
              " 520: 'vuelto',\n",
              " 521: 'dado',\n",
              " 522: 'prometo',\n",
              " 523: 'senador',\n",
              " 524: 'encontrado',\n",
              " 525: 'amidala',\n",
              " 526: 'durante',\n",
              " 527: 'sentimientos',\n",
              " 528: 'rose',\n",
              " 529: 'venido',\n",
              " 530: 'enseguida',\n",
              " 531: 'realidad',\n",
              " 532: 'tendremos',\n",
              " 533: 'volar',\n",
              " 534: 'unico',\n",
              " 535: 'quizas',\n",
              " 536: 'creia',\n",
              " 537: 'queremos',\n",
              " 538: 'dices',\n",
              " 539: 'dinero',\n",
              " 540: 'hice',\n",
              " 541: 'verte',\n",
              " 542: 'combustible',\n",
              " 543: 'iremos',\n",
              " 544: 'tipo',\n",
              " 545: 'lucha',\n",
              " 546: 'matar',\n",
              " 547: 'informacion',\n",
              " 548: 'pensar',\n",
              " 549: 'minutos',\n",
              " 550: 'basura',\n",
              " 551: 'debil',\n",
              " 552: 'quigon',\n",
              " 553: 'coruscant',\n",
              " 554: 'codigo',\n",
              " 555: 'estado',\n",
              " 556: 'trampa',\n",
              " 557: 'dicho',\n",
              " 558: 'pequeno',\n",
              " 559: 'da',\n",
              " 560: 'pues',\n",
              " 561: 'hermana',\n",
              " 562: 'planos',\n",
              " 563: 'luna',\n",
              " 564: 'oro',\n",
              " 565: 'estelar',\n",
              " 566: 'peor',\n",
              " 567: 'escucha',\n",
              " 568: 'tranquilo',\n",
              " 569: 'nombre',\n",
              " 570: 'importante',\n",
              " 571: 'prisa',\n",
              " 572: 'error',\n",
              " 573: 'digas',\n",
              " 574: 'abajo',\n",
              " 575: 'encima',\n",
              " 576: 'sentido',\n",
              " 577: 'templo',\n",
              " 578: 'aprender',\n",
              " 579: 'muchas',\n",
              " 580: 'ganar',\n",
              " 581: 'sable',\n",
              " 582: 'dios',\n",
              " 583: 'misma',\n",
              " 584: 'necesita',\n",
              " 585: 'lamento',\n",
              " 586: 'cabeza',\n",
              " 587: 'dejar',\n",
              " 588: 'poderes',\n",
              " 589: 'aterrizaje',\n",
              " 590: 'seguir',\n",
              " 591: 'existe',\n",
              " 592: 'tratado',\n",
              " 593: 'aunque',\n",
              " 594: 'entrada',\n",
              " 595: 'pequena',\n",
              " 596: 'carrera',\n",
              " 597: 'miladi',\n",
              " 598: 'acerca',\n",
              " 599: 'esten',\n",
              " 600: 'artoo',\n",
              " 601: 'vete',\n",
              " 602: 'sigan',\n",
              " 603: 'kylo',\n",
              " 604: 'puesto',\n",
              " 605: 'manana',\n",
              " 606: 'dejame',\n",
              " 607: 'centro',\n",
              " 608: 'viste',\n",
              " 609: 'importa',\n",
              " 610: 'hombres',\n",
              " 611: 'tuve',\n",
              " 612: 'algunos',\n",
              " 613: 'mano',\n",
              " 614: 'estuvo',\n",
              " 615: 'llevar',\n",
              " 616: 'ayudame',\n",
              " 617: 'falta',\n",
              " 618: 'dijiste',\n",
              " 619: 'hangar',\n",
              " 620: 'caballeros',\n",
              " 621: 'mil',\n",
              " 622: 'exterior',\n",
              " 623: 'disculpe',\n",
              " 624: 'rd',\n",
              " 625: 'mayor',\n",
              " 626: 'preocupes',\n",
              " 627: 'perder',\n",
              " 628: 'demas',\n",
              " 629: 'dime',\n",
              " 630: 'persona',\n",
              " 631: 'vista',\n",
              " 632: 'mente',\n",
              " 633: 'vamonos',\n",
              " 634: 'contacto',\n",
              " 635: 'siquiera',\n",
              " 636: 'seguridad',\n",
              " 637: 'escape',\n",
              " 638: 'combate',\n",
              " 639: 'culpa',\n",
              " 640: 'imperiales',\n",
              " 641: 'generador',\n",
              " 642: 'negociaciones',\n",
              " 643: 'memoria',\n",
              " 644: 'orientador',\n",
              " 645: 'valiente',\n",
              " 646: 'envie',\n",
              " 647: 'necesitas',\n",
              " 648: 'dejare',\n",
              " 649: 'carga',\n",
              " 650: 'ambos',\n",
              " 651: 'toma',\n",
              " 652: 'completo',\n",
              " 653: 'blanco',\n",
              " 654: 'sola',\n",
              " 655: 'formas',\n",
              " 656: 'ante',\n",
              " 657: 'conoce',\n",
              " 658: 'navegacion',\n",
              " 659: 'isla',\n",
              " 660: 'seras',\n",
              " 661: 'andando',\n",
              " 662: 'abran',\n",
              " 663: 'tenga',\n",
              " 664: 'uds',\n",
              " 665: 'evitar',\n",
              " 666: 'segura',\n",
              " 667: 'pase',\n",
              " 668: 'vine',\n",
              " 669: 'padawan',\n",
              " 670: 'caballero',\n",
              " 671: 'grupo',\n",
              " 672: 'trata',\n",
              " 673: 'tendra',\n",
              " 674: 'haga',\n",
              " 675: 'unidades',\n",
              " 676: 'esperar',\n",
              " 677: 'tenido',\n",
              " 678: 'sidious',\n",
              " 679: 'eras',\n",
              " 680: 'ido',\n",
              " 681: 'disparen',\n",
              " 682: 'hutt',\n",
              " 683: 'transmision',\n",
              " 684: 'calrissian',\n",
              " 685: 'padres',\n",
              " 686: 'espia',\n",
              " 687: 'viaje',\n",
              " 688: 'oportunidad',\n",
              " 689: 'vale',\n",
              " 690: 'pudo',\n",
              " 691: 'venir',\n",
              " 692: 'disparar',\n",
              " 693: 'cambiar',\n",
              " 694: 'chatarra',\n",
              " 695: 'rastreador',\n",
              " 696: 'asunto',\n",
              " 697: 'milenario',\n",
              " 698: 'ordenador',\n",
              " 699: 'llevo',\n",
              " 700: 'podrias',\n",
              " 701: 'pregunto',\n",
              " 702: 'significa',\n",
              " 703: 'veras',\n",
              " 704: 'llevara',\n",
              " 705: 'nina',\n",
              " 706: 'necesitan',\n",
              " 707: 'perdimos',\n",
              " 708: 'hipervelocidad',\n",
              " 709: 'manera',\n",
              " 710: 'funciona',\n",
              " 711: 'mitad',\n",
              " 712: 'sabio',\n",
              " 713: 'preparado',\n",
              " 714: 'corazon',\n",
              " 715: 'fe',\n",
              " 716: 'repuestos',\n",
              " 717: 'regresar',\n",
              " 718: 'palabra',\n",
              " 719: 'decidido',\n",
              " 720: 'miren',\n",
              " 721: 'confio',\n",
              " 722: 'extrano',\n",
              " 723: 'recuerda',\n",
              " 724: 'estaran',\n",
              " 725: 'pensado',\n",
              " 726: 'pasar',\n",
              " 727: 'acabo',\n",
              " 728: 'creer',\n",
              " 729: 'aseguro',\n",
              " 730: 'dolor',\n",
              " 731: 'oyes',\n",
              " 732: 'tatooine',\n",
              " 733: 'tampoco',\n",
              " 734: 'saben',\n",
              " 735: 'tendras',\n",
              " 736: 'dias',\n",
              " 737: 'speeders',\n",
              " 738: 'asteroides',\n",
              " 739: 'conflicto',\n",
              " 740: 'embajadores',\n",
              " 741: 'e',\n",
              " 742: 'alcance',\n",
              " 743: 'murio',\n",
              " 744: 'descifrador',\n",
              " 745: 'ochi',\n",
              " 746: 'lejana',\n",
              " 747: 'episodio',\n",
              " 748: 'destruido',\n",
              " 749: 'busca',\n",
              " 750: 'pista',\n",
              " 751: 'sabemos',\n",
              " 752: 'familia',\n",
              " 753: 'fn',\n",
              " 754: 'hux',\n",
              " 755: 'llamas',\n",
              " 756: 'usar',\n",
              " 757: 'sugiero',\n",
              " 758: 'agua',\n",
              " 759: 'conoci',\n",
              " 760: 'otros',\n",
              " 761: 'aguanta',\n",
              " 762: 'genial',\n",
              " 763: 'haremos',\n",
              " 764: 'primero',\n",
              " 765: 'tomar',\n",
              " 766: 'puedas',\n",
              " 767: 'veremos',\n",
              " 768: 'buscar',\n",
              " 769: 'traves',\n",
              " 770: 'alrededor',\n",
              " 771: 'tratando',\n",
              " 772: 'modo',\n",
              " 773: 'noche',\n",
              " 774: 'guardias',\n",
              " 775: 'cierren',\n",
              " 776: 'dale',\n",
              " 777: 'atacar',\n",
              " 778: 'siganme',\n",
              " 779: 'podra',\n",
              " 780: 'completamente',\n",
              " 781: 'espere',\n",
              " 782: 'percibo',\n",
              " 783: 'espacial',\n",
              " 784: 'invasion',\n",
              " 785: 'igual',\n",
              " 786: 'majestad',\n",
              " 787: 'informe',\n",
              " 788: 'eleccion',\n",
              " 789: 'hagan',\n",
              " 790: 'habla',\n",
              " 791: 'gungans',\n",
              " 792: 'largo',\n",
              " 793: 'deflector',\n",
              " 794: 'windu',\n",
              " 795: 'caso',\n",
              " 796: 'mate',\n",
              " 797: 'separatistas',\n",
              " 798: 'llegado',\n",
              " 799: 'muertos',\n",
              " 800: 'trae',\n",
              " 801: 'amenaza',\n",
              " 802: 'senti',\n",
              " 803: 'protocolo',\n",
              " 804: 'central',\n",
              " 805: 'destructores',\n",
              " 806: 'salida',\n",
              " 807: 'vendra',\n",
              " 808: 'aterrizar',\n",
              " 809: 'fuiste',\n",
              " 810: 'dar',\n",
              " 811: 'rapida',\n",
              " 812: 'vino',\n",
              " 813: 'quisiera',\n",
              " 814: 'ojala',\n",
              " 815: 'vengan',\n",
              " 816: 'recompensa',\n",
              " 817: 'zona',\n",
              " 818: 'viejos',\n",
              " 819: 'superficie',\n",
              " 820: 'sucede',\n",
              " 821: 'buenos',\n",
              " 822: 'alianza',\n",
              " 823: 'equipo',\n",
              " 824: 'estelares',\n",
              " 825: 'cruceros',\n",
              " 826: 'sebulba',\n",
              " 827: 'tio',\n",
              " 828: 'holdo',\n",
              " 829: 'daga',\n",
              " 830: 'babu',\n",
              " 831: 'desaparecido',\n",
              " 832: 'organa',\n",
              " 833: 'secreta',\n",
              " 834: 'volvere',\n",
              " 835: 'dio',\n",
              " 836: 'vayas',\n",
              " 837: 'arena',\n",
              " 838: 'podras',\n",
              " 839: 'diga',\n",
              " 840: 'hago',\n",
              " 841: 'digo',\n",
              " 842: 'dameron',\n",
              " 843: 'disparo',\n",
              " 844: 'dieron',\n",
              " 845: 'podriamos',\n",
              " 846: 'perfecto',\n",
              " 847: 'creemos',\n",
              " 848: 'llevare',\n",
              " 849: 'quitate',\n",
              " 850: 'quienes',\n",
              " 851: 'heroe',\n",
              " 852: 'oido',\n",
              " 853: 'vayan',\n",
              " 854: 'libre',\n",
              " 855: 'confiar',\n",
              " 856: 'sal',\n",
              " 857: 'cierra',\n",
              " 858: 'esperaba',\n",
              " 859: 'llego',\n",
              " 860: 'veamos',\n",
              " 861: 'volvio',\n",
              " 862: 'eran',\n",
              " 863: 'arreglar',\n",
              " 864: 'oscuridad',\n",
              " 865: 'vuelve',\n",
              " 866: 'rodea',\n",
              " 867: 'estes',\n",
              " 868: 'traidor',\n",
              " 869: 'suena',\n",
              " 870: 'hicimos',\n",
              " 871: 'sientes',\n",
              " 872: 'gustaria',\n",
              " 873: 'algunas',\n",
              " 874: 'sensores',\n",
              " 875: 'frio',\n",
              " 876: 'recuerdas',\n",
              " 877: 'hazlo',\n",
              " 878: 'rumbo',\n",
              " 879: 'diablos',\n",
              " 880: 'encontraremos',\n",
              " 881: 'supongo',\n",
              " 882: 'presento',\n",
              " 883: 'perdida',\n",
              " 884: 'democracia',\n",
              " 885: 'viva',\n",
              " 886: 'excelente',\n",
              " 887: 'opcion',\n",
              " 888: 'haran',\n",
              " 889: 'poner',\n",
              " 890: 'diferente',\n",
              " 891: 'traido',\n",
              " 892: 'pilotos',\n",
              " 893: 'quietos',\n",
              " 894: 'terminar',\n",
              " 895: 'equilibrio',\n",
              " 896: 'grave',\n",
              " 897: 'di',\n",
              " 898: 'amor',\n",
              " 899: 'seran',\n",
              " 900: 'estare',\n",
              " 901: 'personal',\n",
              " 902: 'detente',\n",
              " 903: 'mundo',\n",
              " 904: 'escuadron',\n",
              " 905: 'seguimos',\n",
              " 906: 'perdon',\n",
              " 907: 'tendre',\n",
              " 908: 'relaciones',\n",
              " 909: 'confia',\n",
              " 910: 'equivocado',\n",
              " 911: 'sentir',\n",
              " 912: 'incluso',\n",
              " 913: 'podia',\n",
              " 914: 'bloque',\n",
              " 915: 'puente',\n",
              " 916: 'salido',\n",
              " 917: 'salto',\n",
              " 918: 'asciende',\n",
              " 919: 'wedge',\n",
              " 920: 'deberiamos',\n",
              " 921: 'precio',\n",
              " 922: 'sigues',\n",
              " 923: 'dagobah',\n",
              " 924: 'rogue',\n",
              " 925: 'despegar',\n",
              " 926: 'haz',\n",
              " 927: 'endor',\n",
              " 928: 'fracaso',\n",
              " 929: 'acaba',\n",
              " 930: 'pagar',\n",
              " 931: 'verdadero',\n",
              " 932: 'jango',\n",
              " 933: 'muerta',\n",
              " 934: 'envio',\n",
              " 935: 'precisamos',\n",
              " 936: 'apoyo',\n",
              " 937: 'apurate',\n",
              " 938: 'pueblo',\n",
              " 939: 'dejo',\n",
              " 940: 'plataforma',\n",
              " 941: 'podamos',\n",
              " 942: 'hubo',\n",
              " 943: 'dano',\n",
              " 944: 'pertenece',\n",
              " 945: 'llama',\n",
              " 946: 'proteccion',\n",
              " 947: 'deje',\n",
              " 948: 'dame',\n",
              " 949: 'vivir',\n",
              " 950: 'quieren',\n",
              " 951: 'conoces',\n",
              " 952: 'siguen',\n",
              " 953: 'lista',\n",
              " 954: 'pedazos',\n",
              " 955: 'oficial',\n",
              " 956: 'encontramos',\n",
              " 957: 'maz',\n",
              " 958: 'wookiee',\n",
              " 959: 'hayan',\n",
              " 960: 'callate',\n",
              " 961: 'sino',\n",
              " 962: 'pregunta',\n",
              " 963: 'comunicaciones',\n",
              " 964: 'perdiendo',\n",
              " 965: 'vuelva',\n",
              " 966: 'perdi',\n",
              " 967: 'reconocimiento',\n",
              " 968: 'matarme',\n",
              " 969: 'tengas',\n",
              " 970: 'galactico',\n",
              " 971: 'estabas',\n",
              " 972: 'cara',\n",
              " 973: 'buenas',\n",
              " 974: 'noticias',\n",
              " 975: 'podracer',\n",
              " 976: 'adios',\n",
              " 977: 'simplemente',\n",
              " 978: 'corre',\n",
              " 979: 'tras',\n",
              " 980: 'estabamos',\n",
              " 981: 'oir',\n",
              " 982: 'bienvenida',\n",
              " 983: 'isto',\n",
              " 984: 'real',\n",
              " 985: 'midiclorianos',\n",
              " 986: 'pruebas',\n",
              " 987: 'duda',\n",
              " 988: 'hubiera',\n",
              " 989: 'pelear',\n",
              " 990: 'controla',\n",
              " 991: 'prepare',\n",
              " 992: 'permite',\n",
              " 993: 'proteger',\n",
              " 994: 'binks',\n",
              " 995: 'lideres',\n",
              " 996: 'trono',\n",
              " 997: 'crei',\n",
              " 998: 'asalto',\n",
              " 999: 'terminado',\n",
              " 1000: 'reactor',\n",
              " ...}"
            ]
          },
          "metadata": {},
          "execution_count": 73
        }
      ],
      "source": [
        "# Palabras del vocabulario\n",
        "tok.index_word"
      ]
    },
    {
      "cell_type": "code",
      "execution_count": null,
      "metadata": {
        "id": "gJgVhq1zwEpf",
        "outputId": "234bffc2-2f0f-43ce-be07-8400ece219e1",
        "colab": {
          "base_uri": "https://localhost:8080/"
        }
      },
      "outputs": [
        {
          "output_type": "execute_result",
          "data": {
            "text/plain": [
              "7684"
            ]
          },
          "metadata": {},
          "execution_count": 74
        }
      ],
      "source": [
        "# Cantidad de palabras en el vocabulario\n",
        "vocab_size = len(tok.word_counts)\n",
        "vocab_size"
      ]
    },
    {
      "cell_type": "code",
      "execution_count": null,
      "metadata": {
        "id": "qWjNrNx9wM1b",
        "outputId": "f4eb69d1-719f-4725-9d46-f3f16b0b5cd2",
        "colab": {
          "base_uri": "https://localhost:8080/"
        }
      },
      "outputs": [
        {
          "output_type": "execute_result",
          "data": {
            "text/plain": [
              "1"
            ]
          },
          "metadata": {},
          "execution_count": 75
        }
      ],
      "source": [
        "# En el caso anterior explota porque y_data_int comienza en \"1\" en vez de \"0\"\n",
        "# valor minimo:\n",
        "min(y_data_int)"
      ]
    },
    {
      "cell_type": "code",
      "execution_count": null,
      "metadata": {
        "id": "gIg2e2WCwXbG",
        "outputId": "3ba2abef-b49d-46e4-b441-53e16dcc9be0",
        "colab": {
          "base_uri": "https://localhost:8080/"
        }
      },
      "outputs": [
        {
          "output_type": "execute_result",
          "data": {
            "text/plain": [
              "(62215, 7684)"
            ]
          },
          "metadata": {},
          "execution_count": 76
        }
      ],
      "source": [
        "y_data_int_offset = y_data_int - 1\n",
        "y_data = to_categorical(y_data_int_offset, num_classes=vocab_size)\n",
        "y_data.shape"
      ]
    },
    {
      "cell_type": "markdown",
      "metadata": {
        "id": "GmJWNyxQwfCE"
      },
      "source": [
        "### 4 - Entrenar el modelo"
      ]
    },
    {
      "cell_type": "code",
      "execution_count": null,
      "metadata": {
        "id": "0cOmNZT_weK2",
        "outputId": "96f64bd8-ab25-477c-8ba1-1c0ac4f49f02",
        "colab": {
          "base_uri": "https://localhost:8080/"
        }
      },
      "outputs": [
        {
          "output_type": "execute_result",
          "data": {
            "text/plain": [
              "3"
            ]
          },
          "metadata": {},
          "execution_count": 77
        }
      ],
      "source": [
        "# largo de la secuencia de entrada\n",
        "input_seq_len = x_data.shape[1]\n",
        "input_seq_len"
      ]
    },
    {
      "cell_type": "code",
      "execution_count": null,
      "metadata": {
        "id": "qtwITjgnwlgp",
        "outputId": "b9cdc818-3d0e-4b45-a4e0-3f7f80eeb4a3",
        "colab": {
          "base_uri": "https://localhost:8080/"
        }
      },
      "outputs": [
        {
          "output_type": "execute_result",
          "data": {
            "text/plain": [
              "7684"
            ]
          },
          "metadata": {},
          "execution_count": 78
        }
      ],
      "source": [
        "# Largo del vector de salida --> vocab_size\n",
        "output_size = vocab_size\n",
        "output_size"
      ]
    },
    {
      "cell_type": "code",
      "execution_count": null,
      "metadata": {
        "id": "jzTZRXrrwrvi",
        "outputId": "afd34260-cfb6-4bea-b467-15cb599c7bcd",
        "colab": {
          "base_uri": "https://localhost:8080/"
        }
      },
      "outputs": [
        {
          "output_type": "stream",
          "name": "stdout",
          "text": [
            "Model: \"sequential_6\"\n",
            "_________________________________________________________________\n",
            " Layer (type)                Output Shape              Param #   \n",
            "=================================================================\n",
            " embedding_6 (Embedding)     (None, 3, 5)              38425     \n",
            "                                                                 \n",
            " gru_18 (GRU)                (None, 3, 64)             13632     \n",
            "                                                                 \n",
            " dropout_22 (Dropout)        (None, 3, 64)             0         \n",
            "                                                                 \n",
            " bidirectional_6 (Bidirectio  (None, 3, 128)           49920     \n",
            " nal)                                                            \n",
            "                                                                 \n",
            " dropout_23 (Dropout)        (None, 3, 128)            0         \n",
            "                                                                 \n",
            " gru_20 (GRU)                (None, 64)                37248     \n",
            "                                                                 \n",
            " dense_16 (Dense)            (None, 64)                4160      \n",
            "                                                                 \n",
            " dropout_24 (Dropout)        (None, 64)                0         \n",
            "                                                                 \n",
            " dense_17 (Dense)            (None, 32)                2080      \n",
            "                                                                 \n",
            " dropout_25 (Dropout)        (None, 32)                0         \n",
            "                                                                 \n",
            " dense_18 (Dense)            (None, 7684)              253572    \n",
            "                                                                 \n",
            "=================================================================\n",
            "Total params: 399,037\n",
            "Trainable params: 399,037\n",
            "Non-trainable params: 0\n",
            "_________________________________________________________________\n"
          ]
        }
      ],
      "source": [
        "model = Sequential()\n",
        "\n",
        "# Embedding:\n",
        "# input_seq_len = 3 --> ingreso 3 palabras\n",
        "# input_dim = vocab_size --> 1628 palabras distintas\n",
        "# output_dim = 5 --> crear embeddings de tamaño 3 (tamaño variable y ajustable)\n",
        "model.add(Embedding(input_dim=vocab_size+1, output_dim=5, input_length=input_seq_len))\n",
        "\n",
        "model.add(GRU(64, return_sequences=True))\n",
        "model.add(Dropout(0.2))\n",
        "model.add(Bidirectional(GRU(64, return_sequences=True), merge_mode=\"concat\"))\n",
        "model.add(Dropout(0.2))\n",
        "model.add(GRU(64)) # La última capa GRU no lleva return_sequences\n",
        "model.add(Dense(64, activation='relu'))\n",
        "model.add(Dropout(0.2))\n",
        "model.add(Dense(32, activation='relu'))\n",
        "model.add(Dropout(0.2))\n",
        "\n",
        "# Predicción de clasificación con softmax\n",
        "# La salida vuelve al espacio de 1628 palabras posibles\n",
        "model.add(Dense(vocab_size, activation='softmax'))\n",
        "\n",
        "# Clasificación multiple categórica --> loss = categorical_crossentropy\n",
        "model.compile(loss='categorical_crossentropy', optimizer='adam', metrics=['accuracy'])\n",
        "\n",
        "model.summary()"
      ]
    },
    {
      "cell_type": "code",
      "execution_count": null,
      "metadata": {
        "id": "oQq1PHDkxDvN",
        "outputId": "bc0996cd-655f-46f3-f4e5-e24ddb0bd60b",
        "colab": {
          "base_uri": "https://localhost:8080/"
        }
      },
      "outputs": [
        {
          "output_type": "stream",
          "name": "stdout",
          "text": [
            "Epoch 1/50\n",
            "1556/1556 [==============================] - 34s 16ms/step - loss: 6.9689 - accuracy: 0.0358 - val_loss: 6.8111 - val_accuracy: 0.0288\n",
            "Epoch 2/50\n",
            "1556/1556 [==============================] - 18s 11ms/step - loss: 6.6537 - accuracy: 0.0376 - val_loss: 6.8616 - val_accuracy: 0.0358\n",
            "Epoch 3/50\n",
            "1556/1556 [==============================] - 19s 12ms/step - loss: 6.5135 - accuracy: 0.0413 - val_loss: 6.8890 - val_accuracy: 0.0407\n",
            "Epoch 4/50\n",
            "1556/1556 [==============================] - 18s 11ms/step - loss: 6.3971 - accuracy: 0.0487 - val_loss: 6.9648 - val_accuracy: 0.0491\n",
            "Epoch 5/50\n",
            "1556/1556 [==============================] - 19s 12ms/step - loss: 6.3027 - accuracy: 0.0521 - val_loss: 7.0324 - val_accuracy: 0.0525\n",
            "Epoch 6/50\n",
            "1556/1556 [==============================] - 18s 11ms/step - loss: 6.2175 - accuracy: 0.0560 - val_loss: 7.0925 - val_accuracy: 0.0547\n",
            "Epoch 7/50\n",
            "1556/1556 [==============================] - 19s 12ms/step - loss: 6.1293 - accuracy: 0.0609 - val_loss: 7.2146 - val_accuracy: 0.0639\n",
            "Epoch 8/50\n",
            "1556/1556 [==============================] - 18s 11ms/step - loss: 6.0413 - accuracy: 0.0695 - val_loss: 7.2940 - val_accuracy: 0.0660\n",
            "Epoch 9/50\n",
            "1556/1556 [==============================] - 18s 12ms/step - loss: 5.9565 - accuracy: 0.0770 - val_loss: 7.2603 - val_accuracy: 0.0697\n",
            "Epoch 10/50\n",
            "1556/1556 [==============================] - 19s 12ms/step - loss: 5.8817 - accuracy: 0.0808 - val_loss: 7.3969 - val_accuracy: 0.0722\n",
            "Epoch 11/50\n",
            "1556/1556 [==============================] - 18s 12ms/step - loss: 5.8028 - accuracy: 0.0888 - val_loss: 7.4348 - val_accuracy: 0.0747\n",
            "Epoch 12/50\n",
            "1556/1556 [==============================] - 17s 11ms/step - loss: 5.7376 - accuracy: 0.0927 - val_loss: 7.4485 - val_accuracy: 0.0733\n",
            "Epoch 13/50\n",
            "1556/1556 [==============================] - 27s 17ms/step - loss: 5.6732 - accuracy: 0.0964 - val_loss: 7.4300 - val_accuracy: 0.0742\n",
            "Epoch 14/50\n",
            "1556/1556 [==============================] - 24s 15ms/step - loss: 5.6176 - accuracy: 0.0981 - val_loss: 7.6299 - val_accuracy: 0.0755\n",
            "Epoch 15/50\n",
            "1556/1556 [==============================] - 25s 16ms/step - loss: 5.5681 - accuracy: 0.1015 - val_loss: 7.6522 - val_accuracy: 0.0762\n",
            "Epoch 16/50\n",
            "1556/1556 [==============================] - 23s 15ms/step - loss: 5.5222 - accuracy: 0.1038 - val_loss: 7.6374 - val_accuracy: 0.0742\n",
            "Epoch 17/50\n",
            "1556/1556 [==============================] - 23s 15ms/step - loss: 5.4773 - accuracy: 0.1056 - val_loss: 7.8174 - val_accuracy: 0.0765\n",
            "Epoch 18/50\n",
            "1556/1556 [==============================] - 23s 15ms/step - loss: 5.4381 - accuracy: 0.1073 - val_loss: 7.7749 - val_accuracy: 0.0783\n",
            "Epoch 19/50\n",
            "1556/1556 [==============================] - 21s 13ms/step - loss: 5.4045 - accuracy: 0.1090 - val_loss: 7.9647 - val_accuracy: 0.0775\n",
            "Epoch 20/50\n",
            "1556/1556 [==============================] - 19s 12ms/step - loss: 5.3657 - accuracy: 0.1109 - val_loss: 8.0539 - val_accuracy: 0.0738\n",
            "Epoch 21/50\n",
            "1556/1556 [==============================] - 20s 13ms/step - loss: 5.3318 - accuracy: 0.1118 - val_loss: 8.0733 - val_accuracy: 0.0790\n",
            "Epoch 22/50\n",
            "1556/1556 [==============================] - 23s 15ms/step - loss: 5.3050 - accuracy: 0.1133 - val_loss: 8.1051 - val_accuracy: 0.0767\n",
            "Epoch 23/50\n",
            "1556/1556 [==============================] - 22s 14ms/step - loss: 5.2713 - accuracy: 0.1138 - val_loss: 7.9595 - val_accuracy: 0.0751\n",
            "Epoch 24/50\n",
            "1556/1556 [==============================] - 20s 13ms/step - loss: 5.2388 - accuracy: 0.1170 - val_loss: 8.3195 - val_accuracy: 0.0802\n",
            "Epoch 25/50\n",
            "1556/1556 [==============================] - 21s 14ms/step - loss: 5.2255 - accuracy: 0.1164 - val_loss: 8.2228 - val_accuracy: 0.0783\n",
            "Epoch 26/50\n",
            "1556/1556 [==============================] - 20s 13ms/step - loss: 5.1954 - accuracy: 0.1189 - val_loss: 8.2563 - val_accuracy: 0.0763\n",
            "Epoch 27/50\n",
            "1556/1556 [==============================] - 22s 14ms/step - loss: 5.1833 - accuracy: 0.1187 - val_loss: 8.1940 - val_accuracy: 0.0768\n",
            "Epoch 28/50\n",
            "1556/1556 [==============================] - 19s 12ms/step - loss: 5.1607 - accuracy: 0.1207 - val_loss: 8.4605 - val_accuracy: 0.0779\n",
            "Epoch 29/50\n",
            "1556/1556 [==============================] - 18s 11ms/step - loss: 5.1389 - accuracy: 0.1220 - val_loss: 8.4532 - val_accuracy: 0.0772\n",
            "Epoch 30/50\n",
            "1556/1556 [==============================] - 18s 12ms/step - loss: 5.1243 - accuracy: 0.1228 - val_loss: 8.4816 - val_accuracy: 0.0771\n",
            "Epoch 31/50\n",
            "1556/1556 [==============================] - 18s 11ms/step - loss: 5.1031 - accuracy: 0.1227 - val_loss: 8.5054 - val_accuracy: 0.0805\n",
            "Epoch 32/50\n",
            "1556/1556 [==============================] - 19s 12ms/step - loss: 5.0911 - accuracy: 0.1264 - val_loss: 8.4479 - val_accuracy: 0.0780\n",
            "Epoch 33/50\n",
            "1556/1556 [==============================] - 18s 12ms/step - loss: 5.0729 - accuracy: 0.1257 - val_loss: 8.7118 - val_accuracy: 0.0766\n",
            "Epoch 34/50\n",
            "1556/1556 [==============================] - 19s 12ms/step - loss: 5.0556 - accuracy: 0.1265 - val_loss: 8.5655 - val_accuracy: 0.0796\n",
            "Epoch 35/50\n",
            "1556/1556 [==============================] - 18s 11ms/step - loss: 5.0412 - accuracy: 0.1269 - val_loss: 8.6741 - val_accuracy: 0.0804\n",
            "Epoch 36/50\n",
            "1556/1556 [==============================] - 19s 12ms/step - loss: 5.0376 - accuracy: 0.1287 - val_loss: 8.8107 - val_accuracy: 0.0790\n",
            "Epoch 37/50\n",
            "1556/1556 [==============================] - 17s 11ms/step - loss: 5.0237 - accuracy: 0.1285 - val_loss: 8.6679 - val_accuracy: 0.0812\n",
            "Epoch 38/50\n",
            "1556/1556 [==============================] - 18s 12ms/step - loss: 5.0100 - accuracy: 0.1302 - val_loss: 8.8090 - val_accuracy: 0.0790\n",
            "Epoch 39/50\n",
            "1556/1556 [==============================] - 18s 11ms/step - loss: 4.9962 - accuracy: 0.1288 - val_loss: 8.9445 - val_accuracy: 0.0758\n",
            "Epoch 40/50\n",
            "1556/1556 [==============================] - 18s 12ms/step - loss: 4.9901 - accuracy: 0.1296 - val_loss: 8.8936 - val_accuracy: 0.0801\n",
            "Epoch 41/50\n",
            "1556/1556 [==============================] - 19s 12ms/step - loss: 4.9831 - accuracy: 0.1307 - val_loss: 8.8691 - val_accuracy: 0.0780\n",
            "Epoch 42/50\n",
            "1556/1556 [==============================] - 18s 12ms/step - loss: 4.9673 - accuracy: 0.1329 - val_loss: 9.0185 - val_accuracy: 0.0792\n",
            "Epoch 43/50\n",
            "1556/1556 [==============================] - 18s 11ms/step - loss: 4.9656 - accuracy: 0.1314 - val_loss: 9.0636 - val_accuracy: 0.0782\n",
            "Epoch 44/50\n",
            "1556/1556 [==============================] - 18s 12ms/step - loss: 4.9536 - accuracy: 0.1318 - val_loss: 9.1558 - val_accuracy: 0.0792\n",
            "Epoch 45/50\n",
            "1556/1556 [==============================] - 18s 12ms/step - loss: 4.9412 - accuracy: 0.1331 - val_loss: 9.0156 - val_accuracy: 0.0800\n",
            "Epoch 46/50\n",
            "1556/1556 [==============================] - 18s 12ms/step - loss: 4.9345 - accuracy: 0.1359 - val_loss: 8.9222 - val_accuracy: 0.0801\n",
            "Epoch 47/50\n",
            "1556/1556 [==============================] - 18s 11ms/step - loss: 4.9286 - accuracy: 0.1332 - val_loss: 9.1176 - val_accuracy: 0.0788\n",
            "Epoch 48/50\n",
            "1556/1556 [==============================] - 18s 12ms/step - loss: 4.9134 - accuracy: 0.1353 - val_loss: 9.2289 - val_accuracy: 0.0782\n",
            "Epoch 49/50\n",
            "1556/1556 [==============================] - 18s 11ms/step - loss: 4.9150 - accuracy: 0.1341 - val_loss: 9.1980 - val_accuracy: 0.0792\n",
            "Epoch 50/50\n",
            "1556/1556 [==============================] - 19s 12ms/step - loss: 4.9104 - accuracy: 0.1355 - val_loss: 9.1006 - val_accuracy: 0.0804\n"
          ]
        }
      ],
      "source": [
        "hist = model.fit(x_data, y_data, epochs=50, validation_split=0.2)"
      ]
    },
    {
      "cell_type": "code",
      "execution_count": null,
      "metadata": {
        "id": "q_orBXOrCsNn",
        "colab": {
          "base_uri": "https://localhost:8080/",
          "height": 431
        },
        "outputId": "9918bc90-4d33-4e54-dc31-5dc975e2d26b"
      },
      "outputs": [
        {
          "output_type": "display_data",
          "data": {
            "text/plain": [
              "<Figure size 640x480 with 1 Axes>"
            ],
            "image/png": "[encoded data removed]"
          },
          "metadata": {}
        }
      ],
      "source": [
        "import matplotlib.pyplot as plt\n",
        "import seaborn as sns\n",
        "\n",
        "# Entrenamiento\n",
        "epoch_count = range(1, len(hist.history['accuracy']) + 1)\n",
        "sns.lineplot(x=epoch_count,  y=hist.history['accuracy'], label='train')\n",
        "sns.lineplot(x=epoch_count,  y=hist.history['val_accuracy'], label='valid')\n",
        "plt.show()"
      ]
    },
    {
      "cell_type": "markdown",
      "metadata": {
        "id": "KN6Fg_BsxJe6"
      },
      "source": [
        "### 5 - Predicción de próxima palabra"
      ]
    },
    {
      "cell_type": "code",
      "execution_count": null,
      "metadata": {
        "id": "iy_AXWQWzeeE"
      },
      "outputs": [],
      "source": [
        "# Keras pad_sequences\n",
        "# https://www.tensorflow.org/api_docs/python/tf/keras/preprocessing/sequence/pad_sequences\n",
        "# Si la secuencia de entrada supera al input_seq_len (3) se trunca\n",
        "# Si la secuencia es más corta se agregna ceros al comienzo"
      ]
    },
    {
      "cell_type": "code",
      "execution_count": null,
      "metadata": {
        "id": "IBvKHFPmzpy2"
      },
      "outputs": [],
      "source": [
        "# Se utilizará gradio para ensayar el modelo\n",
        "# Herramienta poderosa para crear interfaces rápidas para ensayar modelos\n",
        "# https://gradio.app/\n",
        "# import sys\n",
        "# !{sys.executable} -m pip install gradio --quiet"
      ]
    },
    {
      "cell_type": "code",
      "execution_count": null,
      "metadata": {
        "id": "HNyBykvhzs7-"
      },
      "outputs": [],
      "source": [
        "# import gradio as gr\n",
        "\n",
        "# def model_response(human_text):\n",
        "\n",
        "#     # Encodeamos\n",
        "#     encoded = tok.texts_to_sequences([human_text])[0]\n",
        "#     # Si tienen distinto largo\n",
        "#     encoded = pad_sequences([encoded], maxlen=3, padding='pre')\n",
        "\n",
        "#     # Predicción softmax\n",
        "#     y_hat = model.predict(encoded).argmax(axis=-1)\n",
        "\n",
        "#     # Debemos buscar en el vocabulario la palabra\n",
        "#     # que corresopnde al indice (y_hat) predicho por le modelo\n",
        "#     out_word = ''\n",
        "#     for word, index in tok.word_index.items():\n",
        "#         if index == y_hat:\n",
        "#             out_word = word\n",
        "#             break\n",
        "\n",
        "#     # Agrego la palabra a la frase predicha\n",
        "#     return human_text + ' ' + out_word\n",
        "\n",
        "# iface = gr.Interface(\n",
        "#     fn=model_response,\n",
        "#     inputs=[\"textbox\"],\n",
        "#     outputs=\"text\",\n",
        "#     layout=\"vertical\")\n",
        "\n",
        "# iface.launch(debug=True)"
      ]
    },
    {
      "cell_type": "markdown",
      "metadata": {
        "id": "mCeMWWupxN1-"
      },
      "source": [
        "### 6 - Generación de secuencias nuevas"
      ]
    },
    {
      "cell_type": "code",
      "execution_count": null,
      "metadata": {
        "id": "bwbS_pfhxvB3"
      },
      "outputs": [],
      "source": [
        "def generate_seq(model, tokenizer, seed_text, max_length, n_words):\n",
        "    \"\"\"\n",
        "        Exec model sequence prediction\n",
        "\n",
        "        Args:\n",
        "            model (keras): modelo entrenado\n",
        "            tokenizer (keras tokenizer): tonenizer utilizado en el preprocesamiento\n",
        "            seed_text (string): texto de entrada (input_seq)\n",
        "            max_length (int): máxima longitud de la sequencia de entrada\n",
        "            n_words (int): números de palabras a agregar a la sequencia de entrada\n",
        "        returns:\n",
        "            output_text (string): sentencia con las \"n_words\" agregadas\n",
        "    \"\"\"\n",
        "    output_text = seed_text\n",
        "\t# generate a fixed number of words\n",
        "    for _ in range(n_words):\n",
        "\t\t# Encodeamos\n",
        "        encoded = tokenizer.texts_to_sequences([output_text])[0]\n",
        "\t\t# Si tienen distinto largo\n",
        "        encoded = pad_sequences([encoded], maxlen=max_length, padding='pre')\n",
        "\n",
        "\t\t# Predicción softmax\n",
        "        y_hat = model.predict(encoded).argmax(axis=-1)\n",
        "\t\t# Vamos concatenando las predicciones\n",
        "        out_word = ''\n",
        "\n",
        "        # Debemos buscar en el vocabulario la palabra\n",
        "        # que corresopnde al indice (y_hat) predicho por le modelo\n",
        "        for word, index in tokenizer.word_index.items():\n",
        "            if index == y_hat:\n",
        "                out_word = word\n",
        "                break\n",
        "\n",
        "\t\t# Agrego las palabras a la frase predicha\n",
        "        output_text += ' ' + out_word\n",
        "    return output_text"
      ]
    },
    {
      "cell_type": "code",
      "source": [
        "input_text='han no puedes'\n",
        "\n",
        "generate_seq(model, tok, input_text, max_length=3, n_words=3)"
      ],
      "metadata": {
        "colab": {
          "base_uri": "https://localhost:8080/",
          "height": 87
        },
        "id": "t07vudBvO-H0",
        "outputId": "b36e13e9-6547-4f57-a854-3facae7330a8"
      },
      "execution_count": null,
      "outputs": [
        {
          "output_type": "stream",
          "name": "stdout",
          "text": [
            "1/1 [==============================] - 0s 19ms/step\n",
            "1/1 [==============================] - 0s 21ms/step\n",
            "1/1 [==============================] - 0s 20ms/step\n"
          ]
        },
        {
          "output_type": "execute_result",
          "data": {
            "text/plain": [
              "'han no puedes al tambien de'"
            ],
            "application/vnd.google.colaboratory.intrinsic+json": {
              "type": "string"
            }
          },
          "metadata": {},
          "execution_count": 137
        }
      ]
    },
    {
      "cell_type": "code",
      "source": [
        "input_text='luke has'\n",
        "\n",
        "generate_seq(model, tok, input_text, max_length=3, n_words=3)"
      ],
      "metadata": {
        "colab": {
          "base_uri": "https://localhost:8080/",
          "height": 87
        },
        "id": "rLPzIEx8O6aE",
        "outputId": "002df7c4-37f8-4c93-96db-074f5e1072dd"
      },
      "execution_count": null,
      "outputs": [
        {
          "output_type": "stream",
          "name": "stdout",
          "text": [
            "1/1 [==============================] - 0s 28ms/step\n",
            "1/1 [==============================] - 0s 27ms/step\n",
            "1/1 [==============================] - 0s 29ms/step\n"
          ]
        },
        {
          "output_type": "execute_result",
          "data": {
            "text/plain": [
              "'luke has ir la puedo'"
            ],
            "application/vnd.google.colaboratory.intrinsic+json": {
              "type": "string"
            }
          },
          "metadata": {},
          "execution_count": 136
        }
      ]
    },
    {
      "cell_type": "code",
      "execution_count": null,
      "metadata": {
        "id": "JoFqRC5pxzqS",
        "colab": {
          "base_uri": "https://localhost:8080/",
          "height": 87
        },
        "outputId": "90009e11-6336-4e0e-d52f-62d659ece528"
      },
      "outputs": [
        {
          "output_type": "stream",
          "name": "stdout",
          "text": [
            "1/1 [==============================] - 0s 48ms/step\n",
            "1/1 [==============================] - 0s 37ms/step\n",
            "1/1 [==============================] - 0s 42ms/step\n"
          ]
        },
        {
          "output_type": "execute_result",
          "data": {
            "text/plain": [
              "'luke soy tu has vuelto '"
            ],
            "application/vnd.google.colaboratory.intrinsic+json": {
              "type": "string"
            }
          },
          "metadata": {},
          "execution_count": 132
        }
      ],
      "source": [
        "input_text='luke soy tu'\n",
        "\n",
        "generate_seq(model, tok, input_text, max_length=3, n_words=3)"
      ]
    },
    {
      "cell_type": "code",
      "execution_count": null,
      "metadata": {
        "colab": {
          "base_uri": "https://localhost:8080/",
          "height": 53
        },
        "id": "nf-UE71IKB2X",
        "outputId": "9cd1152d-b156-4b76-c6f0-8aaaaea49159"
      },
      "outputs": [
        {
          "output_type": "stream",
          "name": "stdout",
          "text": [
            "1/1 [==============================] - 0s 20ms/step\n"
          ]
        },
        {
          "output_type": "execute_result",
          "data": {
            "text/plain": [
              "'velocidad de la puedo'"
            ],
            "application/vnd.google.colaboratory.intrinsic+json": {
              "type": "string"
            }
          },
          "metadata": {},
          "execution_count": 108
        }
      ],
      "source": [
        "input_text='velocidad de la'\n",
        "\n",
        "generate_seq(model, tok, input_text, max_length=3, n_words=1)"
      ]
    },
    {
      "cell_type": "code",
      "execution_count": null,
      "metadata": {
        "colab": {
          "base_uri": "https://localhost:8080/",
          "height": 105
        },
        "id": "vuRo_1CRKB-b",
        "outputId": "8765d45c-5ac7-4c38-bcc8-f86e0a69dbb8"
      },
      "outputs": [
        {
          "output_type": "stream",
          "name": "stdout",
          "text": [
            "1/1 [==============================] - 0s 61ms/step\n",
            "1/1 [==============================] - 0s 29ms/step\n",
            "1/1 [==============================] - 0s 31ms/step\n",
            "1/1 [==============================] - 0s 59ms/step\n"
          ]
        },
        {
          "output_type": "execute_result",
          "data": {
            "text/plain": [
              "'droide de   '"
            ],
            "application/vnd.google.colaboratory.intrinsic+json": {
              "type": "string"
            }
          },
          "metadata": {},
          "execution_count": 119
        }
      ],
      "source": [
        "input_text='droide'\n",
        "\n",
        "generate_seq(model, tok, input_text, max_length=3, n_words=4)"
      ]
    },
    {
      "cell_type": "code",
      "execution_count": null,
      "metadata": {
        "colab": {
          "base_uri": "https://localhost:8080/",
          "height": 87
        },
        "id": "PWdDgjCcKCCo",
        "outputId": "d2ab9926-cadb-45bc-8fa9-7bdd6ff872ca"
      },
      "outputs": [
        {
          "output_type": "stream",
          "name": "stdout",
          "text": [
            "1/1 [==============================] - 0s 19ms/step\n",
            "1/1 [==============================] - 0s 19ms/step\n",
            "1/1 [==============================] - 0s 18ms/step\n"
          ]
        },
        {
          "output_type": "execute_result",
          "data": {
            "text/plain": [
              "'clones de no si'"
            ],
            "application/vnd.google.colaboratory.intrinsic+json": {
              "type": "string"
            }
          },
          "metadata": {},
          "execution_count": 110
        }
      ],
      "source": [
        "input_text='clones'\n",
        "\n",
        "generate_seq(model, tok, input_text, max_length=3, n_words=3)"
      ]
    },
    {
      "cell_type": "code",
      "execution_count": null,
      "metadata": {
        "colab": {
          "base_uri": "https://localhost:8080/",
          "height": 70
        },
        "id": "RyXB0hfJKCLy",
        "outputId": "aea85770-5600-416e-90ee-cb4c89f46bdd"
      },
      "outputs": [
        {
          "output_type": "stream",
          "name": "stdout",
          "text": [
            "1/1 [==============================] - 0s 20ms/step\n",
            "1/1 [==============================] - 0s 24ms/step\n"
          ]
        },
        {
          "output_type": "execute_result",
          "data": {
            "text/plain": [
              "'estrella de la rojo que'"
            ],
            "application/vnd.google.colaboratory.intrinsic+json": {
              "type": "string"
            }
          },
          "metadata": {},
          "execution_count": 120
        }
      ],
      "source": [
        "input_text='estrella de la'\n",
        "\n",
        "generate_seq(model, tok, input_text, max_length=3, n_words=2)"
      ]
    },
    {
      "cell_type": "code",
      "execution_count": null,
      "metadata": {
        "colab": {
          "base_uri": "https://localhost:8080/",
          "height": 105
        },
        "id": "yivKvfiCKSfp",
        "outputId": "a6be8a52-fa46-4fe6-a2ca-1b597fa94172"
      },
      "outputs": [
        {
          "output_type": "stream",
          "name": "stdout",
          "text": [
            "1/1 [==============================] - 0s 20ms/step\n",
            "1/1 [==============================] - 0s 19ms/step\n",
            "1/1 [==============================] - 0s 19ms/step\n",
            "1/1 [==============================] - 0s 24ms/step\n"
          ]
        },
        {
          "output_type": "execute_result",
          "data": {
            "text/plain": [
              "'lider rojo que   '"
            ],
            "application/vnd.google.colaboratory.intrinsic+json": {
              "type": "string"
            }
          },
          "metadata": {},
          "execution_count": 121
        }
      ],
      "source": [
        "input_text='lider rojo'\n",
        "\n",
        "generate_seq(model, tok, input_text, max_length=3, n_words=4)"
      ]
    },
    {
      "cell_type": "code",
      "execution_count": null,
      "metadata": {
        "colab": {
          "base_uri": "https://localhost:8080/",
          "height": 105
        },
        "id": "g6FrzdZQKSl7",
        "outputId": "b931f7ef-bcf3-4412-93ad-eb76c645e035"
      },
      "outputs": [
        {
          "output_type": "stream",
          "name": "stdout",
          "text": [
            "1/1 [==============================] - 0s 19ms/step\n",
            "1/1 [==============================] - 0s 18ms/step\n",
            "1/1 [==============================] - 0s 20ms/step\n",
            "1/1 [==============================] - 0s 18ms/step\n"
          ]
        },
        {
          "output_type": "execute_result",
          "data": {
            "text/plain": [
              "'carreras de no   '"
            ],
            "application/vnd.google.colaboratory.intrinsic+json": {
              "type": "string"
            }
          },
          "metadata": {},
          "execution_count": 122
        }
      ],
      "source": [
        "input_text='carreras de'\n",
        "\n",
        "generate_seq(model, tok, input_text, max_length=3, n_words=4)"
      ]
    },
    {
      "cell_type": "code",
      "execution_count": null,
      "metadata": {
        "colab": {
          "base_uri": "https://localhost:8080/",
          "height": 105
        },
        "id": "Sb6cWwMdKXW2",
        "outputId": "e9d1581e-6d6d-44c1-d66c-1cd30c9b5e9e"
      },
      "outputs": [
        {
          "output_type": "stream",
          "name": "stdout",
          "text": [
            "1/1 [==============================] - 0s 20ms/step\n",
            "1/1 [==============================] - 0s 19ms/step\n",
            "1/1 [==============================] - 0s 22ms/step\n",
            "1/1 [==============================] - 0s 24ms/step\n"
          ]
        },
        {
          "output_type": "execute_result",
          "data": {
            "text/plain": [
              "'la fuerza de no si de'"
            ],
            "application/vnd.google.colaboratory.intrinsic+json": {
              "type": "string"
            }
          },
          "metadata": {},
          "execution_count": 124
        }
      ],
      "source": [
        "input_text='la fuerza'\n",
        "\n",
        "generate_seq(model, tok, input_text, max_length=3, n_words=4)"
      ]
    },
    {
      "cell_type": "code",
      "execution_count": null,
      "metadata": {
        "colab": {
          "base_uri": "https://localhost:8080/",
          "height": 105
        },
        "id": "V3oBc1cYKXcY",
        "outputId": "7981951b-46c4-4a48-dfb5-d291636989fb"
      },
      "outputs": [
        {
          "output_type": "stream",
          "name": "stdout",
          "text": [
            "1/1 [==============================] - 0s 20ms/step\n",
            "1/1 [==============================] - 0s 27ms/step\n",
            "1/1 [==============================] - 0s 21ms/step\n",
            "1/1 [==============================] - 0s 19ms/step\n"
          ]
        },
        {
          "output_type": "execute_result",
          "data": {
            "text/plain": [
              "'laia y luke de no si de'"
            ],
            "application/vnd.google.colaboratory.intrinsic+json": {
              "type": "string"
            }
          },
          "metadata": {},
          "execution_count": 115
        }
      ],
      "source": [
        "# se analisa la generacion de paralabras sobre personas\n",
        "input_text='laia y luke'\n",
        "\n",
        "generate_seq(model, tok, input_text, max_length=3, n_words=4)"
      ]
    },
    {
      "cell_type": "code",
      "execution_count": null,
      "metadata": {
        "colab": {
          "base_uri": "https://localhost:8080/",
          "height": 105
        },
        "id": "ExtP1BlSKq5-",
        "outputId": "38703270-46a6-4ed7-fa1c-c9d3f0a62f1f"
      },
      "outputs": [
        {
          "output_type": "stream",
          "name": "stdout",
          "text": [
            "1/1 [==============================] - 0s 20ms/step\n",
            "1/1 [==============================] - 0s 20ms/step\n",
            "1/1 [==============================] - 0s 20ms/step\n",
            "1/1 [==============================] - 0s 20ms/step\n"
          ]
        },
        {
          "output_type": "execute_result",
          "data": {
            "text/plain": [
              "'darth vader y luke de no si de'"
            ],
            "application/vnd.google.colaboratory.intrinsic+json": {
              "type": "string"
            }
          },
          "metadata": {},
          "execution_count": 116
        }
      ],
      "source": [
        "# se analisa la generacion de paralabras sobre personas\n",
        "input_text='darth vader y luke'\n",
        "\n",
        "generate_seq(model, tok, input_text, max_length=3, n_words=4)"
      ]
    },
    {
      "cell_type": "code",
      "source": [
        "# se analisa la generacion de paralabras sobre personas\n",
        "input_text='han solo y chewbacca'\n",
        "\n",
        "generate_seq(model, tok, input_text, max_length=3, n_words=4)"
      ],
      "metadata": {
        "colab": {
          "base_uri": "https://localhost:8080/",
          "height": 105
        },
        "id": "Zgdwkrj6K3Ah",
        "outputId": "a72f23a1-4d1d-4478-c88f-2a946e3e68ef"
      },
      "execution_count": null,
      "outputs": [
        {
          "output_type": "stream",
          "name": "stdout",
          "text": [
            "1/1 [==============================] - 0s 20ms/step\n",
            "1/1 [==============================] - 0s 20ms/step\n",
            "1/1 [==============================] - 0s 22ms/step\n",
            "1/1 [==============================] - 0s 21ms/step\n"
          ]
        },
        {
          "output_type": "execute_result",
          "data": {
            "text/plain": [
              "'han solo y chewbacca de no si de'"
            ],
            "application/vnd.google.colaboratory.intrinsic+json": {
              "type": "string"
            }
          },
          "metadata": {},
          "execution_count": 117
        }
      ]
    },
    {
      "cell_type": "code",
      "source": [
        "input_text='los skywalker son'\n",
        "\n",
        "generate_seq(model, tok, input_text, max_length=3, n_words=4)"
      ],
      "metadata": {
        "colab": {
          "base_uri": "https://localhost:8080/",
          "height": 105
        },
        "id": "4wbwk7XDLAY_",
        "outputId": "ebe75484-8475-4c2d-e6f6-1f0829e6484a"
      },
      "execution_count": null,
      "outputs": [
        {
          "output_type": "stream",
          "name": "stdout",
          "text": [
            "1/1 [==============================] - 0s 20ms/step\n",
            "1/1 [==============================] - 0s 19ms/step\n",
            "1/1 [==============================] - 0s 20ms/step\n",
            "1/1 [==============================] - 0s 21ms/step\n"
          ]
        },
        {
          "output_type": "execute_result",
          "data": {
            "text/plain": [
              "'los skywalker son    '"
            ],
            "application/vnd.google.colaboratory.intrinsic+json": {
              "type": "string"
            }
          },
          "metadata": {},
          "execution_count": 118
        }
      ]
    },
    {
      "cell_type": "code",
      "source": [
        "input_text='el planeta es'\n",
        "\n",
        "generate_seq(model, tok, input_text, max_length=3, n_words=4)"
      ],
      "metadata": {
        "colab": {
          "base_uri": "https://localhost:8080/",
          "height": 105
        },
        "id": "-4stmFNKNiEU",
        "outputId": "64391571-b9e0-44c9-a130-9de8895e48a1"
      },
      "execution_count": null,
      "outputs": [
        {
          "output_type": "stream",
          "name": "stdout",
          "text": [
            "1/1 [==============================] - 0s 29ms/step\n",
            "1/1 [==============================] - 0s 28ms/step\n",
            "1/1 [==============================] - 0s 28ms/step\n",
            "1/1 [==============================] - 0s 31ms/step\n"
          ]
        },
        {
          "output_type": "execute_result",
          "data": {
            "text/plain": [
              "'el planeta es es es es es'"
            ],
            "application/vnd.google.colaboratory.intrinsic+json": {
              "type": "string"
            }
          },
          "metadata": {},
          "execution_count": 128
        }
      ]
    },
    {
      "cell_type": "code",
      "source": [
        "input_text='los reveldes son'\n",
        "\n",
        "generate_seq(model, tok, input_text, max_length=3, n_words=7)"
      ],
      "metadata": {
        "colab": {
          "base_uri": "https://localhost:8080/",
          "height": 157
        },
        "id": "Fj3jW08bNv9t",
        "outputId": "ca170c32-8ef3-4186-ebfc-9d6dee750fa8"
      },
      "execution_count": null,
      "outputs": [
        {
          "output_type": "stream",
          "name": "stdout",
          "text": [
            "1/1 [==============================] - 0s 20ms/step\n",
            "1/1 [==============================] - 0s 21ms/step\n",
            "1/1 [==============================] - 0s 18ms/step\n",
            "1/1 [==============================] - 0s 20ms/step\n",
            "1/1 [==============================] - 0s 20ms/step\n",
            "1/1 [==============================] - 0s 19ms/step\n",
            "1/1 [==============================] - 0s 18ms/step\n"
          ]
        },
        {
          "output_type": "execute_result",
          "data": {
            "text/plain": [
              "'los reveldes son averiguar de no    '"
            ],
            "application/vnd.google.colaboratory.intrinsic+json": {
              "type": "string"
            }
          },
          "metadata": {},
          "execution_count": 130
        }
      ]
    },
    {
      "cell_type": "code",
      "source": [
        "input_text='el imperio'\n",
        "\n",
        "generate_seq(model, tok, input_text, max_length=3, n_words=4)"
      ],
      "metadata": {
        "colab": {
          "base_uri": "https://localhost:8080/",
          "height": 105
        },
        "id": "DCGmxLYcN11F",
        "outputId": "b9517974-15ab-44b6-9aa7-f33b0b59b7c5"
      },
      "execution_count": null,
      "outputs": [
        {
          "output_type": "stream",
          "name": "stdout",
          "text": [
            "1/1 [==============================] - 0s 51ms/step\n",
            "1/1 [==============================] - 0s 37ms/step\n",
            "1/1 [==============================] - 0s 63ms/step\n",
            "1/1 [==============================] - 0s 28ms/step\n"
          ]
        },
        {
          "output_type": "execute_result",
          "data": {
            "text/plain": [
              "'el imperio de no si de'"
            ],
            "application/vnd.google.colaboratory.intrinsic+json": {
              "type": "string"
            }
          },
          "metadata": {},
          "execution_count": 134
        }
      ]
    },
    {
      "cell_type": "code",
      "source": [
        "input_text='las naves'\n",
        "\n",
        "generate_seq(model, tok, input_text, max_length=3, n_words=4)"
      ],
      "metadata": {
        "colab": {
          "base_uri": "https://localhost:8080/",
          "height": 105
        },
        "id": "aaOAlFySOjD8",
        "outputId": "550dd4ce-39e6-4073-e738-90006fa517ae"
      },
      "execution_count": null,
      "outputs": [
        {
          "output_type": "stream",
          "name": "stdout",
          "text": [
            "1/1 [==============================] - 0s 22ms/step\n",
            "1/1 [==============================] - 0s 18ms/step\n",
            "1/1 [==============================] - 0s 18ms/step\n",
            "1/1 [==============================] - 0s 26ms/step\n"
          ]
        },
        {
          "output_type": "execute_result",
          "data": {
            "text/plain": [
              "'las naves que de  '"
            ],
            "application/vnd.google.colaboratory.intrinsic+json": {
              "type": "string"
            }
          },
          "metadata": {},
          "execution_count": 135
        }
      ]
    },
    {
      "cell_type": "markdown",
      "metadata": {
        "id": "T2SHmXbgxQH9"
      },
      "source": [
        "### 7 - Conclusiones\n",
        "El modelo entrenado tuvo un muy mail desempeño en el entrenamiento además de overfitting. Cuestiones que podrían mejorarse:\n",
        "- Agregar más capas o neuronaes\n",
        "- Incrementar la cantidad de épocas\n",
        "- Agregar BRNN\n",
        "\n",
        "Es importante destacar que en este ejemplo estamos entrenando nuestro propios Embeddings, y para ello se requiere mucha data. En los ejemplos que realizaremos de aquí en más utilizaremos más datos, embeddings pre-enternados o modelos pre-entrenados."
      ]
    },
    {
      "cell_type": "markdown",
      "source": [
        "**Variaciones del modelo:**\n",
        "\n",
        "\n",
        "*   Se realizaron entrenamientos con diferentes variaciones en la red:\n",
        "Capa de embedding: aumentar el tamaño de esta no aporto mejoras en la validación de la red.\n",
        "*   Capa bidireccional: la inclusión de una capa bidireccional presento mejoras en el modelo.\n",
        "\n",
        "*   Cambio de capa de memoria: se cambiaron las capas LSTM por GRU, el modelo no presento diferencias en validación, pero si en cantidad de parámetros totales. Esto tiene sentido ya que a este modelo no se le pide utilizar las cualidades de memoria a largo plazo de LSTM y las GRU pueden satisfacer las características que se buscan.\n",
        "\n",
        "*   Capas densas: Se agrego otra capa densa luego de las capas de memoria, esta capa densa tiene el mismo tamaño de neuronas que la última capa de memoria. Esto aporto mejoras en la validación del modelo.\n",
        "\n",
        "\n",
        "**Análisis de resultados:**\n",
        "\n",
        "El modelo presenta una tendencia un utilizar las palabras DE, NO, SI y ES sin mucha distinción. Hay casos donde la red puede generar oraciones con algún sentido, pero no llega a grandes resultados.\n"
      ],
      "metadata": {
        "id": "SeRgSY_aPeAL"
      }
    }
  ],
  "metadata": {
    "accelerator": "GPU",
    "colab": {
      "provenance": [],
      "gpuType": "T4"
    },
    "kernelspec": {
      "display_name": "Python 3",
      "name": "python3"
    },
    "language_info": {
      "name": "python"
    }
  },
  "nbformat": 4,
  "nbformat_minor": 0
}