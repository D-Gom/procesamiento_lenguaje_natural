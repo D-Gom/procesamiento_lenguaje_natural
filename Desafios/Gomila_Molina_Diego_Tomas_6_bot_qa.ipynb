{
  "cells": [
    {
      "cell_type": "markdown",
      "metadata": {
        "id": "pfa39F4lsLf3"
      },
      "source": [
        "<img src=\"https://github.com/hernancontigiani/ceia_memorias_especializacion/raw/master/Figures/logoFIUBA.jpg\" width=\"500\" align=\"center\">\n",
        "\n",
        "\n",
        "# Procesamiento de lenguaje natural\n",
        "## LSTM Bot QA"
      ]
    },
    {
      "cell_type": "markdown",
      "metadata": {
        "id": "ZqO0PRcFsPTe"
      },
      "source": [
        "### Datos\n",
        "El objecto es utilizar datos disponibles del challenge ConvAI2 (Conversational Intelligence Challenge 2) de conversaciones en inglés. Se construirá un BOT para responder a preguntas del usuario (QA).\\\n",
        "[LINK](http://convai.io/data/)"
      ]
    },
    {
      "cell_type": "code",
      "execution_count": null,
      "metadata": {
        "id": "bDFC0I3j9oFD"
      },
      "outputs": [],
      "source": [
        "!pip install --upgrade --no-cache-dir gdown --quiet"
      ]
    },
    {
      "cell_type": "code",
      "execution_count": null,
      "metadata": {
        "id": "cq3YXak9sGHd"
      },
      "outputs": [],
      "source": [
        "import re\n",
        "\n",
        "import numpy as np\n",
        "import pandas as pd\n",
        "\n",
        "import tensorflow as tf\n",
        "from keras.preprocessing.text import one_hot\n",
        "from tensorflow.keras.utils import pad_sequences\n",
        "from keras.models import Sequential\n",
        "from keras.layers.core import Activation, Dropout, Dense\n",
        "from keras.layers import Flatten, LSTM, SimpleRNN, Bidirectional\n",
        "from keras.models import Model\n",
        "from tensorflow.keras.layers import Embedding\n",
        "from sklearn.model_selection import train_test_split\n",
        "from keras.preprocessing.text import Tokenizer\n",
        "from keras.layers import Input"
      ]
    },
    {
      "cell_type": "code",
      "execution_count": null,
      "metadata": {
        "id": "RHNkUaPp6aYq",
        "colab": {
          "base_uri": "https://localhost:8080/"
        },
        "outputId": "248be3bb-0c7a-478a-a4a1-4f57a53145f4"
      },
      "outputs": [
        {
          "output_type": "stream",
          "name": "stderr",
          "text": [
            "Downloading...\n",
            "From: https://drive.google.com/uc?id=1awUxYwImF84MIT5-jCaYAPe2QwSgS1hN&export=download\n",
            "To: /content/data_volunteers.json\n",
            "100%|██████████| 2.58M/2.58M [00:00<00:00, 228MB/s]\n"
          ]
        }
      ],
      "source": [
        "# Descargar la carpeta de dataset\n",
        "import os\n",
        "import gdown\n",
        "if os.access('data_volunteers.json', os.F_OK) is False:\n",
        "    url = 'https://drive.google.com/uc?id=1awUxYwImF84MIT5-jCaYAPe2QwSgS1hN&export=download'\n",
        "    output = 'data_volunteers.json'\n",
        "    gdown.download(url, output, quiet=False)\n",
        "else:\n",
        "    print(\"El dataset ya se encuentra descargado\")"
      ]
    },
    {
      "cell_type": "code",
      "execution_count": null,
      "metadata": {
        "id": "WZy1-wgG-Rp7"
      },
      "outputs": [],
      "source": [
        "# dataset_file\n",
        "import json\n",
        "\n",
        "text_file = \"data_volunteers.json\"\n",
        "with open(text_file) as f:\n",
        "    data = json.load(f) # la variable data será un diccionario\n",
        "\n"
      ]
    },
    {
      "cell_type": "code",
      "execution_count": null,
      "metadata": {
        "id": "ue5qd54S-eew",
        "colab": {
          "base_uri": "https://localhost:8080/"
        },
        "outputId": "9bdb1811-175d-4b98-9084-776362c8191c"
      },
      "outputs": [
        {
          "output_type": "execute_result",
          "data": {
            "text/plain": [
              "dict_keys(['dialog', 'start_time', 'end_time', 'bot_profile', 'user_profile', 'eval_score', 'profile_match', 'participant1_id', 'participant2_id'])"
            ]
          },
          "metadata": {},
          "execution_count": 5
        }
      ],
      "source": [
        "# Observar los campos disponibles en cada linea del dataset\n",
        "data[0].keys()"
      ]
    },
    {
      "cell_type": "code",
      "execution_count": null,
      "metadata": {
        "id": "jHBRAXPl-3dz",
        "colab": {
          "base_uri": "https://localhost:8080/"
        },
        "outputId": "37d36f74-85c4-440a-9101-c82f2ca972e6"
      },
      "outputs": [
        {
          "output_type": "stream",
          "name": "stdout",
          "text": [
            "Cantidad de rows utilizadas: 6033\n"
          ]
        }
      ],
      "source": [
        "chat_in = []\n",
        "chat_out = []\n",
        "\n",
        "input_sentences = []\n",
        "output_sentences = []\n",
        "output_sentences_inputs = []\n",
        "max_len = 30\n",
        "\n",
        "def clean_text(txt):\n",
        "    txt = txt.lower()\n",
        "    txt.replace(\"\\'d\", \" had\")\n",
        "    txt.replace(\"\\'s\", \" is\")\n",
        "    txt.replace(\"\\'m\", \" am\")\n",
        "    txt.replace(\"don't\", \"do not\")\n",
        "    txt = re.sub(r'\\W+', ' ', txt)\n",
        "\n",
        "    return txt\n",
        "\n",
        "for line in data:\n",
        "    for i in range(len(line['dialog'])-1):\n",
        "        # vamos separando el texto en \"preguntas\" (chat_in)\n",
        "        # y \"respuestas\" (chat_out)\n",
        "        chat_in = clean_text(line['dialog'][i]['text'])\n",
        "        chat_out = clean_text(line['dialog'][i+1]['text'])\n",
        "\n",
        "        if len(chat_in) >= max_len or len(chat_out) >= max_len:\n",
        "            continue\n",
        "\n",
        "        input_sentence, output = chat_in, chat_out\n",
        "\n",
        "        # output sentence (decoder_output) tiene <eos>\n",
        "        output_sentence = output + ' <eos>'\n",
        "        # output sentence input (decoder_input) tiene <sos>\n",
        "        output_sentence_input = '<sos> ' + output\n",
        "\n",
        "        input_sentences.append(input_sentence)\n",
        "        output_sentences.append(output_sentence)\n",
        "        output_sentences_inputs.append(output_sentence_input)\n",
        "\n",
        "\n",
        "print(\"Cantidad de rows utilizadas:\", len(input_sentences))"
      ]
    },
    {
      "cell_type": "code",
      "execution_count": null,
      "metadata": {
        "id": "07L1qj8pC_l6",
        "colab": {
          "base_uri": "https://localhost:8080/"
        },
        "outputId": "4b3b49db-a009-4568-9516-db947c2848e2"
      },
      "outputs": [
        {
          "output_type": "execute_result",
          "data": {
            "text/plain": [
              "('hi how are you ', 'not bad and you  <eos>', '<sos> not bad and you ')"
            ]
          },
          "metadata": {},
          "execution_count": 7
        }
      ],
      "source": [
        "input_sentences[1], output_sentences[1], output_sentences_inputs[1]"
      ]
    },
    {
      "cell_type": "markdown",
      "metadata": {
        "id": "8P-ynUNP5xp6"
      },
      "source": [
        "### 2 - Preprocesamiento\n",
        "Realizar el preprocesamiento necesario para obtener:\n",
        "- word2idx_inputs, max_input_len\n",
        "- word2idx_outputs, max_out_len, num_words_output\n",
        "- encoder_input_sequences, decoder_output_sequences, decoder_targets"
      ]
    },
    {
      "cell_type": "code",
      "source": [
        "# Definir el tamaño máximo del vocabulario\n",
        "MAX_VOCAB_SIZE = 8000"
      ],
      "metadata": {
        "id": "p06OL3eMm-Gi"
      },
      "execution_count": null,
      "outputs": []
    },
    {
      "cell_type": "code",
      "source": [
        "# Tokenizar las palabras con el Tokenizer de Keras\n",
        "# Definir una máxima cantidad de palabras a utilizar:\n",
        "# - num_words --> the maximum number of words to keep, based on word frequency.\n",
        "# - Only the most common num_words-1 words will be kept.\n",
        "from keras.preprocessing.text import Tokenizer\n",
        "\n",
        "# tokenizador de inglés\n",
        "input_tokenizer = Tokenizer(num_words=MAX_VOCAB_SIZE)\n",
        "input_tokenizer.fit_on_texts(input_sentences)\n",
        "input_integer_seq = input_tokenizer.texts_to_sequences(input_sentences)\n",
        "\n",
        "word2idx_inputs = input_tokenizer.word_index\n",
        "print(\"Palabras en el vocabulario:\", len(word2idx_inputs))\n",
        "\n",
        "max_input_len = max(len(sen) for sen in input_integer_seq)\n",
        "print(\"Sentencia de entrada más larga:\", max_input_len)"
      ],
      "metadata": {
        "colab": {
          "base_uri": "https://localhost:8080/"
        },
        "id": "kmT8HoU3nBTp",
        "outputId": "4b628460-460d-4fba-d08a-f1026655ced7"
      },
      "execution_count": null,
      "outputs": [
        {
          "output_type": "stream",
          "name": "stdout",
          "text": [
            "Palabras en el vocabulario: 1799\n",
            "Sentencia de entrada más larga: 9\n"
          ]
        }
      ]
    },
    {
      "cell_type": "code",
      "source": [
        "# tokenizador de salida\n",
        "# A los filtros de símbolos del Tokenizer agregamos el \"¿\",\n",
        "# sacamos los \"<>\" para que no afectar nuestros tokens\n",
        "output_tokenizer = Tokenizer(num_words=MAX_VOCAB_SIZE, filters='!\"#$%&()*+,-./:;=¿?@[\\\\]^_`{|}~\\t\\n')\n",
        "output_tokenizer.fit_on_texts([\"<sos>\", \"<eos>\"] + output_sentences)\n",
        "output_integer_seq = output_tokenizer.texts_to_sequences(output_sentences)\n",
        "output_input_integer_seq = output_tokenizer.texts_to_sequences(output_sentences_inputs)\n",
        "\n",
        "word2idx_outputs = output_tokenizer.word_index\n",
        "print(\"Palabras en el vocabulario:\", len(word2idx_outputs))\n",
        "\n",
        "num_words_output = min(len(word2idx_outputs) + 1, MAX_VOCAB_SIZE)\n",
        "# Se suma 1 para incluir el token de palabra desconocida\n",
        "\n",
        "max_out_len = max(len(sen) for sen in output_integer_seq)\n",
        "print(\"Sentencia de salida más larga:\", max_out_len)"
      ],
      "metadata": {
        "colab": {
          "base_uri": "https://localhost:8080/"
        },
        "id": "wHETiQYtnTwG",
        "outputId": "080f99fc-58ae-4d0e-ab0f-99e7d194d369"
      },
      "execution_count": null,
      "outputs": [
        {
          "output_type": "stream",
          "name": "stdout",
          "text": [
            "Palabras en el vocabulario: 1806\n",
            "Sentencia de salida más larga: 10\n"
          ]
        }
      ]
    },
    {
      "cell_type": "code",
      "source": [
        "# Por una cuestion de que no explote la RAM se limitará el tamaño de las sentencias de entrada\n",
        "# a la mitad:\n",
        "# max_input_len = 16\n",
        "# max_out_len = 18"
      ],
      "metadata": {
        "id": "WyTOFDWhp37O"
      },
      "execution_count": null,
      "outputs": []
    },
    {
      "cell_type": "markdown",
      "source": [
        "A la hora de realiza padding es importante tener en cuenta que en el encoder los ceros se agregan al comienzo y en el decoder al final. Esto es porque la salida del encoder está basado en las últimas palabras de la sentencia (son las más importantes), mientras que en el decoder está basado en el comienzo de la secuencia de salida ya que es la realimentación del sistema y termina con fin de sentencia."
      ],
      "metadata": {
        "id": "Bhxne3OQqCau"
      }
    },
    {
      "cell_type": "code",
      "source": [
        "print(\"Cantidad de rows del dataset:\", len(input_integer_seq))\n",
        "\n",
        "encoder_input_sequences = pad_sequences(input_integer_seq, maxlen=max_input_len)\n",
        "print(\"encoder_input_sequences shape:\", encoder_input_sequences.shape)\n",
        "\n",
        "decoder_input_sequences = pad_sequences(output_input_integer_seq, maxlen=max_out_len, padding='post')\n",
        "print(\"decoder_input_sequences shape:\", decoder_input_sequences.shape)"
      ],
      "metadata": {
        "colab": {
          "base_uri": "https://localhost:8080/"
        },
        "id": "fWB6DSMKqBnO",
        "outputId": "dc2a2740-5e39-4956-c6bf-91dfdf5226a4"
      },
      "execution_count": null,
      "outputs": [
        {
          "output_type": "stream",
          "name": "stdout",
          "text": [
            "Cantidad de rows del dataset: 6033\n",
            "encoder_input_sequences shape: (6033, 9)\n",
            "decoder_input_sequences shape: (6033, 10)\n"
          ]
        }
      ]
    },
    {
      "cell_type": "markdown",
      "source": [
        "La última capa del modelo (softmax) necesita que los valores de salida del decoder (decoder_sequences) estén en formato oneHotEncoder.\n",
        "Se utiliza \"decoder_output_sequences\" con la misma estrategia con que se transformó la entrada del decoder."
      ],
      "metadata": {
        "id": "EgPEnbyhqHf2"
      }
    },
    {
      "cell_type": "code",
      "source": [
        "from keras.utils.np_utils import to_categorical\n",
        "decoder_output_sequences = pad_sequences(output_integer_seq, maxlen=max_out_len, padding='post')\n",
        "decoder_targets = to_categorical(decoder_output_sequences, num_classes=num_words_output)\n",
        "decoder_targets.shape"
      ],
      "metadata": {
        "colab": {
          "base_uri": "https://localhost:8080/"
        },
        "id": "a3embIYYqIyG",
        "outputId": "6a07cf48-f44c-4d67-9424-24e6430611ed"
      },
      "execution_count": null,
      "outputs": [
        {
          "output_type": "execute_result",
          "data": {
            "text/plain": [
              "(6033, 10, 1807)"
            ]
          },
          "metadata": {},
          "execution_count": 13
        }
      ]
    },
    {
      "cell_type": "markdown",
      "metadata": {
        "id": "_CJIsLBbj6rg"
      },
      "source": [
        "### 3 - Preparar los embeddings\n",
        "Utilizar los embeddings de Glove o FastText para transformar los tokens de entrada en vectores"
      ]
    },
    {
      "cell_type": "code",
      "source": [
        "# Descargar los embeddings desde un gogle drive (es la forma más rápida)\n",
        "# NOTA: No hay garantía de que estos links perduren, en caso de que no estén\n",
        "# disponibles descargar de la página oficial como se explica en el siguiente bloque\n",
        "!curl -L -o 'fasttext.pkl' 'https://drive.google.com/u/0/uc?id=1Qi1r-u5lsEsNqRSxLrpNOqQ3B_ufltCa&export=download&confirm=t'"
      ],
      "metadata": {
        "colab": {
          "base_uri": "https://localhost:8080/"
        },
        "id": "XmtiLNNGqXBe",
        "outputId": "212bacb2-5090-44d2-b922-1d2e9fc83c8c"
      },
      "execution_count": null,
      "outputs": [
        {
          "output_type": "stream",
          "name": "stdout",
          "text": [
            "  % Total    % Received % Xferd  Average Speed   Time    Time     Time  Current\n",
            "                                 Dload  Upload   Total   Spent    Left  Speed\n",
            "  0     0    0     0    0     0      0      0 --:--:-- --:--:-- --:--:--     0\n",
            "  0     0    0     0    0     0      0      0 --:--:-- --:--:-- --:--:--     0\n",
            "100 2746M  100 2746M    0     0  56.6M      0  0:00:48  0:00:48 --:--:-- 63.1M\n"
          ]
        }
      ]
    },
    {
      "cell_type": "code",
      "source": [
        "import logging\n",
        "import os\n",
        "from pathlib import Path\n",
        "from io import StringIO\n",
        "import pickle\n",
        "\n",
        "class WordsEmbeddings(object):\n",
        "    logger = logging.getLogger(__name__)\n",
        "\n",
        "    def __init__(self):\n",
        "        # load the embeddings\n",
        "        words_embedding_pkl = Path(self.PKL_PATH)\n",
        "        if not words_embedding_pkl.is_file():\n",
        "            words_embedding_txt = Path(self.WORD_TO_VEC_MODEL_TXT_PATH)\n",
        "            assert words_embedding_txt.is_file(), 'Words embedding not available'\n",
        "            embeddings = self.convert_model_to_pickle()\n",
        "        else:\n",
        "            embeddings = self.load_model_from_pickle()\n",
        "        self.embeddings = embeddings\n",
        "        # build the vocabulary hashmap\n",
        "        index = np.arange(self.embeddings.shape[0])\n",
        "        # Dicctionarios para traducir de embedding a IDX de la palabra\n",
        "        self.word2idx = dict(zip(self.embeddings['word'], index))\n",
        "        self.idx2word = dict(zip(index, self.embeddings['word']))\n",
        "\n",
        "    def get_words_embeddings(self, words):\n",
        "        words_idxs = self.words2idxs(words)\n",
        "        return self.embeddings[words_idxs]['embedding']\n",
        "\n",
        "    def words2idxs(self, words):\n",
        "        return np.array([self.word2idx.get(word, -1) for word in words])\n",
        "\n",
        "    def idxs2words(self, idxs):\n",
        "        return np.array([self.idx2word.get(idx, '-1') for idx in idxs])\n",
        "\n",
        "    def load_model_from_pickle(self):\n",
        "        self.logger.debug(\n",
        "            'loading words embeddings from pickle {}'.format(\n",
        "                self.PKL_PATH\n",
        "            )\n",
        "        )\n",
        "        max_bytes = 2**28 - 1 # 256MB\n",
        "        bytes_in = bytearray(0)\n",
        "        input_size = os.path.getsize(self.PKL_PATH)\n",
        "        with open(self.PKL_PATH, 'rb') as f_in:\n",
        "            for _ in range(0, input_size, max_bytes):\n",
        "                bytes_in += f_in.read(max_bytes)\n",
        "        embeddings = pickle.loads(bytes_in)\n",
        "        self.logger.debug('words embeddings loaded')\n",
        "        return embeddings\n",
        "\n",
        "    def convert_model_to_pickle(self):\n",
        "        # create a numpy strctured array:\n",
        "        # word     embedding\n",
        "        # U50      np.float32[]\n",
        "        # word_1   a, b, c\n",
        "        # word_2   d, e, f\n",
        "        # ...\n",
        "        # word_n   g, h, i\n",
        "        self.logger.debug(\n",
        "            'converting and loading words embeddings from text file {}'.format(\n",
        "                self.WORD_TO_VEC_MODEL_TXT_PATH\n",
        "            )\n",
        "        )\n",
        "        structure = [('word', np.dtype('U' + str(self.WORD_MAX_SIZE))),\n",
        "                     ('embedding', np.float32, (self.N_FEATURES,))]\n",
        "        structure = np.dtype(structure)\n",
        "        # load numpy array from disk using a generator\n",
        "        with open(self.WORD_TO_VEC_MODEL_TXT_PATH, encoding=\"utf8\") as words_embeddings_txt:\n",
        "            embeddings_gen = (\n",
        "                (line.split()[0], line.split()[1:]) for line in words_embeddings_txt\n",
        "                if len(line.split()[1:]) == self.N_FEATURES\n",
        "            )\n",
        "            embeddings = np.fromiter(embeddings_gen, structure)\n",
        "        # add a null embedding\n",
        "        null_embedding = np.array(\n",
        "            [('null_embedding', np.zeros((self.N_FEATURES,), dtype=np.float32))],\n",
        "            dtype=structure\n",
        "        )\n",
        "        embeddings = np.concatenate([embeddings, null_embedding])\n",
        "        # dump numpy array to disk using pickle\n",
        "        max_bytes = 2**28 - 1 # # 256MB\n",
        "        bytes_out = pickle.dumps(embeddings, protocol=pickle.HIGHEST_PROTOCOL)\n",
        "        with open(self.PKL_PATH, 'wb') as f_out:\n",
        "            for idx in range(0, len(bytes_out), max_bytes):\n",
        "                f_out.write(bytes_out[idx:idx+max_bytes])\n",
        "        self.logger.debug('words embeddings loaded')\n",
        "        return embeddings\n",
        "\n",
        "\n",
        "class GloveEmbeddings(WordsEmbeddings):\n",
        "    WORD_TO_VEC_MODEL_TXT_PATH = 'glove.twitter.27B.50d.txt'\n",
        "    PKL_PATH = 'gloveembedding.pkl'\n",
        "    N_FEATURES = 50\n",
        "    WORD_MAX_SIZE = 60\n",
        "\n",
        "class FasttextEmbeddings(WordsEmbeddings):\n",
        "    WORD_TO_VEC_MODEL_TXT_PATH = 'cc.en.300.vec'\n",
        "    PKL_PATH = 'fasttext.pkl'\n",
        "    N_FEATURES = 300\n",
        "    WORD_MAX_SIZE = 60"
      ],
      "metadata": {
        "id": "DKx2zVuAqapR"
      },
      "execution_count": null,
      "outputs": []
    },
    {
      "cell_type": "code",
      "source": [
        "# Por una cuestion de RAM se utilizarán los embeddings de Fasttex de dimension 300\n",
        "model_embeddings = FasttextEmbeddings()"
      ],
      "metadata": {
        "id": "UjxAXbaGqcSt"
      },
      "execution_count": null,
      "outputs": []
    },
    {
      "cell_type": "code",
      "source": [
        "# Crear la Embedding matrix de las secuencias\n",
        "# en inglés\n",
        "\n",
        "print('preparing embedding matrix...')\n",
        "embed_dim = model_embeddings.N_FEATURES\n",
        "words_not_found = []\n",
        "\n",
        "# word_index provieen del tokenizer\n",
        "\n",
        "nb_words = min(MAX_VOCAB_SIZE, len(word2idx_inputs)) # vocab_size\n",
        "embedding_matrix = np.zeros((nb_words, embed_dim))\n",
        "for word, i in word2idx_inputs.items():\n",
        "    if i >= nb_words:\n",
        "        continue\n",
        "    embedding_vector = model_embeddings.get_words_embeddings(word)[0]\n",
        "    if (embedding_vector is not None) and len(embedding_vector) > 0:\n",
        "\n",
        "        embedding_matrix[i] = embedding_vector\n",
        "    else:\n",
        "        # words not found in embedding index will be all-zeros.\n",
        "        words_not_found.append(word)\n",
        "\n",
        "print('number of null word embeddings Input:', np.sum(np.sum(embedding_matrix**2, axis=1) == 0))\n",
        "\n",
        "# Embedding salida\n",
        "words_not_found_out = []\n",
        "\n",
        "# word_index provieen del tokenizer\n",
        "\n",
        "nb_words_out = min(MAX_VOCAB_SIZE, len(word2idx_outputs)) # vocab_size\n",
        "embedding_matrix_out = np.zeros((nb_words_out, embed_dim))\n",
        "for word, i in word2idx_outputs.items():\n",
        "    if i >= nb_words:\n",
        "        continue\n",
        "    embedding_vector = model_embeddings.get_words_embeddings(word)[0]\n",
        "    if (embedding_vector is not None) and len(embedding_vector) > 0:\n",
        "\n",
        "        embedding_matrix_out[i] = embedding_vector\n",
        "    else:\n",
        "        # words not found in embedding index will be all-zeros.\n",
        "        words_not_found_out.append(word)\n",
        "\n",
        "print('number of null word embeddings Input:', np.sum(np.sum(embedding_matrix_out**2, axis=1) == 0))"
      ],
      "metadata": {
        "colab": {
          "base_uri": "https://localhost:8080/"
        },
        "id": "gUnPgmFvq1qX",
        "outputId": "b43186ad-106f-4e79-bdc7-bf63d3dc140e"
      },
      "execution_count": null,
      "outputs": [
        {
          "output_type": "stream",
          "name": "stdout",
          "text": [
            "preparing embedding matrix...\n",
            "number of null word embeddings Input: 1\n",
            "number of null word embeddings Input: 8\n"
          ]
        }
      ]
    },
    {
      "cell_type": "code",
      "source": [
        "# Dimensión de los embeddings de la secuencia en inglés\n",
        "embedding_matrix.shape"
      ],
      "metadata": {
        "colab": {
          "base_uri": "https://localhost:8080/"
        },
        "id": "87UhAYLiq4l9",
        "outputId": "168a198b-30ec-4aae-e97a-ac750f6a8a29"
      },
      "execution_count": null,
      "outputs": [
        {
          "output_type": "execute_result",
          "data": {
            "text/plain": [
              "(1799, 300)"
            ]
          },
          "metadata": {},
          "execution_count": 18
        }
      ]
    },
    {
      "cell_type": "markdown",
      "metadata": {
        "id": "3vKbhjtIwPgM"
      },
      "source": [
        "### 4 - Entrenar el modelo\n",
        "Entrenar un modelo basado en el esquema encoder-decoder utilizando los datos generados en los puntos anteriores. Utilce como referencias los ejemplos vistos en clase."
      ]
    },
    {
      "cell_type": "code",
      "source": [
        "max_input_len"
      ],
      "metadata": {
        "colab": {
          "base_uri": "https://localhost:8080/"
        },
        "id": "OPmDmwy_q501",
        "outputId": "1b74fd41-0deb-43a5-9b35-dc18d6932320"
      },
      "execution_count": null,
      "outputs": [
        {
          "output_type": "execute_result",
          "data": {
            "text/plain": [
              "9"
            ]
          },
          "metadata": {},
          "execution_count": 19
        }
      ]
    },
    {
      "cell_type": "code",
      "source": [
        "from keras.models import Model\n",
        "from keras.layers import Input, LSTM, Dense, Dropout, Bidirectional\n",
        "\n",
        "n_units = 128\n",
        "\n",
        "# define training encoder\n",
        "encoder_inputs = Input(shape=(max_input_len))\n",
        "\n",
        "#encoder_embedding_layer = Embedding(num_words, EMBEDDING_SIZE, weights=[embedding_matrix], input_length=max_input_len)\n",
        "\n",
        "encoder_embedding_layer = Embedding(\n",
        "          input_dim=nb_words,  # definido en el Tokenizador\n",
        "          output_dim=embed_dim,  # dimensión de los embeddings utilizados\n",
        "          input_length=max_input_len, # tamaño máximo de la secuencia de entrada\n",
        "          weights=[embedding_matrix],  # matrix de embeddings\n",
        "          trainable=False)      # marcar como layer no entrenable\n",
        "\n",
        "encoder_inputs_x = encoder_embedding_layer(encoder_inputs)\n",
        "\n",
        "encoder_Bidirectional_layer = Bidirectional(LSTM(n_units, return_sequences=True), merge_mode=\"concat\")\n",
        "encoder_bidirectional_outputs = encoder_Bidirectional_layer(encoder_inputs_x)\n",
        "\n",
        "\n",
        "encoder = LSTM(n_units, return_state=True)\n",
        "encoder_outputs, state_h, state_c = encoder(encoder_bidirectional_outputs)\n",
        "#Dropout LSTM\n",
        "encoder_outputs = Dropout(rate=0.2)(encoder_outputs)\n",
        "state_h = Dropout(rate=0.2)(state_h)\n",
        "state_c = Dropout(rate=0.2)(state_c)\n",
        "\n",
        "encoder_states = [state_h, state_c]\n",
        "\n",
        "# define training decoder\n",
        "decoder_inputs = Input(shape=(max_out_len))\n",
        "# decoder_embedding_layer = Embedding(input_dim=num_words_output, output_dim=n_units, input_length=max_out_len)\n",
        "\n",
        "decoder_embedding_layer = Embedding(\n",
        "          input_dim=nb_words_out,  # definido en el Tokenizador\n",
        "          output_dim=embed_dim,  # dimensión de los embeddings utilizados\n",
        "          input_length=max_out_len, # tamaño máximo de la secuencia de entrada\n",
        "          weights=[embedding_matrix_out],  # matrix de embeddings\n",
        "          trainable=False)      # marcar como layer no entrenable\n",
        "\n",
        "decoder_inputs_x = decoder_embedding_layer(decoder_inputs)\n",
        "\n",
        "decoder_lstm = LSTM(n_units, return_sequences=True, return_state=True)\n",
        "\n",
        "decoder_outputs, _, _ = decoder_lstm(decoder_inputs_x, initial_state=encoder_states)\n",
        "#Dropout LSTM\n",
        "decoder_outputs = Dropout(rate=0.2)(decoder_outputs)\n",
        "\n",
        "# Dense\n",
        "decoder_dense = Dense(num_words_output, activation='softmax')\n",
        "decoder_outputs = decoder_dense(decoder_outputs)\n",
        "model = Model([encoder_inputs, decoder_inputs], decoder_outputs)\n",
        "\n",
        "model.compile(loss='categorical_crossentropy', optimizer=\"Adam\", metrics=['accuracy'])\n",
        "model.summary()"
      ],
      "metadata": {
        "colab": {
          "base_uri": "https://localhost:8080/"
        },
        "id": "SWMrz17iq90m",
        "outputId": "01756549-e2bf-4087-8202-baefe3b17e8c"
      },
      "execution_count": null,
      "outputs": [
        {
          "output_type": "stream",
          "name": "stdout",
          "text": [
            "Model: \"model\"\n",
            "__________________________________________________________________________________________________\n",
            " Layer (type)                   Output Shape         Param #     Connected to                     \n",
            "==================================================================================================\n",
            " input_1 (InputLayer)           [(None, 9)]          0           []                               \n",
            "                                                                                                  \n",
            " embedding (Embedding)          (None, 9, 300)       539700      ['input_1[0][0]']                \n",
            "                                                                                                  \n",
            " bidirectional (Bidirectional)  (None, 9, 256)       439296      ['embedding[0][0]']              \n",
            "                                                                                                  \n",
            " input_2 (InputLayer)           [(None, 10)]         0           []                               \n",
            "                                                                                                  \n",
            " lstm_1 (LSTM)                  [(None, 128),        197120      ['bidirectional[0][0]']          \n",
            "                                 (None, 128),                                                     \n",
            "                                 (None, 128)]                                                     \n",
            "                                                                                                  \n",
            " embedding_1 (Embedding)        (None, 10, 300)      541800      ['input_2[0][0]']                \n",
            "                                                                                                  \n",
            " dropout_1 (Dropout)            (None, 128)          0           ['lstm_1[0][1]']                 \n",
            "                                                                                                  \n",
            " dropout_2 (Dropout)            (None, 128)          0           ['lstm_1[0][2]']                 \n",
            "                                                                                                  \n",
            " lstm_2 (LSTM)                  [(None, 10, 128),    219648      ['embedding_1[0][0]',            \n",
            "                                 (None, 128),                     'dropout_1[0][0]',              \n",
            "                                 (None, 128)]                     'dropout_2[0][0]']              \n",
            "                                                                                                  \n",
            " dropout_3 (Dropout)            (None, 10, 128)      0           ['lstm_2[0][0]']                 \n",
            "                                                                                                  \n",
            " dense (Dense)                  (None, 10, 1807)     233103      ['dropout_3[0][0]']              \n",
            "                                                                                                  \n",
            "==================================================================================================\n",
            "Total params: 2,170,667\n",
            "Trainable params: 1,089,167\n",
            "Non-trainable params: 1,081,500\n",
            "__________________________________________________________________________________________________\n"
          ]
        }
      ]
    },
    {
      "cell_type": "code",
      "source": [
        "# Modelo completo (encoder+decoder) para poder entrenar\n",
        "from keras.utils.vis_utils import plot_model\n",
        "plot_model(model, to_file='model_plot.png', show_shapes=True, show_layer_names=True)"
      ],
      "metadata": {
        "colab": {
          "base_uri": "https://localhost:8080/",
          "height": 865
        },
        "id": "h72UA2bMrBKP",
        "outputId": "f880a03d-e498-450f-9aec-aaeeb5db55fd"
      },
      "execution_count": null,
      "outputs": [
        {
          "output_type": "execute_result",
          "data": {
            "image/png": "[encoded data removed]",
            "text/plain": [
              "<IPython.core.display.Image object>"
            ]
          },
          "metadata": {},
          "execution_count": 21
        }
      ]
    },
    {
      "cell_type": "code",
      "source": [
        "# Modelo solo encoder\n",
        "\n",
        "# define inference encoder\n",
        "encoder_model = Model(encoder_inputs, encoder_states)\n",
        "\n",
        "from keras.utils.vis_utils import plot_model\n",
        "plot_model(encoder_model, to_file='encoder_plot.png', show_shapes=True, show_layer_names=True)"
      ],
      "metadata": {
        "colab": {
          "base_uri": "https://localhost:8080/",
          "height": 533
        },
        "id": "ZrMGFjwirCzH",
        "outputId": "1b39821f-4c8f-4d8a-d0bd-de65d00e2bb8"
      },
      "execution_count": null,
      "outputs": [
        {
          "output_type": "execute_result",
          "data": {
            "image/png": "[encoded data removed]",
            "text/plain": [
              "<IPython.core.display.Image object>"
            ]
          },
          "metadata": {},
          "execution_count": 24
        }
      ]
    },
    {
      "cell_type": "code",
      "source": [
        "# Modelo solo decoder (para realizar inferencia)\n",
        "from keras.utils.vis_utils import plot_model\n",
        "\n",
        "# define inference decoder\n",
        "decoder_state_input_h = Input(shape=(n_units,))\n",
        "decoder_state_input_c = Input(shape=(n_units,))\n",
        "decoder_states_inputs = [decoder_state_input_h, decoder_state_input_c]\n",
        "\n",
        "# En cada predicción habrá una sola palabra de entrada al decoder,\n",
        "# que es la realimentación de la palabra anterior\n",
        "# por lo que hay que modificar el input shape de la layer de Embedding\n",
        "decoder_inputs_single = Input(shape=(1,))\n",
        "decoder_inputs_single_x = decoder_embedding_layer(decoder_inputs_single)\n",
        "\n",
        "decoder_outputs, state_h, state_c = decoder_lstm(decoder_inputs_single_x, initial_state=decoder_states_inputs)\n",
        "decoder_states = [state_h, state_c]\n",
        "decoder_outputs = decoder_dense(decoder_outputs)\n",
        "decoder_model = Model([decoder_inputs_single] + decoder_states_inputs, [decoder_outputs] + decoder_states)\n",
        "\n",
        "plot_model(decoder_model, to_file='decoder_plot.png', show_shapes=True, show_layer_names=True)"
      ],
      "metadata": {
        "colab": {
          "base_uri": "https://localhost:8080/",
          "height": 422
        },
        "id": "YZN54zQKrEBG",
        "outputId": "e69a7356-67e8-4498-a4ae-b0d871cc3c0f"
      },
      "execution_count": null,
      "outputs": [
        {
          "output_type": "execute_result",
          "data": {
            "image/png": "[encoded data removed]",
            "text/plain": [
              "<IPython.core.display.Image object>"
            ]
          },
          "metadata": {},
          "execution_count": 25
        }
      ]
    },
    {
      "cell_type": "code",
      "source": [
        "hist = model.fit(\n",
        "    [encoder_input_sequences, decoder_input_sequences],\n",
        "    decoder_targets,\n",
        "    epochs=50,\n",
        "    validation_split=0.2)"
      ],
      "metadata": {
        "colab": {
          "base_uri": "https://localhost:8080/"
        },
        "id": "kINGTHBArFG_",
        "outputId": "ed690fda-5707-4c5f-e2bf-ceb5f46fc6d8"
      },
      "execution_count": null,
      "outputs": [
        {
          "output_type": "stream",
          "name": "stdout",
          "text": [
            "Epoch 1/50\n",
            "151/151 [==============================] - 17s 25ms/step - loss: 3.0242 - accuracy: 0.5314 - val_loss: 2.2558 - val_accuracy: 0.6304\n",
            "Epoch 2/50\n",
            "151/151 [==============================] - 2s 14ms/step - loss: 2.0404 - accuracy: 0.6418 - val_loss: 2.0471 - val_accuracy: 0.6606\n",
            "Epoch 3/50\n",
            "151/151 [==============================] - 2s 14ms/step - loss: 1.8292 - accuracy: 0.6781 - val_loss: 1.9485 - val_accuracy: 0.6767\n",
            "Epoch 4/50\n",
            "151/151 [==============================] - 3s 17ms/step - loss: 1.7100 - accuracy: 0.6964 - val_loss: 1.8976 - val_accuracy: 0.6828\n",
            "Epoch 5/50\n",
            "151/151 [==============================] - 2s 13ms/step - loss: 1.6416 - accuracy: 0.7035 - val_loss: 1.8641 - val_accuracy: 0.6894\n",
            "Epoch 6/50\n",
            "151/151 [==============================] - 2s 13ms/step - loss: 1.5918 - accuracy: 0.7082 - val_loss: 1.8431 - val_accuracy: 0.6921\n",
            "Epoch 7/50\n",
            "151/151 [==============================] - 2s 13ms/step - loss: 1.5490 - accuracy: 0.7130 - val_loss: 1.8234 - val_accuracy: 0.6944\n",
            "Epoch 8/50\n",
            "151/151 [==============================] - 2s 13ms/step - loss: 1.5129 - accuracy: 0.7179 - val_loss: 1.8130 - val_accuracy: 0.6968\n",
            "Epoch 9/50\n",
            "151/151 [==============================] - 2s 17ms/step - loss: 1.4814 - accuracy: 0.7222 - val_loss: 1.7938 - val_accuracy: 0.7013\n",
            "Epoch 10/50\n",
            "151/151 [==============================] - 2s 15ms/step - loss: 1.4527 - accuracy: 0.7248 - val_loss: 1.7820 - val_accuracy: 0.7022\n",
            "Epoch 11/50\n",
            "151/151 [==============================] - 2s 13ms/step - loss: 1.4253 - accuracy: 0.7283 - val_loss: 1.7732 - val_accuracy: 0.7034\n",
            "Epoch 12/50\n",
            "151/151 [==============================] - 2s 13ms/step - loss: 1.4006 - accuracy: 0.7315 - val_loss: 1.7671 - val_accuracy: 0.7037\n",
            "Epoch 13/50\n",
            "151/151 [==============================] - 2s 14ms/step - loss: 1.3788 - accuracy: 0.7327 - val_loss: 1.7690 - val_accuracy: 0.7044\n",
            "Epoch 14/50\n",
            "151/151 [==============================] - 2s 13ms/step - loss: 1.3567 - accuracy: 0.7346 - val_loss: 1.7590 - val_accuracy: 0.7054\n",
            "Epoch 15/50\n",
            "151/151 [==============================] - 3s 18ms/step - loss: 1.3377 - accuracy: 0.7367 - val_loss: 1.7572 - val_accuracy: 0.7046\n",
            "Epoch 16/50\n",
            "151/151 [==============================] - 2s 14ms/step - loss: 1.3192 - accuracy: 0.7387 - val_loss: 1.7577 - val_accuracy: 0.7078\n",
            "Epoch 17/50\n",
            "151/151 [==============================] - 2s 13ms/step - loss: 1.3015 - accuracy: 0.7403 - val_loss: 1.7563 - val_accuracy: 0.7064\n",
            "Epoch 18/50\n",
            "151/151 [==============================] - 2s 13ms/step - loss: 1.2851 - accuracy: 0.7414 - val_loss: 1.7658 - val_accuracy: 0.7073\n",
            "Epoch 19/50\n",
            "151/151 [==============================] - 2s 13ms/step - loss: 1.2666 - accuracy: 0.7431 - val_loss: 1.7587 - val_accuracy: 0.7077\n",
            "Epoch 20/50\n",
            "151/151 [==============================] - 2s 13ms/step - loss: 1.2497 - accuracy: 0.7437 - val_loss: 1.7608 - val_accuracy: 0.7076\n",
            "Epoch 21/50\n",
            "151/151 [==============================] - 3s 18ms/step - loss: 1.2341 - accuracy: 0.7456 - val_loss: 1.7586 - val_accuracy: 0.7093\n",
            "Epoch 22/50\n",
            "151/151 [==============================] - 2s 13ms/step - loss: 1.2189 - accuracy: 0.7461 - val_loss: 1.7684 - val_accuracy: 0.7092\n",
            "Epoch 23/50\n",
            "151/151 [==============================] - 2s 13ms/step - loss: 1.2019 - accuracy: 0.7484 - val_loss: 1.7648 - val_accuracy: 0.7096\n",
            "Epoch 24/50\n",
            "151/151 [==============================] - 2s 13ms/step - loss: 1.1920 - accuracy: 0.7495 - val_loss: 1.7713 - val_accuracy: 0.7089\n",
            "Epoch 25/50\n",
            "151/151 [==============================] - 2s 13ms/step - loss: 1.1759 - accuracy: 0.7499 - val_loss: 1.7700 - val_accuracy: 0.7085\n",
            "Epoch 26/50\n",
            "151/151 [==============================] - 2s 13ms/step - loss: 1.1611 - accuracy: 0.7520 - val_loss: 1.7771 - val_accuracy: 0.7100\n",
            "Epoch 27/50\n",
            "151/151 [==============================] - 3s 18ms/step - loss: 1.1479 - accuracy: 0.7519 - val_loss: 1.7896 - val_accuracy: 0.7101\n",
            "Epoch 28/50\n",
            "151/151 [==============================] - 2s 13ms/step - loss: 1.1338 - accuracy: 0.7539 - val_loss: 1.7827 - val_accuracy: 0.7114\n",
            "Epoch 29/50\n",
            "151/151 [==============================] - 2s 13ms/step - loss: 1.1207 - accuracy: 0.7545 - val_loss: 1.7837 - val_accuracy: 0.7116\n",
            "Epoch 30/50\n",
            "151/151 [==============================] - 2s 13ms/step - loss: 1.1081 - accuracy: 0.7560 - val_loss: 1.7942 - val_accuracy: 0.7118\n",
            "Epoch 31/50\n",
            "151/151 [==============================] - 2s 13ms/step - loss: 1.0952 - accuracy: 0.7584 - val_loss: 1.8031 - val_accuracy: 0.7100\n",
            "Epoch 32/50\n",
            "151/151 [==============================] - 2s 13ms/step - loss: 1.0807 - accuracy: 0.7602 - val_loss: 1.8081 - val_accuracy: 0.7114\n",
            "Epoch 33/50\n",
            "151/151 [==============================] - 3s 18ms/step - loss: 1.0723 - accuracy: 0.7615 - val_loss: 1.8166 - val_accuracy: 0.7112\n",
            "Epoch 34/50\n",
            "151/151 [==============================] - 2s 13ms/step - loss: 1.0597 - accuracy: 0.7602 - val_loss: 1.8136 - val_accuracy: 0.7101\n",
            "Epoch 35/50\n",
            "151/151 [==============================] - 2s 13ms/step - loss: 1.0465 - accuracy: 0.7640 - val_loss: 1.8213 - val_accuracy: 0.7132\n",
            "Epoch 36/50\n",
            "151/151 [==============================] - 2s 13ms/step - loss: 1.0354 - accuracy: 0.7631 - val_loss: 1.8233 - val_accuracy: 0.7123\n",
            "Epoch 37/50\n",
            "151/151 [==============================] - 2s 13ms/step - loss: 1.0221 - accuracy: 0.7659 - val_loss: 1.8334 - val_accuracy: 0.7118\n",
            "Epoch 38/50\n",
            "151/151 [==============================] - 2s 13ms/step - loss: 1.0140 - accuracy: 0.7656 - val_loss: 1.8430 - val_accuracy: 0.7115\n",
            "Epoch 39/50\n",
            "151/151 [==============================] - 3s 17ms/step - loss: 0.9977 - accuracy: 0.7684 - val_loss: 1.8586 - val_accuracy: 0.7120\n",
            "Epoch 40/50\n",
            "151/151 [==============================] - 2s 12ms/step - loss: 0.9906 - accuracy: 0.7691 - val_loss: 1.8528 - val_accuracy: 0.7108\n",
            "Epoch 41/50\n",
            "151/151 [==============================] - 2s 13ms/step - loss: 0.9781 - accuracy: 0.7713 - val_loss: 1.8727 - val_accuracy: 0.7109\n",
            "Epoch 42/50\n",
            "151/151 [==============================] - 2s 13ms/step - loss: 0.9688 - accuracy: 0.7715 - val_loss: 1.8794 - val_accuracy: 0.7115\n",
            "Epoch 43/50\n",
            "151/151 [==============================] - 2s 13ms/step - loss: 0.9597 - accuracy: 0.7738 - val_loss: 1.8816 - val_accuracy: 0.7097\n",
            "Epoch 44/50\n",
            "151/151 [==============================] - 2s 13ms/step - loss: 0.9480 - accuracy: 0.7763 - val_loss: 1.8938 - val_accuracy: 0.7118\n",
            "Epoch 45/50\n",
            "151/151 [==============================] - 3s 18ms/step - loss: 0.9352 - accuracy: 0.7760 - val_loss: 1.9002 - val_accuracy: 0.7131\n",
            "Epoch 46/50\n",
            "151/151 [==============================] - 2s 13ms/step - loss: 0.9288 - accuracy: 0.7791 - val_loss: 1.9091 - val_accuracy: 0.7102\n",
            "Epoch 47/50\n",
            "151/151 [==============================] - 2s 13ms/step - loss: 0.9193 - accuracy: 0.7796 - val_loss: 1.9105 - val_accuracy: 0.7121\n",
            "Epoch 48/50\n",
            "151/151 [==============================] - 2s 13ms/step - loss: 0.9068 - accuracy: 0.7818 - val_loss: 1.9258 - val_accuracy: 0.7092\n",
            "Epoch 49/50\n",
            "151/151 [==============================] - 2s 13ms/step - loss: 0.8969 - accuracy: 0.7832 - val_loss: 1.9350 - val_accuracy: 0.7083\n",
            "Epoch 50/50\n",
            "151/151 [==============================] - 2s 12ms/step - loss: 0.8918 - accuracy: 0.7831 - val_loss: 1.9467 - val_accuracy: 0.7083\n"
          ]
        }
      ]
    },
    {
      "cell_type": "code",
      "source": [
        "import matplotlib.pyplot as plt\n",
        "import seaborn as sns\n",
        "\n",
        "# Entrenamiento\n",
        "epoch_count = range(1, len(hist.history['accuracy']) + 1)\n",
        "sns.lineplot(x=epoch_count,  y=hist.history['accuracy'], label='train')\n",
        "sns.lineplot(x=epoch_count,  y=hist.history['val_accuracy'], label='valid')\n",
        "plt.show()"
      ],
      "metadata": {
        "colab": {
          "base_uri": "https://localhost:8080/",
          "height": 430
        },
        "id": "hubFRg_NrGNu",
        "outputId": "1bcc6f95-4ef8-4e69-b91c-b102173d5593"
      },
      "execution_count": null,
      "outputs": [
        {
          "output_type": "display_data",
          "data": {
            "text/plain": [
              "<Figure size 640x480 with 1 Axes>"
            ],
            "image/png": "[encoded data removed]"
          },
          "metadata": {}
        }
      ]
    },
    {
      "cell_type": "markdown",
      "metadata": {
        "id": "Zbwn0ekDy_s2"
      },
      "source": [
        "### 5 - Inferencia\n",
        "Experimentar el funcionamiento de su modelo. Recuerde que debe realizar la inferencia de los modelos por separado de encoder y decoder."
      ]
    },
    {
      "cell_type": "code",
      "source": [
        "# Armar los conversores de índice a palabra:\n",
        "idx2word_input = {v:k for k, v in word2idx_inputs.items()}\n",
        "idx2word_target = {v:k for k, v in word2idx_outputs.items()}"
      ],
      "metadata": {
        "id": "5lXo9oX5uR6E"
      },
      "execution_count": null,
      "outputs": []
    },
    {
      "cell_type": "code",
      "source": [
        "def response_sentence(sentences):\n",
        "    # transforma de palabras a indice de entrada\n",
        "\n",
        "    integer_seq = input_tokenizer.texts_to_sequences([sentences])\n",
        "    input_seq = pad_sequences(integer_seq, maxlen=max_input_len)\n",
        "\n",
        "    # Se transforma la sequencia de entrada a los estados \"h\" y \"c\" de la LSTM\n",
        "    # para enviar la primera vez al decoder\n",
        "    states_value = encoder_model.predict(input_seq)\n",
        "\n",
        "    # Se inicializa la secuencia de entrada al decoder como \"<sos>\"\n",
        "    target_seq = np.zeros((1, 1))\n",
        "    target_seq[0, 0] = word2idx_outputs['<sos>']\n",
        "\n",
        "    # Se obtiene el índice que finaliza la inferencia\n",
        "    eos = word2idx_outputs['<eos>']\n",
        "\n",
        "    output_sentence = []\n",
        "    for _ in range(max_out_len):\n",
        "        # Predicción del próximo elemento\n",
        "        output_tokens, h, c = decoder_model.predict([target_seq] + states_value)\n",
        "        idx = np.argmax(output_tokens[0, 0, :])\n",
        "\n",
        "        # Si es \"end of sentece <eos>\" se acaba\n",
        "        if eos == idx:\n",
        "            break\n",
        "\n",
        "        # Transformar idx a palabra\n",
        "        word = ''\n",
        "        if idx > 0:\n",
        "            word = idx2word_target[idx]\n",
        "            output_sentence.append(word)\n",
        "\n",
        "        # Actualizar los estados dada la última predicción\n",
        "        states_value = [h, c]\n",
        "\n",
        "        # Actualizar secuencia de entrada con la salida (re-alimentación)\n",
        "        target_seq[0, 0] = idx\n",
        "\n",
        "    return ' '.join(output_sentence)"
      ],
      "metadata": {
        "id": "ALFconL5uUPM"
      },
      "execution_count": null,
      "outputs": []
    },
    {
      "cell_type": "code",
      "source": [
        "sentences = 'hi, how are you?'\n",
        "response = response_sentence(sentences)\n",
        "print('-')\n",
        "print(f'Q: {sentences}, R:{response}')"
      ],
      "metadata": {
        "colab": {
          "base_uri": "https://localhost:8080/"
        },
        "id": "tj_7t_rcuW3s",
        "outputId": "6f093db2-556a-4f71-c9c8-e58734ef65a8"
      },
      "execution_count": null,
      "outputs": [
        {
          "output_type": "stream",
          "name": "stdout",
          "text": [
            "1/1 [==============================] - 1s 911ms/step\n",
            "1/1 [==============================] - 0s 361ms/step\n",
            "1/1 [==============================] - 0s 23ms/step\n",
            "1/1 [==============================] - 0s 21ms/step\n",
            "1/1 [==============================] - 0s 21ms/step\n",
            "-\n",
            "Q: hi, how are you?, R:i m fine\n"
          ]
        }
      ]
    },
    {
      "cell_type": "code",
      "source": [
        "sentences = 'Do you read?'\n",
        "response = response_sentence(sentences)\n",
        "print('-')\n",
        "print(f'Q: {sentences}, R:{response}')"
      ],
      "metadata": {
        "colab": {
          "base_uri": "https://localhost:8080/"
        },
        "id": "2h_oIkHv3ksT",
        "outputId": "0553c879-83a3-439e-bef4-655ae99aa10c"
      },
      "execution_count": null,
      "outputs": [
        {
          "output_type": "stream",
          "name": "stdout",
          "text": [
            "1/1 [==============================] - 0s 20ms/step\n",
            "1/1 [==============================] - 0s 23ms/step\n",
            "1/1 [==============================] - 0s 23ms/step\n",
            "1/1 [==============================] - 0s 22ms/step\n",
            "1/1 [==============================] - 0s 20ms/step\n",
            "-\n",
            "Q: Do you read?, R:yes i do\n"
          ]
        }
      ]
    },
    {
      "cell_type": "code",
      "source": [
        "sentences = 'Do you have any pet?'\n",
        "response = response_sentence(sentences)\n",
        "print('-')\n",
        "print(f'Q: {sentences}, R:{response}')"
      ],
      "metadata": {
        "colab": {
          "base_uri": "https://localhost:8080/"
        },
        "id": "r3suoHp43uQh",
        "outputId": "8e393391-175e-4f24-e635-fd2602295ddd"
      },
      "execution_count": null,
      "outputs": [
        {
          "output_type": "stream",
          "name": "stdout",
          "text": [
            "1/1 [==============================] - 0s 20ms/step\n",
            "1/1 [==============================] - 0s 21ms/step\n",
            "1/1 [==============================] - 0s 23ms/step\n",
            "-\n",
            "Q: Do you have any pet?, R:yes\n"
          ]
        }
      ]
    },
    {
      "cell_type": "code",
      "source": [
        "sentences = 'Where are you from?'\n",
        "response = response_sentence(sentences)\n",
        "print('-')\n",
        "print(f'Q: {sentences}, R:{response}')"
      ],
      "metadata": {
        "colab": {
          "base_uri": "https://localhost:8080/"
        },
        "id": "7zseIw3L4AlY",
        "outputId": "693a92f8-aeb5-4314-95ba-27bf7aa91526"
      },
      "execution_count": null,
      "outputs": [
        {
          "output_type": "stream",
          "name": "stdout",
          "text": [
            "1/1 [==============================] - 0s 19ms/step\n",
            "1/1 [==============================] - 0s 21ms/step\n",
            "1/1 [==============================] - 0s 22ms/step\n",
            "1/1 [==============================] - 0s 22ms/step\n",
            "1/1 [==============================] - 0s 19ms/step\n",
            "1/1 [==============================] - 0s 25ms/step\n",
            "1/1 [==============================] - 0s 22ms/step\n",
            "-\n",
            "Q: Where are you from?, R:i am in the navy\n"
          ]
        }
      ]
    },
    {
      "cell_type": "code",
      "source": [
        "sentences = 'How old are you?'\n",
        "response = response_sentence(sentences)\n",
        "print('-')\n",
        "print(f'Q: {sentences}, R:{response}')"
      ],
      "metadata": {
        "colab": {
          "base_uri": "https://localhost:8080/"
        },
        "id": "P2_uAfIW4A6I",
        "outputId": "0d74c23b-4d44-468a-c468-bf18327101a4"
      },
      "execution_count": null,
      "outputs": [
        {
          "output_type": "stream",
          "name": "stdout",
          "text": [
            "1/1 [==============================] - 0s 20ms/step\n",
            "1/1 [==============================] - 0s 20ms/step\n",
            "1/1 [==============================] - 0s 23ms/step\n",
            "1/1 [==============================] - 0s 24ms/step\n",
            "1/1 [==============================] - 0s 21ms/step\n",
            "1/1 [==============================] - 0s 20ms/step\n",
            "1/1 [==============================] - 0s 21ms/step\n",
            "1/1 [==============================] - 0s 21ms/step\n",
            "-\n",
            "Q: How old are you?, R:i am 32 how are you\n"
          ]
        }
      ]
    },
    {
      "cell_type": "code",
      "source": [
        "sentences = 'Im fine. And you?'\n",
        "response = response_sentence(sentences)\n",
        "print('-')\n",
        "print(f'Q: {sentences}, R:{response}')"
      ],
      "metadata": {
        "colab": {
          "base_uri": "https://localhost:8080/"
        },
        "id": "DUP-oMDf4Bgi",
        "outputId": "0991cdbd-ad5f-44a1-c6b8-160c4f5d843a"
      },
      "execution_count": null,
      "outputs": [
        {
          "output_type": "stream",
          "name": "stdout",
          "text": [
            "1/1 [==============================] - 0s 29ms/step\n",
            "1/1 [==============================] - 0s 33ms/step\n",
            "1/1 [==============================] - 0s 31ms/step\n",
            "1/1 [==============================] - 0s 35ms/step\n",
            "1/1 [==============================] - 0s 38ms/step\n",
            "1/1 [==============================] - 0s 34ms/step\n",
            "1/1 [==============================] - 0s 31ms/step\n",
            "1/1 [==============================] - 0s 32ms/step\n",
            "1/1 [==============================] - 0s 29ms/step\n",
            "-\n",
            "Q: Im fine. And you?, R:i am not sure what you mean\n"
          ]
        }
      ]
    },
    {
      "cell_type": "markdown",
      "source": [
        "# Arquitectura\n",
        "\n",
        "Se genero la arquitectura vista en clase, con la inclusión de dropouts a la salida de las capas LSTM. También se agrego una capa bidireccional LSTM en el econder de entrada. Esta modificación aporto mejoras en las métricas de validación de la red y mejoro la comprensión de las preguntas de la red.\n",
        "# Conclusiones\n",
        "El modelo pudo identificar correctamente como formar una oración utilizando los marcadores de inicio y fin para esto.\n",
        "\n",
        "Las respuestas que da, en gran parte, son coherentes a las enseñadas durante el entrenamiento.\n"
      ],
      "metadata": {
        "id": "PF5T5oMOJAab"
      }
    }
  ],
  "metadata": {
    "accelerator": "GPU",
    "colab": {
      "provenance": []
    },
    "kernelspec": {
      "display_name": "Python 3.10.6 64-bit",
      "language": "python",
      "name": "python3"
    },
    "language_info": {
      "name": "python",
      "version": "3.10.6"
    },
    "vscode": {
      "interpreter": {
        "hash": "916dbcbb3f70747c44a77c7bcd40155683ae19c65e1c03b4aa3499c5328201f1"
      }
    }
  },
  "nbformat": 4,
  "nbformat_minor": 0
}